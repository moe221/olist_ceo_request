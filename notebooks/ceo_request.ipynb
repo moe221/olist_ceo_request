{
 "cells": [
  {
   "cell_type": "markdown",
   "metadata": {},
   "source": [
    "# CEO-Request Challenge"
   ]
  },
  {
   "cell_type": "markdown",
   "metadata": {},
   "source": [
    "\n",
    "🕵🏻 **Should Olist remove underperforming sellers from its marketplace ?**"
   ]
  },
  {
   "cell_type": "markdown",
   "metadata": {},
   "source": [
    "## Problem statement"
   ]
  },
  {
   "cell_type": "markdown",
   "metadata": {},
   "source": [
    "🕵🏻 To analyse the impact of removing the worse sellers from Olist's marketplace, we can start with a what-if analysis: What would have happened if Olist had never accepted these sellers in the first place? For that:\n",
    "\n",
    "1️⃣ Compute, for each `seller_id`, and cumulated since the beginning:\n",
    "- the `revenues` it brings\n",
    "- the `costs` associated with all its bad reviews\n",
    "- the resulting `profits` (revenues - costs)\n",
    "- the number of `orders` (it will impact the overall IT costs)\n",
    "\n",
    "\n",
    "2️⃣ We can then:\n",
    "- sort sellers by increasing profits for Olist\n",
    "- for each number of sellers to remove, compute the financial impact it would have made if they had never been accepted on the platform. \n",
    "- we may find an optimal number of sellers to remove that maximizes Olist's profit margin"
   ]
  },
  {
   "cell_type": "markdown",
   "metadata": {},
   "source": [
    "👉 Write down a detailed strategy (step by step) to create the DataFrame you need for the first step.\n",
    "\n",
    "💡Think about how to re-use or update the logic you've already coded in your 🗂 `olist` package"
   ]
  },
  {
   "cell_type": "code",
   "execution_count": 147,
   "metadata": {},
   "outputs": [],
   "source": [
    "import numpy as np\n",
    "import matplotlib.pyplot as plt\n",
    "import seaborn as sns\n",
    "import plotly.express as px\n",
    "\n",
    "\n",
    "from olist import order, seller, product\n",
    "from olist.data import Olist"
   ]
  },
  {
   "cell_type": "markdown",
   "metadata": {},
   "source": [
    "### A. Analysis ideas:\n",
    "        \n",
    "**Olist Side**:\n",
    "\n",
    "- seller can have bad reviews, but sells a lot (more revenue for olist) - **Key decision**\n",
    "\n",
    "**Seller Side**:\n",
    "- minimum sales for seller to make profit (80 * 1.1)\n",
    "- help seller get better reviews (why seller has bad reviews)\n",
    "- Seller with bad reviews but big revenue for Olist\n",
    "- Columns for Seller revenue for first 3 months\n",
    "- how long best sellers stayed with Olist\n",
    "\n",
    "**Extra**\n",
    "- where are bad sellers located (map of sellers)"
   ]
  },
  {
   "cell_type": "markdown",
   "metadata": {},
   "source": [
    "## Revenue Analysis\n",
    "\n",
    "### Olist Revenue"
   ]
  },
  {
   "cell_type": "code",
   "execution_count": 92,
   "metadata": {},
   "outputs": [],
   "source": [
    "seller = seller.Seller().get_training_data()"
   ]
  },
  {
   "cell_type": "code",
   "execution_count": 93,
   "metadata": {},
   "outputs": [],
   "source": [
    "olist_revenue = seller.copy()\n",
    "\n",
    "#10% column\n",
    "olist_revenue[\"ten_precent\"] = olist_revenue[\"sales\"] * 0.1\n",
    "\n",
    "# number of active months\n",
    "olist_revenue[\"num_months\"] = np.ceil((((olist_revenue[\"date_last_sale\"] - olist_revenue[\"date_first_sale\"]).dt.days)/ 30))\n",
    "olist_revenue[\"num_months\"] = olist_revenue[\"num_months\"].apply(lambda x: 1 if x == 0 else x)\n",
    "\n",
    "# total monthly cost for seller\n",
    "olist_revenue[\"total_monthly\"] = olist_revenue[\"num_months\"] * 80\n",
    "\n",
    "# total olist revenue per seller so far\n",
    "olist_revenue[\"olist_revenue\"] = olist_revenue[\"ten_precent\"] + olist_revenue[\"total_monthly\"]"
   ]
  },
  {
   "cell_type": "markdown",
   "metadata": {},
   "source": [
    "### Seller Revenue"
   ]
  },
  {
   "cell_type": "code",
   "execution_count": 94,
   "metadata": {},
   "outputs": [],
   "source": [
    "# total seller revenue so far\n",
    "olist_revenue[\"seller_revenue\"] = olist_revenue[\"sales\"] - olist_revenue[\"olist_revenue\"]"
   ]
  },
  {
   "cell_type": "code",
   "execution_count": 95,
   "metadata": {},
   "outputs": [
    {
     "data": {
      "text/html": [
       "<div>\n",
       "<style scoped>\n",
       "    .dataframe tbody tr th:only-of-type {\n",
       "        vertical-align: middle;\n",
       "    }\n",
       "\n",
       "    .dataframe tbody tr th {\n",
       "        vertical-align: top;\n",
       "    }\n",
       "\n",
       "    .dataframe thead th {\n",
       "        text-align: right;\n",
       "    }\n",
       "</style>\n",
       "<table border=\"1\" class=\"dataframe\">\n",
       "  <thead>\n",
       "    <tr style=\"text-align: right;\">\n",
       "      <th></th>\n",
       "      <th>seller_id</th>\n",
       "      <th>seller_city</th>\n",
       "      <th>seller_state</th>\n",
       "      <th>delay_to_carrier</th>\n",
       "      <th>wait_time</th>\n",
       "      <th>date_first_sale</th>\n",
       "      <th>date_last_sale</th>\n",
       "      <th>share_of_one_stars</th>\n",
       "      <th>share_of_five_stars</th>\n",
       "      <th>review_score</th>\n",
       "      <th>n_orders</th>\n",
       "      <th>quantity</th>\n",
       "      <th>quantity_per_order</th>\n",
       "      <th>sales</th>\n",
       "      <th>ten_precent</th>\n",
       "      <th>num_months</th>\n",
       "      <th>total_monthly</th>\n",
       "      <th>olist_revenue</th>\n",
       "      <th>seller_revenue</th>\n",
       "    </tr>\n",
       "  </thead>\n",
       "  <tbody>\n",
       "    <tr>\n",
       "      <th>0</th>\n",
       "      <td>3442f8959a84dea7ee197c632cb2df15</td>\n",
       "      <td>campinas</td>\n",
       "      <td>SP</td>\n",
       "      <td>0.000000</td>\n",
       "      <td>13.018588</td>\n",
       "      <td>2017-05-05 16:25:11</td>\n",
       "      <td>2017-08-30 12:50:19</td>\n",
       "      <td>0.333333</td>\n",
       "      <td>0.333333</td>\n",
       "      <td>3.00</td>\n",
       "      <td>3</td>\n",
       "      <td>3</td>\n",
       "      <td>1.000000</td>\n",
       "      <td>218.70</td>\n",
       "      <td>21.870</td>\n",
       "      <td>4.0</td>\n",
       "      <td>320.0</td>\n",
       "      <td>341.870</td>\n",
       "      <td>-123.170</td>\n",
       "    </tr>\n",
       "    <tr>\n",
       "      <th>1</th>\n",
       "      <td>d1b65fc7debc3361ea86b5f14c68d2e2</td>\n",
       "      <td>mogi guacu</td>\n",
       "      <td>SP</td>\n",
       "      <td>0.000000</td>\n",
       "      <td>9.065716</td>\n",
       "      <td>2017-03-29 02:10:34</td>\n",
       "      <td>2018-06-06 20:15:21</td>\n",
       "      <td>0.050000</td>\n",
       "      <td>0.725000</td>\n",
       "      <td>4.55</td>\n",
       "      <td>40</td>\n",
       "      <td>41</td>\n",
       "      <td>1.025000</td>\n",
       "      <td>11703.07</td>\n",
       "      <td>1170.307</td>\n",
       "      <td>15.0</td>\n",
       "      <td>1200.0</td>\n",
       "      <td>2370.307</td>\n",
       "      <td>9332.763</td>\n",
       "    </tr>\n",
       "    <tr>\n",
       "      <th>2</th>\n",
       "      <td>ce3ad9de960102d0677a81f5d0bb7b2d</td>\n",
       "      <td>rio de janeiro</td>\n",
       "      <td>RJ</td>\n",
       "      <td>0.000000</td>\n",
       "      <td>4.042292</td>\n",
       "      <td>2018-07-30 12:44:49</td>\n",
       "      <td>2018-07-30 12:44:49</td>\n",
       "      <td>0.000000</td>\n",
       "      <td>1.000000</td>\n",
       "      <td>5.00</td>\n",
       "      <td>1</td>\n",
       "      <td>1</td>\n",
       "      <td>1.000000</td>\n",
       "      <td>158.00</td>\n",
       "      <td>15.800</td>\n",
       "      <td>1.0</td>\n",
       "      <td>80.0</td>\n",
       "      <td>95.800</td>\n",
       "      <td>62.200</td>\n",
       "    </tr>\n",
       "    <tr>\n",
       "      <th>3</th>\n",
       "      <td>c0f3eea2e14555b6faeea3dd58c1b1c3</td>\n",
       "      <td>sao paulo</td>\n",
       "      <td>SP</td>\n",
       "      <td>0.000000</td>\n",
       "      <td>5.667187</td>\n",
       "      <td>2018-08-03 00:44:08</td>\n",
       "      <td>2018-08-03 00:44:08</td>\n",
       "      <td>0.000000</td>\n",
       "      <td>1.000000</td>\n",
       "      <td>5.00</td>\n",
       "      <td>1</td>\n",
       "      <td>1</td>\n",
       "      <td>1.000000</td>\n",
       "      <td>79.99</td>\n",
       "      <td>7.999</td>\n",
       "      <td>1.0</td>\n",
       "      <td>80.0</td>\n",
       "      <td>87.999</td>\n",
       "      <td>-8.009</td>\n",
       "    </tr>\n",
       "    <tr>\n",
       "      <th>4</th>\n",
       "      <td>51a04a8a6bdcb23deccc82b0b80742cf</td>\n",
       "      <td>braganca paulista</td>\n",
       "      <td>SP</td>\n",
       "      <td>3.353727</td>\n",
       "      <td>35.314861</td>\n",
       "      <td>2017-11-14 12:15:25</td>\n",
       "      <td>2017-11-14 12:15:25</td>\n",
       "      <td>1.000000</td>\n",
       "      <td>0.000000</td>\n",
       "      <td>1.00</td>\n",
       "      <td>1</td>\n",
       "      <td>1</td>\n",
       "      <td>1.000000</td>\n",
       "      <td>167.99</td>\n",
       "      <td>16.799</td>\n",
       "      <td>1.0</td>\n",
       "      <td>80.0</td>\n",
       "      <td>96.799</td>\n",
       "      <td>71.191</td>\n",
       "    </tr>\n",
       "    <tr>\n",
       "      <th>...</th>\n",
       "      <td>...</td>\n",
       "      <td>...</td>\n",
       "      <td>...</td>\n",
       "      <td>...</td>\n",
       "      <td>...</td>\n",
       "      <td>...</td>\n",
       "      <td>...</td>\n",
       "      <td>...</td>\n",
       "      <td>...</td>\n",
       "      <td>...</td>\n",
       "      <td>...</td>\n",
       "      <td>...</td>\n",
       "      <td>...</td>\n",
       "      <td>...</td>\n",
       "      <td>...</td>\n",
       "      <td>...</td>\n",
       "      <td>...</td>\n",
       "      <td>...</td>\n",
       "      <td>...</td>\n",
       "    </tr>\n",
       "    <tr>\n",
       "      <th>2962</th>\n",
       "      <td>98dddbc4601dd4443ca174359b237166</td>\n",
       "      <td>sarandi</td>\n",
       "      <td>PR</td>\n",
       "      <td>0.000000</td>\n",
       "      <td>8.230822</td>\n",
       "      <td>2018-07-14 03:10:19</td>\n",
       "      <td>2018-07-23 15:34:03</td>\n",
       "      <td>0.000000</td>\n",
       "      <td>1.000000</td>\n",
       "      <td>5.00</td>\n",
       "      <td>2</td>\n",
       "      <td>2</td>\n",
       "      <td>1.000000</td>\n",
       "      <td>158.00</td>\n",
       "      <td>15.800</td>\n",
       "      <td>1.0</td>\n",
       "      <td>80.0</td>\n",
       "      <td>95.800</td>\n",
       "      <td>62.200</td>\n",
       "    </tr>\n",
       "    <tr>\n",
       "      <th>2963</th>\n",
       "      <td>f8201cab383e484733266d1906e2fdfa</td>\n",
       "      <td>palhoca</td>\n",
       "      <td>SC</td>\n",
       "      <td>0.000000</td>\n",
       "      <td>13.045797</td>\n",
       "      <td>2017-06-17 15:30:11</td>\n",
       "      <td>2018-08-11 19:55:17</td>\n",
       "      <td>0.100000</td>\n",
       "      <td>0.500000</td>\n",
       "      <td>4.10</td>\n",
       "      <td>10</td>\n",
       "      <td>10</td>\n",
       "      <td>1.000000</td>\n",
       "      <td>889.00</td>\n",
       "      <td>88.900</td>\n",
       "      <td>14.0</td>\n",
       "      <td>1120.0</td>\n",
       "      <td>1208.900</td>\n",
       "      <td>-319.900</td>\n",
       "    </tr>\n",
       "    <tr>\n",
       "      <th>2964</th>\n",
       "      <td>74871d19219c7d518d0090283e03c137</td>\n",
       "      <td>sao paulo</td>\n",
       "      <td>SP</td>\n",
       "      <td>0.000000</td>\n",
       "      <td>3.606625</td>\n",
       "      <td>2018-04-05 17:09:46</td>\n",
       "      <td>2018-08-21 19:25:15</td>\n",
       "      <td>0.000000</td>\n",
       "      <td>1.000000</td>\n",
       "      <td>5.00</td>\n",
       "      <td>6</td>\n",
       "      <td>7</td>\n",
       "      <td>1.166667</td>\n",
       "      <td>550.04</td>\n",
       "      <td>55.004</td>\n",
       "      <td>5.0</td>\n",
       "      <td>400.0</td>\n",
       "      <td>455.004</td>\n",
       "      <td>95.036</td>\n",
       "    </tr>\n",
       "    <tr>\n",
       "      <th>2965</th>\n",
       "      <td>e603cf3fec55f8697c9059638d6c8eb5</td>\n",
       "      <td>pelotas</td>\n",
       "      <td>RS</td>\n",
       "      <td>0.000000</td>\n",
       "      <td>6.657634</td>\n",
       "      <td>2017-02-09 02:43:17</td>\n",
       "      <td>2017-06-16 17:30:16</td>\n",
       "      <td>0.000000</td>\n",
       "      <td>0.500000</td>\n",
       "      <td>4.25</td>\n",
       "      <td>8</td>\n",
       "      <td>11</td>\n",
       "      <td>1.375000</td>\n",
       "      <td>297.00</td>\n",
       "      <td>29.700</td>\n",
       "      <td>5.0</td>\n",
       "      <td>400.0</td>\n",
       "      <td>429.700</td>\n",
       "      <td>-132.700</td>\n",
       "    </tr>\n",
       "    <tr>\n",
       "      <th>2966</th>\n",
       "      <td>9e25199f6ef7e7c347120ff175652c3b</td>\n",
       "      <td>taubate</td>\n",
       "      <td>SP</td>\n",
       "      <td>0.000000</td>\n",
       "      <td>8.199456</td>\n",
       "      <td>2017-03-27 10:10:27</td>\n",
       "      <td>2017-03-27 10:10:27</td>\n",
       "      <td>0.000000</td>\n",
       "      <td>0.000000</td>\n",
       "      <td>4.00</td>\n",
       "      <td>1</td>\n",
       "      <td>1</td>\n",
       "      <td>1.000000</td>\n",
       "      <td>12.50</td>\n",
       "      <td>1.250</td>\n",
       "      <td>1.0</td>\n",
       "      <td>80.0</td>\n",
       "      <td>81.250</td>\n",
       "      <td>-68.750</td>\n",
       "    </tr>\n",
       "  </tbody>\n",
       "</table>\n",
       "<p>2967 rows × 19 columns</p>\n",
       "</div>"
      ],
      "text/plain": [
       "                             seller_id        seller_city seller_state  \\\n",
       "0     3442f8959a84dea7ee197c632cb2df15           campinas           SP   \n",
       "1     d1b65fc7debc3361ea86b5f14c68d2e2         mogi guacu           SP   \n",
       "2     ce3ad9de960102d0677a81f5d0bb7b2d     rio de janeiro           RJ   \n",
       "3     c0f3eea2e14555b6faeea3dd58c1b1c3          sao paulo           SP   \n",
       "4     51a04a8a6bdcb23deccc82b0b80742cf  braganca paulista           SP   \n",
       "...                                ...                ...          ...   \n",
       "2962  98dddbc4601dd4443ca174359b237166            sarandi           PR   \n",
       "2963  f8201cab383e484733266d1906e2fdfa            palhoca           SC   \n",
       "2964  74871d19219c7d518d0090283e03c137          sao paulo           SP   \n",
       "2965  e603cf3fec55f8697c9059638d6c8eb5            pelotas           RS   \n",
       "2966  9e25199f6ef7e7c347120ff175652c3b            taubate           SP   \n",
       "\n",
       "      delay_to_carrier  wait_time     date_first_sale      date_last_sale  \\\n",
       "0             0.000000  13.018588 2017-05-05 16:25:11 2017-08-30 12:50:19   \n",
       "1             0.000000   9.065716 2017-03-29 02:10:34 2018-06-06 20:15:21   \n",
       "2             0.000000   4.042292 2018-07-30 12:44:49 2018-07-30 12:44:49   \n",
       "3             0.000000   5.667187 2018-08-03 00:44:08 2018-08-03 00:44:08   \n",
       "4             3.353727  35.314861 2017-11-14 12:15:25 2017-11-14 12:15:25   \n",
       "...                ...        ...                 ...                 ...   \n",
       "2962          0.000000   8.230822 2018-07-14 03:10:19 2018-07-23 15:34:03   \n",
       "2963          0.000000  13.045797 2017-06-17 15:30:11 2018-08-11 19:55:17   \n",
       "2964          0.000000   3.606625 2018-04-05 17:09:46 2018-08-21 19:25:15   \n",
       "2965          0.000000   6.657634 2017-02-09 02:43:17 2017-06-16 17:30:16   \n",
       "2966          0.000000   8.199456 2017-03-27 10:10:27 2017-03-27 10:10:27   \n",
       "\n",
       "      share_of_one_stars  share_of_five_stars  review_score  n_orders  \\\n",
       "0               0.333333             0.333333          3.00         3   \n",
       "1               0.050000             0.725000          4.55        40   \n",
       "2               0.000000             1.000000          5.00         1   \n",
       "3               0.000000             1.000000          5.00         1   \n",
       "4               1.000000             0.000000          1.00         1   \n",
       "...                  ...                  ...           ...       ...   \n",
       "2962            0.000000             1.000000          5.00         2   \n",
       "2963            0.100000             0.500000          4.10        10   \n",
       "2964            0.000000             1.000000          5.00         6   \n",
       "2965            0.000000             0.500000          4.25         8   \n",
       "2966            0.000000             0.000000          4.00         1   \n",
       "\n",
       "      quantity  quantity_per_order     sales  ten_precent  num_months  \\\n",
       "0            3            1.000000    218.70       21.870         4.0   \n",
       "1           41            1.025000  11703.07     1170.307        15.0   \n",
       "2            1            1.000000    158.00       15.800         1.0   \n",
       "3            1            1.000000     79.99        7.999         1.0   \n",
       "4            1            1.000000    167.99       16.799         1.0   \n",
       "...        ...                 ...       ...          ...         ...   \n",
       "2962         2            1.000000    158.00       15.800         1.0   \n",
       "2963        10            1.000000    889.00       88.900        14.0   \n",
       "2964         7            1.166667    550.04       55.004         5.0   \n",
       "2965        11            1.375000    297.00       29.700         5.0   \n",
       "2966         1            1.000000     12.50        1.250         1.0   \n",
       "\n",
       "      total_monthly  olist_revenue  seller_revenue  \n",
       "0             320.0        341.870        -123.170  \n",
       "1            1200.0       2370.307        9332.763  \n",
       "2              80.0         95.800          62.200  \n",
       "3              80.0         87.999          -8.009  \n",
       "4              80.0         96.799          71.191  \n",
       "...             ...            ...             ...  \n",
       "2962           80.0         95.800          62.200  \n",
       "2963         1120.0       1208.900        -319.900  \n",
       "2964          400.0        455.004          95.036  \n",
       "2965          400.0        429.700        -132.700  \n",
       "2966           80.0         81.250         -68.750  \n",
       "\n",
       "[2967 rows x 19 columns]"
      ]
     },
     "execution_count": 95,
     "metadata": {},
     "output_type": "execute_result"
    }
   ],
   "source": [
    "olist_revenue"
   ]
  },
  {
   "cell_type": "code",
   "execution_count": 152,
   "metadata": {},
   "outputs": [
    {
     "data": {
      "application/vnd.plotly.v1+json": {
       "config": {
        "plotlyServerURL": "https://plot.ly"
       },
       "data": [
        {
         "hovertemplate": "num_months=%{x}<br>olist_revenue=%{y}<extra></extra>",
         "legendgroup": "",
         "marker": {
          "color": "#636efa",
          "symbol": "circle"
         },
         "mode": "markers",
         "name": "",
         "showlegend": false,
         "type": "scattergl",
         "x": [
          4,
          15,
          1,
          1,
          1,
          1,
          18,
          11,
          3,
          20,
          3,
          2,
          20,
          1,
          4,
          1,
          1,
          12,
          8,
          2,
          4,
          9,
          23,
          7,
          8,
          19,
          10,
          7,
          10,
          6,
          2,
          1,
          7,
          12,
          17,
          1,
          1,
          7,
          11,
          14,
          10,
          1,
          3,
          2,
          1,
          16,
          1,
          10,
          1,
          5,
          8,
          13,
          9,
          3,
          9,
          3,
          15,
          1,
          7,
          1,
          15,
          6,
          2,
          12,
          3,
          13,
          20,
          22,
          1,
          20,
          1,
          18,
          7,
          3,
          8,
          20,
          1,
          1,
          1,
          5,
          10,
          18,
          23,
          9,
          19,
          12,
          1,
          12,
          3,
          1,
          1,
          6,
          9,
          5,
          1,
          11,
          1,
          7,
          1,
          8,
          1,
          1,
          1,
          10,
          4,
          13,
          1,
          1,
          3,
          2,
          9,
          4,
          1,
          23,
          13,
          1,
          2,
          3,
          18,
          1,
          5,
          2,
          3,
          20,
          10,
          2,
          10,
          8,
          3,
          9,
          7,
          2,
          11,
          7,
          17,
          9,
          13,
          2,
          5,
          4,
          1,
          1,
          2,
          3,
          11,
          4,
          1,
          7,
          9,
          6,
          3,
          5,
          1,
          1,
          10,
          3,
          5,
          2,
          3,
          5,
          5,
          4,
          23,
          1,
          8,
          14,
          6,
          20,
          1,
          8,
          3,
          2,
          5,
          8,
          12,
          1,
          4,
          6,
          23,
          2,
          4,
          4,
          1,
          2,
          1,
          2,
          12,
          10,
          1,
          9,
          5,
          5,
          6,
          2,
          18,
          3,
          17,
          13,
          3,
          17,
          1,
          10,
          16,
          11,
          7,
          6,
          1,
          1,
          1,
          3,
          1,
          2,
          9,
          2,
          2,
          7,
          1,
          3,
          13,
          7,
          1,
          7,
          1,
          19,
          7,
          1,
          6,
          1,
          6,
          1,
          2,
          14,
          6,
          3,
          7,
          18,
          19,
          9,
          1,
          7,
          5,
          1,
          13,
          4,
          1,
          3,
          16,
          1,
          7,
          1,
          10,
          1,
          10,
          1,
          18,
          1,
          10,
          23,
          4,
          16,
          1,
          2,
          3,
          16,
          5,
          4,
          4,
          1,
          11,
          18,
          6,
          23,
          16,
          11,
          4,
          16,
          14,
          5,
          2,
          11,
          6,
          1,
          8,
          1,
          8,
          7,
          8,
          6,
          2,
          1,
          9,
          19,
          5,
          2,
          19,
          6,
          9,
          12,
          1,
          12,
          6,
          4,
          2,
          5,
          1,
          6,
          17,
          1,
          2,
          1,
          1,
          11,
          24,
          4,
          15,
          10,
          1,
          16,
          5,
          7,
          1,
          16,
          15,
          2,
          19,
          4,
          1,
          19,
          4,
          5,
          1,
          2,
          2,
          4,
          1,
          3,
          1,
          1,
          4,
          1,
          1,
          1,
          4,
          1,
          1,
          4,
          4,
          1,
          3,
          7,
          2,
          5,
          1,
          19,
          2,
          1,
          2,
          23,
          6,
          7,
          8,
          8,
          15,
          16,
          14,
          14,
          1,
          1,
          1,
          8,
          9,
          5,
          14,
          2,
          9,
          15,
          2,
          7,
          5,
          2,
          1,
          6,
          3,
          1,
          1,
          4,
          1,
          2,
          1,
          1,
          3,
          1,
          2,
          10,
          4,
          1,
          4,
          1,
          1,
          12,
          3,
          1,
          10,
          17,
          7,
          1,
          2,
          18,
          1,
          13,
          2,
          2,
          9,
          10,
          8,
          1,
          23,
          3,
          2,
          4,
          1,
          20,
          1,
          5,
          18,
          11,
          1,
          3,
          1,
          1,
          4,
          1,
          5,
          19,
          17,
          6,
          7,
          18,
          3,
          1,
          5,
          9,
          1,
          17,
          1,
          8,
          3,
          6,
          1,
          18,
          16,
          7,
          6,
          18,
          21,
          1,
          1,
          5,
          13,
          8,
          14,
          1,
          5,
          1,
          7,
          16,
          4,
          1,
          1,
          4,
          8,
          7,
          12,
          4,
          8,
          3,
          4,
          2,
          2,
          2,
          18,
          23,
          1,
          12,
          6,
          2,
          19,
          18,
          8,
          3,
          1,
          11,
          18,
          15,
          2,
          1,
          1,
          5,
          1,
          1,
          1,
          23,
          9,
          4,
          5,
          11,
          4,
          2,
          1,
          10,
          1,
          3,
          1,
          1,
          1,
          3,
          2,
          1,
          7,
          1,
          6,
          17,
          5,
          1,
          3,
          19,
          7,
          23,
          1,
          1,
          3,
          1,
          1,
          2,
          20,
          13,
          5,
          1,
          7,
          5,
          19,
          12,
          1,
          1,
          1,
          12,
          2,
          1,
          18,
          1,
          17,
          4,
          1,
          2,
          1,
          9,
          11,
          8,
          17,
          10,
          20,
          3,
          7,
          1,
          23,
          3,
          19,
          18,
          10,
          1,
          8,
          1,
          1,
          11,
          11,
          1,
          1,
          1,
          20,
          3,
          13,
          2,
          1,
          24,
          2,
          4,
          2,
          4,
          3,
          3,
          3,
          4,
          17,
          5,
          12,
          16,
          2,
          1,
          2,
          1,
          7,
          2,
          1,
          14,
          13,
          3,
          1,
          23,
          5,
          3,
          4,
          9,
          1,
          1,
          10,
          1,
          12,
          8,
          19,
          3,
          1,
          17,
          7,
          16,
          3,
          18,
          4,
          1,
          5,
          1,
          10,
          1,
          7,
          5,
          5,
          1,
          1,
          1,
          18,
          3,
          6,
          1,
          8,
          1,
          1,
          5,
          4,
          9,
          1,
          1,
          3,
          8,
          1,
          4,
          5,
          1,
          1,
          1,
          1,
          14,
          6,
          2,
          1,
          3,
          2,
          1,
          1,
          4,
          6,
          8,
          2,
          2,
          1,
          2,
          8,
          3,
          3,
          8,
          1,
          8,
          3,
          5,
          2,
          1,
          14,
          1,
          10,
          1,
          16,
          20,
          1,
          3,
          4,
          3,
          2,
          5,
          4,
          12,
          11,
          11,
          3,
          4,
          10,
          1,
          15,
          7,
          1,
          2,
          6,
          11,
          4,
          1,
          2,
          1,
          6,
          2,
          2,
          1,
          2,
          4,
          14,
          3,
          7,
          7,
          12,
          3,
          1,
          19,
          7,
          1,
          4,
          6,
          1,
          11,
          1,
          2,
          3,
          16,
          6,
          1,
          4,
          18,
          9,
          9,
          3,
          1,
          6,
          6,
          6,
          19,
          17,
          10,
          11,
          12,
          19,
          9,
          1,
          1,
          1,
          5,
          1,
          13,
          19,
          3,
          1,
          16,
          12,
          2,
          1,
          19,
          1,
          1,
          18,
          1,
          3,
          2,
          11,
          1,
          3,
          1,
          10,
          1,
          2,
          1,
          3,
          1,
          2,
          19,
          8,
          1,
          19,
          9,
          1,
          4,
          13,
          2,
          1,
          2,
          2,
          10,
          9,
          13,
          5,
          1,
          10,
          10,
          12,
          14,
          8,
          9,
          4,
          1,
          1,
          1,
          1,
          1,
          6,
          13,
          5,
          11,
          13,
          3,
          4,
          8,
          1,
          4,
          4,
          8,
          3,
          3,
          14,
          6,
          12,
          16,
          1,
          1,
          2,
          5,
          4,
          3,
          1,
          19,
          4,
          1,
          12,
          13,
          7,
          1,
          2,
          7,
          3,
          10,
          9,
          14,
          7,
          6,
          16,
          1,
          1,
          1,
          1,
          1,
          9,
          14,
          1,
          2,
          9,
          8,
          12,
          10,
          1,
          1,
          2,
          3,
          8,
          17,
          1,
          1,
          5,
          1,
          5,
          6,
          11,
          1,
          11,
          10,
          5,
          1,
          4,
          1,
          18,
          1,
          8,
          8,
          5,
          8,
          6,
          4,
          4,
          7,
          4,
          11,
          9,
          2,
          4,
          8,
          3,
          4,
          15,
          1,
          19,
          2,
          1,
          2,
          18,
          9,
          1,
          4,
          15,
          10,
          5,
          4,
          5,
          2,
          2,
          1,
          9,
          2,
          1,
          6,
          3,
          1,
          4,
          5,
          12,
          1,
          3,
          15,
          1,
          2,
          4,
          1,
          1,
          14,
          1,
          13,
          12,
          2,
          1,
          2,
          3,
          1,
          11,
          10,
          1,
          18,
          6,
          1,
          1,
          1,
          3,
          4,
          1,
          15,
          10,
          1,
          10,
          1,
          18,
          2,
          1,
          1,
          3,
          11,
          18,
          1,
          13,
          7,
          10,
          9,
          4,
          18,
          2,
          4,
          1,
          4,
          4,
          11,
          1,
          8,
          18,
          7,
          3,
          8,
          1,
          9,
          3,
          9,
          17,
          1,
          11,
          5,
          3,
          11,
          1,
          8,
          4,
          1,
          20,
          12,
          3,
          3,
          17,
          10,
          5,
          15,
          4,
          12,
          1,
          14,
          3,
          9,
          11,
          11,
          7,
          13,
          4,
          2,
          4,
          19,
          4,
          2,
          1,
          1,
          16,
          4,
          5,
          2,
          1,
          9,
          1,
          1,
          1,
          4,
          2,
          6,
          16,
          10,
          1,
          1,
          1,
          1,
          20,
          7,
          7,
          1,
          1,
          5,
          1,
          3,
          1,
          5,
          1,
          18,
          1,
          6,
          3,
          2,
          1,
          14,
          1,
          1,
          3,
          5,
          6,
          19,
          2,
          15,
          6,
          4,
          8,
          3,
          4,
          19,
          3,
          10,
          17,
          12,
          1,
          2,
          18,
          1,
          4,
          5,
          5,
          7,
          1,
          19,
          1,
          2,
          5,
          12,
          6,
          2,
          6,
          13,
          3,
          4,
          4,
          7,
          1,
          4,
          7,
          9,
          1,
          3,
          11,
          5,
          5,
          4,
          6,
          9,
          12,
          3,
          1,
          6,
          7,
          4,
          13,
          5,
          1,
          10,
          19,
          1,
          1,
          13,
          1,
          1,
          2,
          18,
          1,
          15,
          5,
          17,
          10,
          1,
          11,
          1,
          5,
          1,
          1,
          4,
          1,
          12,
          11,
          1,
          5,
          7,
          18,
          4,
          1,
          1,
          3,
          1,
          17,
          1,
          1,
          21,
          17,
          8,
          2,
          1,
          3,
          16,
          9,
          13,
          7,
          7,
          5,
          16,
          3,
          11,
          14,
          1,
          1,
          4,
          10,
          2,
          11,
          6,
          9,
          2,
          1,
          1,
          12,
          4,
          16,
          3,
          18,
          2,
          3,
          19,
          12,
          1,
          1,
          6,
          5,
          1,
          3,
          14,
          7,
          13,
          2,
          19,
          1,
          18,
          1,
          1,
          5,
          1,
          14,
          5,
          15,
          1,
          11,
          7,
          2,
          2,
          6,
          5,
          1,
          11,
          2,
          9,
          2,
          1,
          8,
          10,
          9,
          8,
          10,
          16,
          18,
          11,
          1,
          5,
          2,
          9,
          16,
          18,
          14,
          2,
          4,
          2,
          3,
          11,
          4,
          5,
          16,
          9,
          1,
          3,
          2,
          3,
          4,
          5,
          1,
          1,
          13,
          3,
          2,
          11,
          4,
          14,
          6,
          19,
          4,
          4,
          4,
          10,
          2,
          1,
          1,
          9,
          1,
          1,
          1,
          2,
          1,
          1,
          1,
          2,
          4,
          8,
          1,
          16,
          14,
          3,
          1,
          1,
          9,
          3,
          7,
          13,
          4,
          4,
          4,
          2,
          1,
          19,
          18,
          5,
          16,
          3,
          1,
          3,
          7,
          2,
          3,
          17,
          12,
          16,
          3,
          2,
          5,
          5,
          1,
          8,
          6,
          8,
          4,
          1,
          1,
          10,
          19,
          4,
          12,
          14,
          3,
          23,
          2,
          19,
          13,
          1,
          4,
          1,
          23,
          18,
          1,
          2,
          2,
          14,
          3,
          8,
          5,
          11,
          2,
          20,
          16,
          23,
          12,
          13,
          15,
          5,
          1,
          2,
          9,
          9,
          1,
          6,
          5,
          11,
          2,
          1,
          5,
          1,
          13,
          2,
          3,
          6,
          8,
          8,
          9,
          3,
          6,
          1,
          7,
          5,
          1,
          18,
          1,
          14,
          1,
          10,
          2,
          9,
          1,
          8,
          7,
          1,
          1,
          12,
          1,
          1,
          7,
          1,
          13,
          9,
          1,
          1,
          19,
          6,
          5,
          6,
          3,
          1,
          23,
          12,
          3,
          14,
          17,
          7,
          9,
          15,
          1,
          7,
          7,
          1,
          3,
          4,
          16,
          14,
          10,
          8,
          6,
          19,
          3,
          18,
          11,
          7,
          6,
          4,
          6,
          9,
          1,
          1,
          15,
          1,
          3,
          2,
          18,
          6,
          1,
          6,
          23,
          7,
          19,
          1,
          5,
          7,
          1,
          9,
          15,
          9,
          1,
          1,
          16,
          7,
          7,
          12,
          1,
          11,
          2,
          18,
          4,
          16,
          7,
          1,
          14,
          14,
          3,
          12,
          10,
          9,
          14,
          3,
          5,
          1,
          23,
          2,
          2,
          7,
          3,
          7,
          19,
          13,
          4,
          17,
          4,
          2,
          8,
          1,
          10,
          12,
          19,
          4,
          1,
          12,
          3,
          1,
          16,
          11,
          1,
          1,
          1,
          1,
          2,
          1,
          5,
          12,
          5,
          11,
          8,
          4,
          1,
          23,
          17,
          8,
          15,
          23,
          16,
          20,
          6,
          12,
          1,
          6,
          18,
          3,
          16,
          19,
          13,
          1,
          1,
          1,
          3,
          13,
          12,
          2,
          18,
          5,
          1,
          1,
          1,
          17,
          1,
          4,
          19,
          5,
          1,
          3,
          13,
          10,
          4,
          19,
          3,
          1,
          13,
          10,
          13,
          4,
          1,
          6,
          1,
          19,
          10,
          1,
          14,
          4,
          5,
          4,
          1,
          8,
          1,
          14,
          1,
          2,
          3,
          5,
          3,
          15,
          9,
          1,
          9,
          1,
          3,
          4,
          2,
          1,
          4,
          1,
          23,
          2,
          2,
          1,
          1,
          9,
          6,
          3,
          1,
          1,
          6,
          1,
          12,
          4,
          5,
          5,
          4,
          5,
          1,
          3,
          16,
          1,
          1,
          10,
          2,
          5,
          6,
          4,
          15,
          1,
          8,
          3,
          17,
          1,
          8,
          8,
          2,
          8,
          3,
          1,
          1,
          10,
          7,
          6,
          4,
          1,
          18,
          1,
          1,
          9,
          4,
          9,
          1,
          8,
          5,
          2,
          4,
          1,
          8,
          4,
          1,
          22,
          3,
          5,
          2,
          18,
          1,
          1,
          1,
          1,
          1,
          9,
          17,
          6,
          2,
          6,
          3,
          4,
          2,
          3,
          19,
          3,
          18,
          1,
          1,
          12,
          18,
          2,
          1,
          1,
          1,
          8,
          7,
          15,
          2,
          20,
          1,
          2,
          2,
          3,
          19,
          5,
          5,
          16,
          3,
          23,
          5,
          4,
          3,
          23,
          10,
          6,
          1,
          20,
          7,
          8,
          1,
          6,
          2,
          3,
          5,
          5,
          9,
          7,
          8,
          7,
          22,
          1,
          10,
          2,
          2,
          6,
          8,
          8,
          1,
          13,
          1,
          15,
          1,
          16,
          2,
          3,
          11,
          24,
          11,
          10,
          1,
          9,
          1,
          5,
          6,
          6,
          5,
          8,
          3,
          18,
          17,
          10,
          3,
          6,
          1,
          4,
          3,
          1,
          12,
          21,
          12,
          11,
          1,
          1,
          2,
          2,
          12,
          17,
          11,
          1,
          19,
          5,
          6,
          1,
          4,
          2,
          15,
          5,
          5,
          1,
          4,
          6,
          4,
          23,
          10,
          2,
          1,
          11,
          10,
          1,
          1,
          11,
          1,
          19,
          4,
          1,
          4,
          1,
          15,
          18,
          23,
          1,
          3,
          8,
          9,
          4,
          9,
          3,
          18,
          23,
          20,
          23,
          5,
          4,
          12,
          5,
          9,
          1,
          1,
          13,
          1,
          9,
          13,
          3,
          1,
          1,
          12,
          1,
          23,
          4,
          4,
          2,
          2,
          1,
          2,
          5,
          1,
          5,
          1,
          4,
          1,
          1,
          1,
          2,
          1,
          9,
          8,
          18,
          1,
          12,
          5,
          17,
          1,
          3,
          7,
          7,
          1,
          5,
          4,
          4,
          12,
          5,
          14,
          9,
          1,
          17,
          10,
          14,
          5,
          1,
          4,
          5,
          19,
          9,
          17,
          3,
          1,
          2,
          4,
          11,
          8,
          23,
          1,
          2,
          1,
          7,
          8,
          7,
          1,
          4,
          1,
          2,
          1,
          9,
          23,
          5,
          23,
          14,
          8,
          8,
          10,
          1,
          3,
          18,
          1,
          23,
          9,
          1,
          13,
          1,
          1,
          4,
          1,
          1,
          23,
          19,
          1,
          1,
          8,
          6,
          1,
          12,
          18,
          1,
          2,
          12,
          1,
          4,
          7,
          4,
          6,
          2,
          1,
          9,
          3,
          14,
          8,
          19,
          4,
          1,
          5,
          4,
          11,
          3,
          8,
          10,
          14,
          19,
          20,
          1,
          1,
          13,
          22,
          3,
          15,
          14,
          1,
          5,
          20,
          11,
          4,
          2,
          4,
          1,
          1,
          5,
          5,
          11,
          4,
          9,
          15,
          3,
          1,
          1,
          19,
          1,
          7,
          7,
          1,
          1,
          5,
          1,
          14,
          18,
          1,
          9,
          5,
          3,
          1,
          11,
          1,
          3,
          7,
          8,
          2,
          6,
          2,
          1,
          1,
          2,
          5,
          2,
          1,
          1,
          3,
          10,
          22,
          1,
          1,
          4,
          6,
          1,
          1,
          1,
          1,
          6,
          12,
          23,
          3,
          12,
          15,
          5,
          12,
          23,
          13,
          6,
          1,
          19,
          17,
          10,
          16,
          8,
          4,
          1,
          1,
          6,
          2,
          20,
          2,
          1,
          1,
          5,
          16,
          12,
          4,
          3,
          17,
          1,
          2,
          1,
          14,
          15,
          12,
          3,
          7,
          1,
          1,
          14,
          1,
          3,
          19,
          7,
          9,
          9,
          1,
          5,
          17,
          11,
          12,
          1,
          3,
          1,
          6,
          1,
          4,
          3,
          1,
          13,
          2,
          4,
          16,
          13,
          17,
          11,
          16,
          14,
          1,
          1,
          1,
          16,
          1,
          3,
          20,
          1,
          14,
          14,
          3,
          1,
          3,
          9,
          4,
          13,
          3,
          14,
          7,
          17,
          1,
          18,
          16,
          12,
          1,
          1,
          8,
          6,
          19,
          3,
          18,
          18,
          1,
          7,
          1,
          23,
          8,
          1,
          17,
          1,
          4,
          1,
          18,
          1,
          5,
          14,
          16,
          17,
          1,
          4,
          1,
          2,
          9,
          12,
          16,
          2,
          3,
          1,
          1,
          11,
          4,
          19,
          1,
          12,
          9,
          11,
          19,
          2,
          5,
          5,
          1,
          14,
          19,
          3,
          19,
          17,
          4,
          5,
          2,
          8,
          4,
          6,
          3,
          16,
          11,
          13,
          1,
          1,
          8,
          4,
          6,
          8,
          4,
          1,
          6,
          4,
          15,
          2,
          8,
          5,
          5,
          1,
          14,
          1,
          23,
          11,
          2,
          20,
          9,
          3,
          2,
          1,
          16,
          6,
          2,
          15,
          2,
          10,
          8,
          5,
          2,
          3,
          1,
          1,
          5,
          1,
          20,
          8,
          5,
          8,
          4,
          20,
          1,
          1,
          11,
          23,
          14,
          11,
          1,
          3,
          12,
          3,
          16,
          4,
          1,
          10,
          1,
          1,
          2,
          7,
          4,
          11,
          6,
          6,
          18,
          3,
          2,
          5,
          11,
          18,
          5,
          17,
          1,
          1,
          11,
          6,
          6,
          19,
          9,
          3,
          1,
          1,
          3,
          10,
          4,
          6,
          2,
          20,
          1,
          14,
          3,
          2,
          1,
          8,
          1,
          1,
          12,
          18,
          15,
          1,
          5,
          17,
          3,
          11,
          23,
          17,
          10,
          3,
          3,
          18,
          14,
          19,
          4,
          1,
          11,
          1,
          6,
          3,
          14,
          16,
          1,
          1,
          2,
          8,
          1,
          1,
          19,
          8,
          1,
          13,
          1,
          8,
          6,
          1,
          1,
          5,
          5,
          4,
          1,
          1,
          1,
          4,
          11,
          1,
          5,
          1,
          1,
          5,
          7,
          4,
          1,
          3,
          1,
          17,
          6,
          20,
          2,
          15,
          1,
          1,
          6,
          1,
          1,
          19,
          3,
          6,
          4,
          14,
          3,
          3,
          1,
          1,
          1,
          10,
          15,
          10,
          20,
          3,
          17,
          1,
          5,
          5,
          8,
          5,
          4,
          9,
          1,
          2,
          19,
          1,
          5,
          10,
          1,
          9,
          7,
          12,
          9,
          3,
          1,
          11,
          9,
          5,
          11,
          1,
          20,
          1,
          7,
          12,
          1,
          10,
          7,
          2,
          1,
          12,
          6,
          4,
          12,
          17,
          1,
          1,
          2,
          14,
          1,
          5,
          1,
          10,
          9,
          1,
          8,
          4,
          15,
          17,
          1,
          1,
          14,
          2,
          11,
          11,
          1,
          5,
          16,
          1,
          13,
          10,
          8,
          2,
          15,
          7,
          2,
          1,
          1,
          1,
          5,
          1,
          6,
          4,
          5,
          11,
          17,
          3,
          9,
          20,
          17,
          4,
          6,
          2,
          1,
          15,
          7,
          14,
          12,
          4,
          9,
          14,
          4,
          2,
          9,
          15,
          1,
          9,
          1,
          16,
          5,
          11,
          18,
          6,
          1,
          4,
          14,
          16,
          6,
          3,
          1,
          3,
          8,
          1,
          1,
          3,
          1,
          1,
          1,
          17,
          1,
          1,
          1,
          3,
          3,
          3,
          11,
          3,
          1,
          1,
          3,
          1,
          3,
          4,
          3,
          6,
          1,
          4,
          9,
          5,
          18,
          1,
          18,
          1,
          13,
          1,
          1,
          1,
          7,
          3,
          10,
          4,
          4,
          3,
          4,
          10,
          5,
          14,
          4,
          12,
          2,
          1,
          12,
          1,
          14,
          13,
          10,
          13,
          1,
          2,
          17,
          4,
          20,
          4,
          19,
          19,
          4,
          5,
          1,
          6,
          3,
          3,
          11,
          13,
          12,
          10,
          12,
          4,
          10,
          4,
          9,
          4,
          1,
          10,
          1,
          5,
          1,
          1,
          8,
          8,
          15,
          1,
          7,
          10,
          7,
          13,
          18,
          10,
          5,
          9,
          2,
          3,
          2,
          19,
          15,
          4,
          7,
          16,
          8,
          2,
          1,
          1,
          3,
          2,
          1,
          10,
          2,
          5,
          4,
          10,
          1,
          11,
          1,
          2,
          8,
          5,
          10,
          14,
          1,
          14,
          7,
          3,
          3,
          20,
          1,
          3,
          4,
          1,
          4,
          1,
          1,
          1,
          3,
          6,
          1,
          11,
          9,
          2,
          1,
          1,
          18,
          19,
          6,
          2,
          19,
          7,
          3,
          2,
          1,
          3,
          9,
          1,
          12,
          1,
          3,
          19,
          8,
          4,
          3,
          3,
          9,
          8,
          1,
          9,
          1,
          1,
          10,
          19,
          1,
          20,
          5,
          7,
          5,
          20,
          1,
          1,
          5,
          1,
          7,
          8,
          4,
          9,
          1,
          7,
          1,
          3,
          6,
          1,
          4,
          12,
          19,
          9,
          1,
          2,
          3,
          1,
          11,
          16,
          3,
          1,
          1,
          6,
          16,
          12,
          8,
          1,
          15,
          1,
          19,
          19,
          6,
          5,
          1,
          13,
          13,
          12,
          1,
          13,
          7,
          1,
          1,
          11,
          1,
          2,
          8,
          4,
          1,
          11,
          17,
          1,
          1,
          1,
          6,
          6,
          2,
          8,
          9,
          1,
          1,
          15,
          10,
          1,
          11,
          2,
          12,
          20,
          1,
          3,
          13,
          11,
          1,
          2,
          8,
          4,
          19,
          1,
          1,
          1,
          7,
          4,
          9,
          1,
          2,
          1,
          6,
          1,
          1,
          23,
          1,
          15,
          1,
          14,
          1,
          4,
          1,
          16,
          4,
          1,
          17,
          11,
          2,
          18,
          5,
          6,
          19,
          8,
          2,
          10,
          9,
          3,
          1,
          4,
          4,
          8,
          1,
          3,
          3,
          2,
          2,
          4,
          1,
          20,
          1,
          7,
          8,
          7,
          1,
          2,
          3,
          10,
          1,
          8,
          1,
          19,
          11,
          4,
          1,
          3,
          3,
          2,
          3,
          1,
          15,
          7,
          13,
          2,
          2,
          9,
          17,
          13,
          1,
          6,
          3,
          3,
          1,
          10,
          9,
          13,
          10,
          5,
          1,
          6,
          19,
          4,
          1,
          9,
          23,
          1,
          1,
          1,
          1,
          4,
          6,
          13,
          10,
          6,
          5,
          19,
          1,
          9,
          6,
          11,
          7,
          12,
          2,
          19,
          3,
          10,
          1,
          1,
          1,
          2,
          5,
          1,
          2,
          3,
          14,
          7,
          1,
          16,
          5,
          9,
          1,
          7,
          1,
          23,
          16,
          10,
          1,
          1,
          10,
          6,
          7,
          1,
          18,
          2,
          4,
          1,
          16,
          9,
          1,
          17,
          6,
          3,
          2,
          18,
          1,
          16,
          1,
          12,
          5,
          3,
          1,
          1,
          19,
          19,
          17,
          1,
          1,
          11,
          1,
          2,
          15,
          1,
          7,
          12,
          4,
          2,
          22,
          1,
          1,
          1,
          2,
          1,
          8,
          8,
          5,
          3,
          1,
          9,
          13,
          19,
          3,
          7,
          13,
          8,
          9,
          3,
          11,
          10,
          1,
          12,
          4,
          3,
          3,
          2,
          4,
          8,
          1,
          4,
          1,
          1,
          4,
          5,
          3,
          2,
          1,
          2,
          5,
          1,
          1,
          1,
          4,
          15,
          10,
          1,
          10,
          1,
          1,
          14,
          5,
          5,
          1
         ],
         "xaxis": "x",
         "y": [
          341.87,
          2370.307,
          95.8,
          87.999,
          96.799,
          85.99,
          1805.425,
          1278.76,
          298.746,
          9000.462,
          253.8,
          190.76,
          2045.534,
          84.29,
          544.428,
          354.90000000000003,
          87.88,
          1166.68,
          772.07,
          211.92000000000002,
          388.4,
          845.4200000000001,
          2348.757,
          1007.69,
          699.655,
          1804.3,
          1000.489,
          871.84,
          1164.808,
          610.467,
          166.005,
          87.5,
          702.52,
          1047.18,
          2720.273,
          169.60000000000002,
          96.1,
          572.52,
          1045.098,
          1291.83,
          847.56,
          112.18,
          656.44,
          184.94,
          97.598,
          3567.321,
          82.99,
          1057.195,
          142.7,
          445.6,
          1830.09,
          1338.93,
          1184.259,
          282.36,
          754.66,
          265.725,
          1274.5,
          117.68,
          609.861,
          115.18,
          1726.4189999999999,
          677.155,
          461.37800000000004,
          1295.348,
          255.96,
          1484.9,
          4167.072,
          19403.187,
          108.98,
          2577.143,
          181.152,
          4912.543,
          685.6,
          248.4,
          1115.251,
          2309.409,
          249.20000000000002,
          95.242,
          131.78,
          580.4010000000001,
          1970.21,
          2357.79,
          2054.849,
          2644.29,
          2844.887,
          1207.0900000000001,
          91.99000000000001,
          2675.9,
          534.3510000000001,
          89.99000000000001,
          98.99000000000001,
          519.9,
          777.95,
          511.86,
          194.68800000000002,
          1395.19,
          154.96,
          912.2,
          201.89000000000001,
          1380.194,
          103.99000000000001,
          95.98,
          81.99,
          1219.0720000000001,
          354.99,
          1648,
          82.16,
          119.7,
          346.392,
          216.97,
          952.33,
          379.626,
          85.2,
          3574.879,
          6575.055,
          106.99,
          220.86,
          427.858,
          3312.964,
          97.99000000000001,
          429.32,
          182.84,
          257.399,
          2573.185,
          1208.8,
          205.288,
          1629.513,
          1159.383,
          384.94,
          854.91,
          640.189,
          198.972,
          1973.0020000000002,
          590.21,
          2635.945,
          1064.69,
          1336.97,
          185.37,
          436.86,
          391.69,
          82.599,
          91.97,
          175.888,
          291.999,
          1715.33,
          363.994,
          88.99,
          724.9010000000001,
          1201.976,
          632.121,
          679.85,
          470.64,
          147.7,
          81.25,
          1188.305,
          303.42,
          1024.1,
          193.5,
          326.082,
          424.799,
          424.49,
          436.55,
          3414.4,
          94.699,
          826.676,
          1544.891,
          959.9870000000001,
          3205.5870000000004,
          89.5,
          758.928,
          917.2,
          189.026,
          450.9,
          781.957,
          1326.008,
          111.8,
          370.7,
          494.5,
          2777.695,
          168.304,
          373.79,
          435.603,
          85.486,
          180.29,
          110.596,
          170.8,
          2273.2200000000003,
          1024.1,
          85.9,
          1278.0500000000002,
          480.387,
          428.65,
          625.9970000000001,
          274.88,
          5147.040000000001,
          312.79,
          1755.57,
          2476.861,
          292.97,
          2307.83,
          82.79,
          929.4970000000001,
          1852.404,
          956.1,
          690.417,
          698.54,
          83.38,
          180.99,
          87.75,
          253.97,
          81.999,
          185.96,
          725,
          206.2,
          176.43,
          652.8910000000001,
          84.7,
          258.88,
          1317.858,
          637.97,
          81.93,
          577.484,
          98.06,
          1538.57,
          741.655,
          85.88,
          1707.74,
          82.99,
          519.115,
          131,
          265.99,
          1799.24,
          536.94,
          266.8,
          11922.897,
          2916.03,
          2343.109,
          1024.72,
          109.95,
          727.03,
          422.4,
          91.5,
          1224.859,
          368.88,
          93.99000000000001,
          276.445,
          1822.19,
          88.995,
          574.6,
          103.5,
          968.485,
          85.59,
          900.942,
          97.99000000000001,
          1836.44,
          84.96000000000001,
          2423.4809999999998,
          2429.86,
          521.0840000000001,
          1951.9850000000001,
          81.19,
          244.97,
          254.97,
          2624.08,
          440.781,
          396.608,
          984.3090000000001,
          88.68,
          3516.1820000000002,
          5177.356,
          495.82,
          4493.332,
          3529.06,
          1782.74,
          743.254,
          1649.451,
          1656.301,
          464.93,
          212.84,
          2389.2790000000005,
          558.597,
          99.89,
          755.8,
          82.79,
          697.31,
          578,
          2089.727,
          570.412,
          185.97,
          115.06700000000001,
          896.8870000000001,
          2361.1040000000003,
          560.4590000000001,
          167.835,
          2024.255,
          499.355,
          1424.5990000000002,
          1112,
          249.9,
          996.198,
          601.579,
          396.41700000000003,
          517.8,
          453.214,
          84.9,
          639.73,
          1607.84,
          85,
          168.4,
          93.9,
          115.49000000000001,
          1751.1399999999999,
          2820.087,
          432.6,
          1565.4,
          2553.569,
          82.999,
          2971.1800000000003,
          641.593,
          930.9000000000001,
          89,
          3251.2709999999997,
          1511.49,
          273.52,
          2246.85,
          1459.5049999999999,
          107.9,
          1886.2,
          350,
          407.46,
          94.48,
          184.56,
          179.67000000000002,
          366.699,
          204.4,
          324.589,
          89.9,
          124.89,
          843.97,
          95.99000000000001,
          89.998,
          82.39,
          810.5690000000001,
          84.78,
          86.98,
          374.497,
          361.49,
          83.5,
          912.95,
          773.413,
          167.497,
          405.788,
          279.9,
          2930.33,
          280,
          93.78,
          180.555,
          2978.91,
          555.6,
          891.216,
          1065.1,
          789.7,
          1250.74,
          2398.857,
          1623.99,
          1587.97,
          114,
          111.9,
          289.55,
          695.571,
          774.73,
          648.21,
          14637.170000000002,
          196.981,
          994.444,
          1864.893,
          193.79,
          640.6800000000001,
          1693.83,
          188.14,
          81.99,
          682.7180000000001,
          253.978,
          82.499,
          81.59,
          331.49,
          155.99,
          244.95,
          119.78,
          125.37,
          270.54,
          82.199,
          174.789,
          1033.825,
          371.76,
          89.8,
          367.246,
          93,
          533.76,
          1201.13,
          245.98,
          88.65,
          1273.31,
          2332.936,
          5851.718000000001,
          86.49,
          252.15,
          4874.3060000000005,
          104.999,
          1305.48,
          166.07,
          286.6,
          781.4,
          1204.41,
          658.3,
          84.45,
          2507.4,
          413.29,
          189.7,
          983.009,
          169.99,
          2540.2200000000003,
          157.98000000000002,
          1758.516,
          1976.96,
          1688.929,
          153.9,
          274.5,
          125,
          85.99,
          414.978,
          86.05,
          411.97,
          2800.364,
          1502.5140000000001,
          1263.8000000000002,
          916.3,
          2178,
          389.994,
          96.7,
          437.48,
          1034.716,
          127.7,
          2117.767,
          87.47,
          902.5799999999999,
          321.3,
          626.912,
          112.78,
          2292.6040000000003,
          2197.851,
          2469.3,
          559.1,
          12133.921,
          2953.26,
          114.47800000000001,
          99.518,
          474.04,
          1084.78,
          906.6700000000001,
          7959.5,
          85.99,
          542.9,
          89.98,
          683.45,
          1438.83,
          634.8,
          91.94,
          84.5,
          471.19500000000005,
          780.0600000000001,
          645.9300000000001,
          986.53,
          332.946,
          652.68,
          423.343,
          513.059,
          167,
          219.192,
          175.98,
          2034.9940000000001,
          3376.007,
          89.99000000000001,
          1238.5720000000001,
          525.11,
          181.77,
          3727.829,
          2625.708,
          972.49,
          325.591,
          81.78,
          931.896,
          2667.1710000000003,
          1413.468,
          543.19,
          110.524,
          93.7,
          402.37,
          729.9000000000001,
          173.8,
          81.4,
          4745.253000000001,
          731.92,
          350.896,
          469.6,
          1431.8000000000002,
          571.837,
          183.412,
          87.98,
          2422.33,
          131.8,
          274.57,
          85.48,
          84.32,
          93.5,
          312.76,
          217.35,
          88.99,
          636.692,
          118.5,
          514.995,
          1454.649,
          435.17,
          88,
          287.58,
          4629.598,
          1914.4950000000001,
          2492.87,
          86.664,
          86.99,
          318.56,
          89.76,
          81.998,
          215.37,
          21004.203,
          1239.19,
          634.994,
          87.399,
          638.4,
          459.82,
          1655.9,
          2182.782,
          214.70000000000002,
          99.9,
          111.05,
          1044.27,
          247.89,
          88.99,
          2782.224,
          88.4,
          3256.9,
          460.04,
          86.99,
          319.8,
          91.99000000000001,
          762.36,
          1028.448,
          1056.079,
          2673.9170000000004,
          1035.5,
          2296.853,
          243.798,
          597.25,
          85.5,
          2269.3,
          314.935,
          1715.3,
          2017.46,
          899.05,
          82.999,
          1331.171,
          87.99,
          84.78,
          1062.28,
          1041.033,
          90.99000000000001,
          84.925,
          82.97,
          5904.818,
          312.22,
          1296.3,
          273.98,
          99.99000000000001,
          3155.7030000000004,
          238.32,
          496.9,
          171.839,
          428.58,
          247.98,
          820.2850000000001,
          763.5200000000001,
          413.397,
          1830.529,
          978.8520000000001,
          1267.23,
          2278.31,
          202.42000000000002,
          89.4,
          205.3,
          101,
          664.9,
          164.985,
          84.29,
          2337.021,
          1085.7,
          328.6,
          105,
          5835.195,
          473.067,
          318.77,
          386,
          879.465,
          159.2,
          97.98,
          902,
          434.90000000000003,
          4117.43,
          738.7,
          5836.295,
          572.2080000000001,
          189.9,
          2320.68,
          3026.5,
          1306.12,
          343.896,
          1773.131,
          478.46000000000004,
          93.9,
          757.994,
          98.9,
          905.225,
          86.999,
          960.23,
          520.964,
          1155.5,
          84.49,
          92.5,
          120.74000000000001,
          3432.1000000000004,
          279.875,
          541.432,
          82.49,
          775.22,
          149.942,
          90.9,
          415.399,
          508.03000000000003,
          979.7,
          107.8,
          84.9,
          397.27,
          766.26,
          125.9,
          445.56,
          421,
          98,
          90.19,
          115.5,
          82.98,
          1224.3,
          531.54,
          165.198,
          195.4,
          381.67600000000004,
          195.96,
          161,
          89.9,
          515.9,
          543.393,
          1051.886,
          296.28,
          200.447,
          92.58500000000001,
          217.82,
          787.7,
          312.2,
          265.28,
          892.2,
          89.8,
          717.6,
          276.118,
          459.498,
          199.47,
          83.867,
          4490.278,
          118.561,
          1563,
          137,
          1432.47,
          2914.71,
          86.5,
          258.48,
          661.5699999999999,
          464.22800000000007,
          236.8,
          506.97,
          355.63,
          1223.55,
          1981.519,
          1653.835,
          242.24,
          432.556,
          1802.2820000000002,
          136.9,
          1706.992,
          565.299,
          227.5,
          177.47,
          770.23,
          984.765,
          797.71,
          91.999,
          399.99800000000005,
          85.7,
          601.79,
          179.574,
          384,
          84.58,
          296.72,
          468.44,
          1989.9340000000002,
          372.293,
          1495.3000000000002,
          610.775,
          1232.606,
          312.24,
          102.434,
          2493.185,
          815.42,
          110.9,
          428.706,
          664.979,
          90.85,
          943.767,
          92.99000000000001,
          197.12,
          291.194,
          1371.76,
          4901.25,
          103.998,
          500.20000000000005,
          1730.3600000000001,
          4365.9,
          850.49,
          257.28,
          95.98,
          552.472,
          851.8510000000001,
          1368.4,
          2480.87,
          2139.21,
          1335.5,
          1398.392,
          1115.2,
          1962.306,
          1820.289,
          93,
          95.98,
          94.5,
          503.2,
          95.29,
          1079.275,
          1826.978,
          249.4,
          106.4,
          3610.27,
          1406.599,
          216.878,
          123.03,
          13850.483,
          85.947,
          93.57,
          1498.5,
          85.38,
          350.47,
          171.98,
          1011.89,
          109.9,
          292.5,
          89.5,
          3659.232,
          83.69,
          171.8,
          90.37,
          273.992,
          92,
          396.98,
          2222.9,
          682.38,
          130.12,
          2247.242,
          1090.229,
          82.99,
          352.055,
          1231.5,
          976.79,
          169.9,
          179.338,
          191.11,
          984.6,
          1215.542,
          1784.33,
          1101.7,
          96.199,
          836.94,
          1004.5,
          990.284,
          1281.865,
          863.8,
          2040.5900000000001,
          349.98,
          98,
          87.939,
          125.769,
          133.88,
          171,
          527.96,
          1122.699,
          2078.8,
          1272.2,
          1171.17,
          1436.1829999999998,
          359.98199999999997,
          740.235,
          375.1,
          446.305,
          772.8,
          1640.0639999999999,
          252.6,
          307.15,
          1935.248,
          1239.888,
          1278.77,
          2361.67,
          84.77,
          108.99,
          194.93,
          466.44,
          473.52,
          420.4,
          118.13900000000001,
          2279.587,
          369.455,
          93.9,
          1364.33,
          1106.079,
          879.01,
          86.99,
          324.73900000000003,
          879.552,
          342.79,
          1006.88,
          1041.746,
          1746.0100000000002,
          707.154,
          926.5340000000001,
          2163.082,
          489.70000000000005,
          155.676,
          84.59,
          92,
          99.98,
          782.315,
          3022.536,
          84.9,
          205.2,
          3407.4,
          3174.61,
          23237.605,
          994.996,
          210.994,
          125.80000000000001,
          224.73000000000002,
          302.106,
          1006.9639999999999,
          2370.352,
          83.9,
          153.977,
          539.962,
          92.525,
          425.775,
          630.4,
          1256.194,
          122,
          1507.198,
          1190.894,
          5528.6050000000005,
          86.515,
          323.18,
          84.99,
          2490.51,
          86.37,
          1112.88,
          823.986,
          467.8,
          824.7,
          564.31,
          333.76,
          357.12,
          592.2,
          467.19000000000005,
          948.308,
          1083.6,
          312.5,
          346.8,
          684.5,
          296.779,
          344.4,
          1441,
          89.8,
          1620.88,
          247.03,
          92.78,
          202.18,
          1558.175,
          851.673,
          95.49000000000001,
          497.89200000000005,
          3056.9700000000003,
          1007.33,
          449.3,
          340.575,
          486.29,
          174.601,
          184.5,
          84.99,
          806.3,
          181.704,
          99.999,
          779.21,
          2709.919,
          86.99,
          372.2,
          613.653,
          2986,
          89.875,
          302.7,
          2398.3280000000004,
          81.55,
          351.21500000000003,
          1759.1000000000001,
          90.205,
          155,
          3838.4500000000003,
          94.48,
          4757.752,
          1174.92,
          168.82,
          82.94,
          167.98,
          344.104,
          121.34800000000001,
          1654.85,
          953.619,
          136,
          8035.961,
          642.39,
          550,
          84.522,
          98.3,
          249.5,
          424.547,
          239.9,
          1940.009,
          838.984,
          316.88,
          1215.855,
          94.76,
          2203.926,
          189.883,
          83.99,
          208.205,
          310.9,
          928.308,
          1806.103,
          118.999,
          1911.1530000000002,
          640.29,
          909.48,
          1013.4000000000001,
          562.17,
          4117.4,
          257.08,
          358.3,
          98,
          342.91,
          349.985,
          978.934,
          82.22,
          652.38,
          1532.87,
          708.3,
          246.4,
          747.9,
          88.435,
          782.2,
          2546.502,
          2301.91,
          1570.15,
          93.598,
          998.65,
          414.979,
          349.67,
          2471.5299999999997,
          88.09,
          700.49,
          399.43,
          86.9,
          1899.098,
          1775.6,
          270.97,
          391.996,
          1665.792,
          951.94,
          693.472,
          1412.607,
          709.752,
          1738.45,
          93.98,
          1629.379,
          258.832,
          796.31,
          888.776,
          1193.9,
          618.53,
          1116.89,
          371.09000000000003,
          295.4,
          441.989,
          2445.14,
          407.299,
          167.379,
          193.46000000000004,
          177.8,
          2272.55,
          452.802,
          851.3,
          228.59300000000002,
          105.9,
          1350.191,
          94.59,
          87,
          99.999,
          482.03,
          204.306,
          1019.6,
          3056.58,
          1212.733,
          104.14,
          84.99,
          158,
          94.182,
          3311.255,
          579.668,
          1219.5230000000001,
          81.49,
          102.99000000000001,
          432.23,
          85.99,
          347.6,
          92,
          426.67,
          83,
          3948.003,
          105.2,
          4742.861,
          1803.3400000000001,
          315.29,
          93.99600000000001,
          2525.938,
          89.699,
          84.176,
          254.37,
          434.42,
          485.18,
          1778.807,
          167.188,
          1493,
          559.64,
          343.587,
          5745.754000000001,
          365.243,
          340.15,
          2132.967,
          287.105,
          931.21,
          4737.678,
          1224.0900000000001,
          82.09,
          289.8,
          2366.478,
          105.95,
          350.85,
          809.229,
          416.5,
          595.39,
          99.69,
          5608.974,
          84.19,
          239.07,
          996.654,
          1122.788,
          530.88,
          165.48,
          486.98,
          2085.42,
          304.5,
          358.5,
          931.058,
          587.989,
          153.49900000000002,
          393.993,
          927.72,
          736.17,
          93.4,
          251.757,
          954.059,
          466.6,
          445.8,
          1011.1020000000001,
          882.5,
          1212.8899999999999,
          1307.893,
          242.5,
          84.9,
          536.0699999999999,
          629.6320000000001,
          425.5,
          1718.1,
          419.31,
          109.989,
          1065.89,
          20312.389000000003,
          85.99,
          93.99000000000001,
          1412.1390000000001,
          118.9,
          122.5,
          165.901,
          1659.08,
          101.99000000000001,
          1487.334,
          437.391,
          2852.143,
          1105,
          88.79,
          1304.959,
          99.9,
          1172.9,
          203.85000000000002,
          92.99000000000001,
          455.9,
          83.9,
          1708.2,
          1498.08,
          93.99000000000001,
          751.4000000000001,
          1851.3500000000001,
          5813.9839999999995,
          992,
          89.356,
          93.875,
          329.871,
          85.279,
          1859.556,
          82.988,
          100.19,
          2849.161,
          1551.26,
          1264.5,
          168.97,
          90.99000000000001,
          253.322,
          2411.589,
          1169.77,
          1154.8,
          691,
          731.6,
          881.8,
          2140.625,
          272.763,
          1571.759,
          1150.16,
          88.3,
          115.97,
          667.77,
          1761.909,
          168.97,
          1569.957,
          579.504,
          1414.045,
          260.429,
          105.18,
          86.249,
          1258.15,
          568.9300000000001,
          2470.885,
          324.2,
          2242.763,
          498.503,
          254.08,
          4254.9529999999995,
          1600.623,
          100.786,
          82,
          649.35,
          496.998,
          93.9,
          918.75,
          1148.03,
          647.9300000000001,
          6507.9220000000005,
          268.8,
          3642.392,
          92.87,
          1803.537,
          95.532,
          99.78,
          868.89,
          89.29,
          1798.556,
          1607.7520000000002,
          1245.058,
          85.5,
          1455.966,
          580.993,
          162.8,
          205,
          4762.900000000001,
          519.4,
          146.69,
          1012.8,
          194.56,
          1075.432,
          256.87,
          98.669,
          1093.699,
          810.68,
          2564.692,
          950.4200000000001,
          1094.3,
          1341.28,
          1504.5,
          1039.94,
          118.5,
          412.5,
          205.25,
          784.7,
          4995.34,
          2188.221,
          1161.45,
          391.21000000000004,
          958.4000000000001,
          507.20000000000005,
          313.249,
          1646.79,
          555.927,
          411.799,
          1457.6,
          1484.43,
          145.67700000000002,
          262.05,
          185.187,
          318.08000000000004,
          387.27,
          479.95,
          136,
          175.99900000000002,
          1979.7540000000001,
          294.94,
          176.58,
          1102,
          426.46,
          2095.483,
          1019.9,
          2002.924,
          794.8100000000001,
          1137.7,
          388.471,
          1848.2830000000001,
          193.3,
          81.98,
          85.4,
          1201.325,
          86.09,
          179.8,
          94.98,
          185.689,
          89.406,
          98.89,
          94.99000000000001,
          191.57,
          400.9,
          865.5,
          83.82,
          1494.149,
          1416.887,
          321.39,
          109.97,
          133.776,
          929.66,
          542,
          594.929,
          1281.83,
          401.562,
          435.1,
          439.087,
          259.06,
          82.5,
          1748.609,
          2353.92,
          831.97,
          1508.498,
          255.878,
          81.39,
          386.3,
          739.06,
          219.84,
          256.8,
          3578.856,
          1042,
          1443.279,
          406.70000000000005,
          180.95,
          687.77,
          460.48,
          111.77000000000001,
          1317.1,
          635.227,
          648.541,
          348.18,
          504.89799999999997,
          115.49000000000001,
          1182.763,
          2319.151,
          449.172,
          1355.65,
          1390.283,
          393.95000000000005,
          2781.038,
          474.028,
          2879.34,
          1148.483,
          111.49600000000001,
          677.173,
          111.8,
          5186.16,
          3488.508,
          176.7,
          164.18,
          259.88,
          1238.986,
          260.67,
          657.177,
          1085,
          1500.2910000000002,
          220,
          12028.842,
          2282.149,
          2617.7,
          1351.98,
          1196.79,
          1765.73,
          491.88,
          86.28,
          246.60000000000002,
          1064.57,
          1102.973,
          100,
          531.45,
          819.89,
          1165.8870000000002,
          245.8,
          91.98,
          477.216,
          88.9,
          2563.0060000000003,
          303.78,
          358.22,
          789.899,
          2890.5099999999998,
          6182.610000000001,
          810.958,
          312.21000000000004,
          557.576,
          91.958,
          634.66,
          958.913,
          100.89,
          3338.84,
          86.99,
          1390.85,
          89,
          1142.6390000000001,
          224.995,
          755.75,
          91.5,
          704.52,
          888.1659999999999,
          88.5,
          86.499,
          1286.66,
          114.27799999999999,
          90.5,
          1027.729,
          86,
          1090.5,
          1816.13,
          80.849,
          84.5,
          2887.07,
          580.75,
          1899.945,
          608.311,
          318.786,
          91.5,
          4039.278,
          1047.65,
          566.3800000000001,
          1668.025,
          1814.116,
          776.585,
          1571.7350000000001,
          1282.148,
          81.88,
          588.97,
          1083.998,
          95.06,
          322.32,
          395.6,
          1337.75,
          1499.591,
          841.4,
          724.83,
          1502.0500000000002,
          2205.133,
          257.08,
          1830.75,
          1490.944,
          660.48,
          483.98,
          355.332,
          764,
          2039.15,
          93.3,
          91.99000000000001,
          1571.483,
          122.49000000000001,
          256.27,
          173.98,
          1883.084,
          743.893,
          86.9,
          528.691,
          7007.688,
          1332.69,
          2481.57,
          113.6,
          406.598,
          702.791,
          88.9,
          1551.8629999999998,
          1589.405,
          733.98,
          89.74,
          126,
          1746.83,
          3754.1810000000005,
          703.33,
          6517.857,
          132.265,
          1057.3029999999999,
          173.069,
          2187.216,
          460.563,
          4500.816000000001,
          933.6990000000001,
          81.99,
          1258.2359999999999,
          3603.275,
          304.81,
          1494.0390000000002,
          975.182,
          841.88,
          1485.3,
          429,
          681.3040000000001,
          93.86,
          6501.04,
          243.497,
          234.7,
          2754.08,
          264.38,
          748.509,
          1895.7,
          1641.897,
          384.498,
          1473.099,
          340.58,
          167.48,
          1392.1,
          107.2,
          1043.3,
          1241.977,
          1990.296,
          397.6,
          128.75,
          2688.6279999999997,
          442.404,
          155.049,
          1859.4,
          1835.362,
          245.883,
          103.98,
          83,
          134.80599999999998,
          176.945,
          207.836,
          431.2,
          1347.112,
          443.451,
          1253.916,
          1368.899,
          379.9,
          97.89,
          2872.713,
          1523.899,
          1152.9,
          1362.277,
          2760.5,
          2380.996,
          1888.127,
          531.604,
          976.28,
          99.9,
          519.8,
          1806.118,
          319.95,
          5270.75,
          2354.189,
          1072.48,
          199.7,
          220,
          769.79,
          274.5,
          1775.58,
          1734.3020000000001,
          201.9,
          1526.19,
          451.78,
          154.9,
          199.8,
          84.74,
          1568.345,
          153.998,
          361.747,
          2979.227,
          551.24,
          95.59,
          346.14,
          1118.89,
          937.485,
          957.8000000000001,
          1593.48,
          280,
          90.519,
          1134.172,
          943.2,
          1340.27,
          553.23,
          95.2,
          726.352,
          88.39,
          1707.17,
          1461.0790000000002,
          84.89,
          1281.97,
          371.427,
          578.9,
          457.297,
          119,
          651.92,
          262.568,
          5190.314,
          95,
          232.18900000000002,
          511.8,
          439.55,
          374.84000000000003,
          1565.68,
          807.4,
          108.949,
          1110.009,
          84.99,
          333.5,
          746.9180000000001,
          215.7,
          81.299,
          410.93,
          100.4,
          6443.037,
          316.499,
          337.245,
          114.30000000000001,
          133.998,
          1418.8000000000002,
          717.6,
          271.6,
          99.98,
          85.43,
          526.56,
          96.1,
          1231.5,
          340.09000000000003,
          967.457,
          520.8,
          343.19,
          414,
          84.499,
          250.769,
          7772.530000000001,
          108.5,
          84.9,
          912.99,
          209.23000000000002,
          548.437,
          559.83,
          1871.9850000000001,
          2389.2,
          84.98,
          684.1800000000001,
          959.6,
          1614.387,
          102.48,
          1119.591,
          655,
          182.9,
          1074.8400000000001,
          281.79,
          112.15,
          90.09,
          1830.942,
          2478.742,
          680.2,
          786.1,
          115.80000000000001,
          1656.5,
          86.156,
          178.974,
          924.298,
          754.64,
          737.8,
          213.864,
          1910.855,
          1964.58,
          180.94,
          467.41100000000006,
          87.99,
          816.79,
          342.6,
          90.99000000000001,
          2544.088,
          1386.898,
          443.496,
          238.889,
          4708.91,
          123.9,
          92.979,
          81.89,
          87.609,
          87.34,
          860.184,
          1465.936,
          701.739,
          207.92000000000002,
          721.9,
          322.5,
          535.39,
          207.95,
          251.996,
          1771.748,
          274.98,
          1481.388,
          93.949,
          185.53,
          1477.35,
          1650.12,
          288.20000000000005,
          86.99,
          88.66,
          113.499,
          1040.2,
          659.95,
          1316.55,
          305.095,
          2053.829,
          99.47,
          224.8,
          197.98000000000002,
          378.45000000000005,
          1553.94,
          440.29,
          682.12,
          1827.7800000000002,
          282.19,
          3209.69,
          543.811,
          478.1,
          260.69,
          2323.8230000000003,
          883.44,
          542.91,
          92,
          4171.644,
          578.248,
          1090.199,
          90.999,
          1007.949,
          191.299,
          312.879,
          410.27,
          411.89,
          2257.95,
          763.088,
          775.9780000000001,
          959.091,
          2125.764,
          239.53,
          1174.7,
          229.24099999999999,
          170.597,
          614,
          1062.203,
          666.998,
          158.19,
          1113.985,
          83.89,
          5735.536,
          97.5,
          1372.26,
          251.67000000000002,
          337.84000000000003,
          1207.013,
          2988.2650000000003,
          4019.7700000000004,
          993.533,
          91.99000000000001,
          1630.1,
          225.5,
          568.169,
          589.4,
          610.9200000000001,
          411.96,
          968,
          1571.24,
          1490.95,
          1700.978,
          982.211,
          310.154,
          604.542,
          84.19,
          487.88,
          251.998,
          116.7,
          1521,
          3982.392,
          1062.446,
          995.435,
          97,
          83.9,
          243.615,
          455.89000000000004,
          2142.15,
          1748.7,
          1137.5900000000001,
          91.78,
          2090.3,
          486.586,
          525,
          95.998,
          471.3,
          304.38,
          1470.51,
          545.8870000000001,
          417.88,
          113,
          1726.9630000000002,
          570.183,
          371.909,
          2162.076,
          1169.89,
          189.409,
          106.99,
          1102.495,
          1242.101,
          795.5050000000001,
          94.889,
          1195.9,
          98,
          17543.657,
          590.896,
          211.53,
          399.8,
          104.8,
          3607.5,
          1720.73,
          4237.911,
          97.57,
          740.2900000000001,
          1637.9700000000003,
          847.85,
          346.1,
          798.329,
          260.88,
          1913.13,
          2024.364,
          2083.731,
          13317.45,
          410.224,
          401.51,
          1299.316,
          441.618,
          766.66,
          89,
          81.09,
          1242.073,
          89.449,
          3874.6550000000007,
          1424.393,
          251.4,
          158.39600000000002,
          112.89,
          985.041,
          81.463,
          2256.818,
          1029.671,
          363.53,
          201.54000000000002,
          277,
          289,
          186.1,
          507.78000000000003,
          91.77,
          520.8,
          103.4,
          421.668,
          101.98,
          159.264,
          139.4,
          174.85,
          82,
          807.51,
          4280.895,
          2829.4710000000005,
          82.999,
          2140.6400000000003,
          616.28,
          2703.6000000000004,
          109.483,
          289.96000000000004,
          691.24,
          739.62,
          104.2,
          470.059,
          1545.1000000000001,
          329.498,
          1058.77,
          428.87,
          1173.18,
          831.884,
          104.34,
          1515.2,
          840.26,
          2388.768,
          1668.49,
          99.9,
          333.49,
          427.979,
          4214.26,
          1385.787,
          2270.82,
          264.12,
          81.99,
          258.39,
          436.766,
          1455.16,
          1521.42,
          2480.968,
          89.9,
          216.99,
          99.99000000000001,
          816.196,
          805.4,
          2876.8,
          151.959,
          658.173,
          163.241,
          172.12,
          119.78,
          854.4300000000001,
          2957.19,
          429.969,
          2381.005,
          1485.46,
          1167.991,
          689.5,
          819.4,
          228.9,
          309.6,
          2209.002,
          126.49700000000001,
          7556.849,
          1002.79,
          87.281,
          2219.389,
          92.4,
          99.98,
          1034.7,
          121.43,
          135.9,
          3381.5240000000003,
          2906.369,
          85.5,
          94.8,
          954.904,
          525.22,
          93.919,
          1099.67,
          1530.9,
          110.98,
          194.198,
          1352.587,
          98.32,
          562.9,
          760.738,
          448.82000000000005,
          487.499,
          173.58,
          96.976,
          1424.176,
          517.86,
          1225.482,
          651.49,
          3938.077,
          541.96,
          91.99000000000001,
          528.977,
          372.33,
          1030.76,
          243.283,
          1839.09,
          842.15,
          1410.48,
          2195.591,
          3322.6440000000002,
          104.6,
          92,
          5604.374,
          1876.58,
          336.88,
          1227.767,
          1204.7350000000001,
          107.775,
          552,
          1994.4180000000001,
          988,
          454.20000000000005,
          329.67,
          456.85,
          126.7,
          101.408,
          488.43,
          724.8800000000001,
          963.81,
          466.59900000000005,
          998.74,
          1675.499,
          365.887,
          88.59,
          156.092,
          1624.98,
          92,
          596,
          618.9449999999999,
          212.264,
          94.247,
          542.294,
          106.899,
          2104.3469999999998,
          2158.685,
          85.99,
          780.75,
          1579.8690000000001,
          263.73,
          88.99,
          1094.142,
          88.6,
          253.174,
          792.482,
          874.9,
          219.614,
          1581.105,
          188.6,
          91.768,
          190.7,
          166.6,
          472.494,
          265.69,
          149.998,
          92.58,
          280.975,
          866.598,
          2292.415,
          101.98,
          80.69,
          519.954,
          958.399,
          99.8,
          88.5,
          84.1,
          87.5,
          1348.469,
          2410.42,
          8240.989000000001,
          361,
          1739,
          1242.4,
          609.436,
          1704.255,
          3141.242,
          1261.241,
          493.86,
          95.998,
          2314.172,
          1602.478,
          913.59,
          2578.3810000000003,
          758.226,
          424.13,
          87.999,
          153.952,
          601.2,
          434.8,
          3196.0950000000003,
          288.159,
          205.2,
          89.48,
          472.37,
          1537.5900000000001,
          1479.31,
          396,
          376.13,
          3620.063,
          100.289,
          166.27,
          97.4,
          2008.83,
          1648.06,
          1108.68,
          486.14099999999996,
          639.39,
          379.725,
          102.99000000000001,
          1146.866,
          93,
          262.162,
          1935.087,
          589.399,
          758.29,
          803.9300000000001,
          89.554,
          449.194,
          1783.585,
          1130.42,
          1841.67,
          136,
          321.095,
          95.5,
          609.4300000000001,
          81.19,
          611.6600000000001,
          292.767,
          129.5,
          1524.52,
          238.83100000000002,
          380.937,
          1999.88,
          1864.4120000000003,
          1567.62,
          1687,
          1832.97,
          1408.5900000000001,
          174.498,
          112.4,
          97.62,
          1907.19,
          94.651,
          268.088,
          1788.6100000000001,
          87.29,
          2876.034,
          1657.095,
          257.5,
          427,
          332.8,
          6733.06,
          430.48900000000003,
          1207.688,
          568.669,
          2296.6940000000004,
          969.71,
          2176.24,
          255,
          1809.72,
          1560.28,
          1179.2,
          113.5,
          108.95,
          1669.501,
          1073.26,
          15694.553,
          285.395,
          2703,
          1854.017,
          163.94,
          1119.8000000000002,
          171.7,
          2911.17,
          702.985,
          100.96000000000001,
          1404.97,
          111.5,
          1179.9,
          891.995,
          1831.987,
          81.3,
          439.233,
          2026.23,
          5261.5,
          1484.78,
          87.5,
          348.7,
          97.394,
          255.2,
          2073.365,
          1075.057,
          1344.976,
          173.19,
          302.37,
          99.9,
          145,
          8808.455000000002,
          355.492,
          1910.505,
          87.97,
          1363.364,
          886.215,
          1396,
          3571.014,
          185.29,
          680.52,
          431.66,
          209.9,
          1144.5,
          1823.93,
          318.31,
          2468.2870000000003,
          1998.1779999999999,
          344.78,
          517.65,
          216.82,
          1515.798,
          345.639,
          646.26,
          264.593,
          1481.08,
          5581.769,
          1761.223,
          177.5,
          183.76000000000002,
          735.2,
          445.90999999999997,
          1125.8600000000001,
          821.296,
          468.78,
          91.78,
          622.63,
          717.3900000000001,
          1646.222,
          189.44,
          864.39,
          472.25,
          770.876,
          93.06,
          1770.508,
          240.35000000000002,
          2726.547,
          950.36,
          185.89,
          1973.368,
          978.8900000000001,
          298.59000000000003,
          180.279,
          101.8,
          2079.474,
          611.3,
          166.1,
          1504.68,
          166.26,
          848.75,
          1887.7640000000001,
          664.495,
          314.55,
          562.1500000000001,
          83.499,
          96,
          495.17,
          93.48,
          2744.156,
          775.409,
          482.743,
          678.1,
          341.98,
          1630.75,
          137.8,
          97.3,
          3390.809,
          2646.593,
          1610.699,
          2248.571,
          128.9,
          258.97,
          997.39,
          374.145,
          3919.9670000000006,
          572.759,
          95.796,
          822.43,
          81.89,
          80.65,
          334.299,
          634.3,
          403.5,
          910.7,
          631.676,
          554.435,
          12655.553,
          328.5,
          210.107,
          429.4,
          902.332,
          10931.42,
          482.25800000000004,
          3021.9930000000004,
          82.99,
          152.828,
          1553.115,
          516,
          702.16,
          2020.271,
          1354.16,
          258.57,
          93.5,
          103,
          350.95,
          1100.979,
          826.53,
          587.841,
          277.7,
          2092.248,
          87.999,
          1325.63,
          307.8,
          1519.208,
          103.98,
          737.36,
          90.8,
          87.9,
          1394.95,
          2247.1980000000003,
          1688.022,
          104.99000000000001,
          511.5,
          1598.83,
          259.898,
          978.17,
          2404.26,
          6680.178,
          2530.906,
          309.66,
          342.911,
          2322.352,
          1801.348,
          4534.895,
          1612.5,
          84.74,
          2674.2799999999997,
          90.2,
          697.64,
          256.56,
          2395.05,
          1653.795,
          95.99000000000001,
          90.3,
          165.1,
          958.1300000000001,
          84.8,
          105.1,
          1546.313,
          1240.159,
          93.989,
          1553,
          80.76,
          661.02,
          587.83,
          82.25,
          124.59,
          480.95,
          416.496,
          355.933,
          164.95,
          104.98,
          80.825,
          423.76,
          1192.6,
          84.898,
          487.745,
          82.49,
          83.99,
          435.97,
          631.91,
          335.8,
          108.99,
          275.97,
          98.1,
          1457.89,
          546.315,
          3038.32,
          194.79500000000002,
          1561.0700000000002,
          87.99,
          82.499,
          520.4,
          110.373,
          158.989,
          1641.1,
          248.74,
          530.45,
          2072.2,
          1397.772,
          259.95,
          251.17,
          100.8,
          85.799,
          87.49,
          2432.099,
          2477.584,
          962.274,
          21647.292,
          258.27,
          1397.173,
          84.3,
          1043.8700000000001,
          1212.44,
          878.1,
          409.6,
          541.715,
          910.4,
          102.39,
          240.289,
          1739.03,
          103.76,
          414.859,
          4746.51,
          88.95400000000001,
          1395,
          688,
          1788.542,
          792.988,
          410.20000000000005,
          89.9,
          1296.274,
          751.496,
          1394.6,
          5378.517,
          97.899,
          7109.328,
          133.8,
          739.376,
          2080.583,
          421.98800000000006,
          1166.853,
          600.7,
          327.95500000000004,
          90.7,
          1025.18,
          534.354,
          326.147,
          1051.89,
          2766.179,
          85.58,
          258.254,
          207.56,
          1372.27,
          97,
          406.54,
          120.96000000000001,
          1173.987,
          833.99,
          95,
          840.5,
          422.26,
          1403.0900000000001,
          2043.058,
          87.05,
          198.89000000000001,
          1935.31,
          304.20000000000005,
          917.88,
          1065.379,
          95.179,
          531.39,
          1501.1100000000001,
          129.5,
          1162.55,
          949.19,
          665.903,
          244.98000000000002,
          1367.814,
          630,
          334.8,
          90.9,
          88.998,
          82.29,
          483.89,
          125.46000000000001,
          745.845,
          363.29200000000003,
          418.98,
          927,
          2144.6,
          272.96,
          737.868,
          1902.6,
          2297.57,
          403.82,
          592,
          227.4,
          382.166,
          2019.4,
          590.89,
          2174.4300000000003,
          1165.81,
          546.5699999999999,
          821.9200000000001,
          1176.6,
          404.899,
          188.46,
          765.46,
          1214.83,
          95.99000000000001,
          826,
          89.79,
          3451.2900000000004,
          419.254,
          1020,
          2733.6000000000004,
          644.94,
          139.95,
          448,
          4029.9690000000005,
          1793.04,
          610.39,
          295.89,
          120.5,
          270.828,
          678.889,
          83.5,
          91.99000000000001,
          289.491,
          95.36,
          84.497,
          85.19,
          2002.901,
          87.99,
          88.999,
          99.967,
          510.219,
          287.98,
          363,
          3800.51,
          268.7,
          80.9,
          98.6,
          350.894,
          98.47,
          309.626,
          344.06,
          283.78,
          570.777,
          85.99,
          1046.5590000000002,
          1090.6100000000001,
          426.97,
          24387.263000000003,
          106.9,
          2457.311,
          86.19,
          1638.66,
          126.846,
          102.99000000000001,
          139.96,
          599.3,
          258.3,
          1047.1,
          396.9,
          333.95,
          332.28000000000003,
          800.8779999999999,
          849.95,
          666.99,
          1691.6779999999999,
          380.05,
          983.496,
          198.964,
          88.99,
          1917.5500000000002,
          99.48,
          2086.98,
          1298,
          1153.72,
          1840.3000000000002,
          98,
          288.96000000000004,
          5718.740000000001,
          326,
          1857.478,
          423.995,
          1810.37,
          2185.609,
          528.515,
          411.98,
          137,
          665.918,
          252.596,
          330.899,
          1178.267,
          1978.57,
          2666.259,
          812.027,
          1231.8,
          500.46000000000004,
          808.55,
          438.88,
          1953.3390000000002,
          337.199,
          125.45,
          1445.54,
          105.99,
          938.2180000000001,
          96.81,
          94.99000000000001,
          703.77,
          707.4,
          2265.718,
          87.98,
          724.2,
          910.6800000000001,
          660.75,
          2544.8280000000004,
          2109.87,
          1075.55,
          597.146,
          931.6,
          181.99,
          263.559,
          225.10399999999998,
          2155.0060000000003,
          1487.976,
          471.92,
          821.9000000000001,
          2884.084,
          713.48,
          200.41,
          82.99,
          118.898,
          261.32,
          176.195,
          100.9,
          864.953,
          196.5,
          476.519,
          356.15999999999997,
          1695.989,
          103.92,
          2414.87,
          81.89,
          217.579,
          733.993,
          465.5,
          907.8870000000001,
          2593.784,
          87.5,
          15016.855,
          581.962,
          412.06,
          419.861,
          2017.728,
          364,
          243.493,
          614.8,
          92.57,
          694.6400000000001,
          87.99,
          81.99,
          89.025,
          294.675,
          687.5,
          83.25,
          906.3,
          886.471,
          172.75,
          94,
          111.88,
          1780.839,
          3690.857,
          725.989,
          168.05,
          11710.116000000002,
          731.48,
          364.495,
          187.85,
          104.64,
          273.989,
          992.674,
          90.086,
          1012.838,
          138.657,
          252.46,
          2174.8630000000003,
          916.1400000000001,
          340.094,
          289,
          243.649,
          751.95,
          672.95,
          85.9,
          958.25,
          93.38,
          109.66,
          988.378,
          1647.956,
          82.392,
          2383.888,
          669,
          627.2,
          1715.4700000000003,
          2008.475,
          98.99000000000001,
          88.79,
          523.8,
          83.5,
          667.758,
          729.1,
          356.51,
          995.25,
          84.97,
          740.359,
          84.19,
          586.49,
          686.14,
          98.9,
          386.79,
          1117,
          2427.74,
          846.977,
          98.999,
          185.16,
          269.85,
          88.99,
          1084.645,
          2590.95,
          266.17,
          92.99000000000001,
          82.39,
          518.8,
          2460.55,
          4294.421,
          1019.3,
          85.9,
          1582.977,
          94.9,
          1838.71,
          2038.868,
          598.823,
          809.696,
          82.19,
          4326.201999999999,
          1417.9940000000001,
          1046.342,
          86,
          1099.9,
          790.415,
          81.49,
          85.9,
          931.89,
          86.099,
          219.997,
          718.2,
          428.95,
          84.152,
          1143.674,
          1729.6,
          95,
          107.9,
          781.424,
          485.19,
          864.5699999999999,
          193.5,
          649.482,
          866.671,
          132,
          95.375,
          1425.634,
          927.729,
          82.99,
          1822.0880000000002,
          180.06,
          1768.5,
          6652.56,
          113.696,
          276.98,
          1322.03,
          1071.483,
          82.23,
          1484.3000000000002,
          799.359,
          340.8,
          1707.279,
          82.879,
          112.07000000000001,
          138.55599999999998,
          1894.1570000000002,
          387.716,
          872.9200000000001,
          85.98,
          206.4,
          88.999,
          994.57,
          221.6,
          96.79,
          2247.829,
          105.96000000000001,
          3562.9150000000004,
          126.6,
          1846.8000000000002,
          157.89,
          456.059,
          158.49,
          1491.3700000000001,
          747.875,
          89.48,
          2029.3690000000001,
          1079.399,
          301.49800000000005,
          2382.24,
          431.288,
          617.23,
          6321.900000000001,
          1095.2,
          195.284,
          841.21,
          755.9929999999999,
          339,
          119.9,
          724.725,
          544.5,
          660.835,
          88.9,
          408.01,
          312.909,
          200.96,
          222.69,
          425.87,
          94.1,
          4685.853,
          83.87,
          657.125,
          769.74,
          1499.9969999999998,
          348.5,
          233.11,
          340.73,
          1174.9,
          155.9,
          643.45,
          99.6,
          2727.65,
          1149.228,
          349.96,
          81.25,
          279.7,
          677.3979999999999,
          190.68,
          251.87,
          83.99,
          1365.436,
          731.2,
          2422.38,
          339,
          192.429,
          984.8,
          1810.628,
          1652.4630000000002,
          83.299,
          513.49,
          257.64,
          278.7,
          93.9,
          5862.89,
          753.393,
          1512.72,
          1061.675,
          635.6610000000001,
          139.98,
          1586.2,
          1825.77,
          397.98900000000003,
          82.59,
          874.89,
          14651.119,
          83.99,
          99.999,
          475.5,
          90.515,
          1003.3000000000001,
          759.128,
          2788.1400000000003,
          1386.851,
          702.977,
          431.451,
          4719.465,
          507.42,
          1172.228,
          544.9300000000001,
          910.859,
          1185.2,
          1933.8200000000002,
          208.7,
          1604.12,
          268.14,
          934.2950000000001,
          84.49,
          98.9,
          99.998,
          282.898,
          888.646,
          86.659,
          188.95,
          258.76800000000003,
          1890.3000000000002,
          600.73,
          158.98000000000002,
          2716.23,
          427.639,
          2096.901,
          82.99,
          643.4,
          84.99,
          2673.825,
          3778.253,
          1054.85,
          87.99,
          135,
          891.4,
          545.707,
          690.734,
          119.237,
          2145.8,
          179.18,
          368.45,
          94.97,
          1686.14,
          1155.3899999999999,
          156.5,
          1846.424,
          585.28,
          257.99,
          225.8,
          2909.987,
          84.999,
          1903,
          82.98,
          1418.3,
          413.95,
          340.266,
          80.99,
          131.2,
          7156.3240000000005,
          2086.257,
          1675.72,
          111.99,
          87.68,
          1286.24,
          99.8,
          201.15,
          1290.83,
          164.77800000000002,
          648.27,
          1283.1,
          436.88,
          181.5,
          2251.7,
          81.2,
          87.6,
          153.76999999999998,
          178.998,
          130.438,
          1100.781,
          926.71,
          1307,
          252.05,
          94.9,
          1143.634,
          2069.231,
          3093.143,
          270.1,
          733.375,
          1168.15,
          857.827,
          1968,
          251.989,
          1238.805,
          829.48,
          87.97,
          1190.5900000000001,
          373.97,
          385.96000000000004,
          987.349,
          237.656,
          509.47,
          1265.018,
          93.599,
          336.688,
          87,
          87,
          428.404,
          4053.7369999999996,
          291.767,
          381.799,
          85.93,
          179.95,
          433.45,
          80.999,
          95.59,
          110.689,
          347.55,
          1229.87,
          917.771,
          109.9,
          1575.1950000000002,
          82.63,
          95.8,
          1208.9,
          455.004,
          429.7,
          81.25
         ],
         "yaxis": "y"
        }
       ],
       "layout": {
        "legend": {
         "tracegroupgap": 0
        },
        "margin": {
         "t": 60
        },
        "template": {
         "data": {
          "bar": [
           {
            "error_x": {
             "color": "#2a3f5f"
            },
            "error_y": {
             "color": "#2a3f5f"
            },
            "marker": {
             "line": {
              "color": "#E5ECF6",
              "width": 0.5
             },
             "pattern": {
              "fillmode": "overlay",
              "size": 10,
              "solidity": 0.2
             }
            },
            "type": "bar"
           }
          ],
          "barpolar": [
           {
            "marker": {
             "line": {
              "color": "#E5ECF6",
              "width": 0.5
             },
             "pattern": {
              "fillmode": "overlay",
              "size": 10,
              "solidity": 0.2
             }
            },
            "type": "barpolar"
           }
          ],
          "carpet": [
           {
            "aaxis": {
             "endlinecolor": "#2a3f5f",
             "gridcolor": "white",
             "linecolor": "white",
             "minorgridcolor": "white",
             "startlinecolor": "#2a3f5f"
            },
            "baxis": {
             "endlinecolor": "#2a3f5f",
             "gridcolor": "white",
             "linecolor": "white",
             "minorgridcolor": "white",
             "startlinecolor": "#2a3f5f"
            },
            "type": "carpet"
           }
          ],
          "choropleth": [
           {
            "colorbar": {
             "outlinewidth": 0,
             "ticks": ""
            },
            "type": "choropleth"
           }
          ],
          "contour": [
           {
            "colorbar": {
             "outlinewidth": 0,
             "ticks": ""
            },
            "colorscale": [
             [
              0,
              "#0d0887"
             ],
             [
              0.1111111111111111,
              "#46039f"
             ],
             [
              0.2222222222222222,
              "#7201a8"
             ],
             [
              0.3333333333333333,
              "#9c179e"
             ],
             [
              0.4444444444444444,
              "#bd3786"
             ],
             [
              0.5555555555555556,
              "#d8576b"
             ],
             [
              0.6666666666666666,
              "#ed7953"
             ],
             [
              0.7777777777777778,
              "#fb9f3a"
             ],
             [
              0.8888888888888888,
              "#fdca26"
             ],
             [
              1,
              "#f0f921"
             ]
            ],
            "type": "contour"
           }
          ],
          "contourcarpet": [
           {
            "colorbar": {
             "outlinewidth": 0,
             "ticks": ""
            },
            "type": "contourcarpet"
           }
          ],
          "heatmap": [
           {
            "colorbar": {
             "outlinewidth": 0,
             "ticks": ""
            },
            "colorscale": [
             [
              0,
              "#0d0887"
             ],
             [
              0.1111111111111111,
              "#46039f"
             ],
             [
              0.2222222222222222,
              "#7201a8"
             ],
             [
              0.3333333333333333,
              "#9c179e"
             ],
             [
              0.4444444444444444,
              "#bd3786"
             ],
             [
              0.5555555555555556,
              "#d8576b"
             ],
             [
              0.6666666666666666,
              "#ed7953"
             ],
             [
              0.7777777777777778,
              "#fb9f3a"
             ],
             [
              0.8888888888888888,
              "#fdca26"
             ],
             [
              1,
              "#f0f921"
             ]
            ],
            "type": "heatmap"
           }
          ],
          "heatmapgl": [
           {
            "colorbar": {
             "outlinewidth": 0,
             "ticks": ""
            },
            "colorscale": [
             [
              0,
              "#0d0887"
             ],
             [
              0.1111111111111111,
              "#46039f"
             ],
             [
              0.2222222222222222,
              "#7201a8"
             ],
             [
              0.3333333333333333,
              "#9c179e"
             ],
             [
              0.4444444444444444,
              "#bd3786"
             ],
             [
              0.5555555555555556,
              "#d8576b"
             ],
             [
              0.6666666666666666,
              "#ed7953"
             ],
             [
              0.7777777777777778,
              "#fb9f3a"
             ],
             [
              0.8888888888888888,
              "#fdca26"
             ],
             [
              1,
              "#f0f921"
             ]
            ],
            "type": "heatmapgl"
           }
          ],
          "histogram": [
           {
            "marker": {
             "pattern": {
              "fillmode": "overlay",
              "size": 10,
              "solidity": 0.2
             }
            },
            "type": "histogram"
           }
          ],
          "histogram2d": [
           {
            "colorbar": {
             "outlinewidth": 0,
             "ticks": ""
            },
            "colorscale": [
             [
              0,
              "#0d0887"
             ],
             [
              0.1111111111111111,
              "#46039f"
             ],
             [
              0.2222222222222222,
              "#7201a8"
             ],
             [
              0.3333333333333333,
              "#9c179e"
             ],
             [
              0.4444444444444444,
              "#bd3786"
             ],
             [
              0.5555555555555556,
              "#d8576b"
             ],
             [
              0.6666666666666666,
              "#ed7953"
             ],
             [
              0.7777777777777778,
              "#fb9f3a"
             ],
             [
              0.8888888888888888,
              "#fdca26"
             ],
             [
              1,
              "#f0f921"
             ]
            ],
            "type": "histogram2d"
           }
          ],
          "histogram2dcontour": [
           {
            "colorbar": {
             "outlinewidth": 0,
             "ticks": ""
            },
            "colorscale": [
             [
              0,
              "#0d0887"
             ],
             [
              0.1111111111111111,
              "#46039f"
             ],
             [
              0.2222222222222222,
              "#7201a8"
             ],
             [
              0.3333333333333333,
              "#9c179e"
             ],
             [
              0.4444444444444444,
              "#bd3786"
             ],
             [
              0.5555555555555556,
              "#d8576b"
             ],
             [
              0.6666666666666666,
              "#ed7953"
             ],
             [
              0.7777777777777778,
              "#fb9f3a"
             ],
             [
              0.8888888888888888,
              "#fdca26"
             ],
             [
              1,
              "#f0f921"
             ]
            ],
            "type": "histogram2dcontour"
           }
          ],
          "mesh3d": [
           {
            "colorbar": {
             "outlinewidth": 0,
             "ticks": ""
            },
            "type": "mesh3d"
           }
          ],
          "parcoords": [
           {
            "line": {
             "colorbar": {
              "outlinewidth": 0,
              "ticks": ""
             }
            },
            "type": "parcoords"
           }
          ],
          "pie": [
           {
            "automargin": true,
            "type": "pie"
           }
          ],
          "scatter": [
           {
            "marker": {
             "colorbar": {
              "outlinewidth": 0,
              "ticks": ""
             }
            },
            "type": "scatter"
           }
          ],
          "scatter3d": [
           {
            "line": {
             "colorbar": {
              "outlinewidth": 0,
              "ticks": ""
             }
            },
            "marker": {
             "colorbar": {
              "outlinewidth": 0,
              "ticks": ""
             }
            },
            "type": "scatter3d"
           }
          ],
          "scattercarpet": [
           {
            "marker": {
             "colorbar": {
              "outlinewidth": 0,
              "ticks": ""
             }
            },
            "type": "scattercarpet"
           }
          ],
          "scattergeo": [
           {
            "marker": {
             "colorbar": {
              "outlinewidth": 0,
              "ticks": ""
             }
            },
            "type": "scattergeo"
           }
          ],
          "scattergl": [
           {
            "marker": {
             "colorbar": {
              "outlinewidth": 0,
              "ticks": ""
             }
            },
            "type": "scattergl"
           }
          ],
          "scattermapbox": [
           {
            "marker": {
             "colorbar": {
              "outlinewidth": 0,
              "ticks": ""
             }
            },
            "type": "scattermapbox"
           }
          ],
          "scatterpolar": [
           {
            "marker": {
             "colorbar": {
              "outlinewidth": 0,
              "ticks": ""
             }
            },
            "type": "scatterpolar"
           }
          ],
          "scatterpolargl": [
           {
            "marker": {
             "colorbar": {
              "outlinewidth": 0,
              "ticks": ""
             }
            },
            "type": "scatterpolargl"
           }
          ],
          "scatterternary": [
           {
            "marker": {
             "colorbar": {
              "outlinewidth": 0,
              "ticks": ""
             }
            },
            "type": "scatterternary"
           }
          ],
          "surface": [
           {
            "colorbar": {
             "outlinewidth": 0,
             "ticks": ""
            },
            "colorscale": [
             [
              0,
              "#0d0887"
             ],
             [
              0.1111111111111111,
              "#46039f"
             ],
             [
              0.2222222222222222,
              "#7201a8"
             ],
             [
              0.3333333333333333,
              "#9c179e"
             ],
             [
              0.4444444444444444,
              "#bd3786"
             ],
             [
              0.5555555555555556,
              "#d8576b"
             ],
             [
              0.6666666666666666,
              "#ed7953"
             ],
             [
              0.7777777777777778,
              "#fb9f3a"
             ],
             [
              0.8888888888888888,
              "#fdca26"
             ],
             [
              1,
              "#f0f921"
             ]
            ],
            "type": "surface"
           }
          ],
          "table": [
           {
            "cells": {
             "fill": {
              "color": "#EBF0F8"
             },
             "line": {
              "color": "white"
             }
            },
            "header": {
             "fill": {
              "color": "#C8D4E3"
             },
             "line": {
              "color": "white"
             }
            },
            "type": "table"
           }
          ]
         },
         "layout": {
          "annotationdefaults": {
           "arrowcolor": "#2a3f5f",
           "arrowhead": 0,
           "arrowwidth": 1
          },
          "autotypenumbers": "strict",
          "coloraxis": {
           "colorbar": {
            "outlinewidth": 0,
            "ticks": ""
           }
          },
          "colorscale": {
           "diverging": [
            [
             0,
             "#8e0152"
            ],
            [
             0.1,
             "#c51b7d"
            ],
            [
             0.2,
             "#de77ae"
            ],
            [
             0.3,
             "#f1b6da"
            ],
            [
             0.4,
             "#fde0ef"
            ],
            [
             0.5,
             "#f7f7f7"
            ],
            [
             0.6,
             "#e6f5d0"
            ],
            [
             0.7,
             "#b8e186"
            ],
            [
             0.8,
             "#7fbc41"
            ],
            [
             0.9,
             "#4d9221"
            ],
            [
             1,
             "#276419"
            ]
           ],
           "sequential": [
            [
             0,
             "#0d0887"
            ],
            [
             0.1111111111111111,
             "#46039f"
            ],
            [
             0.2222222222222222,
             "#7201a8"
            ],
            [
             0.3333333333333333,
             "#9c179e"
            ],
            [
             0.4444444444444444,
             "#bd3786"
            ],
            [
             0.5555555555555556,
             "#d8576b"
            ],
            [
             0.6666666666666666,
             "#ed7953"
            ],
            [
             0.7777777777777778,
             "#fb9f3a"
            ],
            [
             0.8888888888888888,
             "#fdca26"
            ],
            [
             1,
             "#f0f921"
            ]
           ],
           "sequentialminus": [
            [
             0,
             "#0d0887"
            ],
            [
             0.1111111111111111,
             "#46039f"
            ],
            [
             0.2222222222222222,
             "#7201a8"
            ],
            [
             0.3333333333333333,
             "#9c179e"
            ],
            [
             0.4444444444444444,
             "#bd3786"
            ],
            [
             0.5555555555555556,
             "#d8576b"
            ],
            [
             0.6666666666666666,
             "#ed7953"
            ],
            [
             0.7777777777777778,
             "#fb9f3a"
            ],
            [
             0.8888888888888888,
             "#fdca26"
            ],
            [
             1,
             "#f0f921"
            ]
           ]
          },
          "colorway": [
           "#636efa",
           "#EF553B",
           "#00cc96",
           "#ab63fa",
           "#FFA15A",
           "#19d3f3",
           "#FF6692",
           "#B6E880",
           "#FF97FF",
           "#FECB52"
          ],
          "font": {
           "color": "#2a3f5f"
          },
          "geo": {
           "bgcolor": "white",
           "lakecolor": "white",
           "landcolor": "#E5ECF6",
           "showlakes": true,
           "showland": true,
           "subunitcolor": "white"
          },
          "hoverlabel": {
           "align": "left"
          },
          "hovermode": "closest",
          "mapbox": {
           "style": "light"
          },
          "paper_bgcolor": "white",
          "plot_bgcolor": "#E5ECF6",
          "polar": {
           "angularaxis": {
            "gridcolor": "white",
            "linecolor": "white",
            "ticks": ""
           },
           "bgcolor": "#E5ECF6",
           "radialaxis": {
            "gridcolor": "white",
            "linecolor": "white",
            "ticks": ""
           }
          },
          "scene": {
           "xaxis": {
            "backgroundcolor": "#E5ECF6",
            "gridcolor": "white",
            "gridwidth": 2,
            "linecolor": "white",
            "showbackground": true,
            "ticks": "",
            "zerolinecolor": "white"
           },
           "yaxis": {
            "backgroundcolor": "#E5ECF6",
            "gridcolor": "white",
            "gridwidth": 2,
            "linecolor": "white",
            "showbackground": true,
            "ticks": "",
            "zerolinecolor": "white"
           },
           "zaxis": {
            "backgroundcolor": "#E5ECF6",
            "gridcolor": "white",
            "gridwidth": 2,
            "linecolor": "white",
            "showbackground": true,
            "ticks": "",
            "zerolinecolor": "white"
           }
          },
          "shapedefaults": {
           "line": {
            "color": "#2a3f5f"
           }
          },
          "ternary": {
           "aaxis": {
            "gridcolor": "white",
            "linecolor": "white",
            "ticks": ""
           },
           "baxis": {
            "gridcolor": "white",
            "linecolor": "white",
            "ticks": ""
           },
           "bgcolor": "#E5ECF6",
           "caxis": {
            "gridcolor": "white",
            "linecolor": "white",
            "ticks": ""
           }
          },
          "title": {
           "x": 0.05
          },
          "xaxis": {
           "automargin": true,
           "gridcolor": "white",
           "linecolor": "white",
           "ticks": "",
           "title": {
            "standoff": 15
           },
           "zerolinecolor": "white",
           "zerolinewidth": 2
          },
          "yaxis": {
           "automargin": true,
           "gridcolor": "white",
           "linecolor": "white",
           "ticks": "",
           "title": {
            "standoff": 15
           },
           "zerolinecolor": "white",
           "zerolinewidth": 2
          }
         }
        },
        "xaxis": {
         "anchor": "y",
         "domain": [
          0,
          1
         ],
         "title": {
          "text": "num_months"
         }
        },
        "yaxis": {
         "anchor": "x",
         "domain": [
          0,
          1
         ],
         "title": {
          "text": "olist_revenue"
         }
        }
       }
      },
      "text/html": [
       "<div>                            <div id=\"ffa3aa1b-fd65-4a9f-8b20-7ab668ae07f3\" class=\"plotly-graph-div\" style=\"height:525px; width:100%;\"></div>            <script type=\"text/javascript\">                require([\"plotly\"], function(Plotly) {                    window.PLOTLYENV=window.PLOTLYENV || {};                                    if (document.getElementById(\"ffa3aa1b-fd65-4a9f-8b20-7ab668ae07f3\")) {                    Plotly.newPlot(                        \"ffa3aa1b-fd65-4a9f-8b20-7ab668ae07f3\",                        [{\"hovertemplate\":\"num_months=%{x}<br>olist_revenue=%{y}<extra></extra>\",\"legendgroup\":\"\",\"marker\":{\"color\":\"#636efa\",\"symbol\":\"circle\"},\"mode\":\"markers\",\"name\":\"\",\"showlegend\":false,\"type\":\"scattergl\",\"x\":[4.0,15.0,1.0,1.0,1.0,1.0,18.0,11.0,3.0,20.0,3.0,2.0,20.0,1.0,4.0,1.0,1.0,12.0,8.0,2.0,4.0,9.0,23.0,7.0,8.0,19.0,10.0,7.0,10.0,6.0,2.0,1.0,7.0,12.0,17.0,1.0,1.0,7.0,11.0,14.0,10.0,1.0,3.0,2.0,1.0,16.0,1.0,10.0,1.0,5.0,8.0,13.0,9.0,3.0,9.0,3.0,15.0,1.0,7.0,1.0,15.0,6.0,2.0,12.0,3.0,13.0,20.0,22.0,1.0,20.0,1.0,18.0,7.0,3.0,8.0,20.0,1.0,1.0,1.0,5.0,10.0,18.0,23.0,9.0,19.0,12.0,1.0,12.0,3.0,1.0,1.0,6.0,9.0,5.0,1.0,11.0,1.0,7.0,1.0,8.0,1.0,1.0,1.0,10.0,4.0,13.0,1.0,1.0,3.0,2.0,9.0,4.0,1.0,23.0,13.0,1.0,2.0,3.0,18.0,1.0,5.0,2.0,3.0,20.0,10.0,2.0,10.0,8.0,3.0,9.0,7.0,2.0,11.0,7.0,17.0,9.0,13.0,2.0,5.0,4.0,1.0,1.0,2.0,3.0,11.0,4.0,1.0,7.0,9.0,6.0,3.0,5.0,1.0,1.0,10.0,3.0,5.0,2.0,3.0,5.0,5.0,4.0,23.0,1.0,8.0,14.0,6.0,20.0,1.0,8.0,3.0,2.0,5.0,8.0,12.0,1.0,4.0,6.0,23.0,2.0,4.0,4.0,1.0,2.0,1.0,2.0,12.0,10.0,1.0,9.0,5.0,5.0,6.0,2.0,18.0,3.0,17.0,13.0,3.0,17.0,1.0,10.0,16.0,11.0,7.0,6.0,1.0,1.0,1.0,3.0,1.0,2.0,9.0,2.0,2.0,7.0,1.0,3.0,13.0,7.0,1.0,7.0,1.0,19.0,7.0,1.0,6.0,1.0,6.0,1.0,2.0,14.0,6.0,3.0,7.0,18.0,19.0,9.0,1.0,7.0,5.0,1.0,13.0,4.0,1.0,3.0,16.0,1.0,7.0,1.0,10.0,1.0,10.0,1.0,18.0,1.0,10.0,23.0,4.0,16.0,1.0,2.0,3.0,16.0,5.0,4.0,4.0,1.0,11.0,18.0,6.0,23.0,16.0,11.0,4.0,16.0,14.0,5.0,2.0,11.0,6.0,1.0,8.0,1.0,8.0,7.0,8.0,6.0,2.0,1.0,9.0,19.0,5.0,2.0,19.0,6.0,9.0,12.0,1.0,12.0,6.0,4.0,2.0,5.0,1.0,6.0,17.0,1.0,2.0,1.0,1.0,11.0,24.0,4.0,15.0,10.0,1.0,16.0,5.0,7.0,1.0,16.0,15.0,2.0,19.0,4.0,1.0,19.0,4.0,5.0,1.0,2.0,2.0,4.0,1.0,3.0,1.0,1.0,4.0,1.0,1.0,1.0,4.0,1.0,1.0,4.0,4.0,1.0,3.0,7.0,2.0,5.0,1.0,19.0,2.0,1.0,2.0,23.0,6.0,7.0,8.0,8.0,15.0,16.0,14.0,14.0,1.0,1.0,1.0,8.0,9.0,5.0,14.0,2.0,9.0,15.0,2.0,7.0,5.0,2.0,1.0,6.0,3.0,1.0,1.0,4.0,1.0,2.0,1.0,1.0,3.0,1.0,2.0,10.0,4.0,1.0,4.0,1.0,1.0,12.0,3.0,1.0,10.0,17.0,7.0,1.0,2.0,18.0,1.0,13.0,2.0,2.0,9.0,10.0,8.0,1.0,23.0,3.0,2.0,4.0,1.0,20.0,1.0,5.0,18.0,11.0,1.0,3.0,1.0,1.0,4.0,1.0,5.0,19.0,17.0,6.0,7.0,18.0,3.0,1.0,5.0,9.0,1.0,17.0,1.0,8.0,3.0,6.0,1.0,18.0,16.0,7.0,6.0,18.0,21.0,1.0,1.0,5.0,13.0,8.0,14.0,1.0,5.0,1.0,7.0,16.0,4.0,1.0,1.0,4.0,8.0,7.0,12.0,4.0,8.0,3.0,4.0,2.0,2.0,2.0,18.0,23.0,1.0,12.0,6.0,2.0,19.0,18.0,8.0,3.0,1.0,11.0,18.0,15.0,2.0,1.0,1.0,5.0,1.0,1.0,1.0,23.0,9.0,4.0,5.0,11.0,4.0,2.0,1.0,10.0,1.0,3.0,1.0,1.0,1.0,3.0,2.0,1.0,7.0,1.0,6.0,17.0,5.0,1.0,3.0,19.0,7.0,23.0,1.0,1.0,3.0,1.0,1.0,2.0,20.0,13.0,5.0,1.0,7.0,5.0,19.0,12.0,1.0,1.0,1.0,12.0,2.0,1.0,18.0,1.0,17.0,4.0,1.0,2.0,1.0,9.0,11.0,8.0,17.0,10.0,20.0,3.0,7.0,1.0,23.0,3.0,19.0,18.0,10.0,1.0,8.0,1.0,1.0,11.0,11.0,1.0,1.0,1.0,20.0,3.0,13.0,2.0,1.0,24.0,2.0,4.0,2.0,4.0,3.0,3.0,3.0,4.0,17.0,5.0,12.0,16.0,2.0,1.0,2.0,1.0,7.0,2.0,1.0,14.0,13.0,3.0,1.0,23.0,5.0,3.0,4.0,9.0,1.0,1.0,10.0,1.0,12.0,8.0,19.0,3.0,1.0,17.0,7.0,16.0,3.0,18.0,4.0,1.0,5.0,1.0,10.0,1.0,7.0,5.0,5.0,1.0,1.0,1.0,18.0,3.0,6.0,1.0,8.0,1.0,1.0,5.0,4.0,9.0,1.0,1.0,3.0,8.0,1.0,4.0,5.0,1.0,1.0,1.0,1.0,14.0,6.0,2.0,1.0,3.0,2.0,1.0,1.0,4.0,6.0,8.0,2.0,2.0,1.0,2.0,8.0,3.0,3.0,8.0,1.0,8.0,3.0,5.0,2.0,1.0,14.0,1.0,10.0,1.0,16.0,20.0,1.0,3.0,4.0,3.0,2.0,5.0,4.0,12.0,11.0,11.0,3.0,4.0,10.0,1.0,15.0,7.0,1.0,2.0,6.0,11.0,4.0,1.0,2.0,1.0,6.0,2.0,2.0,1.0,2.0,4.0,14.0,3.0,7.0,7.0,12.0,3.0,1.0,19.0,7.0,1.0,4.0,6.0,1.0,11.0,1.0,2.0,3.0,16.0,6.0,1.0,4.0,18.0,9.0,9.0,3.0,1.0,6.0,6.0,6.0,19.0,17.0,10.0,11.0,12.0,19.0,9.0,1.0,1.0,1.0,5.0,1.0,13.0,19.0,3.0,1.0,16.0,12.0,2.0,1.0,19.0,1.0,1.0,18.0,1.0,3.0,2.0,11.0,1.0,3.0,1.0,10.0,1.0,2.0,1.0,3.0,1.0,2.0,19.0,8.0,1.0,19.0,9.0,1.0,4.0,13.0,2.0,1.0,2.0,2.0,10.0,9.0,13.0,5.0,1.0,10.0,10.0,12.0,14.0,8.0,9.0,4.0,1.0,1.0,1.0,1.0,1.0,6.0,13.0,5.0,11.0,13.0,3.0,4.0,8.0,1.0,4.0,4.0,8.0,3.0,3.0,14.0,6.0,12.0,16.0,1.0,1.0,2.0,5.0,4.0,3.0,1.0,19.0,4.0,1.0,12.0,13.0,7.0,1.0,2.0,7.0,3.0,10.0,9.0,14.0,7.0,6.0,16.0,1.0,1.0,1.0,1.0,1.0,9.0,14.0,1.0,2.0,9.0,8.0,12.0,10.0,1.0,1.0,2.0,3.0,8.0,17.0,1.0,1.0,5.0,1.0,5.0,6.0,11.0,1.0,11.0,10.0,5.0,1.0,4.0,1.0,18.0,1.0,8.0,8.0,5.0,8.0,6.0,4.0,4.0,7.0,4.0,11.0,9.0,2.0,4.0,8.0,3.0,4.0,15.0,1.0,19.0,2.0,1.0,2.0,18.0,9.0,1.0,4.0,15.0,10.0,5.0,4.0,5.0,2.0,2.0,1.0,9.0,2.0,1.0,6.0,3.0,1.0,4.0,5.0,12.0,1.0,3.0,15.0,1.0,2.0,4.0,1.0,1.0,14.0,1.0,13.0,12.0,2.0,1.0,2.0,3.0,1.0,11.0,10.0,1.0,18.0,6.0,1.0,1.0,1.0,3.0,4.0,1.0,15.0,10.0,1.0,10.0,1.0,18.0,2.0,1.0,1.0,3.0,11.0,18.0,1.0,13.0,7.0,10.0,9.0,4.0,18.0,2.0,4.0,1.0,4.0,4.0,11.0,1.0,8.0,18.0,7.0,3.0,8.0,1.0,9.0,3.0,9.0,17.0,1.0,11.0,5.0,3.0,11.0,1.0,8.0,4.0,1.0,20.0,12.0,3.0,3.0,17.0,10.0,5.0,15.0,4.0,12.0,1.0,14.0,3.0,9.0,11.0,11.0,7.0,13.0,4.0,2.0,4.0,19.0,4.0,2.0,1.0,1.0,16.0,4.0,5.0,2.0,1.0,9.0,1.0,1.0,1.0,4.0,2.0,6.0,16.0,10.0,1.0,1.0,1.0,1.0,20.0,7.0,7.0,1.0,1.0,5.0,1.0,3.0,1.0,5.0,1.0,18.0,1.0,6.0,3.0,2.0,1.0,14.0,1.0,1.0,3.0,5.0,6.0,19.0,2.0,15.0,6.0,4.0,8.0,3.0,4.0,19.0,3.0,10.0,17.0,12.0,1.0,2.0,18.0,1.0,4.0,5.0,5.0,7.0,1.0,19.0,1.0,2.0,5.0,12.0,6.0,2.0,6.0,13.0,3.0,4.0,4.0,7.0,1.0,4.0,7.0,9.0,1.0,3.0,11.0,5.0,5.0,4.0,6.0,9.0,12.0,3.0,1.0,6.0,7.0,4.0,13.0,5.0,1.0,10.0,19.0,1.0,1.0,13.0,1.0,1.0,2.0,18.0,1.0,15.0,5.0,17.0,10.0,1.0,11.0,1.0,5.0,1.0,1.0,4.0,1.0,12.0,11.0,1.0,5.0,7.0,18.0,4.0,1.0,1.0,3.0,1.0,17.0,1.0,1.0,21.0,17.0,8.0,2.0,1.0,3.0,16.0,9.0,13.0,7.0,7.0,5.0,16.0,3.0,11.0,14.0,1.0,1.0,4.0,10.0,2.0,11.0,6.0,9.0,2.0,1.0,1.0,12.0,4.0,16.0,3.0,18.0,2.0,3.0,19.0,12.0,1.0,1.0,6.0,5.0,1.0,3.0,14.0,7.0,13.0,2.0,19.0,1.0,18.0,1.0,1.0,5.0,1.0,14.0,5.0,15.0,1.0,11.0,7.0,2.0,2.0,6.0,5.0,1.0,11.0,2.0,9.0,2.0,1.0,8.0,10.0,9.0,8.0,10.0,16.0,18.0,11.0,1.0,5.0,2.0,9.0,16.0,18.0,14.0,2.0,4.0,2.0,3.0,11.0,4.0,5.0,16.0,9.0,1.0,3.0,2.0,3.0,4.0,5.0,1.0,1.0,13.0,3.0,2.0,11.0,4.0,14.0,6.0,19.0,4.0,4.0,4.0,10.0,2.0,1.0,1.0,9.0,1.0,1.0,1.0,2.0,1.0,1.0,1.0,2.0,4.0,8.0,1.0,16.0,14.0,3.0,1.0,1.0,9.0,3.0,7.0,13.0,4.0,4.0,4.0,2.0,1.0,19.0,18.0,5.0,16.0,3.0,1.0,3.0,7.0,2.0,3.0,17.0,12.0,16.0,3.0,2.0,5.0,5.0,1.0,8.0,6.0,8.0,4.0,1.0,1.0,10.0,19.0,4.0,12.0,14.0,3.0,23.0,2.0,19.0,13.0,1.0,4.0,1.0,23.0,18.0,1.0,2.0,2.0,14.0,3.0,8.0,5.0,11.0,2.0,20.0,16.0,23.0,12.0,13.0,15.0,5.0,1.0,2.0,9.0,9.0,1.0,6.0,5.0,11.0,2.0,1.0,5.0,1.0,13.0,2.0,3.0,6.0,8.0,8.0,9.0,3.0,6.0,1.0,7.0,5.0,1.0,18.0,1.0,14.0,1.0,10.0,2.0,9.0,1.0,8.0,7.0,1.0,1.0,12.0,1.0,1.0,7.0,1.0,13.0,9.0,1.0,1.0,19.0,6.0,5.0,6.0,3.0,1.0,23.0,12.0,3.0,14.0,17.0,7.0,9.0,15.0,1.0,7.0,7.0,1.0,3.0,4.0,16.0,14.0,10.0,8.0,6.0,19.0,3.0,18.0,11.0,7.0,6.0,4.0,6.0,9.0,1.0,1.0,15.0,1.0,3.0,2.0,18.0,6.0,1.0,6.0,23.0,7.0,19.0,1.0,5.0,7.0,1.0,9.0,15.0,9.0,1.0,1.0,16.0,7.0,7.0,12.0,1.0,11.0,2.0,18.0,4.0,16.0,7.0,1.0,14.0,14.0,3.0,12.0,10.0,9.0,14.0,3.0,5.0,1.0,23.0,2.0,2.0,7.0,3.0,7.0,19.0,13.0,4.0,17.0,4.0,2.0,8.0,1.0,10.0,12.0,19.0,4.0,1.0,12.0,3.0,1.0,16.0,11.0,1.0,1.0,1.0,1.0,2.0,1.0,5.0,12.0,5.0,11.0,8.0,4.0,1.0,23.0,17.0,8.0,15.0,23.0,16.0,20.0,6.0,12.0,1.0,6.0,18.0,3.0,16.0,19.0,13.0,1.0,1.0,1.0,3.0,13.0,12.0,2.0,18.0,5.0,1.0,1.0,1.0,17.0,1.0,4.0,19.0,5.0,1.0,3.0,13.0,10.0,4.0,19.0,3.0,1.0,13.0,10.0,13.0,4.0,1.0,6.0,1.0,19.0,10.0,1.0,14.0,4.0,5.0,4.0,1.0,8.0,1.0,14.0,1.0,2.0,3.0,5.0,3.0,15.0,9.0,1.0,9.0,1.0,3.0,4.0,2.0,1.0,4.0,1.0,23.0,2.0,2.0,1.0,1.0,9.0,6.0,3.0,1.0,1.0,6.0,1.0,12.0,4.0,5.0,5.0,4.0,5.0,1.0,3.0,16.0,1.0,1.0,10.0,2.0,5.0,6.0,4.0,15.0,1.0,8.0,3.0,17.0,1.0,8.0,8.0,2.0,8.0,3.0,1.0,1.0,10.0,7.0,6.0,4.0,1.0,18.0,1.0,1.0,9.0,4.0,9.0,1.0,8.0,5.0,2.0,4.0,1.0,8.0,4.0,1.0,22.0,3.0,5.0,2.0,18.0,1.0,1.0,1.0,1.0,1.0,9.0,17.0,6.0,2.0,6.0,3.0,4.0,2.0,3.0,19.0,3.0,18.0,1.0,1.0,12.0,18.0,2.0,1.0,1.0,1.0,8.0,7.0,15.0,2.0,20.0,1.0,2.0,2.0,3.0,19.0,5.0,5.0,16.0,3.0,23.0,5.0,4.0,3.0,23.0,10.0,6.0,1.0,20.0,7.0,8.0,1.0,6.0,2.0,3.0,5.0,5.0,9.0,7.0,8.0,7.0,22.0,1.0,10.0,2.0,2.0,6.0,8.0,8.0,1.0,13.0,1.0,15.0,1.0,16.0,2.0,3.0,11.0,24.0,11.0,10.0,1.0,9.0,1.0,5.0,6.0,6.0,5.0,8.0,3.0,18.0,17.0,10.0,3.0,6.0,1.0,4.0,3.0,1.0,12.0,21.0,12.0,11.0,1.0,1.0,2.0,2.0,12.0,17.0,11.0,1.0,19.0,5.0,6.0,1.0,4.0,2.0,15.0,5.0,5.0,1.0,4.0,6.0,4.0,23.0,10.0,2.0,1.0,11.0,10.0,1.0,1.0,11.0,1.0,19.0,4.0,1.0,4.0,1.0,15.0,18.0,23.0,1.0,3.0,8.0,9.0,4.0,9.0,3.0,18.0,23.0,20.0,23.0,5.0,4.0,12.0,5.0,9.0,1.0,1.0,13.0,1.0,9.0,13.0,3.0,1.0,1.0,12.0,1.0,23.0,4.0,4.0,2.0,2.0,1.0,2.0,5.0,1.0,5.0,1.0,4.0,1.0,1.0,1.0,2.0,1.0,9.0,8.0,18.0,1.0,12.0,5.0,17.0,1.0,3.0,7.0,7.0,1.0,5.0,4.0,4.0,12.0,5.0,14.0,9.0,1.0,17.0,10.0,14.0,5.0,1.0,4.0,5.0,19.0,9.0,17.0,3.0,1.0,2.0,4.0,11.0,8.0,23.0,1.0,2.0,1.0,7.0,8.0,7.0,1.0,4.0,1.0,2.0,1.0,9.0,23.0,5.0,23.0,14.0,8.0,8.0,10.0,1.0,3.0,18.0,1.0,23.0,9.0,1.0,13.0,1.0,1.0,4.0,1.0,1.0,23.0,19.0,1.0,1.0,8.0,6.0,1.0,12.0,18.0,1.0,2.0,12.0,1.0,4.0,7.0,4.0,6.0,2.0,1.0,9.0,3.0,14.0,8.0,19.0,4.0,1.0,5.0,4.0,11.0,3.0,8.0,10.0,14.0,19.0,20.0,1.0,1.0,13.0,22.0,3.0,15.0,14.0,1.0,5.0,20.0,11.0,4.0,2.0,4.0,1.0,1.0,5.0,5.0,11.0,4.0,9.0,15.0,3.0,1.0,1.0,19.0,1.0,7.0,7.0,1.0,1.0,5.0,1.0,14.0,18.0,1.0,9.0,5.0,3.0,1.0,11.0,1.0,3.0,7.0,8.0,2.0,6.0,2.0,1.0,1.0,2.0,5.0,2.0,1.0,1.0,3.0,10.0,22.0,1.0,1.0,4.0,6.0,1.0,1.0,1.0,1.0,6.0,12.0,23.0,3.0,12.0,15.0,5.0,12.0,23.0,13.0,6.0,1.0,19.0,17.0,10.0,16.0,8.0,4.0,1.0,1.0,6.0,2.0,20.0,2.0,1.0,1.0,5.0,16.0,12.0,4.0,3.0,17.0,1.0,2.0,1.0,14.0,15.0,12.0,3.0,7.0,1.0,1.0,14.0,1.0,3.0,19.0,7.0,9.0,9.0,1.0,5.0,17.0,11.0,12.0,1.0,3.0,1.0,6.0,1.0,4.0,3.0,1.0,13.0,2.0,4.0,16.0,13.0,17.0,11.0,16.0,14.0,1.0,1.0,1.0,16.0,1.0,3.0,20.0,1.0,14.0,14.0,3.0,1.0,3.0,9.0,4.0,13.0,3.0,14.0,7.0,17.0,1.0,18.0,16.0,12.0,1.0,1.0,8.0,6.0,19.0,3.0,18.0,18.0,1.0,7.0,1.0,23.0,8.0,1.0,17.0,1.0,4.0,1.0,18.0,1.0,5.0,14.0,16.0,17.0,1.0,4.0,1.0,2.0,9.0,12.0,16.0,2.0,3.0,1.0,1.0,11.0,4.0,19.0,1.0,12.0,9.0,11.0,19.0,2.0,5.0,5.0,1.0,14.0,19.0,3.0,19.0,17.0,4.0,5.0,2.0,8.0,4.0,6.0,3.0,16.0,11.0,13.0,1.0,1.0,8.0,4.0,6.0,8.0,4.0,1.0,6.0,4.0,15.0,2.0,8.0,5.0,5.0,1.0,14.0,1.0,23.0,11.0,2.0,20.0,9.0,3.0,2.0,1.0,16.0,6.0,2.0,15.0,2.0,10.0,8.0,5.0,2.0,3.0,1.0,1.0,5.0,1.0,20.0,8.0,5.0,8.0,4.0,20.0,1.0,1.0,11.0,23.0,14.0,11.0,1.0,3.0,12.0,3.0,16.0,4.0,1.0,10.0,1.0,1.0,2.0,7.0,4.0,11.0,6.0,6.0,18.0,3.0,2.0,5.0,11.0,18.0,5.0,17.0,1.0,1.0,11.0,6.0,6.0,19.0,9.0,3.0,1.0,1.0,3.0,10.0,4.0,6.0,2.0,20.0,1.0,14.0,3.0,2.0,1.0,8.0,1.0,1.0,12.0,18.0,15.0,1.0,5.0,17.0,3.0,11.0,23.0,17.0,10.0,3.0,3.0,18.0,14.0,19.0,4.0,1.0,11.0,1.0,6.0,3.0,14.0,16.0,1.0,1.0,2.0,8.0,1.0,1.0,19.0,8.0,1.0,13.0,1.0,8.0,6.0,1.0,1.0,5.0,5.0,4.0,1.0,1.0,1.0,4.0,11.0,1.0,5.0,1.0,1.0,5.0,7.0,4.0,1.0,3.0,1.0,17.0,6.0,20.0,2.0,15.0,1.0,1.0,6.0,1.0,1.0,19.0,3.0,6.0,4.0,14.0,3.0,3.0,1.0,1.0,1.0,10.0,15.0,10.0,20.0,3.0,17.0,1.0,5.0,5.0,8.0,5.0,4.0,9.0,1.0,2.0,19.0,1.0,5.0,10.0,1.0,9.0,7.0,12.0,9.0,3.0,1.0,11.0,9.0,5.0,11.0,1.0,20.0,1.0,7.0,12.0,1.0,10.0,7.0,2.0,1.0,12.0,6.0,4.0,12.0,17.0,1.0,1.0,2.0,14.0,1.0,5.0,1.0,10.0,9.0,1.0,8.0,4.0,15.0,17.0,1.0,1.0,14.0,2.0,11.0,11.0,1.0,5.0,16.0,1.0,13.0,10.0,8.0,2.0,15.0,7.0,2.0,1.0,1.0,1.0,5.0,1.0,6.0,4.0,5.0,11.0,17.0,3.0,9.0,20.0,17.0,4.0,6.0,2.0,1.0,15.0,7.0,14.0,12.0,4.0,9.0,14.0,4.0,2.0,9.0,15.0,1.0,9.0,1.0,16.0,5.0,11.0,18.0,6.0,1.0,4.0,14.0,16.0,6.0,3.0,1.0,3.0,8.0,1.0,1.0,3.0,1.0,1.0,1.0,17.0,1.0,1.0,1.0,3.0,3.0,3.0,11.0,3.0,1.0,1.0,3.0,1.0,3.0,4.0,3.0,6.0,1.0,4.0,9.0,5.0,18.0,1.0,18.0,1.0,13.0,1.0,1.0,1.0,7.0,3.0,10.0,4.0,4.0,3.0,4.0,10.0,5.0,14.0,4.0,12.0,2.0,1.0,12.0,1.0,14.0,13.0,10.0,13.0,1.0,2.0,17.0,4.0,20.0,4.0,19.0,19.0,4.0,5.0,1.0,6.0,3.0,3.0,11.0,13.0,12.0,10.0,12.0,4.0,10.0,4.0,9.0,4.0,1.0,10.0,1.0,5.0,1.0,1.0,8.0,8.0,15.0,1.0,7.0,10.0,7.0,13.0,18.0,10.0,5.0,9.0,2.0,3.0,2.0,19.0,15.0,4.0,7.0,16.0,8.0,2.0,1.0,1.0,3.0,2.0,1.0,10.0,2.0,5.0,4.0,10.0,1.0,11.0,1.0,2.0,8.0,5.0,10.0,14.0,1.0,14.0,7.0,3.0,3.0,20.0,1.0,3.0,4.0,1.0,4.0,1.0,1.0,1.0,3.0,6.0,1.0,11.0,9.0,2.0,1.0,1.0,18.0,19.0,6.0,2.0,19.0,7.0,3.0,2.0,1.0,3.0,9.0,1.0,12.0,1.0,3.0,19.0,8.0,4.0,3.0,3.0,9.0,8.0,1.0,9.0,1.0,1.0,10.0,19.0,1.0,20.0,5.0,7.0,5.0,20.0,1.0,1.0,5.0,1.0,7.0,8.0,4.0,9.0,1.0,7.0,1.0,3.0,6.0,1.0,4.0,12.0,19.0,9.0,1.0,2.0,3.0,1.0,11.0,16.0,3.0,1.0,1.0,6.0,16.0,12.0,8.0,1.0,15.0,1.0,19.0,19.0,6.0,5.0,1.0,13.0,13.0,12.0,1.0,13.0,7.0,1.0,1.0,11.0,1.0,2.0,8.0,4.0,1.0,11.0,17.0,1.0,1.0,1.0,6.0,6.0,2.0,8.0,9.0,1.0,1.0,15.0,10.0,1.0,11.0,2.0,12.0,20.0,1.0,3.0,13.0,11.0,1.0,2.0,8.0,4.0,19.0,1.0,1.0,1.0,7.0,4.0,9.0,1.0,2.0,1.0,6.0,1.0,1.0,23.0,1.0,15.0,1.0,14.0,1.0,4.0,1.0,16.0,4.0,1.0,17.0,11.0,2.0,18.0,5.0,6.0,19.0,8.0,2.0,10.0,9.0,3.0,1.0,4.0,4.0,8.0,1.0,3.0,3.0,2.0,2.0,4.0,1.0,20.0,1.0,7.0,8.0,7.0,1.0,2.0,3.0,10.0,1.0,8.0,1.0,19.0,11.0,4.0,1.0,3.0,3.0,2.0,3.0,1.0,15.0,7.0,13.0,2.0,2.0,9.0,17.0,13.0,1.0,6.0,3.0,3.0,1.0,10.0,9.0,13.0,10.0,5.0,1.0,6.0,19.0,4.0,1.0,9.0,23.0,1.0,1.0,1.0,1.0,4.0,6.0,13.0,10.0,6.0,5.0,19.0,1.0,9.0,6.0,11.0,7.0,12.0,2.0,19.0,3.0,10.0,1.0,1.0,1.0,2.0,5.0,1.0,2.0,3.0,14.0,7.0,1.0,16.0,5.0,9.0,1.0,7.0,1.0,23.0,16.0,10.0,1.0,1.0,10.0,6.0,7.0,1.0,18.0,2.0,4.0,1.0,16.0,9.0,1.0,17.0,6.0,3.0,2.0,18.0,1.0,16.0,1.0,12.0,5.0,3.0,1.0,1.0,19.0,19.0,17.0,1.0,1.0,11.0,1.0,2.0,15.0,1.0,7.0,12.0,4.0,2.0,22.0,1.0,1.0,1.0,2.0,1.0,8.0,8.0,5.0,3.0,1.0,9.0,13.0,19.0,3.0,7.0,13.0,8.0,9.0,3.0,11.0,10.0,1.0,12.0,4.0,3.0,3.0,2.0,4.0,8.0,1.0,4.0,1.0,1.0,4.0,5.0,3.0,2.0,1.0,2.0,5.0,1.0,1.0,1.0,4.0,15.0,10.0,1.0,10.0,1.0,1.0,14.0,5.0,5.0,1.0],\"xaxis\":\"x\",\"y\":[341.87,2370.307,95.8,87.999,96.799,85.99,1805.425,1278.76,298.746,9000.462,253.8,190.76,2045.534,84.29,544.428,354.90000000000003,87.88,1166.68,772.07,211.92000000000002,388.4,845.4200000000001,2348.757,1007.69,699.655,1804.3,1000.489,871.84,1164.808,610.467,166.005,87.5,702.52,1047.18,2720.273,169.60000000000002,96.1,572.52,1045.098,1291.83,847.56,112.18,656.44,184.94,97.598,3567.321,82.99,1057.195,142.7,445.6,1830.09,1338.93,1184.259,282.36,754.66,265.725,1274.5,117.68,609.861,115.18,1726.4189999999999,677.155,461.37800000000004,1295.348,255.96,1484.9,4167.072,19403.187,108.98,2577.143,181.152,4912.543,685.6,248.4,1115.251,2309.409,249.20000000000002,95.242,131.78,580.4010000000001,1970.21,2357.79,2054.849,2644.29,2844.887,1207.0900000000001,91.99000000000001,2675.9,534.3510000000001,89.99000000000001,98.99000000000001,519.9,777.95,511.86,194.68800000000002,1395.19,154.96,912.2,201.89000000000001,1380.194,103.99000000000001,95.98,81.99,1219.0720000000001,354.99,1648.0,82.16,119.7,346.392,216.97,952.33,379.626,85.2,3574.879,6575.055,106.99,220.86,427.858,3312.964,97.99000000000001,429.32,182.84,257.399,2573.185,1208.8,205.288,1629.513,1159.383,384.94,854.91,640.189,198.972,1973.0020000000002,590.21,2635.945,1064.69,1336.97,185.37,436.86,391.69,82.599,91.97,175.888,291.999,1715.33,363.994,88.99,724.9010000000001,1201.976,632.121,679.85,470.64,147.7,81.25,1188.305,303.42,1024.1,193.5,326.082,424.799,424.49,436.55,3414.4,94.699,826.676,1544.891,959.9870000000001,3205.5870000000004,89.5,758.928,917.2,189.026,450.9,781.957,1326.008,111.8,370.7,494.5,2777.695,168.304,373.79,435.603,85.486,180.29,110.596,170.8,2273.2200000000003,1024.1,85.9,1278.0500000000002,480.387,428.65,625.9970000000001,274.88,5147.040000000001,312.79,1755.57,2476.861,292.97,2307.83,82.79,929.4970000000001,1852.404,956.1,690.417,698.54,83.38,180.99,87.75,253.97,81.999,185.96,725.0,206.2,176.43,652.8910000000001,84.7,258.88,1317.858,637.97,81.93,577.484,98.06,1538.57,741.655,85.88,1707.74,82.99,519.115,131.0,265.99,1799.24,536.94,266.8,11922.897,2916.03,2343.109,1024.72,109.95,727.03,422.4,91.5,1224.859,368.88,93.99000000000001,276.445,1822.19,88.995,574.6,103.5,968.485,85.59,900.942,97.99000000000001,1836.44,84.96000000000001,2423.4809999999998,2429.86,521.0840000000001,1951.9850000000001,81.19,244.97,254.97,2624.08,440.781,396.608,984.3090000000001,88.68,3516.1820000000002,5177.356,495.82,4493.332,3529.06,1782.74,743.254,1649.451,1656.301,464.93,212.84,2389.2790000000005,558.597,99.89,755.8,82.79,697.31,578.0,2089.727,570.412,185.97,115.06700000000001,896.8870000000001,2361.1040000000003,560.4590000000001,167.835,2024.255,499.355,1424.5990000000002,1112.0,249.9,996.198,601.579,396.41700000000003,517.8,453.214,84.9,639.73,1607.84,85.0,168.4,93.9,115.49000000000001,1751.1399999999999,2820.087,432.6,1565.4,2553.569,82.999,2971.1800000000003,641.593,930.9000000000001,89.0,3251.2709999999997,1511.49,273.52,2246.85,1459.5049999999999,107.9,1886.2,350.0,407.46,94.48,184.56,179.67000000000002,366.699,204.4,324.589,89.9,124.89,843.97,95.99000000000001,89.998,82.39,810.5690000000001,84.78,86.98,374.497,361.49,83.5,912.95,773.413,167.497,405.788,279.9,2930.33,280.0,93.78,180.555,2978.91,555.6,891.216,1065.1,789.7,1250.74,2398.857,1623.99,1587.97,114.0,111.9,289.55,695.571,774.73,648.21,14637.170000000002,196.981,994.444,1864.893,193.79,640.6800000000001,1693.83,188.14,81.99,682.7180000000001,253.978,82.499,81.59,331.49,155.99,244.95,119.78,125.37,270.54,82.199,174.789,1033.825,371.76,89.8,367.246,93.0,533.76,1201.13,245.98,88.65,1273.31,2332.936,5851.718000000001,86.49,252.15,4874.3060000000005,104.999,1305.48,166.07,286.6,781.4,1204.41,658.3,84.45,2507.4,413.29,189.7,983.009,169.99,2540.2200000000003,157.98000000000002,1758.516,1976.96,1688.929,153.9,274.5,125.0,85.99,414.978,86.05,411.97,2800.364,1502.5140000000001,1263.8000000000002,916.3,2178.0,389.994,96.7,437.48,1034.716,127.7,2117.767,87.47,902.5799999999999,321.3,626.912,112.78,2292.6040000000003,2197.851,2469.3,559.1,12133.921,2953.26,114.47800000000001,99.518,474.04,1084.78,906.6700000000001,7959.5,85.99,542.9,89.98,683.45,1438.83,634.8,91.94,84.5,471.19500000000005,780.0600000000001,645.9300000000001,986.53,332.946,652.68,423.343,513.059,167.0,219.192,175.98,2034.9940000000001,3376.007,89.99000000000001,1238.5720000000001,525.11,181.77,3727.829,2625.708,972.49,325.591,81.78,931.896,2667.1710000000003,1413.468,543.19,110.524,93.7,402.37,729.9000000000001,173.8,81.4,4745.253000000001,731.92,350.896,469.6,1431.8000000000002,571.837,183.412,87.98,2422.33,131.8,274.57,85.48,84.32,93.5,312.76,217.35,88.99,636.692,118.5,514.995,1454.649,435.17,88.0,287.58,4629.598,1914.4950000000001,2492.87,86.664,86.99,318.56,89.76,81.998,215.37,21004.203,1239.19,634.994,87.399,638.4,459.82,1655.9,2182.782,214.70000000000002,99.9,111.05,1044.27,247.89,88.99,2782.224,88.4,3256.9,460.04,86.99,319.8,91.99000000000001,762.36,1028.448,1056.079,2673.9170000000004,1035.5,2296.853,243.798,597.25,85.5,2269.3,314.935,1715.3,2017.46,899.05,82.999,1331.171,87.99,84.78,1062.28,1041.033,90.99000000000001,84.925,82.97,5904.818,312.22,1296.3,273.98,99.99000000000001,3155.7030000000004,238.32,496.9,171.839,428.58,247.98,820.2850000000001,763.5200000000001,413.397,1830.529,978.8520000000001,1267.23,2278.31,202.42000000000002,89.4,205.3,101.0,664.9,164.985,84.29,2337.021,1085.7,328.6,105.0,5835.195,473.067,318.77,386.0,879.465,159.2,97.98,902.0,434.90000000000003,4117.43,738.7,5836.295,572.2080000000001,189.9,2320.68,3026.5,1306.12,343.896,1773.131,478.46000000000004,93.9,757.994,98.9,905.225,86.999,960.23,520.964,1155.5,84.49,92.5,120.74000000000001,3432.1000000000004,279.875,541.432,82.49,775.22,149.942,90.9,415.399,508.03000000000003,979.7,107.8,84.9,397.27,766.26,125.9,445.56,421.0,98.0,90.19,115.5,82.98,1224.3,531.54,165.198,195.4,381.67600000000004,195.96,161.0,89.9,515.9,543.393,1051.886,296.28,200.447,92.58500000000001,217.82,787.7,312.2,265.28,892.2,89.8,717.6,276.118,459.498,199.47,83.867,4490.278,118.561,1563.0,137.0,1432.47,2914.71,86.5,258.48,661.5699999999999,464.22800000000007,236.8,506.97,355.63,1223.55,1981.519,1653.835,242.24,432.556,1802.2820000000002,136.9,1706.992,565.299,227.5,177.47,770.23,984.765,797.71,91.999,399.99800000000005,85.7,601.79,179.574,384.0,84.58,296.72,468.44,1989.9340000000002,372.293,1495.3000000000002,610.775,1232.606,312.24,102.434,2493.185,815.42,110.9,428.706,664.979,90.85,943.767,92.99000000000001,197.12,291.194,1371.76,4901.25,103.998,500.20000000000005,1730.3600000000001,4365.9,850.49,257.28,95.98,552.472,851.8510000000001,1368.4,2480.87,2139.21,1335.5,1398.392,1115.2,1962.306,1820.289,93.0,95.98,94.5,503.2,95.29,1079.275,1826.978,249.4,106.4,3610.27,1406.599,216.878,123.03,13850.483,85.947,93.57,1498.5,85.38,350.47,171.98,1011.89,109.9,292.5,89.5,3659.232,83.69,171.8,90.37,273.992,92.0,396.98,2222.9,682.38,130.12,2247.242,1090.229,82.99,352.055,1231.5,976.79,169.9,179.338,191.11,984.6,1215.542,1784.33,1101.7,96.199,836.94,1004.5,990.284,1281.865,863.8,2040.5900000000001,349.98,98.0,87.939,125.769,133.88,171.0,527.96,1122.699,2078.8,1272.2,1171.17,1436.1829999999998,359.98199999999997,740.235,375.1,446.305,772.8,1640.0639999999999,252.6,307.15,1935.248,1239.888,1278.77,2361.67,84.77,108.99,194.93,466.44,473.52,420.4,118.13900000000001,2279.587,369.455,93.9,1364.33,1106.079,879.01,86.99,324.73900000000003,879.552,342.79,1006.88,1041.746,1746.0100000000002,707.154,926.5340000000001,2163.082,489.70000000000005,155.676,84.59,92.0,99.98,782.315,3022.536,84.9,205.2,3407.4,3174.61,23237.605,994.996,210.994,125.80000000000001,224.73000000000002,302.106,1006.9639999999999,2370.352,83.9,153.977,539.962,92.525,425.775,630.4,1256.194,122.0,1507.198,1190.894,5528.6050000000005,86.515,323.18,84.99,2490.51,86.37,1112.88,823.986,467.8,824.7,564.31,333.76,357.12,592.2,467.19000000000005,948.308,1083.6,312.5,346.8,684.5,296.779,344.4,1441.0,89.8,1620.88,247.03,92.78,202.18,1558.175,851.673,95.49000000000001,497.89200000000005,3056.9700000000003,1007.33,449.3,340.575,486.29,174.601,184.5,84.99,806.3,181.704,99.999,779.21,2709.919,86.99,372.2,613.653,2986.0,89.875,302.7,2398.3280000000004,81.55,351.21500000000003,1759.1000000000001,90.205,155.0,3838.4500000000003,94.48,4757.752,1174.92,168.82,82.94,167.98,344.104,121.34800000000001,1654.85,953.619,136.0,8035.961,642.39,550.0,84.522,98.3,249.5,424.547,239.9,1940.009,838.984,316.88,1215.855,94.76,2203.926,189.883,83.99,208.205,310.9,928.308,1806.103,118.999,1911.1530000000002,640.29,909.48,1013.4000000000001,562.17,4117.4,257.08,358.3,98.0,342.91,349.985,978.934,82.22,652.38,1532.87,708.3,246.4,747.9,88.435,782.2,2546.502,2301.91,1570.15,93.598,998.65,414.979,349.67,2471.5299999999997,88.09,700.49,399.43,86.9,1899.098,1775.6,270.97,391.996,1665.792,951.94,693.472,1412.607,709.752,1738.45,93.98,1629.379,258.832,796.31,888.776,1193.9,618.53,1116.89,371.09000000000003,295.4,441.989,2445.14,407.299,167.379,193.46000000000004,177.8,2272.55,452.802,851.3,228.59300000000002,105.9,1350.191,94.59,87.0,99.999,482.03,204.306,1019.6,3056.58,1212.733,104.14,84.99,158.0,94.182,3311.255,579.668,1219.5230000000001,81.49,102.99000000000001,432.23,85.99,347.6,92.0,426.67,83.0,3948.003,105.2,4742.861,1803.3400000000001,315.29,93.99600000000001,2525.938,89.699,84.176,254.37,434.42,485.18,1778.807,167.188,1493.0,559.64,343.587,5745.754000000001,365.243,340.15,2132.967,287.105,931.21,4737.678,1224.0900000000001,82.09,289.8,2366.478,105.95,350.85,809.229,416.5,595.39,99.69,5608.974,84.19,239.07,996.654,1122.788,530.88,165.48,486.98,2085.42,304.5,358.5,931.058,587.989,153.49900000000002,393.993,927.72,736.17,93.4,251.757,954.059,466.6,445.8,1011.1020000000001,882.5,1212.8899999999999,1307.893,242.5,84.9,536.0699999999999,629.6320000000001,425.5,1718.1,419.31,109.989,1065.89,20312.389000000003,85.99,93.99000000000001,1412.1390000000001,118.9,122.5,165.901,1659.08,101.99000000000001,1487.334,437.391,2852.143,1105.0,88.79,1304.959,99.9,1172.9,203.85000000000002,92.99000000000001,455.9,83.9,1708.2,1498.08,93.99000000000001,751.4000000000001,1851.3500000000001,5813.9839999999995,992.0,89.356,93.875,329.871,85.279,1859.556,82.988,100.19,2849.161,1551.26,1264.5,168.97,90.99000000000001,253.322,2411.589,1169.77,1154.8,691.0,731.6,881.8,2140.625,272.763,1571.759,1150.16,88.3,115.97,667.77,1761.909,168.97,1569.957,579.504,1414.045,260.429,105.18,86.249,1258.15,568.9300000000001,2470.885,324.2,2242.763,498.503,254.08,4254.9529999999995,1600.623,100.786,82.0,649.35,496.998,93.9,918.75,1148.03,647.9300000000001,6507.9220000000005,268.8,3642.392,92.87,1803.537,95.532,99.78,868.89,89.29,1798.556,1607.7520000000002,1245.058,85.5,1455.966,580.993,162.8,205.0,4762.900000000001,519.4,146.69,1012.8,194.56,1075.432,256.87,98.669,1093.699,810.68,2564.692,950.4200000000001,1094.3,1341.28,1504.5,1039.94,118.5,412.5,205.25,784.7,4995.34,2188.221,1161.45,391.21000000000004,958.4000000000001,507.20000000000005,313.249,1646.79,555.927,411.799,1457.6,1484.43,145.67700000000002,262.05,185.187,318.08000000000004,387.27,479.95,136.0,175.99900000000002,1979.7540000000001,294.94,176.58,1102.0,426.46,2095.483,1019.9,2002.924,794.8100000000001,1137.7,388.471,1848.2830000000001,193.3,81.98,85.4,1201.325,86.09,179.8,94.98,185.689,89.406,98.89,94.99000000000001,191.57,400.9,865.5,83.82,1494.149,1416.887,321.39,109.97,133.776,929.66,542.0,594.929,1281.83,401.562,435.1,439.087,259.06,82.5,1748.609,2353.92,831.97,1508.498,255.878,81.39,386.3,739.06,219.84,256.8,3578.856,1042.0,1443.279,406.70000000000005,180.95,687.77,460.48,111.77000000000001,1317.1,635.227,648.541,348.18,504.89799999999997,115.49000000000001,1182.763,2319.151,449.172,1355.65,1390.283,393.95000000000005,2781.038,474.028,2879.34,1148.483,111.49600000000001,677.173,111.8,5186.16,3488.508,176.7,164.18,259.88,1238.986,260.67,657.177,1085.0,1500.2910000000002,220.0,12028.842,2282.149,2617.7,1351.98,1196.79,1765.73,491.88,86.28,246.60000000000002,1064.57,1102.973,100.0,531.45,819.89,1165.8870000000002,245.8,91.98,477.216,88.9,2563.0060000000003,303.78,358.22,789.899,2890.5099999999998,6182.610000000001,810.958,312.21000000000004,557.576,91.958,634.66,958.913,100.89,3338.84,86.99,1390.85,89.0,1142.6390000000001,224.995,755.75,91.5,704.52,888.1659999999999,88.5,86.499,1286.66,114.27799999999999,90.5,1027.729,86.0,1090.5,1816.13,80.849,84.5,2887.07,580.75,1899.945,608.311,318.786,91.5,4039.278,1047.65,566.3800000000001,1668.025,1814.116,776.585,1571.7350000000001,1282.148,81.88,588.97,1083.998,95.06,322.32,395.6,1337.75,1499.591,841.4,724.83,1502.0500000000002,2205.133,257.08,1830.75,1490.944,660.48,483.98,355.332,764.0,2039.15,93.3,91.99000000000001,1571.483,122.49000000000001,256.27,173.98,1883.084,743.893,86.9,528.691,7007.688,1332.69,2481.57,113.6,406.598,702.791,88.9,1551.8629999999998,1589.405,733.98,89.74,126.0,1746.83,3754.1810000000005,703.33,6517.857,132.265,1057.3029999999999,173.069,2187.216,460.563,4500.816000000001,933.6990000000001,81.99,1258.2359999999999,3603.275,304.81,1494.0390000000002,975.182,841.88,1485.3,429.0,681.3040000000001,93.86,6501.04,243.497,234.7,2754.08,264.38,748.509,1895.7,1641.897,384.498,1473.099,340.58,167.48,1392.1,107.2,1043.3,1241.977,1990.296,397.6,128.75,2688.6279999999997,442.404,155.049,1859.4,1835.362,245.883,103.98,83.0,134.80599999999998,176.945,207.836,431.2,1347.112,443.451,1253.916,1368.899,379.9,97.89,2872.713,1523.899,1152.9,1362.277,2760.5,2380.996,1888.127,531.604,976.28,99.9,519.8,1806.118,319.95,5270.75,2354.189,1072.48,199.7,220.0,769.79,274.5,1775.58,1734.3020000000001,201.9,1526.19,451.78,154.9,199.8,84.74,1568.345,153.998,361.747,2979.227,551.24,95.59,346.14,1118.89,937.485,957.8000000000001,1593.48,280.0,90.519,1134.172,943.2,1340.27,553.23,95.2,726.352,88.39,1707.17,1461.0790000000002,84.89,1281.97,371.427,578.9,457.297,119.0,651.92,262.568,5190.314,95.0,232.18900000000002,511.8,439.55,374.84000000000003,1565.68,807.4,108.949,1110.009,84.99,333.5,746.9180000000001,215.7,81.299,410.93,100.4,6443.037,316.499,337.245,114.30000000000001,133.998,1418.8000000000002,717.6,271.6,99.98,85.43,526.56,96.1,1231.5,340.09000000000003,967.457,520.8,343.19,414.0,84.499,250.769,7772.530000000001,108.5,84.9,912.99,209.23000000000002,548.437,559.83,1871.9850000000001,2389.2,84.98,684.1800000000001,959.6,1614.387,102.48,1119.591,655.0,182.9,1074.8400000000001,281.79,112.15,90.09,1830.942,2478.742,680.2,786.1,115.80000000000001,1656.5,86.156,178.974,924.298,754.64,737.8,213.864,1910.855,1964.58,180.94,467.41100000000006,87.99,816.79,342.6,90.99000000000001,2544.088,1386.898,443.496,238.889,4708.91,123.9,92.979,81.89,87.609,87.34,860.184,1465.936,701.739,207.92000000000002,721.9,322.5,535.39,207.95,251.996,1771.748,274.98,1481.388,93.949,185.53,1477.35,1650.12,288.20000000000005,86.99,88.66,113.499,1040.2,659.95,1316.55,305.095,2053.829,99.47,224.8,197.98000000000002,378.45000000000005,1553.94,440.29,682.12,1827.7800000000002,282.19,3209.69,543.811,478.1,260.69,2323.8230000000003,883.44,542.91,92.0,4171.644,578.248,1090.199,90.999,1007.949,191.299,312.879,410.27,411.89,2257.95,763.088,775.9780000000001,959.091,2125.764,239.53,1174.7,229.24099999999999,170.597,614.0,1062.203,666.998,158.19,1113.985,83.89,5735.536,97.5,1372.26,251.67000000000002,337.84000000000003,1207.013,2988.2650000000003,4019.7700000000004,993.533,91.99000000000001,1630.1,225.5,568.169,589.4,610.9200000000001,411.96,968.0,1571.24,1490.95,1700.978,982.211,310.154,604.542,84.19,487.88,251.998,116.7,1521.0,3982.392,1062.446,995.435,97.0,83.9,243.615,455.89000000000004,2142.15,1748.7,1137.5900000000001,91.78,2090.3,486.586,525.0,95.998,471.3,304.38,1470.51,545.8870000000001,417.88,113.0,1726.9630000000002,570.183,371.909,2162.076,1169.89,189.409,106.99,1102.495,1242.101,795.5050000000001,94.889,1195.9,98.0,17543.657,590.896,211.53,399.8,104.8,3607.5,1720.73,4237.911,97.57,740.2900000000001,1637.9700000000003,847.85,346.1,798.329,260.88,1913.13,2024.364,2083.731,13317.45,410.224,401.51,1299.316,441.618,766.66,89.0,81.09,1242.073,89.449,3874.6550000000007,1424.393,251.4,158.39600000000002,112.89,985.041,81.463,2256.818,1029.671,363.53,201.54000000000002,277.0,289.0,186.1,507.78000000000003,91.77,520.8,103.4,421.668,101.98,159.264,139.4,174.85,82.0,807.51,4280.895,2829.4710000000005,82.999,2140.6400000000003,616.28,2703.6000000000004,109.483,289.96000000000004,691.24,739.62,104.2,470.059,1545.1000000000001,329.498,1058.77,428.87,1173.18,831.884,104.34,1515.2,840.26,2388.768,1668.49,99.9,333.49,427.979,4214.26,1385.787,2270.82,264.12,81.99,258.39,436.766,1455.16,1521.42,2480.968,89.9,216.99,99.99000000000001,816.196,805.4,2876.8,151.959,658.173,163.241,172.12,119.78,854.4300000000001,2957.19,429.969,2381.005,1485.46,1167.991,689.5,819.4,228.9,309.6,2209.002,126.49700000000001,7556.849,1002.79,87.281,2219.389,92.4,99.98,1034.7,121.43,135.9,3381.5240000000003,2906.369,85.5,94.8,954.904,525.22,93.919,1099.67,1530.9,110.98,194.198,1352.587,98.32,562.9,760.738,448.82000000000005,487.499,173.58,96.976,1424.176,517.86,1225.482,651.49,3938.077,541.96,91.99000000000001,528.977,372.33,1030.76,243.283,1839.09,842.15,1410.48,2195.591,3322.6440000000002,104.6,92.0,5604.374,1876.58,336.88,1227.767,1204.7350000000001,107.775,552.0,1994.4180000000001,988.0,454.20000000000005,329.67,456.85,126.7,101.408,488.43,724.8800000000001,963.81,466.59900000000005,998.74,1675.499,365.887,88.59,156.092,1624.98,92.0,596.0,618.9449999999999,212.264,94.247,542.294,106.899,2104.3469999999998,2158.685,85.99,780.75,1579.8690000000001,263.73,88.99,1094.142,88.6,253.174,792.482,874.9,219.614,1581.105,188.6,91.768,190.7,166.6,472.494,265.69,149.998,92.58,280.975,866.598,2292.415,101.98,80.69,519.954,958.399,99.8,88.5,84.1,87.5,1348.469,2410.42,8240.989000000001,361.0,1739.0,1242.4,609.436,1704.255,3141.242,1261.241,493.86,95.998,2314.172,1602.478,913.59,2578.3810000000003,758.226,424.13,87.999,153.952,601.2,434.8,3196.0950000000003,288.159,205.2,89.48,472.37,1537.5900000000001,1479.31,396.0,376.13,3620.063,100.289,166.27,97.4,2008.83,1648.06,1108.68,486.14099999999996,639.39,379.725,102.99000000000001,1146.866,93.0,262.162,1935.087,589.399,758.29,803.9300000000001,89.554,449.194,1783.585,1130.42,1841.67,136.0,321.095,95.5,609.4300000000001,81.19,611.6600000000001,292.767,129.5,1524.52,238.83100000000002,380.937,1999.88,1864.4120000000003,1567.62,1687.0,1832.97,1408.5900000000001,174.498,112.4,97.62,1907.19,94.651,268.088,1788.6100000000001,87.29,2876.034,1657.095,257.5,427.0,332.8,6733.06,430.48900000000003,1207.688,568.669,2296.6940000000004,969.71,2176.24,255.0,1809.72,1560.28,1179.2,113.5,108.95,1669.501,1073.26,15694.553,285.395,2703.0,1854.017,163.94,1119.8000000000002,171.7,2911.17,702.985,100.96000000000001,1404.97,111.5,1179.9,891.995,1831.987,81.3,439.233,2026.23,5261.5,1484.78,87.5,348.7,97.394,255.2,2073.365,1075.057,1344.976,173.19,302.37,99.9,145.0,8808.455000000002,355.492,1910.505,87.97,1363.364,886.215,1396.0,3571.014,185.29,680.52,431.66,209.9,1144.5,1823.93,318.31,2468.2870000000003,1998.1779999999999,344.78,517.65,216.82,1515.798,345.639,646.26,264.593,1481.08,5581.769,1761.223,177.5,183.76000000000002,735.2,445.90999999999997,1125.8600000000001,821.296,468.78,91.78,622.63,717.3900000000001,1646.222,189.44,864.39,472.25,770.876,93.06,1770.508,240.35000000000002,2726.547,950.36,185.89,1973.368,978.8900000000001,298.59000000000003,180.279,101.8,2079.474,611.3,166.1,1504.68,166.26,848.75,1887.7640000000001,664.495,314.55,562.1500000000001,83.499,96.0,495.17,93.48,2744.156,775.409,482.743,678.1,341.98,1630.75,137.8,97.3,3390.809,2646.593,1610.699,2248.571,128.9,258.97,997.39,374.145,3919.9670000000006,572.759,95.796,822.43,81.89,80.65,334.299,634.3,403.5,910.7,631.676,554.435,12655.553,328.5,210.107,429.4,902.332,10931.42,482.25800000000004,3021.9930000000004,82.99,152.828,1553.115,516.0,702.16,2020.271,1354.16,258.57,93.5,103.0,350.95,1100.979,826.53,587.841,277.7,2092.248,87.999,1325.63,307.8,1519.208,103.98,737.36,90.8,87.9,1394.95,2247.1980000000003,1688.022,104.99000000000001,511.5,1598.83,259.898,978.17,2404.26,6680.178,2530.906,309.66,342.911,2322.352,1801.348,4534.895,1612.5,84.74,2674.2799999999997,90.2,697.64,256.56,2395.05,1653.795,95.99000000000001,90.3,165.1,958.1300000000001,84.8,105.1,1546.313,1240.159,93.989,1553.0,80.76,661.02,587.83,82.25,124.59,480.95,416.496,355.933,164.95,104.98,80.825,423.76,1192.6,84.898,487.745,82.49,83.99,435.97,631.91,335.8,108.99,275.97,98.1,1457.89,546.315,3038.32,194.79500000000002,1561.0700000000002,87.99,82.499,520.4,110.373,158.989,1641.1,248.74,530.45,2072.2,1397.772,259.95,251.17,100.8,85.799,87.49,2432.099,2477.584,962.274,21647.292,258.27,1397.173,84.3,1043.8700000000001,1212.44,878.1,409.6,541.715,910.4,102.39,240.289,1739.03,103.76,414.859,4746.51,88.95400000000001,1395.0,688.0,1788.542,792.988,410.20000000000005,89.9,1296.274,751.496,1394.6,5378.517,97.899,7109.328,133.8,739.376,2080.583,421.98800000000006,1166.853,600.7,327.95500000000004,90.7,1025.18,534.354,326.147,1051.89,2766.179,85.58,258.254,207.56,1372.27,97.0,406.54,120.96000000000001,1173.987,833.99,95.0,840.5,422.26,1403.0900000000001,2043.058,87.05,198.89000000000001,1935.31,304.20000000000005,917.88,1065.379,95.179,531.39,1501.1100000000001,129.5,1162.55,949.19,665.903,244.98000000000002,1367.814,630.0,334.8,90.9,88.998,82.29,483.89,125.46000000000001,745.845,363.29200000000003,418.98,927.0,2144.6,272.96,737.868,1902.6,2297.57,403.82,592.0,227.4,382.166,2019.4,590.89,2174.4300000000003,1165.81,546.5699999999999,821.9200000000001,1176.6,404.899,188.46,765.46,1214.83,95.99000000000001,826.0,89.79,3451.2900000000004,419.254,1020.0,2733.6000000000004,644.94,139.95,448.0,4029.9690000000005,1793.04,610.39,295.89,120.5,270.828,678.889,83.5,91.99000000000001,289.491,95.36,84.497,85.19,2002.901,87.99,88.999,99.967,510.219,287.98,363.0,3800.51,268.7,80.9,98.6,350.894,98.47,309.626,344.06,283.78,570.777,85.99,1046.5590000000002,1090.6100000000001,426.97,24387.263000000003,106.9,2457.311,86.19,1638.66,126.846,102.99000000000001,139.96,599.3,258.3,1047.1,396.9,333.95,332.28000000000003,800.8779999999999,849.95,666.99,1691.6779999999999,380.05,983.496,198.964,88.99,1917.5500000000002,99.48,2086.98,1298.0,1153.72,1840.3000000000002,98.0,288.96000000000004,5718.740000000001,326.0,1857.478,423.995,1810.37,2185.609,528.515,411.98,137.0,665.918,252.596,330.899,1178.267,1978.57,2666.259,812.027,1231.8,500.46000000000004,808.55,438.88,1953.3390000000002,337.199,125.45,1445.54,105.99,938.2180000000001,96.81,94.99000000000001,703.77,707.4,2265.718,87.98,724.2,910.6800000000001,660.75,2544.8280000000004,2109.87,1075.55,597.146,931.6,181.99,263.559,225.10399999999998,2155.0060000000003,1487.976,471.92,821.9000000000001,2884.084,713.48,200.41,82.99,118.898,261.32,176.195,100.9,864.953,196.5,476.519,356.15999999999997,1695.989,103.92,2414.87,81.89,217.579,733.993,465.5,907.8870000000001,2593.784,87.5,15016.855,581.962,412.06,419.861,2017.728,364.0,243.493,614.8,92.57,694.6400000000001,87.99,81.99,89.025,294.675,687.5,83.25,906.3,886.471,172.75,94.0,111.88,1780.839,3690.857,725.989,168.05,11710.116000000002,731.48,364.495,187.85,104.64,273.989,992.674,90.086,1012.838,138.657,252.46,2174.8630000000003,916.1400000000001,340.094,289.0,243.649,751.95,672.95,85.9,958.25,93.38,109.66,988.378,1647.956,82.392,2383.888,669.0,627.2,1715.4700000000003,2008.475,98.99000000000001,88.79,523.8,83.5,667.758,729.1,356.51,995.25,84.97,740.359,84.19,586.49,686.14,98.9,386.79,1117.0,2427.74,846.977,98.999,185.16,269.85,88.99,1084.645,2590.95,266.17,92.99000000000001,82.39,518.8,2460.55,4294.421,1019.3,85.9,1582.977,94.9,1838.71,2038.868,598.823,809.696,82.19,4326.201999999999,1417.9940000000001,1046.342,86.0,1099.9,790.415,81.49,85.9,931.89,86.099,219.997,718.2,428.95,84.152,1143.674,1729.6,95.0,107.9,781.424,485.19,864.5699999999999,193.5,649.482,866.671,132.0,95.375,1425.634,927.729,82.99,1822.0880000000002,180.06,1768.5,6652.56,113.696,276.98,1322.03,1071.483,82.23,1484.3000000000002,799.359,340.8,1707.279,82.879,112.07000000000001,138.55599999999998,1894.1570000000002,387.716,872.9200000000001,85.98,206.4,88.999,994.57,221.6,96.79,2247.829,105.96000000000001,3562.9150000000004,126.6,1846.8000000000002,157.89,456.059,158.49,1491.3700000000001,747.875,89.48,2029.3690000000001,1079.399,301.49800000000005,2382.24,431.288,617.23,6321.900000000001,1095.2,195.284,841.21,755.9929999999999,339.0,119.9,724.725,544.5,660.835,88.9,408.01,312.909,200.96,222.69,425.87,94.1,4685.853,83.87,657.125,769.74,1499.9969999999998,348.5,233.11,340.73,1174.9,155.9,643.45,99.6,2727.65,1149.228,349.96,81.25,279.7,677.3979999999999,190.68,251.87,83.99,1365.436,731.2,2422.38,339.0,192.429,984.8,1810.628,1652.4630000000002,83.299,513.49,257.64,278.7,93.9,5862.89,753.393,1512.72,1061.675,635.6610000000001,139.98,1586.2,1825.77,397.98900000000003,82.59,874.89,14651.119,83.99,99.999,475.5,90.515,1003.3000000000001,759.128,2788.1400000000003,1386.851,702.977,431.451,4719.465,507.42,1172.228,544.9300000000001,910.859,1185.2,1933.8200000000002,208.7,1604.12,268.14,934.2950000000001,84.49,98.9,99.998,282.898,888.646,86.659,188.95,258.76800000000003,1890.3000000000002,600.73,158.98000000000002,2716.23,427.639,2096.901,82.99,643.4,84.99,2673.825,3778.253,1054.85,87.99,135.0,891.4,545.707,690.734,119.237,2145.8,179.18,368.45,94.97,1686.14,1155.3899999999999,156.5,1846.424,585.28,257.99,225.8,2909.987,84.999,1903.0,82.98,1418.3,413.95,340.266,80.99,131.2,7156.3240000000005,2086.257,1675.72,111.99,87.68,1286.24,99.8,201.15,1290.83,164.77800000000002,648.27,1283.1,436.88,181.5,2251.7,81.2,87.6,153.76999999999998,178.998,130.438,1100.781,926.71,1307.0,252.05,94.9,1143.634,2069.231,3093.143,270.1,733.375,1168.15,857.827,1968.0,251.989,1238.805,829.48,87.97,1190.5900000000001,373.97,385.96000000000004,987.349,237.656,509.47,1265.018,93.599,336.688,87.0,87.0,428.404,4053.7369999999996,291.767,381.799,85.93,179.95,433.45,80.999,95.59,110.689,347.55,1229.87,917.771,109.9,1575.1950000000002,82.63,95.8,1208.9,455.004,429.7,81.25],\"yaxis\":\"y\"}],                        {\"legend\":{\"tracegroupgap\":0},\"margin\":{\"t\":60},\"template\":{\"data\":{\"bar\":[{\"error_x\":{\"color\":\"#2a3f5f\"},\"error_y\":{\"color\":\"#2a3f5f\"},\"marker\":{\"line\":{\"color\":\"#E5ECF6\",\"width\":0.5},\"pattern\":{\"fillmode\":\"overlay\",\"size\":10,\"solidity\":0.2}},\"type\":\"bar\"}],\"barpolar\":[{\"marker\":{\"line\":{\"color\":\"#E5ECF6\",\"width\":0.5},\"pattern\":{\"fillmode\":\"overlay\",\"size\":10,\"solidity\":0.2}},\"type\":\"barpolar\"}],\"carpet\":[{\"aaxis\":{\"endlinecolor\":\"#2a3f5f\",\"gridcolor\":\"white\",\"linecolor\":\"white\",\"minorgridcolor\":\"white\",\"startlinecolor\":\"#2a3f5f\"},\"baxis\":{\"endlinecolor\":\"#2a3f5f\",\"gridcolor\":\"white\",\"linecolor\":\"white\",\"minorgridcolor\":\"white\",\"startlinecolor\":\"#2a3f5f\"},\"type\":\"carpet\"}],\"choropleth\":[{\"colorbar\":{\"outlinewidth\":0,\"ticks\":\"\"},\"type\":\"choropleth\"}],\"contour\":[{\"colorbar\":{\"outlinewidth\":0,\"ticks\":\"\"},\"colorscale\":[[0.0,\"#0d0887\"],[0.1111111111111111,\"#46039f\"],[0.2222222222222222,\"#7201a8\"],[0.3333333333333333,\"#9c179e\"],[0.4444444444444444,\"#bd3786\"],[0.5555555555555556,\"#d8576b\"],[0.6666666666666666,\"#ed7953\"],[0.7777777777777778,\"#fb9f3a\"],[0.8888888888888888,\"#fdca26\"],[1.0,\"#f0f921\"]],\"type\":\"contour\"}],\"contourcarpet\":[{\"colorbar\":{\"outlinewidth\":0,\"ticks\":\"\"},\"type\":\"contourcarpet\"}],\"heatmap\":[{\"colorbar\":{\"outlinewidth\":0,\"ticks\":\"\"},\"colorscale\":[[0.0,\"#0d0887\"],[0.1111111111111111,\"#46039f\"],[0.2222222222222222,\"#7201a8\"],[0.3333333333333333,\"#9c179e\"],[0.4444444444444444,\"#bd3786\"],[0.5555555555555556,\"#d8576b\"],[0.6666666666666666,\"#ed7953\"],[0.7777777777777778,\"#fb9f3a\"],[0.8888888888888888,\"#fdca26\"],[1.0,\"#f0f921\"]],\"type\":\"heatmap\"}],\"heatmapgl\":[{\"colorbar\":{\"outlinewidth\":0,\"ticks\":\"\"},\"colorscale\":[[0.0,\"#0d0887\"],[0.1111111111111111,\"#46039f\"],[0.2222222222222222,\"#7201a8\"],[0.3333333333333333,\"#9c179e\"],[0.4444444444444444,\"#bd3786\"],[0.5555555555555556,\"#d8576b\"],[0.6666666666666666,\"#ed7953\"],[0.7777777777777778,\"#fb9f3a\"],[0.8888888888888888,\"#fdca26\"],[1.0,\"#f0f921\"]],\"type\":\"heatmapgl\"}],\"histogram\":[{\"marker\":{\"pattern\":{\"fillmode\":\"overlay\",\"size\":10,\"solidity\":0.2}},\"type\":\"histogram\"}],\"histogram2d\":[{\"colorbar\":{\"outlinewidth\":0,\"ticks\":\"\"},\"colorscale\":[[0.0,\"#0d0887\"],[0.1111111111111111,\"#46039f\"],[0.2222222222222222,\"#7201a8\"],[0.3333333333333333,\"#9c179e\"],[0.4444444444444444,\"#bd3786\"],[0.5555555555555556,\"#d8576b\"],[0.6666666666666666,\"#ed7953\"],[0.7777777777777778,\"#fb9f3a\"],[0.8888888888888888,\"#fdca26\"],[1.0,\"#f0f921\"]],\"type\":\"histogram2d\"}],\"histogram2dcontour\":[{\"colorbar\":{\"outlinewidth\":0,\"ticks\":\"\"},\"colorscale\":[[0.0,\"#0d0887\"],[0.1111111111111111,\"#46039f\"],[0.2222222222222222,\"#7201a8\"],[0.3333333333333333,\"#9c179e\"],[0.4444444444444444,\"#bd3786\"],[0.5555555555555556,\"#d8576b\"],[0.6666666666666666,\"#ed7953\"],[0.7777777777777778,\"#fb9f3a\"],[0.8888888888888888,\"#fdca26\"],[1.0,\"#f0f921\"]],\"type\":\"histogram2dcontour\"}],\"mesh3d\":[{\"colorbar\":{\"outlinewidth\":0,\"ticks\":\"\"},\"type\":\"mesh3d\"}],\"parcoords\":[{\"line\":{\"colorbar\":{\"outlinewidth\":0,\"ticks\":\"\"}},\"type\":\"parcoords\"}],\"pie\":[{\"automargin\":true,\"type\":\"pie\"}],\"scatter\":[{\"marker\":{\"colorbar\":{\"outlinewidth\":0,\"ticks\":\"\"}},\"type\":\"scatter\"}],\"scatter3d\":[{\"line\":{\"colorbar\":{\"outlinewidth\":0,\"ticks\":\"\"}},\"marker\":{\"colorbar\":{\"outlinewidth\":0,\"ticks\":\"\"}},\"type\":\"scatter3d\"}],\"scattercarpet\":[{\"marker\":{\"colorbar\":{\"outlinewidth\":0,\"ticks\":\"\"}},\"type\":\"scattercarpet\"}],\"scattergeo\":[{\"marker\":{\"colorbar\":{\"outlinewidth\":0,\"ticks\":\"\"}},\"type\":\"scattergeo\"}],\"scattergl\":[{\"marker\":{\"colorbar\":{\"outlinewidth\":0,\"ticks\":\"\"}},\"type\":\"scattergl\"}],\"scattermapbox\":[{\"marker\":{\"colorbar\":{\"outlinewidth\":0,\"ticks\":\"\"}},\"type\":\"scattermapbox\"}],\"scatterpolar\":[{\"marker\":{\"colorbar\":{\"outlinewidth\":0,\"ticks\":\"\"}},\"type\":\"scatterpolar\"}],\"scatterpolargl\":[{\"marker\":{\"colorbar\":{\"outlinewidth\":0,\"ticks\":\"\"}},\"type\":\"scatterpolargl\"}],\"scatterternary\":[{\"marker\":{\"colorbar\":{\"outlinewidth\":0,\"ticks\":\"\"}},\"type\":\"scatterternary\"}],\"surface\":[{\"colorbar\":{\"outlinewidth\":0,\"ticks\":\"\"},\"colorscale\":[[0.0,\"#0d0887\"],[0.1111111111111111,\"#46039f\"],[0.2222222222222222,\"#7201a8\"],[0.3333333333333333,\"#9c179e\"],[0.4444444444444444,\"#bd3786\"],[0.5555555555555556,\"#d8576b\"],[0.6666666666666666,\"#ed7953\"],[0.7777777777777778,\"#fb9f3a\"],[0.8888888888888888,\"#fdca26\"],[1.0,\"#f0f921\"]],\"type\":\"surface\"}],\"table\":[{\"cells\":{\"fill\":{\"color\":\"#EBF0F8\"},\"line\":{\"color\":\"white\"}},\"header\":{\"fill\":{\"color\":\"#C8D4E3\"},\"line\":{\"color\":\"white\"}},\"type\":\"table\"}]},\"layout\":{\"annotationdefaults\":{\"arrowcolor\":\"#2a3f5f\",\"arrowhead\":0,\"arrowwidth\":1},\"autotypenumbers\":\"strict\",\"coloraxis\":{\"colorbar\":{\"outlinewidth\":0,\"ticks\":\"\"}},\"colorscale\":{\"diverging\":[[0,\"#8e0152\"],[0.1,\"#c51b7d\"],[0.2,\"#de77ae\"],[0.3,\"#f1b6da\"],[0.4,\"#fde0ef\"],[0.5,\"#f7f7f7\"],[0.6,\"#e6f5d0\"],[0.7,\"#b8e186\"],[0.8,\"#7fbc41\"],[0.9,\"#4d9221\"],[1,\"#276419\"]],\"sequential\":[[0.0,\"#0d0887\"],[0.1111111111111111,\"#46039f\"],[0.2222222222222222,\"#7201a8\"],[0.3333333333333333,\"#9c179e\"],[0.4444444444444444,\"#bd3786\"],[0.5555555555555556,\"#d8576b\"],[0.6666666666666666,\"#ed7953\"],[0.7777777777777778,\"#fb9f3a\"],[0.8888888888888888,\"#fdca26\"],[1.0,\"#f0f921\"]],\"sequentialminus\":[[0.0,\"#0d0887\"],[0.1111111111111111,\"#46039f\"],[0.2222222222222222,\"#7201a8\"],[0.3333333333333333,\"#9c179e\"],[0.4444444444444444,\"#bd3786\"],[0.5555555555555556,\"#d8576b\"],[0.6666666666666666,\"#ed7953\"],[0.7777777777777778,\"#fb9f3a\"],[0.8888888888888888,\"#fdca26\"],[1.0,\"#f0f921\"]]},\"colorway\":[\"#636efa\",\"#EF553B\",\"#00cc96\",\"#ab63fa\",\"#FFA15A\",\"#19d3f3\",\"#FF6692\",\"#B6E880\",\"#FF97FF\",\"#FECB52\"],\"font\":{\"color\":\"#2a3f5f\"},\"geo\":{\"bgcolor\":\"white\",\"lakecolor\":\"white\",\"landcolor\":\"#E5ECF6\",\"showlakes\":true,\"showland\":true,\"subunitcolor\":\"white\"},\"hoverlabel\":{\"align\":\"left\"},\"hovermode\":\"closest\",\"mapbox\":{\"style\":\"light\"},\"paper_bgcolor\":\"white\",\"plot_bgcolor\":\"#E5ECF6\",\"polar\":{\"angularaxis\":{\"gridcolor\":\"white\",\"linecolor\":\"white\",\"ticks\":\"\"},\"bgcolor\":\"#E5ECF6\",\"radialaxis\":{\"gridcolor\":\"white\",\"linecolor\":\"white\",\"ticks\":\"\"}},\"scene\":{\"xaxis\":{\"backgroundcolor\":\"#E5ECF6\",\"gridcolor\":\"white\",\"gridwidth\":2,\"linecolor\":\"white\",\"showbackground\":true,\"ticks\":\"\",\"zerolinecolor\":\"white\"},\"yaxis\":{\"backgroundcolor\":\"#E5ECF6\",\"gridcolor\":\"white\",\"gridwidth\":2,\"linecolor\":\"white\",\"showbackground\":true,\"ticks\":\"\",\"zerolinecolor\":\"white\"},\"zaxis\":{\"backgroundcolor\":\"#E5ECF6\",\"gridcolor\":\"white\",\"gridwidth\":2,\"linecolor\":\"white\",\"showbackground\":true,\"ticks\":\"\",\"zerolinecolor\":\"white\"}},\"shapedefaults\":{\"line\":{\"color\":\"#2a3f5f\"}},\"ternary\":{\"aaxis\":{\"gridcolor\":\"white\",\"linecolor\":\"white\",\"ticks\":\"\"},\"baxis\":{\"gridcolor\":\"white\",\"linecolor\":\"white\",\"ticks\":\"\"},\"bgcolor\":\"#E5ECF6\",\"caxis\":{\"gridcolor\":\"white\",\"linecolor\":\"white\",\"ticks\":\"\"}},\"title\":{\"x\":0.05},\"xaxis\":{\"automargin\":true,\"gridcolor\":\"white\",\"linecolor\":\"white\",\"ticks\":\"\",\"title\":{\"standoff\":15},\"zerolinecolor\":\"white\",\"zerolinewidth\":2},\"yaxis\":{\"automargin\":true,\"gridcolor\":\"white\",\"linecolor\":\"white\",\"ticks\":\"\",\"title\":{\"standoff\":15},\"zerolinecolor\":\"white\",\"zerolinewidth\":2}}},\"xaxis\":{\"anchor\":\"y\",\"domain\":[0.0,1.0],\"title\":{\"text\":\"num_months\"}},\"yaxis\":{\"anchor\":\"x\",\"domain\":[0.0,1.0],\"title\":{\"text\":\"olist_revenue\"}}},                        {\"responsive\": true}                    ).then(function(){\n",
       "                            \n",
       "var gd = document.getElementById('ffa3aa1b-fd65-4a9f-8b20-7ab668ae07f3');\n",
       "var x = new MutationObserver(function (mutations, observer) {{\n",
       "        var display = window.getComputedStyle(gd).display;\n",
       "        if (!display || display === 'none') {{\n",
       "            console.log([gd, 'removed!']);\n",
       "            Plotly.purge(gd);\n",
       "            observer.disconnect();\n",
       "        }}\n",
       "}});\n",
       "\n",
       "// Listen for the removal of the full notebook cells\n",
       "var notebookContainer = gd.closest('#notebook-container');\n",
       "if (notebookContainer) {{\n",
       "    x.observe(notebookContainer, {childList: true});\n",
       "}}\n",
       "\n",
       "// Listen for the clearing of the current output cell\n",
       "var outputEl = gd.closest('.output');\n",
       "if (outputEl) {{\n",
       "    x.observe(outputEl, {childList: true});\n",
       "}}\n",
       "\n",
       "                        })                };                });            </script>        </div>"
      ]
     },
     "metadata": {},
     "output_type": "display_data"
    }
   ],
   "source": [
    "# olist cumulative revenue per number of months a seller is on the platform\n",
    "\n",
    "#sns.regplot(x=\"num_months\", y=\"olist_revenue\", data=olist_revenue.sample(600))\n",
    "\n",
    "fig = px.scatter(olist_revenue, x=\"num_months\", y=\"olist_revenue\")\n",
    "fig.show()"
   ]
  },
  {
   "cell_type": "code",
   "execution_count": 160,
   "metadata": {},
   "outputs": [
    {
     "data": {
      "application/vnd.plotly.v1+json": {
       "config": {
        "plotlyServerURL": "https://plot.ly"
       },
       "data": [
        {
         "alignmentgroup": "True",
         "bingroup": "x",
         "histnorm": "probability",
         "hovertemplate": "seller_revenue=%{x}<br>probability=%{y}<extra></extra>",
         "legendgroup": "",
         "marker": {
          "color": "#636efa",
          "pattern": {
           "shape": ""
          }
         },
         "name": "",
         "nbinsx": 20,
         "offsetgroup": "",
         "orientation": "v",
         "showlegend": false,
         "type": "histogram",
         "x": [
          -123.16999999999999,
          9332.762999999999,
          62.2,
          -8.009,
          71.191,
          -26.089999999999996,
          1848.825,
          2708.84,
          288.71400000000006,
          65004.157999999996,
          -115.80000000000001,
          116.84000000000003,
          2409.806,
          -41.39000000000001,
          1699.8519999999999,
          2394.1,
          -9.079999999999998,
          900.1200000000001,
          548.63,
          307.28000000000003,
          295.6,
          408.78,
          2738.8129999999996,
          3469.2099999999996,
          -103.10500000000002,
          1038.7,
          1004.4010000000001,
          2246.56,
          2483.272,
          694.2030000000001,
          -105.955,
          -12.5,
          722.6800000000001,
          -175.3800000000001,
          10882.456999999999,
          726.4,
          64.9,
          -447.32,
          605.8820000000001,
          426.47,
          -371.96,
          209.62,
          3507.9599999999996,
          64.45999999999998,
          78.38199999999999,
          19305.889,
          -53.089999999999996,
          1514.7549999999999,
          484.3,
          10.399999999999977,
          10070.81,
          1650.3699999999997,
          3458.331,
          141.24,
          -408.06,
          -8.475000000000023,
          -529.5,
          259.12,
          -111.25099999999998,
          236.62,
          3537.7709999999997,
          1294.395,
          2552.402,
          2058.132,
          -96.36000000000001,
          2964.1,
          21503.648,
          157028.683,
          180.82,
          7194.287,
          830.3679999999999,
          29812.887000000002,
          570.4,
          -164.4,
          3637.259,
          4784.6810000000005,
          1442.8,
          57.17799999999998,
          386.02,
          1223.609,
          9731.89,
          6820.11,
          93.64099999999962,
          16598.61,
          10403.983,
          1263.81,
          27.909999999999997,
          14483.1,
          2409.159,
          9.909999999999997,
          90.91,
          -120.89999999999998,
          -198.45000000000005,
          606.7400000000001,
          952.1920000000001,
          3756.7099999999996,
          594.64,
          2609.8,
          1017.0100000000001,
          6021.745999999999,
          135.91,
          63.82000000000001,
          -62.089999999999996,
          2971.648,
          -5.090000000000032,
          4432,
          -60.559999999999995,
          277.3,
          717.528,
          352.73,
          1370.9700000000003,
          216.63400000000001,
          -33.2,
          13773.911,
          48775.495,
          162.90999999999997,
          387.74,
          1450.722,
          15416.676,
          81.91,
          -136.12,
          45.56,
          -83.40899999999999,
          7158.665000000001,
          2879.2,
          247.59199999999998,
          6665.616999999999,
          4034.447,
          1064.4599999999998,
          494.18999999999994,
          161.70100000000002,
          190.74799999999996,
          8957.018,
          -288.11,
          10123.505000000001,
          2382.21,
          1632.7299999999998,
          68.33000000000001,
          -68.25999999999999,
          325.21,
          -56.60900000000001,
          27.72999999999999,
          -17.00800000000001,
          227.99099999999999,
          6637.969999999999,
          75.94599999999997,
          0.9100000000000108,
          924.1089999999999,
          3617.784,
          889.089,
          3718.65,
          235.7600000000001,
          529.3,
          -68.75,
          2694.745,
          330.78000000000003,
          5216.9,
          141.5,
          534.7379999999999,
          -176.80899999999997,
          -179.59,
          728.95,
          12329.6,
          52.29100000000001,
          1040.0839999999998,
          2704.019,
          3839.883,
          12850.283,
          5.5,
          430.352,
          5854.8,
          101.23399999999998,
          58.10000000000002,
          637.6130000000002,
          2334.072,
          206.2,
          136.3,
          -349.5,
          6599.255000000001,
          -85.264,
          164.10999999999996,
          720.4269999999999,
          -30.626000000000005,
          22.609999999999985,
          195.36399999999998,
          -62.80000000000001,
          10858.98,
          1216.9,
          -26.900000000000006,
          4302.45,
          323.483,
          -142.14999999999998,
          833.973,
          873.92,
          31923.36,
          415.10999999999996,
          2200.13,
          11891.749,
          236.73000000000002,
          7170.470000000001,
          -54.89000000000001,
          365.47299999999996,
          3871.636,
          -195.10000000000002,
          613.753,
          1486.8600000000001,
          -49.58,
          828.91,
          -10.25,
          -114.26999999999998,
          -62.009,
          73.64000000000001,
          -675,
          255.8,
          -12.130000000000024,
          276.019,
          -37.7,
          -70.07999999999998,
          1460.722,
          141.73000000000002,
          -62.63000000000001,
          -402.644,
          82.54000000000002,
          -1352.87,
          1074.895,
          -27.08,
          10569.66,
          -53.089999999999996,
          -127.96500000000003,
          379,
          793.9100000000001,
          4993.16,
          32.45999999999992,
          1.1999999999999886,
          101706.073,
          11844.27,
          5887.981,
          2022.4800000000002,
          189.55,
          943.27,
          -198.39999999999998,
          23.5,
          623.731,
          119.92000000000002,
          45.91,
          88.005,
          3599.7099999999996,
          0.9549999999999983,
          -428.6,
          131.5,
          716.3650000000001,
          -29.690000000000005,
          108.47800000000007,
          81.91,
          2127.96,
          -35.36000000000001,
          13811.329,
          3468.7400000000002,
          1489.7559999999999,
          4767.865,
          -69.28999999999999,
          604.7299999999999,
          -105.27000000000001,
          10816.72,
          -32.971000000000004,
          369.47200000000004,
          5658.781,
          -1.8800000000000097,
          22845.638,
          32196.203999999998,
          -337.62,
          22039.987999999998,
          18961.539999999997,
          7244.66,
          3489.286,
          2045.0589999999997,
          3706.7090000000003,
          184.36999999999995,
          315.55999999999995,
          12703.511,
          227.37300000000005,
          99.01,
          402.20000000000005,
          -54.89000000000001,
          -124.20999999999992,
          -398,
          12407.543000000001,
          333.70799999999997,
          73.72999999999999,
          235.603,
          871.9830000000001,
          6049.936000000001,
          1044.1309999999999,
          -89.48500000000001,
          3018.295,
          -305.80500000000006,
          5621.391,
          408,
          1449.1,
          -634.2180000000001,
          614.211,
          367.75299999999993,
          3060.2,
          78.92599999999999,
          -35.900000000000006,
          957.5699999999999,
          870.5599999999997,
          -35,
          -84.4,
          45.099999999999994,
          239.40999999999997,
          6960.26,
          6180.783000000001,
          693.4,
          2088.6,
          14982.121,
          -53.009,
          13940.619999999999,
          1774.337,
          2778.1,
          1,
          16461.439,
          1603.41,
          861.6800000000001,
          5021.65,
          9935.545,
          171.1,
          1775.8,
          -50,
          -332.86,
          50.32000000000001,
          61.03999999999999,
          17.03,
          100.291,
          1039.6,
          521.3009999999999,
          9.099999999999994,
          324.01,
          4395.73,
          63.91,
          9.982,
          -58.49,
          4095.1210000000005,
          -36.980000000000004,
          -17.180000000000007,
          170.473,
          53.40999999999997,
          -48.5,
          5816.55,
          1360.717,
          -92.52700000000002,
          -347.908,
          1719.1,
          11172.97,
          920,
          44.02000000000001,
          24.995000000000005,
          8410.19,
          200.39999999999998,
          2420.944,
          3185.9,
          707.3,
          -743.3399999999999,
          8789.713,
          3415.91,
          3091.7299999999996,
          226,
          207.1,
          1805.95,
          -139.861,
          -227.43000000000006,
          1833.8899999999999,
          120534.53000000001,
          172.829,
          1749.996,
          4784.037,
          144.10999999999999,
          166.12,
          11244.47,
          93.25999999999999,
          -62.089999999999996,
          1344.462,
          -114.19800000000001,
          -57.509,
          -65.69,
          -216.59,
          603.91,
          604.55,
          278.02,
          328.33,
          34.85999999999996,
          -60.209,
          -26.899,
          1304.425,
          145.84000000000003,
          8.200000000000003,
          105.21400000000006,
          37,
          4003.84,
          1210.17,
          -186.18,
          -2.1500000000000057,
          3459.7900000000004,
          7396.424000000001,
          47065.462,
          -21.58999999999999,
          669.35,
          29468.753999999997,
          144.991,
          1349.3200000000002,
          -105.36999999999999,
          979.4,
          -167.39999999999998,
          2839.6899999999996,
          -475.29999999999995,
          -39.95,
          4166.6,
          1319.6100000000001,
          107.30000000000001,
          5647.081,
          729.91,
          6861.9800000000005,
          621.8199999999999,
          11826.644,
          3392.6400000000003,
          6400.361,
          585.1,
          70.5,
          325,
          -26.089999999999996,
          534.8019999999999,
          -25.549999999999997,
          -292.27000000000004,
          10003.276,
          -77.37400000000002,
          6574.2,
          2646.7,
          5202,
          1109.946,
          70.3,
          -62.680000000000064,
          2112.444,
          349.3,
          5459.903,
          -12.77000000000001,
          1723.2199999999998,
          491.7,
          842.2080000000001,
          215.02,
          6233.436000000001,
          6980.659,
          16623.7,
          231.89999999999998,
          94805.28899999999,
          9779.34,
          230.30199999999996,
          95.662,
          266.35999999999996,
          -636.98,
          1760.0300000000002,
          60435.5,
          -26.089999999999996,
          886.1,
          9.819999999999993,
          551.05,
          149.47000000000003,
          2513.2,
          27.460000000000008,
          -39.5,
          1040.755,
          620.5400000000001,
          213.37,
          -721.23,
          -203.48600000000005,
          -525.8799999999999,
          1410.087,
          1417.531,
          -97,
          372.72799999999995,
          -16.17999999999998,
          3914.9460000000004,
          11984.063,
          9.909999999999997,
          1547.1480000000001,
          -74.00999999999999,
          35.92999999999998,
          18350.461,
          9231.372,
          2352.41,
          530.319,
          -63.980000000000004,
          -412.93600000000004,
          9604.539,
          721.2120000000002,
          3288.71,
          194.716,
          43.3,
          -378.67,
          5769.1,
          764.2,
          -67.4,
          24307.277,
          -612.7199999999999,
          -41.93599999999998,
          226.39999999999998,
          4086.2,
          1946.533,
          50.708,
          -8.180000000000007,
          13800.970000000001,
          386.2,
          71.13000000000005,
          -30.680000000000007,
          -41.11999999999999,
          41.5,
          414.84000000000003,
          356.15,
          0.9100000000000108,
          130.22800000000007,
          266.5,
          -165.04500000000002,
          -508.1589999999999,
          -83.47000000000003,
          -8,
          188.22000000000003,
          26466.381999999998,
          11630.455,
          4035.83,
          -20.024,
          -17.08999999999999,
          467.04,
          7.839999999999989,
          -62.018,
          338.33000000000004,
          173037.827,
          752.71,
          1714.946,
          -13.409000000000006,
          145.60000000000002,
          138.37999999999994,
          -296.9000000000001,
          10045.038,
          1132.3,
          99.1,
          199.45,
          -201.57000000000005,
          631.01,
          0.9100000000000108,
          10640.016,
          -4.400000000000006,
          15712.1,
          940.3600000000001,
          -17.08999999999999,
          1278.2,
          27.909999999999997,
          -338.76000000000005,
          456.0319999999999,
          3104.7110000000002,
          10465.253,
          1319.5,
          4671.677,
          -205.818,
          -224.75,
          -30.5,
          2023.6999999999998,
          434.4149999999999,
          237.70000000000005,
          3757.1400000000003,
          91.45000000000005,
          -53.009,
          5580.539,
          -8.08999999999999,
          -36.980000000000004,
          760.52,
          569.297,
          18.909999999999997,
          -35.675,
          -53.269999999999996,
          37143.362,
          409.98,
          1266.7,
          865.8199999999999,
          99.91,
          9201.327000000001,
          544.8800000000001,
          1272.1,
          -53.449,
          657.22,
          -168.18,
          4982.5650000000005,
          4471.68,
          520.5730000000001,
          2874.761,
          4809.668000000001,
          1805.0700000000002,
          7704.790000000001,
          221.77999999999997,
          4.599999999999994,
          247.7,
          109,
          384.1,
          -115.13500000000002,
          -41.39000000000001,
          9833.189,
          -628.7,
          557.4,
          145,
          34116.755,
          257.60299999999995,
          468.93000000000006,
          274,
          715.1849999999998,
          632.8,
          81.82000000000001,
          118,
          3114.1,
          27456.87,
          248.29999999999995,
          37326.655,
          2749.872,
          909.1,
          7286.119999999999,
          21638.5,
          -1044.9199999999998,
          695.0640000000001,
          1558.1789999999999,
          1106.14,
          45.099999999999994,
          2821.946,
          90.1,
          147.02499999999998,
          -17.009,
          3042.07,
          688.676,
          6399.5,
          -39.589999999999996,
          32.5,
          286.65999999999997,
          16488.9,
          118.875,
          72.88799999999992,
          -57.589999999999996,
          576.98,
          549.478,
          18.099999999999994,
          -261.409,
          1372.2700000000002,
          1617.3,
          170.2,
          -35.900000000000006,
          1175.4299999999998,
          496.3399999999999,
          333.1,
          810.04,
          -211,
          82,
          11.710000000000008,
          239.5,
          -53.18000000000001,
          -181.29999999999995,
          -16.139999999999986,
          -113.21800000000002,
          958.6,
          1035.0839999999998,
          163.64000000000001,
          649,
          9.099999999999994,
          1443.1,
          90.53699999999992,
          3066.9739999999997,
          1066.52,
          204.02299999999997,
          33.264999999999986,
          360.37999999999994,
          689.3,
          409.8,
          -12.479999999999961,
          1629.8,
          8.200000000000003,
          58.39999999999998,
          85.06200000000001,
          135.48200000000003,
          195.23000000000005,
          -45.197,
          29212.502,
          267.049,
          6067,
          433,
          92.23000000000002,
          10232.39,
          -21.5,
          -73.68,
          2754.13,
          1778.0520000000001,
          531.2,
          562.73,
          0.6700000000000159,
          1411.95,
          9033.671,
          6084.514999999999,
          -219.84,
          693.0039999999999,
          8220.538,
          432.1,
          3362.928,
          -512.309,
          1247.5,
          -2.769999999999982,
          2132.0699999999997,
          62.88499999999988,
          3979.3900000000003,
          27.991,
          1999.982,
          -28.700000000000003,
          616.1100000000001,
          16.165999999999997,
          1856,
          -38.78,
          1070.48,
          1015.9599999999998,
          6709.406,
          950.6370000000001,
          7857.7,
          -103.02499999999998,
          1493.454,
          410.15999999999997,
          121.906,
          7238.665000000001,
          1738.7799999999997,
          198.1,
          658.3539999999999,
          1184.811,
          17.650000000000006,
          -306.0970000000001,
          36.91,
          174.07999999999998,
          220.74600000000004,
          -454.15999999999997,
          39311.25,
          135.98199999999997,
          1301.8,
          1173.2399999999998,
          32093.1,
          454.4100000000001,
          -84.47999999999996,
          63.82000000000001,
          172.24800000000005,
          2866.659,
          7515.6,
          7127.829999999999,
          5652.89,
          4019.5,
          3785.5280000000002,
          436.79999999999995,
          2460.7540000000004,
          9182.600999999999,
          37,
          63.82000000000001,
          50.5,
          528.8,
          57.61,
          -686.5250000000001,
          1242.8020000000001,
          -155.4,
          157.6,
          19692.43,
          3059.3909999999996,
          351.902,
          307.27,
          109454.34700000001,
          -26.477000000000004,
          42.129999999999995,
          -913.5,
          -31.58,
          754.23,
          -52.17999999999999,
          307.0100000000001,
          189.1,
          232.5,
          5.5,
          24933.088,
          -46.79,
          -53.80000000000001,
          13.329999999999984,
          65.928,
          28,
          1972.8200000000002,
          4806.1,
          -258.58,
          371.08000000000004,
          5025.178,
          2612.0609999999997,
          -53.089999999999996,
          -31.504999999999995,
          683.5,
          7191.11,
          729.1,
          14.042000000000002,
          119.99000000000001,
          861.4,
          3739.878,
          5658.97,
          5915.3,
          65.79100000000001,
          -467.54,
          1040.5,
          -687.444,
          336.7850000000001,
          1374.2,
          11165.31,
          -50.18000000000001,
          82,
          -8.548999999999992,
          331.921,
          404.91999999999996,
          739,
          -48.360000000000014,
          -295.70900000000006,
          14709.2,
          2649.8,
          140.52999999999997,
          10525.646999999999,
          39.83800000000002,
          262.115,
          2575.9,
          816.7449999999999,
          3755.2,
          8360.576,
          -126.6,
          364.35,
          6217.232,
          6358.992,
          1908.9299999999998,
          8455.03,
          -37.06999999999999,
          180.90999999999997,
          154.37,
          197.9600000000001,
          1061.68,
          1383.6,
          263.251,
          5316.282999999999,
          125.09500000000003,
          45.099999999999994,
          2678.9700000000003,
          -445.289,
          2311.09,
          -17.08999999999999,
          1322.6509999999998,
          2315.968,
          685.1100000000001,
          1061.92,
          2175.714,
          4514.09,
          764.386,
          3538.806,
          6667.737999999999,
          3607.3,
          601.0840000000001,
          -38.690000000000005,
          28,
          99.82000000000001,
          -159.16500000000008,
          16002.824,
          -35.900000000000006,
          246.8,
          23466.6,
          22171.489999999998,
          199538.44499999998,
          954.964,
          1098.9460000000001,
          332.2,
          422.56999999999994,
          318.95399999999995,
          2662.676,
          7733.168000000001,
          -44.900000000000006,
          585.793,
          859.6579999999999,
          32.724999999999994,
          -168.02499999999998,
          873.6,
          2505.746,
          298,
          4764.782,
          2718.0460000000003,
          45757.445,
          -21.364999999999995,
          -291.38,
          -35.089999999999996,
          8014.59,
          -22.67000000000001,
          3615.92,
          1015.8740000000001,
          210.2,
          1022.3,
          278.7900000000001,
          -196.16,
          14.080000000000041,
          -270.20000000000005,
          1004.71,
          -265.22799999999995,
          2552.4,
          1212.5,
          -78.80000000000001,
          -239.5,
          271.01099999999997,
          -100.39999999999998,
          969,
          8.200000000000003,
          -612.0800000000002,
          623.27,
          35.019999999999996,
          219.62,
          -376.42499999999995,
          465.057,
          59.41,
          1281.028,
          15512.73,
          1065.9700000000003,
          43.69999999999999,
          -134.825,
          376.60999999999996,
          -28.591000000000008,
          60.5,
          -35.089999999999996,
          56.700000000000045,
          35.335999999999984,
          99.99100000000001,
          2212.89,
          21989.271,
          -17.08999999999999,
          149.8,
          1522.8769999999997,
          17274,
          8.875,
          324.3,
          9584.952000000001,
          -66.05,
          1560.935,
          12631.9,
          11.844999999999999,
          595,
          23346.05,
          50.32000000000001,
          32419.767999999996,
          974.2799999999997,
          -80.61999999999999,
          -53.54,
          -88.17999999999999,
          696.9359999999999,
          292.132,
          6093.65,
          582.571,
          424,
          57923.649,
          981.5100000000001,
          4150,
          -39.30200000000001,
          84.7,
          -154.5,
          620.923,
          1359.1,
          5460.081,
          -449.14400000000006,
          2051.92,
          2942.695,
          52.83999999999999,
          5435.334000000001,
          108.94699999999997,
          -44.089999999999996,
          1073.845,
          398.1,
          -445.228,
          1854.9270000000001,
          270.991,
          6800.377,
          162.61,
          185.31999999999994,
          1920.6,
          1859.5299999999997,
          22656.6,
          713.72,
          24.69999999999999,
          82,
          -113.81000000000003,
          -50.13499999999999,
          10.406000000000063,
          -60.019999999999996,
          -528.5799999999999,
          -604.17,
          774.7,
          -182.4,
          331.1,
          -4.085000000000008,
          -160.20000000000005,
          20518.518,
          13517.19,
          531.3499999999999,
          42.38199999999999,
          187.85000000000002,
          -265.18899999999996,
          747.03,
          13443.77,
          -7.189999999999998,
          -95.59000000000003,
          394.86999999999995,
          -17.900000000000006,
          1091.882,
          6380.4,
          38.73000000000002,
          1127.964,
          1392.1280000000002,
          567.4599999999998,
          2241.2480000000005,
          713.4630000000002,
          3187.768,
          6046.05,
          45.82000000000001,
          3464.411,
          -70.512,
          -33.20999999999992,
          -801.016,
          1945.1,
          -33.23000000000002,
          -347.99,
          139.80999999999995,
          1058.6,
          777.9009999999998,
          6806.26,
          465.69100000000003,
          -93.589,
          941.1400000000001,
          800.2,
          7652.95,
          875.218,
          3661.7,
          457.33700000000005,
          153.1,
          4951.719,
          51.31,
          -17,
          99.99100000000001,
          1138.27,
          238.754,
          4376.4,
          14709.22,
          2914.5969999999998,
          137.26,
          -35.089999999999996,
          622,
          47.63799999999999,
          13801.294999999998,
          -382.988,
          5375.706999999999,
          -66.58999999999999,
          126.91,
          -109.93,
          -26.089999999999996,
          728.4,
          28,
          -159.97000000000003,
          -53,
          21132.027,
          146.8,
          37885.749,
          13830.06,
          1237.6100000000001,
          45.964,
          11533.442000000001,
          7.290999999999997,
          -42.416000000000004,
          -110.67000000000002,
          -90.22000000000003,
          -433.38,
          809.2630000000001,
          -95.30799999999999,
          1437,
          236.76,
          -107.71699999999998,
          45311.786,
          887.1870000000001,
          -138.64999999999998,
          3996.703,
          183.945,
          380.8899999999999,
          29039.102,
          1416.81,
          -61.190000000000005,
          1008.2,
          6898.302000000001,
          153.55,
          -42.35000000000002,
          3283.0609999999997,
          -251.5,
          -241.49,
          97.21000000000001,
          35280.765999999996,
          -42.29,
          551.6300000000001,
          4969.886,
          505.0920000000001,
          -22.079999999999984,
          -110.67999999999999,
          -417.18,
          8368.78,
          340.5,
          26.5,
          5179.522,
          -308.09900000000005,
          581.491,
          345.93700000000007,
          2749.4799999999996,
          -574.47,
          40.599999999999994,
          -134.187,
          -213.46899999999994,
          199.39999999999998,
          12.199999999999989,
          5899.918000000001,
          3142.5,
          3716.0099999999998,
          2171.037,
          -217.5,
          -35.900000000000006,
          24.629999999999995,
          66.68799999999999,
          629.5,
          5062.9,
          -226.21,
          189.90099999999998,
          1593.01,
          167611.50100000002,
          -26.089999999999996,
          45.91,
          2309.2509999999997,
          270.1,
          302.5,
          -106.89100000000002,
          531.7200000000003,
          117.91,
          1386.006,
          -63.480999999999995,
          12069.287,
          1945,
          -0.8900000000000006,
          2944.6310000000003,
          99.1,
          6556.1,
          1034.65,
          36.91,
          903.1,
          -44.900000000000006,
          5773.8,
          4682.72,
          45.91,
          2762.6,
          11062.15,
          37925.856,
          5728,
          4.204000000000008,
          44.875,
          568.839,
          -32.489,
          3136.0040000000004,
          -53.108000000000004,
          101.71000000000001,
          8842.449,
          361.34000000000015,
          4980.5,
          -79.27000000000001,
          18.909999999999997,
          -120.102,
          8904.301,
          3327.93,
          -6.7999999999999545,
          619,
          984.4,
          3936.2,
          6465.625,
          54.86700000000002,
          5345.830999999999,
          -848.5600000000001,
          -5.299999999999997,
          243.73000000000005,
          2809.9300000000003,
          7857.1810000000005,
          -79.27000000000001,
          5329.613,
          415.53599999999994,
          5526.405,
          743.861,
          146.62,
          -23.758999999999993,
          1723.35,
          1920.3700000000001,
          9437.964999999998,
          517.8,
          5784.867,
          2886.5269999999996,
          -113.28,
          23094.576999999997,
          4805.607,
          107.07399999999998,
          -62,
          1044.15,
          472.982,
          45.099999999999994,
          5868.75,
          -867.73,
          231.37,
          48171.298,
          819.2,
          17581.528,
          35.829999999999984,
          1831.8329999999999,
          59.788,
          98.02000000000001,
          3820.0099999999998,
          3.6099999999999994,
          4987.003999999999,
          10469.768,
          -794.478,
          -30.5,
          4303.6939999999995,
          -371.0630000000001,
          -134.8,
          245,
          38066.1,
          674.6,
          520.21,
          315.20000000000005,
          151.04000000000002,
          2478.888,
          711.83,
          88.021,
          3443.2909999999997,
          -703.8799999999999,
          15882.228,
          2153.78,
          1848.7,
          -728.48,
          -859.5,
          559.46,
          266.5,
          -287.5,
          247.25,
          -137.70000000000005,
          32158.06,
          5293.989,
          -746.95,
          1920.8899999999999,
          5425.6,
          2964.8,
          419.241,
          6021.11,
          1803.3429999999998,
          -293.80899999999997,
          318.4000000000001,
          6159.87,
          511.09299999999996,
          -41.55000000000001,
          66.68299999999999,
          462.72,
          285.43000000000006,
          319.55,
          424,
          783.991,
          7417.786000000001,
          254.45999999999998,
          -10.780000000000001,
          1118,
          638.1399999999999,
          7659.347,
          4379.1,
          2826.316,
          3953.2900000000004,
          7039.3,
          296.23900000000003,
          8634.547,
          139.7,
          -62.18000000000001,
          -31.400000000000006,
          3611.925,
          -25.190000000000005,
          818.2,
          54.82000000000001,
          71.201,
          4.653999999999996,
          90.01,
          54.91,
          124.13000000000005,
          408.1,
          1389.5,
          -45.61999999999999,
          647.3409999999999,
          1551.983,
          492.5100000000001,
          189.73000000000005,
          403.984,
          1166.94,
          2478,
          -245.639,
          1136.4699999999998,
          414.058,
          715.9,
          751.7829999999999,
          731.54,
          -57.5,
          537.4810000000002,
          6785.280000000001,
          3487.7299999999996,
          776.482,
          -97.09799999999998,
          -67.49,
          1076.7,
          1051.54,
          378.55999999999995,
          -88.80000000000001,
          18609.704,
          -222,
          189.51099999999997,
          1260.3,
          28.55000000000001,
          2189.93,
          144.31999999999994,
          205.93000000000004,
          5453.9,
          917.043,
          -563.1310000000001,
          -66.38,
          3744.0819999999994,
          239.40999999999997,
          2644.867,
          5672.359,
          842.548,
          2600.85,
          1312.547,
          1145.55,
          6629.342000000001,
          2666.2519999999995,
          10714.06,
          -63.65300000000002,
          203.46400000000003,
          2894.557,
          206.2,
          28275.44,
          16996.572,
          790.3,
          -122.38000000000001,
          738.92,
          -49.125999999999976,
          -53.97000000000003,
          -485.40700000000004,
          5765,
          4702.619,
          380,
          92259.578,
          7739.341,
          5159.3,
          2567.82,
          371.1100000000001,
          3891.57,
          426.91999999999996,
          -23.480000000000004,
          619.4,
          2381.13,
          2726.757,
          100,
          -16.950000000000045,
          3379.0099999999998,
          1692.9830000000002,
          612.2,
          27.819999999999993,
          294.94399999999996,
          0.09999999999999432,
          12667.054,
          1134.02,
          823.98,
          2309.091,
          19614.59,
          49243.49,
          98.62200000000007,
          409.89,
          218.18399999999997,
          27.622,
          111.94000000000005,
          4630.217000000001,
          108.01,
          15649.560000000001,
          -17.08999999999999,
          1317.65,
          1,
          2283.7509999999997,
          424.95500000000004,
          -398.25,
          23.5,
          -59.319999999999936,
          2393.4939999999997,
          -3.5,
          -21.509,
          1979.9399999999998,
          228.50199999999998,
          14.5,
          3649.5609999999997,
          -26,
          -585.5,
          9145.170000000002,
          -72.35900000000001,
          -39.5,
          10783.630000000001,
          426.75,
          13099.505,
          674.7990000000001,
          469.074,
          23.5,
          17953.502,
          -171.1500000000001,
          2697.42,
          3812.225,
          2727.044,
          1389.2649999999999,
          6945.615,
          -460.6679999999999,
          -63.08,
          -299.27000000000004,
          4155.982,
          55.53999999999999,
          500.88000000000005,
          360.4,
          -760.25,
          2296.319,
          -427.4,
          123.46999999999991,
          8718.45,
          4646.197,
          -86.27999999999997,
          2076.75,
          4618.495999999999,
          344.31999999999994,
          -444.18,
          -2.0120000000000005,
          2076,
          11152.35,
          39.7,
          27.909999999999997,
          2143.3469999999998,
          302.40999999999997,
          -93.57,
          -34.17999999999998,
          2547.7560000000003,
          1895.0370000000003,
          -17.900000000000006,
          -41.781000000000006,
          44669.191999999995,
          6394.209999999999,
          7134.130000000001,
          222.4,
          -340.618,
          725.119,
          0.09999999999999432,
          6766.767,
          2304.6450000000004,
          -594.1800000000001,
          7.659999999999997,
          334,
          2921.4700000000003,
          28187.629,
          729.9699999999999,
          49060.713,
          390.385,
          715.7270000000001,
          -42.37899999999999,
          5284.9439999999995,
          945.0670000000001,
          27707.343999999997,
          2803.2909999999997,
          -62.089999999999996,
          124.12400000000002,
          21229.475,
          343.29,
          3846.351,
          776.6379999999999,
          376.91999999999996,
          2167.7,
          1461,
          2131.736,
          44.74000000000002,
          40109.36,
          591.473,
          512.3,
          19186.72,
          -20.579999999999984,
          1136.581,
          1861.3,
          4377.073,
          260.482,
          -342.1089999999999,
          -134.77999999999997,
          -92.67999999999999,
          6128.9,
          164.8,
          1389.7,
          1577.793,
          2712.6639999999998,
          378.4,
          358.75,
          14597.651999999998,
          1581.636,
          595.441,
          3934.6,
          7718.257999999999,
          1412.947,
          135.82,
          -53,
          413.25399999999996,
          -7.4950000000000045,
          1070.524,
          -119.19999999999999,
          2524.0080000000003,
          -8.941000000000031,
          2485.2439999999997,
          5920.091,
          219.10000000000002,
          81.01,
          7454.417000000001,
          115.09100000000012,
          3976.1,
          260.49299999999994,
          6444.5,
          8628.964,
          993.143,
          -15.564000000000078,
          -813.48,
          99.1,
          -121.79999999999995,
          1855.0620000000004,
          479.55,
          34636.75,
          5987.700999999999,
          -747.6800000000001,
          997.3,
          1180,
          6128.11,
          70.5,
          5580.22,
          6008.717999999999,
          217.1,
          -664.2900000000001,
          66.01999999999998,
          594.1,
          998.2,
          -37.339999999999996,
          515.1049999999998,
          585.982,
          55.72300000000001,
          11613.043000000001,
          961.1600000000001,
          60.31,
          715.2600000000001,
          -329.9900000000001,
          437.3650000000001,
          5420.2,
          -858.6800000000001,
          120,
          14.670999999999992,
          -192.452,
          488.79999999999995,
          1662.4299999999998,
          1779.0700000000002,
          56.8,
          1737.1680000000001,
          -4.489999999999995,
          164.52999999999997,
          5149.710999999999,
          -35.99,
          337.73,
          142.84299999999996,
          1210.1,
          915.673,
          271,
          -532.72,
          1563.112,
          35512.826,
          55,
          489.70099999999996,
          2206.2,
          -44.05000000000001,
          973.5600000000001,
          2091.12,
          66.60000000000002,
          180.541,
          2790.081,
          -35.089999999999996,
          601.5,
          3522.262,
          341.3,
          -68.30900000000001,
          498.37000000000006,
          103.6,
          39587.333,
          1248.491,
          1435.205,
          228.7,
          405.982,
          5569.2,
          1658.4,
          44.39999999999998,
          99.82000000000001,
          -31.13000000000001,
          -60.95999999999992,
          64.9,
          1483.5,
          -139.19000000000003,
          4707.112999999999,
          687.2,
          -111.29000000000002,
          -274,
          -39.50899999999999,
          -143.079,
          57152.770000000004,
          176.5,
          -35.900000000000006,
          216.91000000000008,
          283.07,
          935.9330000000001,
          238.4699999999999,
          13647.865,
          9502.8,
          -35.18000000000001,
          -242.38000000000005,
          6236.4,
          929.483,
          122.32000000000001,
          3676.319,
          -505,
          46.099999999999994,
          3273.5600000000004,
          136.10999999999996,
          209.35,
          10.810000000000002,
          8478.478,
          16708.678,
          1321.8,
          3874.9,
          242.2,
          508.5,
          -24.596000000000004,
          810.7660000000001,
          1118.682,
          3591.7599999999998,
          -559.8,
          1124.776,
          10797.695,
          13681.22,
          28.460000000000008,
          1006.6990000000001,
          -8.08999999999999,
          951.1100000000001,
          -116.60000000000002,
          18.909999999999997,
          5296.7919999999995,
          10082.082,
          -8.535999999999945,
          550.001,
          27980.19,
          315.1,
          36.81099999999999,
          -62.99,
          -11.518999999999991,
          -13.939999999999998,
          541.656,
          -406.576,
          1515.6509999999998,
          271.28,
          1697.1,
          502.5,
          1618.5100000000002,
          271.55,
          -132.036,
          745.732,
          74.82,
          -1067.5079999999998,
          45.54100000000001,
          869.77,
          3696.15,
          451.0799999999999,
          993.8,
          -17.08999999999999,
          -2.0600000000000023,
          221.491,
          2961.8,
          339.54999999999995,
          -151.04999999999995,
          1145.855,
          2484.461,
          95.23000000000002,
          423.2,
          181.82,
          1006.05,
          -1214.54,
          -37.39000000000004,
          2139.08,
          3650.02,
          139.70999999999998,
          10487.21,
          894.2989999999999,
          1102.9,
          -53.78999999999999,
          2514.407,
          -49.039999999999964,
          86.19000000000005,
          28,
          21544.796,
          -395.76800000000003,
          3411.7909999999997,
          18.991,
          4271.541,
          121.691,
          415.91099999999994,
          -307.57,
          -292.99,
          13121.55,
          1267.7920000000001,
          583.8020000000001,
          3031.819,
          1531.8759999999997,
          1355.77,
          2572.3,
          463.169,
          -64.62700000000001,
          726,
          3159.8269999999998,
          -397.01800000000003,
          623.71,
          -374.1349999999999,
          -44.99,
          39619.824,
          77.5,
          -449.6600000000001,
          665.03,
          640.5600000000001,
          2063.117,
          7694.384999999999,
          27377.93,
          941.7970000000001,
          27.909999999999997,
          7470.9,
          1229.5,
          1113.5210000000002,
          504.6,
          698.28,
          -292.36,
          2312,
          11741.16,
          -981.45,
          1708.8020000000001,
          839.8989999999999,
          391.38599999999997,
          640.878,
          -42.29,
          1190.92,
          -132.018,
          250.3,
          4089,
          19041.528,
          -37.985999999999876,
          158.91499999999996,
          73,
          -44.900000000000006,
          592.5350000000001,
          2503.01,
          9679.35,
          2138.3,
          1438.31,
          26.019999999999996,
          3612.7,
          379.2739999999999,
          -75,
          63.981999999999985,
          1041.7,
          1139.42,
          1234.59,
          912.9830000000001,
          -239.07999999999998,
          217,
          12342.667000000001,
          331.64700000000005,
          147.18100000000004,
          1058.6839999999997,
          2529.01,
          104.68100000000004,
          162.90999999999997,
          1122.455,
          3178.909,
          6359.545,
          54.00099999999999,
          1963.1,
          82,
          142692.913,
          2118.0640000000003,
          1103.77,
          398.2,
          143.2,
          20467.5,
          1086.5700000000002,
          19741.199,
          78.13,
          4262.610000000001,
          8341.73,
          430.65,
          -85.10000000000002,
          -15.038999999999987,
          -52.079999999999984,
          2818.17,
          -180.72399999999993,
          2753.579,
          101457.05,
          -307.984,
          413.59000000000003,
          2093.844,
          -25.437999999999988,
          -300.05999999999995,
          1,
          -70.19,
          778.6569999999999,
          5.040999999999997,
          27671.895000000004,
          2419.537,
          -137.4,
          625.5640000000001,
          216.01,
          -734.6310000000001,
          -66.833,
          1911.362,
          6067.039,
          71.77000000000004,
          213.86,
          893,
          1801,
          74.9,
          570.0200000000002,
          25.929999999999993,
          687.2,
          130.6,
          595.0120000000001,
          117.82000000000001,
          633.376,
          454.6,
          -26.349999999999994,
          -62,
          67.59000000000003,
          32128.054999999997,
          11065.239000000001,
          -53.009,
          9665.759999999998,
          1546.5200000000002,
          10732.4,
          185.34699999999998,
          209.64,
          621.1599999999999,
          1056.58,
          137.8,
          230.531,
          10705.9,
          -234.51799999999997,
          -71.07000000000005,
          -140.17000000000002,
          -641.3800000000001,
          286.9559999999999,
          139.05999999999997,
          36.799999999999955,
          -437.65999999999997,
          10298.912,
          11016.41,
          99.1,
          -198.59,
          -148.18899999999996,
          22728.339999999997,
          5272.083,
          6837.380000000001,
          -22.920000000000016,
          -62.089999999999996,
          725.51,
          730.894,
          4296.4400000000005,
          7292.779999999999,
          3928.7120000000004,
          9.099999999999994,
          352.90999999999997,
          99.91,
          1745.7640000000001,
          848.6,
          20291.2,
          567.6310000000001,
          2723.557,
          669.1690000000001,
          -50.92,
          278.02,
          489.8699999999999,
          8214.71,
          -130.279,
          3029.045,
          2169.14,
          4111.919,
          -194.5,
          -625.4,
          1260.1,
          386.4,
          5481.018,
          338.473,
          49611.640999999996,
          1825.1100000000001,
          -14.471000000000004,
          9574.501,
          31.599999999999994,
          99.82000000000001,
          6112.3,
          292.87,
          423.1,
          12033.716,
          10957.321,
          -30.5,
          53.2,
          2194.136,
          -73.02000000000004,
          45.271,
          297.03,
          -621.9000000000001,
          198.82,
          147.782,
          2573.283,
          84.88,
          1866.1,
          1246.642,
          839.38,
          -412.509,
          -37.78,
          72.78399999999999,
          5617.583999999999,
          2260.74,
          -170.66200000000003,
          -536.59,
          20242.693,
          1677.6399999999999,
          27.909999999999997,
          760.793,
          150.96999999999997,
          476.8399999999999,
          -210.45299999999997,
          10151.81,
          -420.65,
          1494.3199999999997,
          4560.3189999999995,
          13903.795999999998,
          141.4,
          28,
          40039.365999999995,
          -710.78,
          631.9200000000001,
          -950.097,
          -357.3850000000001,
          169.975,
          968,
          1949.7619999999997,
          92,
          887.8,
          1367.03,
          911.65,
          340.3,
          112.67200000000001,
          395.86999999999995,
          2523.92,
          -125.70999999999992,
          999.391,
          1788.66,
          3079.491,
          892.983,
          -2.6899999999999977,
          604.8280000000001,
          -575.1800000000001,
          28,
          -236,
          -29.495000000000005,
          1110.3760000000002,
          48.223,
          880.6460000000001,
          162.091,
          7739.123,
          5028.165000000001,
          -26.089999999999996,
          -173.25,
          10218.821,
          -26.430000000000035,
          0.9100000000000108,
          1047.278,
          -2.5999999999999943,
          -121.434,
          1532.3380000000002,
          1474.1,
          376.52599999999995,
          9429.945,
          97.4,
          25.912000000000006,
          916.3,
          -100.6,
          252.44600000000003,
          791.21,
          549.982,
          33.22000000000001,
          128.77499999999998,
          -200.61799999999994,
          3031.7349999999997,
          117.82000000000001,
          -73.78999999999999,
          1479.586,
          3825.591,
          98.2,
          -3.5,
          -43.099999999999994,
          -12.5,
          7336.2210000000005,
          12093.78,
          55768.901,
          849,
          6051,
          -818.4000000000001,
          1484.924,
          5738.295,
          9871.178,
          951.1689999999999,
          -355.26,
          63.981999999999985,
          5627.548000000001,
          822.3020000000001,
          222.30999999999983,
          10405.429,
          424.034,
          617.17,
          -8.009,
          585.568,
          610.8,
          2313.2,
          12764.855,
          993.4309999999999,
          1046.8,
          5.319999999999993,
          251.33000000000004,
          1038.31,
          3713.7900000000004,
          364,
          985.17,
          18980.567000000003,
          102.60099999999998,
          -103.57000000000002,
          76.6,
          6879.469999999999,
          2832.5400000000004,
          378.1199999999999,
          1975.2689999999998,
          154.51,
          2617.525,
          126.91,
          -878.2059999999999,
          37,
          -40.542,
          2215.783,
          -295.409,
          -375.39,
          35.36999999999989,
          5.986000000000004,
          42.74599999999998,
          2452.2650000000003,
          1373.7799999999997,
          6975.030000000001,
          424,
          489.855,
          59.5,
          684.8699999999999,
          -69.28999999999999,
          2304.9399999999996,
          234.90299999999996,
          365.5,
          3320.68,
          549.479,
          228.433,
          5198.92,
          6379.7080000000005,
          508.5799999999999,
          6383,
          3696.7299999999996,
          1477.31,
          770.482,
          211.6,
          78.57999999999998,
          4364.709999999999,
          51.858999999999995,
          12.791999999999973,
          97.49000000000001,
          -14.39,
          14684.306,
          3713.8549999999996,
          -82.5,
          3043,
          595.2,
          53397.54,
          674.4010000000001,
          469.192,
          2718.0209999999997,
          9470.246,
          3127.3900000000003,
          5986.16,
          1495,
          1887.4800000000002,
          1242.5199999999998,
          1012.8,
          221.5,
          180.55,
          8625.509,
          4859.339999999999,
          126050.977,
          168.555,
          9927,
          2286.1530000000002,
          675.46,
          4478.2,
          745.3,
          7800.530000000001,
          -73.13499999999999,
          108.63999999999999,
          -955.27,
          203.5,
          7419.1,
          7227.955,
          2087.883,
          -68.3,
          -46.90300000000002,
          7036.07,
          34553.5,
          -236.98000000000002,
          -12.5,
          -61.69999999999999,
          76.54599999999999,
          696.8,
          11460.285,
          75.51299999999992,
          -695.2160000000001,
          -41.28999999999999,
          321.33000000000004,
          99.1,
          505,
          70476.095,
          -0.5720000000000027,
          1994.545,
          -8.27000000000001,
          2670.2760000000003,
          775.9350000000001,
          3764,
          16939.126,
          67.61000000000001,
          2124.6800000000003,
          -115.06,
          1089.1,
          -899.5,
          1215.3699999999997,
          464.79,
          7014.5830000000005,
          4383.602,
          -96.97999999999996,
          658.85,
          351.38000000000005,
          7242.182,
          -89.24900000000002,
          1016.3399999999999,
          -18.66300000000004,
          529.72,
          41435.921,
          5451.0070000000005,
          797.5,
          853.8400000000001,
          216.79999999999995,
          813.1899999999999,
          5332.74,
          991.664,
          1019.02,
          26.019999999999996,
          803.67,
          3256.51,
          2815.9980000000005,
          104.95999999999998,
          1379.5100000000002,
          250.25,
          2937.884,
          37.53999999999999,
          4734.572,
          1363.15,
          6138.922999999999,
          -246.7600000000001,
          73.00999999999999,
          1760.312,
          1610.01,
          287.30999999999995,
          22.511000000000024,
          116.2,
          5915.266,
          701.7,
          -105.1,
          1542.1200000000001,
          -103.66,
          -361.25,
          10589.876,
          1980.455,
          1230.95,
          2659.35,
          -48.50899999999999,
          64,
          456.53000000000003,
          41.32000000000001,
          8697.403999999999,
          578.6810000000002,
          344.68700000000007,
          -297.1,
          -122.18,
          -1323.25,
          440.2,
          75.7,
          21717.281,
          5419.337,
          3296.2909999999997,
          11437.139000000001,
          360.1,
          -69.27000000000001,
          -623.49,
          967.3050000000001,
          22479.703,
          1954.8309999999997,
          62.164,
          -598.1299999999999,
          -62.99,
          -74.15,
          1408.691,
          108.70000000000005,
          431.5,
          -603.7,
          885.084,
          189.91500000000008,
          99499.977,
          556.5,
          290.96299999999997,
          -135.39999999999998,
          -679.012,
          83982.78,
          340.322,
          13597.937,
          -53.089999999999996,
          575.452,
          5178.035,
          -156,
          1519.44,
          2982.4390000000003,
          4987.4400000000005,
          -72.86999999999998,
          41.5,
          127,
          758.55,
          1908.811,
          4238.7699999999995,
          490.5690000000001,
          899.3,
          2830.2320000000004,
          -8.009,
          730.6700000000001,
          370.2,
          12072.872,
          135.82,
          236.24,
          17.200000000000003,
          -8.900000000000006,
          2954.55,
          5824.782,
          3192.1980000000003,
          144.91,
          603.5,
          789.4700000000003,
          -60.918000000000035,
          3.5299999999999727,
          3238.34,
          46521.602,
          14778.154000000002,
          386.94,
          686.1989999999998,
          6501.168000000001,
          5012.1320000000005,
          25614.055,
          11312.5,
          -37.339999999999996,
          15268.52,
          11.799999999999997,
          1478.7600000000002,
          -90.96000000000001,
          10355.45,
          2084.1549999999997,
          63.91,
          12.700000000000003,
          -114.1,
          2223.17,
          -36.8,
          145.9,
          -1283.183,
          4761.4310000000005,
          45.90099999999998,
          3577,
          -73.16000000000001,
          -450.82,
          490.4699999999999,
          -59.75,
          321.30999999999995,
          328.55,
          -251.53599999999997,
          3.3969999999999914,
          684.55,
          144.82,
          -72.575,
          613.8399999999999,
          1933.4,
          -35.918,
          389.70500000000004,
          -57.589999999999996,
          -44.089999999999996,
          -76.27000000000004,
          87.19000000000005,
          -177.8,
          180.90999999999997,
          83.73000000000002,
          82.9,
          -478.9900000000001,
          116.83499999999992,
          11344.880000000001,
          153.15499999999997,
          2049.63,
          -8.08999999999999,
          -57.509,
          -116.39999999999998,
          193.35700000000003,
          630.901,
          -430.0999999999999,
          -161.34,
          -25.950000000000045,
          15449.8,
          1379.9480000000003,
          -60.44999999999999,
          -139.47,
          107.2,
          -27.809000000000005,
          -12.58999999999999,
          13888.891,
          10298.256000000001,
          660.466,
          178825.62800000003,
          -75.56999999999996,
          -1025.443,
          -41.3,
          5394.830000000001,
          6911.959999999999,
          1502.9,
          -313.6,
          1675.435,
          993.6,
          121.51,
          562.601,
          451.2700000000002,
          133.83999999999997,
          -266.269,
          34718.59,
          0.5859999999999985,
          5355,
          592,
          6496.878000000001,
          -63.10800000000006,
          1291.8,
          9.099999999999994,
          2866.466,
          -436.536,
          8551.4,
          39606.653,
          81.09100000000001,
          47983.952,
          404.2,
          1054.384,
          9125.247,
          2997.892,
          2501.677,
          -193.70000000000005,
          1351.5949999999998,
          16.299999999999997,
          -373.3800000000001,
          9.185999999999922,
          -264.677,
          -132.99,
          11295.610999999999,
          -29.78,
          1524.286,
          268.04,
          1150.4299999999998,
          73,
          -341.14,
          288.64,
          2565.883,
          305.9100000000001,
          55,
          1164.5,
          600.34,
          627.81,
          4787.522,
          -16.549999999999997,
          990.0100000000001,
          6217.790000000001,
          1137.8,
          -539.0799999999999,
          788.4110000000001,
          56.61099999999999,
          782.5100000000001,
          709.9899999999998,
          365.5,
          62.950000000000045,
          542.71,
          -406.87300000000005,
          604.8199999999999,
          310.3259999999998,
          70,
          1413.2,
          18.099999999999994,
          0.9819999999999993,
          -59.39000000000001,
          355.01,
          329.14,
          1912.6049999999998,
          69.62799999999999,
          -229.18,
          -457,
          5701.4,
          56.64000000000004,
          -559.1880000000001,
          1123.4,
          7078.130000000001,
          434.38000000000005,
          528,
          446.6,
          2639.4939999999997,
          6174.6,
          -281.99,
          8369.87,
          892.29,
          1719.1299999999999,
          197.27999999999997,
          -610.5999999999999,
          444.091,
          96.14000000000001,
          -310.86,
          -1066.53,
          63.91,
          234,
          8.11,
          18261.61,
          -226.714,
          380,
          10202.4,
          1004.46,
          459.55,
          832,
          25069.721,
          3337.3600000000006,
          693.5100000000001,
          263.01,
          284.5,
          37.452,
          -289.999,
          -48.5,
          27.909999999999997,
          205.41900000000004,
          58.239999999999995,
          -39.527,
          -33.29,
          4426.109,
          -8.08999999999999,
          0.9909999999999997,
          99.70300000000002,
          2191.971,
          191.82,
          867,
          25404.589999999997,
          18.30000000000001,
          -71.9,
          87.4,
          758.046,
          86.23000000000002,
          386.634,
          -103.45999999999998,
          154.01999999999998,
          336.99299999999994,
          -26.089999999999996,
          6219.031,
          2615.49,
          -157.26999999999998,
          205085.367,
          162.1,
          7715.799000000001,
          -24.29,
          4347.9400000000005,
          341.614,
          126.91,
          459.64,
          -206.29999999999995,
          -75.30000000000001,
          1423.9,
          372.1,
          -194.45,
          590.52,
          4007.902,
          -350.45000000000005,
          2002.91,
          4025.102,
          220.45,
          -748.5360000000001,
          190.676,
          0.9100000000000108,
          7657.95,
          95.32000000000001,
          7582.82,
          1282,
          2383.4799999999996,
          6162.7,
          82,
          1000.6400000000001,
          37868.66,
          -266,
          717.3019999999997,
          615.955,
          1093.33,
          4470.481,
          1556.6350000000002,
          -292.18,
          433,
          1193.2620000000002,
          -126.63600000000001,
          578.091,
          1804.403,
          7407.129999999999,
          14396.331,
          -691.7570000000001,
          1486.2,
          1304.14,
          -723.05,
          749.9200000000002,
          10380.051000000001,
          -165.209,
          329.05,
          5009.86,
          153.90999999999997,
          4443.962,
          71.28999999999999,
          54.91,
          -66.06999999999994,
          -33.39999999999998,
          8391.462,
          -8.180000000000007,
          917.8,
          196.1199999999999,
          346.75,
          12503.452000000001,
          4588.83,
          1679.95,
          1374.314,
          1184.4,
          37.91,
          -27.969000000000023,
          425.936,
          4195.054,
          1391.784,
          1047.28,
          1797.1,
          13156.756000000001,
          21.319999999999936,
          203.68999999999997,
          -53.089999999999996,
          270.082,
          -48.120000000000005,
          -14.245000000000005,
          108.1,
          -215.423,
          168.5,
          288.67100000000005,
          5.439999999999998,
          7263.901,
          135.27999999999997,
          12933.830000000002,
          -62.99,
          358.21099999999996,
          205.937,
          189.5,
          170.98300000000006,
          12144.056,
          -12.5,
          123951.69499999999,
          -362.342,
          1308.54,
          1378.7489999999998,
          2159.5519999999997,
          2476,
          -208.563,
          2333.2,
          33.13000000000001,
          3051.76,
          -8.08999999999999,
          -62.089999999999996,
          1.2249999999999943,
          252.075,
          1387.5,
          -50.75,
          -643.3,
          778.239,
          -45.25,
          46,
          206.92000000000002,
          1627.551,
          18017.713,
          1733.9009999999998,
          -87.55000000000001,
          90191.044,
          983.3199999999999,
          880.455,
          90.65,
          141.76,
          65.90100000000001,
          1734.0660000000003,
          10.774000000000001,
          -484.45799999999997,
          447.913,
          -127.86000000000001,
          4373.767,
          1845.26,
          -139.154,
          201,
          -207.159,
          -432.45000000000005,
          -343.45000000000005,
          -26.900000000000006,
          1424.25,
          40.420000000000016,
          186.94000000000003,
          895.4019999999999,
          -368.39599999999996,
          -58.471999999999994,
          5454.992,
          2021,
          44.799999999999955,
          11439.23,
          2076.275,
          90.91,
          -0.8900000000000006,
          714.2,
          -48.5,
          409.8219999999999,
          161.89999999999998,
          8.590000000000032,
          1757.25,
          -35.269999999999996,
          1063.2309999999998,
          -42.29,
          2878.41,
          1375.2600000000002,
          90.1,
          281.10999999999996,
          453,
          6649.66,
          422.793,
          90.99100000000001,
          66.44,
          28.649999999999977,
          0.9100000000000108,
          961.8050000000001,
          10518.55,
          -4.46999999999997,
          36.91,
          -58.49,
          -130.79999999999995,
          9344.95,
          29049.788999999997,
          2773.7,
          -26.900000000000006,
          2246.7929999999997,
          54.099999999999994,
          1348.3900000000003,
          3149.8120000000004,
          589.407,
          3287.264,
          -60.29,
          28535.818,
          2361.946,
          -182.92200000000014,
          -26,
          -500.9000000000001,
          1513.7350000000001,
          -66.58999999999999,
          -26.900000000000006,
          -412.99,
          -25.109,
          379.973,
          63.799999999999955,
          660.55,
          -42.632,
          1493.0659999999998,
          1966.4,
          55,
          171.1,
          6232.816,
          -433.29,
          2981.13,
          141.5,
          -554.662,
          600.039,
          388,
          58.375,
          830.7060000000001,
          349.5609999999999,
          -53.089999999999996,
          7598.792000000001,
          20.539999999999992,
          6316.5,
          43873.04,
          223.26399999999998,
          92.82,
          1498.2700000000002,
          843.3470000000002,
          -59.93000000000001,
          11758.7,
          794.2309999999999,
          -132.8,
          165.51099999999997,
          -54.089000000000006,
          208.63000000000005,
          447.00399999999996,
          11447.413,
          289.44399999999996,
          656.28,
          -26.180000000000007,
          257.6,
          0.9909999999999997,
          4151.13,
          1194.4,
          71.11,
          1830.4609999999998,
          153.64000000000001,
          20066.235,
          339.4,
          5421.2,
          621.01,
          904.5310000000002,
          626.41,
          622.3300000000002,
          3530.875,
          5.319999999999993,
          4664.321,
          914.5910000000001,
          1113.482,
          7040.16,
          -118.40800000000002,
          755.0699999999999,
          41697.1,
          3456.8,
          157.55599999999998,
          -429.11,
          -396.063,
          651,
          279.1,
          3322.525,
          1700.5,
          -452.485,
          0.09999999999999432,
          1272.09,
          416.1809999999999,
          208.64000000000001,
          404.21,
          632.83,
          46.900000000000006,
          26172.677,
          -45.17,
          314.125,
          527.6600000000001,
          7899.973,
          2336.5,
          497.99,
          666.57,
          2574.1,
          603.1,
          -608.95,
          96.4,
          9348.85,
          1543.0520000000001,
          -50.35999999999996,
          -68.75,
          117.30000000000001,
          3696.5819999999994,
          116.12,
          -133.17000000000002,
          -44.089999999999996,
          288.924,
          980.8,
          11401.419999999998,
          1451,
          131.86099999999996,
          1663.2,
          2695.652,
          4472.1669999999995,
          -50.309000000000005,
          -178.59000000000003,
          -81.23999999999998,
          108.30000000000001,
          45.099999999999994,
          44766.01,
          -419.4630000000001,
          3214.4799999999996,
          1555.075,
          1720.949,
          459.81999999999994,
          9475.8,
          1231.9300000000003,
          381.90100000000007,
          -56.690000000000005,
          674.0100000000001,
          113460.071,
          -44.089999999999996,
          99.99100000000001,
          3479.5,
          14.635000000000005,
          5829.7,
          2032.152,
          14693.260000000002,
          4481.659,
          1526.7930000000001,
          -116.94100000000003,
          27275.184999999998,
          3766.7799999999997,
          3350.0519999999997,
          104.37,
          -602.269,
          5066.8,
          7804.380000000001,
          278.3,
          -762.9199999999998,
          13.259999999999991,
          408.655,
          -39.589999999999996,
          90.1,
          99.98199999999999,
          946.082,
          3997.8140000000003,
          -20.069000000000003,
          100.55000000000001,
          -71.08800000000002,
          5812.7,
          -193.43,
          630.8199999999999,
          11646.07,
          -151.24900000000002,
          11672.109,
          -53.089999999999996,
          190.60000000000002,
          -35.089999999999996,
          5664.425,
          21204.277,
          1493.65,
          -8.08999999999999,
          415,
          22.600000000000023,
          111.36299999999994,
          616.6059999999999,
          273.13300000000004,
          4912.2,
          12.620000000000005,
          116.05000000000001,
          54.72999999999999,
          2375.26,
          3198.5099999999998,
          608.5,
          3017.816,
          467.52,
          -78.09,
          432.2,
          11789.883000000002,
          -35.00899999999999,
          4327,
          -53.18000000000001,
          3164.7,
          -274.45,
          662.394,
          -71.08999999999999,
          380.8,
          49206.916,
          3576.3129999999996,
          1481.4799999999998,
          207.90999999999997,
          -10.88000000000001,
          2776.16,
          98.2,
          210.35,
          -382.52999999999986,
          683.002,
          234.43000000000006,
          1947.9,
          731.92,
          33.5,
          2665.3,
          -69.2,
          -11.599999999999994,
          583.93,
          10.982000000000028,
          373.942,
          3507.0290000000005,
          1940.3899999999999,
          7763,
          -131.55,
          54.099999999999994,
          3092.706,
          8223.079000000002,
          12638.287,
          30.899999999999977,
          1000.375,
          113.34999999999991,
          1320.443,
          10512,
          -132.099,
          2349.245,
          -534.6800000000001,
          -8.27000000000001,
          1115.31,
          165.73000000000002,
          1073.6399999999999,
          6486.141,
          538.904,
          1385.23,
          4985.162,
          42.391000000000005,
          -169.808,
          -17,
          -17,
          655.636,
          32483.632999999994,
          225.90299999999996,
          1836.1909999999998,
          -26.63000000000001,
          19.55000000000001,
          -98.94999999999999,
          -71.009,
          60.31,
          196.201,
          -72.05000000000001,
          -931.1699999999998,
          259.9390000000001,
          189.1,
          6176.754999999999,
          -56.33,
          62.2,
          -319.9000000000001,
          95.03599999999994,
          -132.7,
          -68.75
         ],
         "xaxis": "x",
         "yaxis": "y"
        }
       ],
       "layout": {
        "barmode": "relative",
        "legend": {
         "tracegroupgap": 0
        },
        "template": {
         "data": {
          "bar": [
           {
            "error_x": {
             "color": "#2a3f5f"
            },
            "error_y": {
             "color": "#2a3f5f"
            },
            "marker": {
             "line": {
              "color": "#E5ECF6",
              "width": 0.5
             },
             "pattern": {
              "fillmode": "overlay",
              "size": 10,
              "solidity": 0.2
             }
            },
            "type": "bar"
           }
          ],
          "barpolar": [
           {
            "marker": {
             "line": {
              "color": "#E5ECF6",
              "width": 0.5
             },
             "pattern": {
              "fillmode": "overlay",
              "size": 10,
              "solidity": 0.2
             }
            },
            "type": "barpolar"
           }
          ],
          "carpet": [
           {
            "aaxis": {
             "endlinecolor": "#2a3f5f",
             "gridcolor": "white",
             "linecolor": "white",
             "minorgridcolor": "white",
             "startlinecolor": "#2a3f5f"
            },
            "baxis": {
             "endlinecolor": "#2a3f5f",
             "gridcolor": "white",
             "linecolor": "white",
             "minorgridcolor": "white",
             "startlinecolor": "#2a3f5f"
            },
            "type": "carpet"
           }
          ],
          "choropleth": [
           {
            "colorbar": {
             "outlinewidth": 0,
             "ticks": ""
            },
            "type": "choropleth"
           }
          ],
          "contour": [
           {
            "colorbar": {
             "outlinewidth": 0,
             "ticks": ""
            },
            "colorscale": [
             [
              0,
              "#0d0887"
             ],
             [
              0.1111111111111111,
              "#46039f"
             ],
             [
              0.2222222222222222,
              "#7201a8"
             ],
             [
              0.3333333333333333,
              "#9c179e"
             ],
             [
              0.4444444444444444,
              "#bd3786"
             ],
             [
              0.5555555555555556,
              "#d8576b"
             ],
             [
              0.6666666666666666,
              "#ed7953"
             ],
             [
              0.7777777777777778,
              "#fb9f3a"
             ],
             [
              0.8888888888888888,
              "#fdca26"
             ],
             [
              1,
              "#f0f921"
             ]
            ],
            "type": "contour"
           }
          ],
          "contourcarpet": [
           {
            "colorbar": {
             "outlinewidth": 0,
             "ticks": ""
            },
            "type": "contourcarpet"
           }
          ],
          "heatmap": [
           {
            "colorbar": {
             "outlinewidth": 0,
             "ticks": ""
            },
            "colorscale": [
             [
              0,
              "#0d0887"
             ],
             [
              0.1111111111111111,
              "#46039f"
             ],
             [
              0.2222222222222222,
              "#7201a8"
             ],
             [
              0.3333333333333333,
              "#9c179e"
             ],
             [
              0.4444444444444444,
              "#bd3786"
             ],
             [
              0.5555555555555556,
              "#d8576b"
             ],
             [
              0.6666666666666666,
              "#ed7953"
             ],
             [
              0.7777777777777778,
              "#fb9f3a"
             ],
             [
              0.8888888888888888,
              "#fdca26"
             ],
             [
              1,
              "#f0f921"
             ]
            ],
            "type": "heatmap"
           }
          ],
          "heatmapgl": [
           {
            "colorbar": {
             "outlinewidth": 0,
             "ticks": ""
            },
            "colorscale": [
             [
              0,
              "#0d0887"
             ],
             [
              0.1111111111111111,
              "#46039f"
             ],
             [
              0.2222222222222222,
              "#7201a8"
             ],
             [
              0.3333333333333333,
              "#9c179e"
             ],
             [
              0.4444444444444444,
              "#bd3786"
             ],
             [
              0.5555555555555556,
              "#d8576b"
             ],
             [
              0.6666666666666666,
              "#ed7953"
             ],
             [
              0.7777777777777778,
              "#fb9f3a"
             ],
             [
              0.8888888888888888,
              "#fdca26"
             ],
             [
              1,
              "#f0f921"
             ]
            ],
            "type": "heatmapgl"
           }
          ],
          "histogram": [
           {
            "marker": {
             "pattern": {
              "fillmode": "overlay",
              "size": 10,
              "solidity": 0.2
             }
            },
            "type": "histogram"
           }
          ],
          "histogram2d": [
           {
            "colorbar": {
             "outlinewidth": 0,
             "ticks": ""
            },
            "colorscale": [
             [
              0,
              "#0d0887"
             ],
             [
              0.1111111111111111,
              "#46039f"
             ],
             [
              0.2222222222222222,
              "#7201a8"
             ],
             [
              0.3333333333333333,
              "#9c179e"
             ],
             [
              0.4444444444444444,
              "#bd3786"
             ],
             [
              0.5555555555555556,
              "#d8576b"
             ],
             [
              0.6666666666666666,
              "#ed7953"
             ],
             [
              0.7777777777777778,
              "#fb9f3a"
             ],
             [
              0.8888888888888888,
              "#fdca26"
             ],
             [
              1,
              "#f0f921"
             ]
            ],
            "type": "histogram2d"
           }
          ],
          "histogram2dcontour": [
           {
            "colorbar": {
             "outlinewidth": 0,
             "ticks": ""
            },
            "colorscale": [
             [
              0,
              "#0d0887"
             ],
             [
              0.1111111111111111,
              "#46039f"
             ],
             [
              0.2222222222222222,
              "#7201a8"
             ],
             [
              0.3333333333333333,
              "#9c179e"
             ],
             [
              0.4444444444444444,
              "#bd3786"
             ],
             [
              0.5555555555555556,
              "#d8576b"
             ],
             [
              0.6666666666666666,
              "#ed7953"
             ],
             [
              0.7777777777777778,
              "#fb9f3a"
             ],
             [
              0.8888888888888888,
              "#fdca26"
             ],
             [
              1,
              "#f0f921"
             ]
            ],
            "type": "histogram2dcontour"
           }
          ],
          "mesh3d": [
           {
            "colorbar": {
             "outlinewidth": 0,
             "ticks": ""
            },
            "type": "mesh3d"
           }
          ],
          "parcoords": [
           {
            "line": {
             "colorbar": {
              "outlinewidth": 0,
              "ticks": ""
             }
            },
            "type": "parcoords"
           }
          ],
          "pie": [
           {
            "automargin": true,
            "type": "pie"
           }
          ],
          "scatter": [
           {
            "marker": {
             "colorbar": {
              "outlinewidth": 0,
              "ticks": ""
             }
            },
            "type": "scatter"
           }
          ],
          "scatter3d": [
           {
            "line": {
             "colorbar": {
              "outlinewidth": 0,
              "ticks": ""
             }
            },
            "marker": {
             "colorbar": {
              "outlinewidth": 0,
              "ticks": ""
             }
            },
            "type": "scatter3d"
           }
          ],
          "scattercarpet": [
           {
            "marker": {
             "colorbar": {
              "outlinewidth": 0,
              "ticks": ""
             }
            },
            "type": "scattercarpet"
           }
          ],
          "scattergeo": [
           {
            "marker": {
             "colorbar": {
              "outlinewidth": 0,
              "ticks": ""
             }
            },
            "type": "scattergeo"
           }
          ],
          "scattergl": [
           {
            "marker": {
             "colorbar": {
              "outlinewidth": 0,
              "ticks": ""
             }
            },
            "type": "scattergl"
           }
          ],
          "scattermapbox": [
           {
            "marker": {
             "colorbar": {
              "outlinewidth": 0,
              "ticks": ""
             }
            },
            "type": "scattermapbox"
           }
          ],
          "scatterpolar": [
           {
            "marker": {
             "colorbar": {
              "outlinewidth": 0,
              "ticks": ""
             }
            },
            "type": "scatterpolar"
           }
          ],
          "scatterpolargl": [
           {
            "marker": {
             "colorbar": {
              "outlinewidth": 0,
              "ticks": ""
             }
            },
            "type": "scatterpolargl"
           }
          ],
          "scatterternary": [
           {
            "marker": {
             "colorbar": {
              "outlinewidth": 0,
              "ticks": ""
             }
            },
            "type": "scatterternary"
           }
          ],
          "surface": [
           {
            "colorbar": {
             "outlinewidth": 0,
             "ticks": ""
            },
            "colorscale": [
             [
              0,
              "#0d0887"
             ],
             [
              0.1111111111111111,
              "#46039f"
             ],
             [
              0.2222222222222222,
              "#7201a8"
             ],
             [
              0.3333333333333333,
              "#9c179e"
             ],
             [
              0.4444444444444444,
              "#bd3786"
             ],
             [
              0.5555555555555556,
              "#d8576b"
             ],
             [
              0.6666666666666666,
              "#ed7953"
             ],
             [
              0.7777777777777778,
              "#fb9f3a"
             ],
             [
              0.8888888888888888,
              "#fdca26"
             ],
             [
              1,
              "#f0f921"
             ]
            ],
            "type": "surface"
           }
          ],
          "table": [
           {
            "cells": {
             "fill": {
              "color": "#EBF0F8"
             },
             "line": {
              "color": "white"
             }
            },
            "header": {
             "fill": {
              "color": "#C8D4E3"
             },
             "line": {
              "color": "white"
             }
            },
            "type": "table"
           }
          ]
         },
         "layout": {
          "annotationdefaults": {
           "arrowcolor": "#2a3f5f",
           "arrowhead": 0,
           "arrowwidth": 1
          },
          "autotypenumbers": "strict",
          "coloraxis": {
           "colorbar": {
            "outlinewidth": 0,
            "ticks": ""
           }
          },
          "colorscale": {
           "diverging": [
            [
             0,
             "#8e0152"
            ],
            [
             0.1,
             "#c51b7d"
            ],
            [
             0.2,
             "#de77ae"
            ],
            [
             0.3,
             "#f1b6da"
            ],
            [
             0.4,
             "#fde0ef"
            ],
            [
             0.5,
             "#f7f7f7"
            ],
            [
             0.6,
             "#e6f5d0"
            ],
            [
             0.7,
             "#b8e186"
            ],
            [
             0.8,
             "#7fbc41"
            ],
            [
             0.9,
             "#4d9221"
            ],
            [
             1,
             "#276419"
            ]
           ],
           "sequential": [
            [
             0,
             "#0d0887"
            ],
            [
             0.1111111111111111,
             "#46039f"
            ],
            [
             0.2222222222222222,
             "#7201a8"
            ],
            [
             0.3333333333333333,
             "#9c179e"
            ],
            [
             0.4444444444444444,
             "#bd3786"
            ],
            [
             0.5555555555555556,
             "#d8576b"
            ],
            [
             0.6666666666666666,
             "#ed7953"
            ],
            [
             0.7777777777777778,
             "#fb9f3a"
            ],
            [
             0.8888888888888888,
             "#fdca26"
            ],
            [
             1,
             "#f0f921"
            ]
           ],
           "sequentialminus": [
            [
             0,
             "#0d0887"
            ],
            [
             0.1111111111111111,
             "#46039f"
            ],
            [
             0.2222222222222222,
             "#7201a8"
            ],
            [
             0.3333333333333333,
             "#9c179e"
            ],
            [
             0.4444444444444444,
             "#bd3786"
            ],
            [
             0.5555555555555556,
             "#d8576b"
            ],
            [
             0.6666666666666666,
             "#ed7953"
            ],
            [
             0.7777777777777778,
             "#fb9f3a"
            ],
            [
             0.8888888888888888,
             "#fdca26"
            ],
            [
             1,
             "#f0f921"
            ]
           ]
          },
          "colorway": [
           "#636efa",
           "#EF553B",
           "#00cc96",
           "#ab63fa",
           "#FFA15A",
           "#19d3f3",
           "#FF6692",
           "#B6E880",
           "#FF97FF",
           "#FECB52"
          ],
          "font": {
           "color": "#2a3f5f"
          },
          "geo": {
           "bgcolor": "white",
           "lakecolor": "white",
           "landcolor": "#E5ECF6",
           "showlakes": true,
           "showland": true,
           "subunitcolor": "white"
          },
          "hoverlabel": {
           "align": "left"
          },
          "hovermode": "closest",
          "mapbox": {
           "style": "light"
          },
          "paper_bgcolor": "white",
          "plot_bgcolor": "#E5ECF6",
          "polar": {
           "angularaxis": {
            "gridcolor": "white",
            "linecolor": "white",
            "ticks": ""
           },
           "bgcolor": "#E5ECF6",
           "radialaxis": {
            "gridcolor": "white",
            "linecolor": "white",
            "ticks": ""
           }
          },
          "scene": {
           "xaxis": {
            "backgroundcolor": "#E5ECF6",
            "gridcolor": "white",
            "gridwidth": 2,
            "linecolor": "white",
            "showbackground": true,
            "ticks": "",
            "zerolinecolor": "white"
           },
           "yaxis": {
            "backgroundcolor": "#E5ECF6",
            "gridcolor": "white",
            "gridwidth": 2,
            "linecolor": "white",
            "showbackground": true,
            "ticks": "",
            "zerolinecolor": "white"
           },
           "zaxis": {
            "backgroundcolor": "#E5ECF6",
            "gridcolor": "white",
            "gridwidth": 2,
            "linecolor": "white",
            "showbackground": true,
            "ticks": "",
            "zerolinecolor": "white"
           }
          },
          "shapedefaults": {
           "line": {
            "color": "#2a3f5f"
           }
          },
          "ternary": {
           "aaxis": {
            "gridcolor": "white",
            "linecolor": "white",
            "ticks": ""
           },
           "baxis": {
            "gridcolor": "white",
            "linecolor": "white",
            "ticks": ""
           },
           "bgcolor": "#E5ECF6",
           "caxis": {
            "gridcolor": "white",
            "linecolor": "white",
            "ticks": ""
           }
          },
          "title": {
           "x": 0.05
          },
          "xaxis": {
           "automargin": true,
           "gridcolor": "white",
           "linecolor": "white",
           "ticks": "",
           "title": {
            "standoff": 15
           },
           "zerolinecolor": "white",
           "zerolinewidth": 2
          },
          "yaxis": {
           "automargin": true,
           "gridcolor": "white",
           "linecolor": "white",
           "ticks": "",
           "title": {
            "standoff": 15
           },
           "zerolinecolor": "white",
           "zerolinewidth": 2
          }
         }
        },
        "title": {
         "text": "Probability of a Seller Leaving Olist after One Month"
        },
        "xaxis": {
         "anchor": "y",
         "domain": [
          0,
          1
         ],
         "title": {
          "text": "seller_revenue"
         }
        },
        "yaxis": {
         "anchor": "x",
         "domain": [
          0,
          1
         ],
         "title": {
          "text": "probability"
         }
        }
       }
      },
      "text/html": [
       "<div>                            <div id=\"5ec69297-49b4-43da-b8ae-3e6b02309963\" class=\"plotly-graph-div\" style=\"height:525px; width:100%;\"></div>            <script type=\"text/javascript\">                require([\"plotly\"], function(Plotly) {                    window.PLOTLYENV=window.PLOTLYENV || {};                                    if (document.getElementById(\"5ec69297-49b4-43da-b8ae-3e6b02309963\")) {                    Plotly.newPlot(                        \"5ec69297-49b4-43da-b8ae-3e6b02309963\",                        [{\"alignmentgroup\":\"True\",\"bingroup\":\"x\",\"histnorm\":\"probability\",\"hovertemplate\":\"seller_revenue=%{x}<br>probability=%{y}<extra></extra>\",\"legendgroup\":\"\",\"marker\":{\"color\":\"#636efa\",\"pattern\":{\"shape\":\"\"}},\"name\":\"\",\"nbinsx\":20,\"offsetgroup\":\"\",\"orientation\":\"v\",\"showlegend\":false,\"type\":\"histogram\",\"x\":[-123.16999999999999,9332.762999999999,62.2,-8.009,71.191,-26.089999999999996,1848.825,2708.84,288.71400000000006,65004.157999999996,-115.80000000000001,116.84000000000003,2409.806,-41.39000000000001,1699.8519999999999,2394.1,-9.079999999999998,900.1200000000001,548.63,307.28000000000003,295.6,408.78,2738.8129999999996,3469.2099999999996,-103.10500000000002,1038.7,1004.4010000000001,2246.56,2483.272,694.2030000000001,-105.955,-12.5,722.6800000000001,-175.3800000000001,10882.456999999999,726.4,64.9,-447.32,605.8820000000001,426.47,-371.96,209.62,3507.9599999999996,64.45999999999998,78.38199999999999,19305.889,-53.089999999999996,1514.7549999999999,484.3,10.399999999999977,10070.81,1650.3699999999997,3458.331,141.24,-408.06,-8.475000000000023,-529.5,259.12,-111.25099999999998,236.62,3537.7709999999997,1294.395,2552.402,2058.132,-96.36000000000001,2964.1,21503.648,157028.683,180.82,7194.287,830.3679999999999,29812.887000000002,570.4,-164.4,3637.259,4784.6810000000005,1442.8,57.17799999999998,386.02,1223.609,9731.89,6820.11,93.64099999999962,16598.61,10403.983,1263.81,27.909999999999997,14483.1,2409.159,9.909999999999997,90.91,-120.89999999999998,-198.45000000000005,606.7400000000001,952.1920000000001,3756.7099999999996,594.64,2609.8,1017.0100000000001,6021.745999999999,135.91,63.82000000000001,-62.089999999999996,2971.648,-5.090000000000032,4432.0,-60.559999999999995,277.3,717.528,352.73,1370.9700000000003,216.63400000000001,-33.2,13773.911,48775.495,162.90999999999997,387.74,1450.722,15416.676,81.91,-136.12,45.56,-83.40899999999999,7158.665000000001,2879.2,247.59199999999998,6665.616999999999,4034.447,1064.4599999999998,494.18999999999994,161.70100000000002,190.74799999999996,8957.018,-288.11,10123.505000000001,2382.21,1632.7299999999998,68.33000000000001,-68.25999999999999,325.21,-56.60900000000001,27.72999999999999,-17.00800000000001,227.99099999999999,6637.969999999999,75.94599999999997,0.9100000000000108,924.1089999999999,3617.784,889.089,3718.65,235.7600000000001,529.3,-68.75,2694.745,330.78000000000003,5216.9,141.5,534.7379999999999,-176.80899999999997,-179.59,728.95,12329.6,52.29100000000001,1040.0839999999998,2704.019,3839.883,12850.283,5.5,430.352,5854.8,101.23399999999998,58.10000000000002,637.6130000000002,2334.072,206.2,136.3,-349.5,6599.255000000001,-85.264,164.10999999999996,720.4269999999999,-30.626000000000005,22.609999999999985,195.36399999999998,-62.80000000000001,10858.98,1216.9,-26.900000000000006,4302.45,323.483,-142.14999999999998,833.973,873.92,31923.36,415.10999999999996,2200.13,11891.749,236.73000000000002,7170.470000000001,-54.89000000000001,365.47299999999996,3871.636,-195.10000000000002,613.753,1486.8600000000001,-49.58,828.91,-10.25,-114.26999999999998,-62.009,73.64000000000001,-675.0,255.8,-12.130000000000024,276.019,-37.7,-70.07999999999998,1460.722,141.73000000000002,-62.63000000000001,-402.644,82.54000000000002,-1352.87,1074.895,-27.08,10569.66,-53.089999999999996,-127.96500000000003,379.0,793.9100000000001,4993.16,32.45999999999992,1.1999999999999886,101706.073,11844.27,5887.981,2022.4800000000002,189.55,943.27,-198.39999999999998,23.5,623.731,119.92000000000002,45.91,88.005,3599.7099999999996,0.9549999999999983,-428.6,131.5,716.3650000000001,-29.690000000000005,108.47800000000007,81.91,2127.96,-35.36000000000001,13811.329,3468.7400000000002,1489.7559999999999,4767.865,-69.28999999999999,604.7299999999999,-105.27000000000001,10816.72,-32.971000000000004,369.47200000000004,5658.781,-1.8800000000000097,22845.638,32196.203999999998,-337.62,22039.987999999998,18961.539999999997,7244.66,3489.286,2045.0589999999997,3706.7090000000003,184.36999999999995,315.55999999999995,12703.511,227.37300000000005,99.01,402.20000000000005,-54.89000000000001,-124.20999999999992,-398.0,12407.543000000001,333.70799999999997,73.72999999999999,235.603,871.9830000000001,6049.936000000001,1044.1309999999999,-89.48500000000001,3018.295,-305.80500000000006,5621.391,408.0,1449.1,-634.2180000000001,614.211,367.75299999999993,3060.2,78.92599999999999,-35.900000000000006,957.5699999999999,870.5599999999997,-35.0,-84.4,45.099999999999994,239.40999999999997,6960.26,6180.783000000001,693.4,2088.6,14982.121,-53.009,13940.619999999999,1774.337,2778.1,1.0,16461.439,1603.41,861.6800000000001,5021.65,9935.545,171.1,1775.8,-50.0,-332.86,50.32000000000001,61.03999999999999,17.03,100.291,1039.6,521.3009999999999,9.099999999999994,324.01,4395.73,63.91,9.982,-58.49,4095.1210000000005,-36.980000000000004,-17.180000000000007,170.473,53.40999999999997,-48.5,5816.55,1360.717,-92.52700000000002,-347.908,1719.1,11172.97,920.0,44.02000000000001,24.995000000000005,8410.19,200.39999999999998,2420.944,3185.9,707.3,-743.3399999999999,8789.713,3415.91,3091.7299999999996,226.0,207.1,1805.95,-139.861,-227.43000000000006,1833.8899999999999,120534.53000000001,172.829,1749.996,4784.037,144.10999999999999,166.12,11244.47,93.25999999999999,-62.089999999999996,1344.462,-114.19800000000001,-57.509,-65.69,-216.59,603.91,604.55,278.02,328.33,34.85999999999996,-60.209,-26.899,1304.425,145.84000000000003,8.200000000000003,105.21400000000006,37.0,4003.84,1210.17,-186.18,-2.1500000000000057,3459.7900000000004,7396.424000000001,47065.462,-21.58999999999999,669.35,29468.753999999997,144.991,1349.3200000000002,-105.36999999999999,979.4,-167.39999999999998,2839.6899999999996,-475.29999999999995,-39.95,4166.6,1319.6100000000001,107.30000000000001,5647.081,729.91,6861.9800000000005,621.8199999999999,11826.644,3392.6400000000003,6400.361,585.1,70.5,325.0,-26.089999999999996,534.8019999999999,-25.549999999999997,-292.27000000000004,10003.276,-77.37400000000002,6574.2,2646.7,5202.0,1109.946,70.3,-62.680000000000064,2112.444,349.3,5459.903,-12.77000000000001,1723.2199999999998,491.7,842.2080000000001,215.02,6233.436000000001,6980.659,16623.7,231.89999999999998,94805.28899999999,9779.34,230.30199999999996,95.662,266.35999999999996,-636.98,1760.0300000000002,60435.5,-26.089999999999996,886.1,9.819999999999993,551.05,149.47000000000003,2513.2,27.460000000000008,-39.5,1040.755,620.5400000000001,213.37,-721.23,-203.48600000000005,-525.8799999999999,1410.087,1417.531,-97.0,372.72799999999995,-16.17999999999998,3914.9460000000004,11984.063,9.909999999999997,1547.1480000000001,-74.00999999999999,35.92999999999998,18350.461,9231.372,2352.41,530.319,-63.980000000000004,-412.93600000000004,9604.539,721.2120000000002,3288.71,194.716,43.3,-378.67,5769.1,764.2,-67.4,24307.277,-612.7199999999999,-41.93599999999998,226.39999999999998,4086.2,1946.533,50.708,-8.180000000000007,13800.970000000001,386.2,71.13000000000005,-30.680000000000007,-41.11999999999999,41.5,414.84000000000003,356.15,0.9100000000000108,130.22800000000007,266.5,-165.04500000000002,-508.1589999999999,-83.47000000000003,-8.0,188.22000000000003,26466.381999999998,11630.455,4035.83,-20.024,-17.08999999999999,467.04,7.839999999999989,-62.018,338.33000000000004,173037.827,752.71,1714.946,-13.409000000000006,145.60000000000002,138.37999999999994,-296.9000000000001,10045.038,1132.3,99.1,199.45,-201.57000000000005,631.01,0.9100000000000108,10640.016,-4.400000000000006,15712.1,940.3600000000001,-17.08999999999999,1278.2,27.909999999999997,-338.76000000000005,456.0319999999999,3104.7110000000002,10465.253,1319.5,4671.677,-205.818,-224.75,-30.5,2023.6999999999998,434.4149999999999,237.70000000000005,3757.1400000000003,91.45000000000005,-53.009,5580.539,-8.08999999999999,-36.980000000000004,760.52,569.297,18.909999999999997,-35.675,-53.269999999999996,37143.362,409.98,1266.7,865.8199999999999,99.91,9201.327000000001,544.8800000000001,1272.1,-53.449,657.22,-168.18,4982.5650000000005,4471.68,520.5730000000001,2874.761,4809.668000000001,1805.0700000000002,7704.790000000001,221.77999999999997,4.599999999999994,247.7,109.0,384.1,-115.13500000000002,-41.39000000000001,9833.189,-628.7,557.4,145.0,34116.755,257.60299999999995,468.93000000000006,274.0,715.1849999999998,632.8,81.82000000000001,118.0,3114.1,27456.87,248.29999999999995,37326.655,2749.872,909.1,7286.119999999999,21638.5,-1044.9199999999998,695.0640000000001,1558.1789999999999,1106.14,45.099999999999994,2821.946,90.1,147.02499999999998,-17.009,3042.07,688.676,6399.5,-39.589999999999996,32.5,286.65999999999997,16488.9,118.875,72.88799999999992,-57.589999999999996,576.98,549.478,18.099999999999994,-261.409,1372.2700000000002,1617.3,170.2,-35.900000000000006,1175.4299999999998,496.3399999999999,333.1,810.04,-211.0,82.0,11.710000000000008,239.5,-53.18000000000001,-181.29999999999995,-16.139999999999986,-113.21800000000002,958.6,1035.0839999999998,163.64000000000001,649.0,9.099999999999994,1443.1,90.53699999999992,3066.9739999999997,1066.52,204.02299999999997,33.264999999999986,360.37999999999994,689.3,409.8,-12.479999999999961,1629.8,8.200000000000003,58.39999999999998,85.06200000000001,135.48200000000003,195.23000000000005,-45.197,29212.502,267.049,6067.0,433.0,92.23000000000002,10232.39,-21.5,-73.68,2754.13,1778.0520000000001,531.2,562.73,0.6700000000000159,1411.95,9033.671,6084.514999999999,-219.84,693.0039999999999,8220.538,432.1,3362.928,-512.309,1247.5,-2.769999999999982,2132.0699999999997,62.88499999999988,3979.3900000000003,27.991,1999.982,-28.700000000000003,616.1100000000001,16.165999999999997,1856.0,-38.78,1070.48,1015.9599999999998,6709.406,950.6370000000001,7857.7,-103.02499999999998,1493.454,410.15999999999997,121.906,7238.665000000001,1738.7799999999997,198.1,658.3539999999999,1184.811,17.650000000000006,-306.0970000000001,36.91,174.07999999999998,220.74600000000004,-454.15999999999997,39311.25,135.98199999999997,1301.8,1173.2399999999998,32093.1,454.4100000000001,-84.47999999999996,63.82000000000001,172.24800000000005,2866.659,7515.6,7127.829999999999,5652.89,4019.5,3785.5280000000002,436.79999999999995,2460.7540000000004,9182.600999999999,37.0,63.82000000000001,50.5,528.8,57.61,-686.5250000000001,1242.8020000000001,-155.4,157.6,19692.43,3059.3909999999996,351.902,307.27,109454.34700000001,-26.477000000000004,42.129999999999995,-913.5,-31.58,754.23,-52.17999999999999,307.0100000000001,189.1,232.5,5.5,24933.088,-46.79,-53.80000000000001,13.329999999999984,65.928,28.0,1972.8200000000002,4806.1,-258.58,371.08000000000004,5025.178,2612.0609999999997,-53.089999999999996,-31.504999999999995,683.5,7191.11,729.1,14.042000000000002,119.99000000000001,861.4,3739.878,5658.97,5915.3,65.79100000000001,-467.54,1040.5,-687.444,336.7850000000001,1374.2,11165.31,-50.18000000000001,82.0,-8.548999999999992,331.921,404.91999999999996,739.0,-48.360000000000014,-295.70900000000006,14709.2,2649.8,140.52999999999997,10525.646999999999,39.83800000000002,262.115,2575.9,816.7449999999999,3755.2,8360.576,-126.6,364.35,6217.232,6358.992,1908.9299999999998,8455.03,-37.06999999999999,180.90999999999997,154.37,197.9600000000001,1061.68,1383.6,263.251,5316.282999999999,125.09500000000003,45.099999999999994,2678.9700000000003,-445.289,2311.09,-17.08999999999999,1322.6509999999998,2315.968,685.1100000000001,1061.92,2175.714,4514.09,764.386,3538.806,6667.737999999999,3607.3,601.0840000000001,-38.690000000000005,28.0,99.82000000000001,-159.16500000000008,16002.824,-35.900000000000006,246.8,23466.6,22171.489999999998,199538.44499999998,954.964,1098.9460000000001,332.2,422.56999999999994,318.95399999999995,2662.676,7733.168000000001,-44.900000000000006,585.793,859.6579999999999,32.724999999999994,-168.02499999999998,873.6,2505.746,298.0,4764.782,2718.0460000000003,45757.445,-21.364999999999995,-291.38,-35.089999999999996,8014.59,-22.67000000000001,3615.92,1015.8740000000001,210.2,1022.3,278.7900000000001,-196.16,14.080000000000041,-270.20000000000005,1004.71,-265.22799999999995,2552.4,1212.5,-78.80000000000001,-239.5,271.01099999999997,-100.39999999999998,969.0,8.200000000000003,-612.0800000000002,623.27,35.019999999999996,219.62,-376.42499999999995,465.057,59.41,1281.028,15512.73,1065.9700000000003,43.69999999999999,-134.825,376.60999999999996,-28.591000000000008,60.5,-35.089999999999996,56.700000000000045,35.335999999999984,99.99100000000001,2212.89,21989.271,-17.08999999999999,149.8,1522.8769999999997,17274.0,8.875,324.3,9584.952000000001,-66.05,1560.935,12631.9,11.844999999999999,595.0,23346.05,50.32000000000001,32419.767999999996,974.2799999999997,-80.61999999999999,-53.54,-88.17999999999999,696.9359999999999,292.132,6093.65,582.571,424.0,57923.649,981.5100000000001,4150.0,-39.30200000000001,84.7,-154.5,620.923,1359.1,5460.081,-449.14400000000006,2051.92,2942.695,52.83999999999999,5435.334000000001,108.94699999999997,-44.089999999999996,1073.845,398.1,-445.228,1854.9270000000001,270.991,6800.377,162.61,185.31999999999994,1920.6,1859.5299999999997,22656.6,713.72,24.69999999999999,82.0,-113.81000000000003,-50.13499999999999,10.406000000000063,-60.019999999999996,-528.5799999999999,-604.17,774.7,-182.4,331.1,-4.085000000000008,-160.20000000000005,20518.518,13517.19,531.3499999999999,42.38199999999999,187.85000000000002,-265.18899999999996,747.03,13443.77,-7.189999999999998,-95.59000000000003,394.86999999999995,-17.900000000000006,1091.882,6380.4,38.73000000000002,1127.964,1392.1280000000002,567.4599999999998,2241.2480000000005,713.4630000000002,3187.768,6046.05,45.82000000000001,3464.411,-70.512,-33.20999999999992,-801.016,1945.1,-33.23000000000002,-347.99,139.80999999999995,1058.6,777.9009999999998,6806.26,465.69100000000003,-93.589,941.1400000000001,800.2,7652.95,875.218,3661.7,457.33700000000005,153.1,4951.719,51.31,-17.0,99.99100000000001,1138.27,238.754,4376.4,14709.22,2914.5969999999998,137.26,-35.089999999999996,622.0,47.63799999999999,13801.294999999998,-382.988,5375.706999999999,-66.58999999999999,126.91,-109.93,-26.089999999999996,728.4,28.0,-159.97000000000003,-53.0,21132.027,146.8,37885.749,13830.06,1237.6100000000001,45.964,11533.442000000001,7.290999999999997,-42.416000000000004,-110.67000000000002,-90.22000000000003,-433.38,809.2630000000001,-95.30799999999999,1437.0,236.76,-107.71699999999998,45311.786,887.1870000000001,-138.64999999999998,3996.703,183.945,380.8899999999999,29039.102,1416.81,-61.190000000000005,1008.2,6898.302000000001,153.55,-42.35000000000002,3283.0609999999997,-251.5,-241.49,97.21000000000001,35280.765999999996,-42.29,551.6300000000001,4969.886,505.0920000000001,-22.079999999999984,-110.67999999999999,-417.18,8368.78,340.5,26.5,5179.522,-308.09900000000005,581.491,345.93700000000007,2749.4799999999996,-574.47,40.599999999999994,-134.187,-213.46899999999994,199.39999999999998,12.199999999999989,5899.918000000001,3142.5,3716.0099999999998,2171.037,-217.5,-35.900000000000006,24.629999999999995,66.68799999999999,629.5,5062.9,-226.21,189.90099999999998,1593.01,167611.50100000002,-26.089999999999996,45.91,2309.2509999999997,270.1,302.5,-106.89100000000002,531.7200000000003,117.91,1386.006,-63.480999999999995,12069.287,1945.0,-0.8900000000000006,2944.6310000000003,99.1,6556.1,1034.65,36.91,903.1,-44.900000000000006,5773.8,4682.72,45.91,2762.6,11062.15,37925.856,5728.0,4.204000000000008,44.875,568.839,-32.489,3136.0040000000004,-53.108000000000004,101.71000000000001,8842.449,361.34000000000015,4980.5,-79.27000000000001,18.909999999999997,-120.102,8904.301,3327.93,-6.7999999999999545,619.0,984.4,3936.2,6465.625,54.86700000000002,5345.830999999999,-848.5600000000001,-5.299999999999997,243.73000000000005,2809.9300000000003,7857.1810000000005,-79.27000000000001,5329.613,415.53599999999994,5526.405,743.861,146.62,-23.758999999999993,1723.35,1920.3700000000001,9437.964999999998,517.8,5784.867,2886.5269999999996,-113.28,23094.576999999997,4805.607,107.07399999999998,-62.0,1044.15,472.982,45.099999999999994,5868.75,-867.73,231.37,48171.298,819.2,17581.528,35.829999999999984,1831.8329999999999,59.788,98.02000000000001,3820.0099999999998,3.6099999999999994,4987.003999999999,10469.768,-794.478,-30.5,4303.6939999999995,-371.0630000000001,-134.8,245.0,38066.1,674.6,520.21,315.20000000000005,151.04000000000002,2478.888,711.83,88.021,3443.2909999999997,-703.8799999999999,15882.228,2153.78,1848.7,-728.48,-859.5,559.46,266.5,-287.5,247.25,-137.70000000000005,32158.06,5293.989,-746.95,1920.8899999999999,5425.6,2964.8,419.241,6021.11,1803.3429999999998,-293.80899999999997,318.4000000000001,6159.87,511.09299999999996,-41.55000000000001,66.68299999999999,462.72,285.43000000000006,319.55,424.0,783.991,7417.786000000001,254.45999999999998,-10.780000000000001,1118.0,638.1399999999999,7659.347,4379.1,2826.316,3953.2900000000004,7039.3,296.23900000000003,8634.547,139.7,-62.18000000000001,-31.400000000000006,3611.925,-25.190000000000005,818.2,54.82000000000001,71.201,4.653999999999996,90.01,54.91,124.13000000000005,408.1,1389.5,-45.61999999999999,647.3409999999999,1551.983,492.5100000000001,189.73000000000005,403.984,1166.94,2478.0,-245.639,1136.4699999999998,414.058,715.9,751.7829999999999,731.54,-57.5,537.4810000000002,6785.280000000001,3487.7299999999996,776.482,-97.09799999999998,-67.49,1076.7,1051.54,378.55999999999995,-88.80000000000001,18609.704,-222.0,189.51099999999997,1260.3,28.55000000000001,2189.93,144.31999999999994,205.93000000000004,5453.9,917.043,-563.1310000000001,-66.38,3744.0819999999994,239.40999999999997,2644.867,5672.359,842.548,2600.85,1312.547,1145.55,6629.342000000001,2666.2519999999995,10714.06,-63.65300000000002,203.46400000000003,2894.557,206.2,28275.44,16996.572,790.3,-122.38000000000001,738.92,-49.125999999999976,-53.97000000000003,-485.40700000000004,5765.0,4702.619,380.0,92259.578,7739.341,5159.3,2567.82,371.1100000000001,3891.57,426.91999999999996,-23.480000000000004,619.4,2381.13,2726.757,100.0,-16.950000000000045,3379.0099999999998,1692.9830000000002,612.2,27.819999999999993,294.94399999999996,0.09999999999999432,12667.054,1134.02,823.98,2309.091,19614.59,49243.49,98.62200000000007,409.89,218.18399999999997,27.622,111.94000000000005,4630.217000000001,108.01,15649.560000000001,-17.08999999999999,1317.65,1.0,2283.7509999999997,424.95500000000004,-398.25,23.5,-59.319999999999936,2393.4939999999997,-3.5,-21.509,1979.9399999999998,228.50199999999998,14.5,3649.5609999999997,-26.0,-585.5,9145.170000000002,-72.35900000000001,-39.5,10783.630000000001,426.75,13099.505,674.7990000000001,469.074,23.5,17953.502,-171.1500000000001,2697.42,3812.225,2727.044,1389.2649999999999,6945.615,-460.6679999999999,-63.08,-299.27000000000004,4155.982,55.53999999999999,500.88000000000005,360.4,-760.25,2296.319,-427.4,123.46999999999991,8718.45,4646.197,-86.27999999999997,2076.75,4618.495999999999,344.31999999999994,-444.18,-2.0120000000000005,2076.0,11152.35,39.7,27.909999999999997,2143.3469999999998,302.40999999999997,-93.57,-34.17999999999998,2547.7560000000003,1895.0370000000003,-17.900000000000006,-41.781000000000006,44669.191999999995,6394.209999999999,7134.130000000001,222.4,-340.618,725.119,0.09999999999999432,6766.767,2304.6450000000004,-594.1800000000001,7.659999999999997,334.0,2921.4700000000003,28187.629,729.9699999999999,49060.713,390.385,715.7270000000001,-42.37899999999999,5284.9439999999995,945.0670000000001,27707.343999999997,2803.2909999999997,-62.089999999999996,124.12400000000002,21229.475,343.29,3846.351,776.6379999999999,376.91999999999996,2167.7,1461.0,2131.736,44.74000000000002,40109.36,591.473,512.3,19186.72,-20.579999999999984,1136.581,1861.3,4377.073,260.482,-342.1089999999999,-134.77999999999997,-92.67999999999999,6128.9,164.8,1389.7,1577.793,2712.6639999999998,378.4,358.75,14597.651999999998,1581.636,595.441,3934.6,7718.257999999999,1412.947,135.82,-53.0,413.25399999999996,-7.4950000000000045,1070.524,-119.19999999999999,2524.0080000000003,-8.941000000000031,2485.2439999999997,5920.091,219.10000000000002,81.01,7454.417000000001,115.09100000000012,3976.1,260.49299999999994,6444.5,8628.964,993.143,-15.564000000000078,-813.48,99.1,-121.79999999999995,1855.0620000000004,479.55,34636.75,5987.700999999999,-747.6800000000001,997.3,1180.0,6128.11,70.5,5580.22,6008.717999999999,217.1,-664.2900000000001,66.01999999999998,594.1,998.2,-37.339999999999996,515.1049999999998,585.982,55.72300000000001,11613.043000000001,961.1600000000001,60.31,715.2600000000001,-329.9900000000001,437.3650000000001,5420.2,-858.6800000000001,120.0,14.670999999999992,-192.452,488.79999999999995,1662.4299999999998,1779.0700000000002,56.8,1737.1680000000001,-4.489999999999995,164.52999999999997,5149.710999999999,-35.99,337.73,142.84299999999996,1210.1,915.673,271.0,-532.72,1563.112,35512.826,55.0,489.70099999999996,2206.2,-44.05000000000001,973.5600000000001,2091.12,66.60000000000002,180.541,2790.081,-35.089999999999996,601.5,3522.262,341.3,-68.30900000000001,498.37000000000006,103.6,39587.333,1248.491,1435.205,228.7,405.982,5569.2,1658.4,44.39999999999998,99.82000000000001,-31.13000000000001,-60.95999999999992,64.9,1483.5,-139.19000000000003,4707.112999999999,687.2,-111.29000000000002,-274.0,-39.50899999999999,-143.079,57152.770000000004,176.5,-35.900000000000006,216.91000000000008,283.07,935.9330000000001,238.4699999999999,13647.865,9502.8,-35.18000000000001,-242.38000000000005,6236.4,929.483,122.32000000000001,3676.319,-505.0,46.099999999999994,3273.5600000000004,136.10999999999996,209.35,10.810000000000002,8478.478,16708.678,1321.8,3874.9,242.2,508.5,-24.596000000000004,810.7660000000001,1118.682,3591.7599999999998,-559.8,1124.776,10797.695,13681.22,28.460000000000008,1006.6990000000001,-8.08999999999999,951.1100000000001,-116.60000000000002,18.909999999999997,5296.7919999999995,10082.082,-8.535999999999945,550.001,27980.19,315.1,36.81099999999999,-62.99,-11.518999999999991,-13.939999999999998,541.656,-406.576,1515.6509999999998,271.28,1697.1,502.5,1618.5100000000002,271.55,-132.036,745.732,74.82,-1067.5079999999998,45.54100000000001,869.77,3696.15,451.0799999999999,993.8,-17.08999999999999,-2.0600000000000023,221.491,2961.8,339.54999999999995,-151.04999999999995,1145.855,2484.461,95.23000000000002,423.2,181.82,1006.05,-1214.54,-37.39000000000004,2139.08,3650.02,139.70999999999998,10487.21,894.2989999999999,1102.9,-53.78999999999999,2514.407,-49.039999999999964,86.19000000000005,28.0,21544.796,-395.76800000000003,3411.7909999999997,18.991,4271.541,121.691,415.91099999999994,-307.57,-292.99,13121.55,1267.7920000000001,583.8020000000001,3031.819,1531.8759999999997,1355.77,2572.3,463.169,-64.62700000000001,726.0,3159.8269999999998,-397.01800000000003,623.71,-374.1349999999999,-44.99,39619.824,77.5,-449.6600000000001,665.03,640.5600000000001,2063.117,7694.384999999999,27377.93,941.7970000000001,27.909999999999997,7470.9,1229.5,1113.5210000000002,504.6,698.28,-292.36,2312.0,11741.16,-981.45,1708.8020000000001,839.8989999999999,391.38599999999997,640.878,-42.29,1190.92,-132.018,250.3,4089.0,19041.528,-37.985999999999876,158.91499999999996,73.0,-44.900000000000006,592.5350000000001,2503.01,9679.35,2138.3,1438.31,26.019999999999996,3612.7,379.2739999999999,-75.0,63.981999999999985,1041.7,1139.42,1234.59,912.9830000000001,-239.07999999999998,217.0,12342.667000000001,331.64700000000005,147.18100000000004,1058.6839999999997,2529.01,104.68100000000004,162.90999999999997,1122.455,3178.909,6359.545,54.00099999999999,1963.1,82.0,142692.913,2118.0640000000003,1103.77,398.2,143.2,20467.5,1086.5700000000002,19741.199,78.13,4262.610000000001,8341.73,430.65,-85.10000000000002,-15.038999999999987,-52.079999999999984,2818.17,-180.72399999999993,2753.579,101457.05,-307.984,413.59000000000003,2093.844,-25.437999999999988,-300.05999999999995,1.0,-70.19,778.6569999999999,5.040999999999997,27671.895000000004,2419.537,-137.4,625.5640000000001,216.01,-734.6310000000001,-66.833,1911.362,6067.039,71.77000000000004,213.86,893.0,1801.0,74.9,570.0200000000002,25.929999999999993,687.2,130.6,595.0120000000001,117.82000000000001,633.376,454.6,-26.349999999999994,-62.0,67.59000000000003,32128.054999999997,11065.239000000001,-53.009,9665.759999999998,1546.5200000000002,10732.4,185.34699999999998,209.64,621.1599999999999,1056.58,137.8,230.531,10705.9,-234.51799999999997,-71.07000000000005,-140.17000000000002,-641.3800000000001,286.9559999999999,139.05999999999997,36.799999999999955,-437.65999999999997,10298.912,11016.41,99.1,-198.59,-148.18899999999996,22728.339999999997,5272.083,6837.380000000001,-22.920000000000016,-62.089999999999996,725.51,730.894,4296.4400000000005,7292.779999999999,3928.7120000000004,9.099999999999994,352.90999999999997,99.91,1745.7640000000001,848.6,20291.2,567.6310000000001,2723.557,669.1690000000001,-50.92,278.02,489.8699999999999,8214.71,-130.279,3029.045,2169.14,4111.919,-194.5,-625.4,1260.1,386.4,5481.018,338.473,49611.640999999996,1825.1100000000001,-14.471000000000004,9574.501,31.599999999999994,99.82000000000001,6112.3,292.87,423.1,12033.716,10957.321,-30.5,53.2,2194.136,-73.02000000000004,45.271,297.03,-621.9000000000001,198.82,147.782,2573.283,84.88,1866.1,1246.642,839.38,-412.509,-37.78,72.78399999999999,5617.583999999999,2260.74,-170.66200000000003,-536.59,20242.693,1677.6399999999999,27.909999999999997,760.793,150.96999999999997,476.8399999999999,-210.45299999999997,10151.81,-420.65,1494.3199999999997,4560.3189999999995,13903.795999999998,141.4,28.0,40039.365999999995,-710.78,631.9200000000001,-950.097,-357.3850000000001,169.975,968.0,1949.7619999999997,92.0,887.8,1367.03,911.65,340.3,112.67200000000001,395.86999999999995,2523.92,-125.70999999999992,999.391,1788.66,3079.491,892.983,-2.6899999999999977,604.8280000000001,-575.1800000000001,28.0,-236.0,-29.495000000000005,1110.3760000000002,48.223,880.6460000000001,162.091,7739.123,5028.165000000001,-26.089999999999996,-173.25,10218.821,-26.430000000000035,0.9100000000000108,1047.278,-2.5999999999999943,-121.434,1532.3380000000002,1474.1,376.52599999999995,9429.945,97.4,25.912000000000006,916.3,-100.6,252.44600000000003,791.21,549.982,33.22000000000001,128.77499999999998,-200.61799999999994,3031.7349999999997,117.82000000000001,-73.78999999999999,1479.586,3825.591,98.2,-3.5,-43.099999999999994,-12.5,7336.2210000000005,12093.78,55768.901,849.0,6051.0,-818.4000000000001,1484.924,5738.295,9871.178,951.1689999999999,-355.26,63.981999999999985,5627.548000000001,822.3020000000001,222.30999999999983,10405.429,424.034,617.17,-8.009,585.568,610.8,2313.2,12764.855,993.4309999999999,1046.8,5.319999999999993,251.33000000000004,1038.31,3713.7900000000004,364.0,985.17,18980.567000000003,102.60099999999998,-103.57000000000002,76.6,6879.469999999999,2832.5400000000004,378.1199999999999,1975.2689999999998,154.51,2617.525,126.91,-878.2059999999999,37.0,-40.542,2215.783,-295.409,-375.39,35.36999999999989,5.986000000000004,42.74599999999998,2452.2650000000003,1373.7799999999997,6975.030000000001,424.0,489.855,59.5,684.8699999999999,-69.28999999999999,2304.9399999999996,234.90299999999996,365.5,3320.68,549.479,228.433,5198.92,6379.7080000000005,508.5799999999999,6383.0,3696.7299999999996,1477.31,770.482,211.6,78.57999999999998,4364.709999999999,51.858999999999995,12.791999999999973,97.49000000000001,-14.39,14684.306,3713.8549999999996,-82.5,3043.0,595.2,53397.54,674.4010000000001,469.192,2718.0209999999997,9470.246,3127.3900000000003,5986.16,1495.0,1887.4800000000002,1242.5199999999998,1012.8,221.5,180.55,8625.509,4859.339999999999,126050.977,168.555,9927.0,2286.1530000000002,675.46,4478.2,745.3,7800.530000000001,-73.13499999999999,108.63999999999999,-955.27,203.5,7419.1,7227.955,2087.883,-68.3,-46.90300000000002,7036.07,34553.5,-236.98000000000002,-12.5,-61.69999999999999,76.54599999999999,696.8,11460.285,75.51299999999992,-695.2160000000001,-41.28999999999999,321.33000000000004,99.1,505.0,70476.095,-0.5720000000000027,1994.545,-8.27000000000001,2670.2760000000003,775.9350000000001,3764.0,16939.126,67.61000000000001,2124.6800000000003,-115.06,1089.1,-899.5,1215.3699999999997,464.79,7014.5830000000005,4383.602,-96.97999999999996,658.85,351.38000000000005,7242.182,-89.24900000000002,1016.3399999999999,-18.66300000000004,529.72,41435.921,5451.0070000000005,797.5,853.8400000000001,216.79999999999995,813.1899999999999,5332.74,991.664,1019.02,26.019999999999996,803.67,3256.51,2815.9980000000005,104.95999999999998,1379.5100000000002,250.25,2937.884,37.53999999999999,4734.572,1363.15,6138.922999999999,-246.7600000000001,73.00999999999999,1760.312,1610.01,287.30999999999995,22.511000000000024,116.2,5915.266,701.7,-105.1,1542.1200000000001,-103.66,-361.25,10589.876,1980.455,1230.95,2659.35,-48.50899999999999,64.0,456.53000000000003,41.32000000000001,8697.403999999999,578.6810000000002,344.68700000000007,-297.1,-122.18,-1323.25,440.2,75.7,21717.281,5419.337,3296.2909999999997,11437.139000000001,360.1,-69.27000000000001,-623.49,967.3050000000001,22479.703,1954.8309999999997,62.164,-598.1299999999999,-62.99,-74.15,1408.691,108.70000000000005,431.5,-603.7,885.084,189.91500000000008,99499.977,556.5,290.96299999999997,-135.39999999999998,-679.012,83982.78,340.322,13597.937,-53.089999999999996,575.452,5178.035,-156.0,1519.44,2982.4390000000003,4987.4400000000005,-72.86999999999998,41.5,127.0,758.55,1908.811,4238.7699999999995,490.5690000000001,899.3,2830.2320000000004,-8.009,730.6700000000001,370.2,12072.872,135.82,236.24,17.200000000000003,-8.900000000000006,2954.55,5824.782,3192.1980000000003,144.91,603.5,789.4700000000003,-60.918000000000035,3.5299999999999727,3238.34,46521.602,14778.154000000002,386.94,686.1989999999998,6501.168000000001,5012.1320000000005,25614.055,11312.5,-37.339999999999996,15268.52,11.799999999999997,1478.7600000000002,-90.96000000000001,10355.45,2084.1549999999997,63.91,12.700000000000003,-114.1,2223.17,-36.8,145.9,-1283.183,4761.4310000000005,45.90099999999998,3577.0,-73.16000000000001,-450.82,490.4699999999999,-59.75,321.30999999999995,328.55,-251.53599999999997,3.3969999999999914,684.55,144.82,-72.575,613.8399999999999,1933.4,-35.918,389.70500000000004,-57.589999999999996,-44.089999999999996,-76.27000000000004,87.19000000000005,-177.8,180.90999999999997,83.73000000000002,82.9,-478.9900000000001,116.83499999999992,11344.880000000001,153.15499999999997,2049.63,-8.08999999999999,-57.509,-116.39999999999998,193.35700000000003,630.901,-430.0999999999999,-161.34,-25.950000000000045,15449.8,1379.9480000000003,-60.44999999999999,-139.47,107.2,-27.809000000000005,-12.58999999999999,13888.891,10298.256000000001,660.466,178825.62800000003,-75.56999999999996,-1025.443,-41.3,5394.830000000001,6911.959999999999,1502.9,-313.6,1675.435,993.6,121.51,562.601,451.2700000000002,133.83999999999997,-266.269,34718.59,0.5859999999999985,5355.0,592.0,6496.878000000001,-63.10800000000006,1291.8,9.099999999999994,2866.466,-436.536,8551.4,39606.653,81.09100000000001,47983.952,404.2,1054.384,9125.247,2997.892,2501.677,-193.70000000000005,1351.5949999999998,16.299999999999997,-373.3800000000001,9.185999999999922,-264.677,-132.99,11295.610999999999,-29.78,1524.286,268.04,1150.4299999999998,73.0,-341.14,288.64,2565.883,305.9100000000001,55.0,1164.5,600.34,627.81,4787.522,-16.549999999999997,990.0100000000001,6217.790000000001,1137.8,-539.0799999999999,788.4110000000001,56.61099999999999,782.5100000000001,709.9899999999998,365.5,62.950000000000045,542.71,-406.87300000000005,604.8199999999999,310.3259999999998,70.0,1413.2,18.099999999999994,0.9819999999999993,-59.39000000000001,355.01,329.14,1912.6049999999998,69.62799999999999,-229.18,-457.0,5701.4,56.64000000000004,-559.1880000000001,1123.4,7078.130000000001,434.38000000000005,528.0,446.6,2639.4939999999997,6174.6,-281.99,8369.87,892.29,1719.1299999999999,197.27999999999997,-610.5999999999999,444.091,96.14000000000001,-310.86,-1066.53,63.91,234.0,8.11,18261.61,-226.714,380.0,10202.4,1004.46,459.55,832.0,25069.721,3337.3600000000006,693.5100000000001,263.01,284.5,37.452,-289.999,-48.5,27.909999999999997,205.41900000000004,58.239999999999995,-39.527,-33.29,4426.109,-8.08999999999999,0.9909999999999997,99.70300000000002,2191.971,191.82,867.0,25404.589999999997,18.30000000000001,-71.9,87.4,758.046,86.23000000000002,386.634,-103.45999999999998,154.01999999999998,336.99299999999994,-26.089999999999996,6219.031,2615.49,-157.26999999999998,205085.367,162.1,7715.799000000001,-24.29,4347.9400000000005,341.614,126.91,459.64,-206.29999999999995,-75.30000000000001,1423.9,372.1,-194.45,590.52,4007.902,-350.45000000000005,2002.91,4025.102,220.45,-748.5360000000001,190.676,0.9100000000000108,7657.95,95.32000000000001,7582.82,1282.0,2383.4799999999996,6162.7,82.0,1000.6400000000001,37868.66,-266.0,717.3019999999997,615.955,1093.33,4470.481,1556.6350000000002,-292.18,433.0,1193.2620000000002,-126.63600000000001,578.091,1804.403,7407.129999999999,14396.331,-691.7570000000001,1486.2,1304.14,-723.05,749.9200000000002,10380.051000000001,-165.209,329.05,5009.86,153.90999999999997,4443.962,71.28999999999999,54.91,-66.06999999999994,-33.39999999999998,8391.462,-8.180000000000007,917.8,196.1199999999999,346.75,12503.452000000001,4588.83,1679.95,1374.314,1184.4,37.91,-27.969000000000023,425.936,4195.054,1391.784,1047.28,1797.1,13156.756000000001,21.319999999999936,203.68999999999997,-53.089999999999996,270.082,-48.120000000000005,-14.245000000000005,108.1,-215.423,168.5,288.67100000000005,5.439999999999998,7263.901,135.27999999999997,12933.830000000002,-62.99,358.21099999999996,205.937,189.5,170.98300000000006,12144.056,-12.5,123951.69499999999,-362.342,1308.54,1378.7489999999998,2159.5519999999997,2476.0,-208.563,2333.2,33.13000000000001,3051.76,-8.08999999999999,-62.089999999999996,1.2249999999999943,252.075,1387.5,-50.75,-643.3,778.239,-45.25,46.0,206.92000000000002,1627.551,18017.713,1733.9009999999998,-87.55000000000001,90191.044,983.3199999999999,880.455,90.65,141.76,65.90100000000001,1734.0660000000003,10.774000000000001,-484.45799999999997,447.913,-127.86000000000001,4373.767,1845.26,-139.154,201.0,-207.159,-432.45000000000005,-343.45000000000005,-26.900000000000006,1424.25,40.420000000000016,186.94000000000003,895.4019999999999,-368.39599999999996,-58.471999999999994,5454.992,2021.0,44.799999999999955,11439.23,2076.275,90.91,-0.8900000000000006,714.2,-48.5,409.8219999999999,161.89999999999998,8.590000000000032,1757.25,-35.269999999999996,1063.2309999999998,-42.29,2878.41,1375.2600000000002,90.1,281.10999999999996,453.0,6649.66,422.793,90.99100000000001,66.44,28.649999999999977,0.9100000000000108,961.8050000000001,10518.55,-4.46999999999997,36.91,-58.49,-130.79999999999995,9344.95,29049.788999999997,2773.7,-26.900000000000006,2246.7929999999997,54.099999999999994,1348.3900000000003,3149.8120000000004,589.407,3287.264,-60.29,28535.818,2361.946,-182.92200000000014,-26.0,-500.9000000000001,1513.7350000000001,-66.58999999999999,-26.900000000000006,-412.99,-25.109,379.973,63.799999999999955,660.55,-42.632,1493.0659999999998,1966.4,55.0,171.1,6232.816,-433.29,2981.13,141.5,-554.662,600.039,388.0,58.375,830.7060000000001,349.5609999999999,-53.089999999999996,7598.792000000001,20.539999999999992,6316.5,43873.04,223.26399999999998,92.82,1498.2700000000002,843.3470000000002,-59.93000000000001,11758.7,794.2309999999999,-132.8,165.51099999999997,-54.089000000000006,208.63000000000005,447.00399999999996,11447.413,289.44399999999996,656.28,-26.180000000000007,257.6,0.9909999999999997,4151.13,1194.4,71.11,1830.4609999999998,153.64000000000001,20066.235,339.4,5421.2,621.01,904.5310000000002,626.41,622.3300000000002,3530.875,5.319999999999993,4664.321,914.5910000000001,1113.482,7040.16,-118.40800000000002,755.0699999999999,41697.1,3456.8,157.55599999999998,-429.11,-396.063,651.0,279.1,3322.525,1700.5,-452.485,0.09999999999999432,1272.09,416.1809999999999,208.64000000000001,404.21,632.83,46.900000000000006,26172.677,-45.17,314.125,527.6600000000001,7899.973,2336.5,497.99,666.57,2574.1,603.1,-608.95,96.4,9348.85,1543.0520000000001,-50.35999999999996,-68.75,117.30000000000001,3696.5819999999994,116.12,-133.17000000000002,-44.089999999999996,288.924,980.8,11401.419999999998,1451.0,131.86099999999996,1663.2,2695.652,4472.1669999999995,-50.309000000000005,-178.59000000000003,-81.23999999999998,108.30000000000001,45.099999999999994,44766.01,-419.4630000000001,3214.4799999999996,1555.075,1720.949,459.81999999999994,9475.8,1231.9300000000003,381.90100000000007,-56.690000000000005,674.0100000000001,113460.071,-44.089999999999996,99.99100000000001,3479.5,14.635000000000005,5829.7,2032.152,14693.260000000002,4481.659,1526.7930000000001,-116.94100000000003,27275.184999999998,3766.7799999999997,3350.0519999999997,104.37,-602.269,5066.8,7804.380000000001,278.3,-762.9199999999998,13.259999999999991,408.655,-39.589999999999996,90.1,99.98199999999999,946.082,3997.8140000000003,-20.069000000000003,100.55000000000001,-71.08800000000002,5812.7,-193.43,630.8199999999999,11646.07,-151.24900000000002,11672.109,-53.089999999999996,190.60000000000002,-35.089999999999996,5664.425,21204.277,1493.65,-8.08999999999999,415.0,22.600000000000023,111.36299999999994,616.6059999999999,273.13300000000004,4912.2,12.620000000000005,116.05000000000001,54.72999999999999,2375.26,3198.5099999999998,608.5,3017.816,467.52,-78.09,432.2,11789.883000000002,-35.00899999999999,4327.0,-53.18000000000001,3164.7,-274.45,662.394,-71.08999999999999,380.8,49206.916,3576.3129999999996,1481.4799999999998,207.90999999999997,-10.88000000000001,2776.16,98.2,210.35,-382.52999999999986,683.002,234.43000000000006,1947.9,731.92,33.5,2665.3,-69.2,-11.599999999999994,583.93,10.982000000000028,373.942,3507.0290000000005,1940.3899999999999,7763.0,-131.55,54.099999999999994,3092.706,8223.079000000002,12638.287,30.899999999999977,1000.375,113.34999999999991,1320.443,10512.0,-132.099,2349.245,-534.6800000000001,-8.27000000000001,1115.31,165.73000000000002,1073.6399999999999,6486.141,538.904,1385.23,4985.162,42.391000000000005,-169.808,-17.0,-17.0,655.636,32483.632999999994,225.90299999999996,1836.1909999999998,-26.63000000000001,19.55000000000001,-98.94999999999999,-71.009,60.31,196.201,-72.05000000000001,-931.1699999999998,259.9390000000001,189.1,6176.754999999999,-56.33,62.2,-319.9000000000001,95.03599999999994,-132.7,-68.75],\"xaxis\":\"x\",\"yaxis\":\"y\"}],                        {\"barmode\":\"relative\",\"legend\":{\"tracegroupgap\":0},\"template\":{\"data\":{\"bar\":[{\"error_x\":{\"color\":\"#2a3f5f\"},\"error_y\":{\"color\":\"#2a3f5f\"},\"marker\":{\"line\":{\"color\":\"#E5ECF6\",\"width\":0.5},\"pattern\":{\"fillmode\":\"overlay\",\"size\":10,\"solidity\":0.2}},\"type\":\"bar\"}],\"barpolar\":[{\"marker\":{\"line\":{\"color\":\"#E5ECF6\",\"width\":0.5},\"pattern\":{\"fillmode\":\"overlay\",\"size\":10,\"solidity\":0.2}},\"type\":\"barpolar\"}],\"carpet\":[{\"aaxis\":{\"endlinecolor\":\"#2a3f5f\",\"gridcolor\":\"white\",\"linecolor\":\"white\",\"minorgridcolor\":\"white\",\"startlinecolor\":\"#2a3f5f\"},\"baxis\":{\"endlinecolor\":\"#2a3f5f\",\"gridcolor\":\"white\",\"linecolor\":\"white\",\"minorgridcolor\":\"white\",\"startlinecolor\":\"#2a3f5f\"},\"type\":\"carpet\"}],\"choropleth\":[{\"colorbar\":{\"outlinewidth\":0,\"ticks\":\"\"},\"type\":\"choropleth\"}],\"contour\":[{\"colorbar\":{\"outlinewidth\":0,\"ticks\":\"\"},\"colorscale\":[[0.0,\"#0d0887\"],[0.1111111111111111,\"#46039f\"],[0.2222222222222222,\"#7201a8\"],[0.3333333333333333,\"#9c179e\"],[0.4444444444444444,\"#bd3786\"],[0.5555555555555556,\"#d8576b\"],[0.6666666666666666,\"#ed7953\"],[0.7777777777777778,\"#fb9f3a\"],[0.8888888888888888,\"#fdca26\"],[1.0,\"#f0f921\"]],\"type\":\"contour\"}],\"contourcarpet\":[{\"colorbar\":{\"outlinewidth\":0,\"ticks\":\"\"},\"type\":\"contourcarpet\"}],\"heatmap\":[{\"colorbar\":{\"outlinewidth\":0,\"ticks\":\"\"},\"colorscale\":[[0.0,\"#0d0887\"],[0.1111111111111111,\"#46039f\"],[0.2222222222222222,\"#7201a8\"],[0.3333333333333333,\"#9c179e\"],[0.4444444444444444,\"#bd3786\"],[0.5555555555555556,\"#d8576b\"],[0.6666666666666666,\"#ed7953\"],[0.7777777777777778,\"#fb9f3a\"],[0.8888888888888888,\"#fdca26\"],[1.0,\"#f0f921\"]],\"type\":\"heatmap\"}],\"heatmapgl\":[{\"colorbar\":{\"outlinewidth\":0,\"ticks\":\"\"},\"colorscale\":[[0.0,\"#0d0887\"],[0.1111111111111111,\"#46039f\"],[0.2222222222222222,\"#7201a8\"],[0.3333333333333333,\"#9c179e\"],[0.4444444444444444,\"#bd3786\"],[0.5555555555555556,\"#d8576b\"],[0.6666666666666666,\"#ed7953\"],[0.7777777777777778,\"#fb9f3a\"],[0.8888888888888888,\"#fdca26\"],[1.0,\"#f0f921\"]],\"type\":\"heatmapgl\"}],\"histogram\":[{\"marker\":{\"pattern\":{\"fillmode\":\"overlay\",\"size\":10,\"solidity\":0.2}},\"type\":\"histogram\"}],\"histogram2d\":[{\"colorbar\":{\"outlinewidth\":0,\"ticks\":\"\"},\"colorscale\":[[0.0,\"#0d0887\"],[0.1111111111111111,\"#46039f\"],[0.2222222222222222,\"#7201a8\"],[0.3333333333333333,\"#9c179e\"],[0.4444444444444444,\"#bd3786\"],[0.5555555555555556,\"#d8576b\"],[0.6666666666666666,\"#ed7953\"],[0.7777777777777778,\"#fb9f3a\"],[0.8888888888888888,\"#fdca26\"],[1.0,\"#f0f921\"]],\"type\":\"histogram2d\"}],\"histogram2dcontour\":[{\"colorbar\":{\"outlinewidth\":0,\"ticks\":\"\"},\"colorscale\":[[0.0,\"#0d0887\"],[0.1111111111111111,\"#46039f\"],[0.2222222222222222,\"#7201a8\"],[0.3333333333333333,\"#9c179e\"],[0.4444444444444444,\"#bd3786\"],[0.5555555555555556,\"#d8576b\"],[0.6666666666666666,\"#ed7953\"],[0.7777777777777778,\"#fb9f3a\"],[0.8888888888888888,\"#fdca26\"],[1.0,\"#f0f921\"]],\"type\":\"histogram2dcontour\"}],\"mesh3d\":[{\"colorbar\":{\"outlinewidth\":0,\"ticks\":\"\"},\"type\":\"mesh3d\"}],\"parcoords\":[{\"line\":{\"colorbar\":{\"outlinewidth\":0,\"ticks\":\"\"}},\"type\":\"parcoords\"}],\"pie\":[{\"automargin\":true,\"type\":\"pie\"}],\"scatter\":[{\"marker\":{\"colorbar\":{\"outlinewidth\":0,\"ticks\":\"\"}},\"type\":\"scatter\"}],\"scatter3d\":[{\"line\":{\"colorbar\":{\"outlinewidth\":0,\"ticks\":\"\"}},\"marker\":{\"colorbar\":{\"outlinewidth\":0,\"ticks\":\"\"}},\"type\":\"scatter3d\"}],\"scattercarpet\":[{\"marker\":{\"colorbar\":{\"outlinewidth\":0,\"ticks\":\"\"}},\"type\":\"scattercarpet\"}],\"scattergeo\":[{\"marker\":{\"colorbar\":{\"outlinewidth\":0,\"ticks\":\"\"}},\"type\":\"scattergeo\"}],\"scattergl\":[{\"marker\":{\"colorbar\":{\"outlinewidth\":0,\"ticks\":\"\"}},\"type\":\"scattergl\"}],\"scattermapbox\":[{\"marker\":{\"colorbar\":{\"outlinewidth\":0,\"ticks\":\"\"}},\"type\":\"scattermapbox\"}],\"scatterpolar\":[{\"marker\":{\"colorbar\":{\"outlinewidth\":0,\"ticks\":\"\"}},\"type\":\"scatterpolar\"}],\"scatterpolargl\":[{\"marker\":{\"colorbar\":{\"outlinewidth\":0,\"ticks\":\"\"}},\"type\":\"scatterpolargl\"}],\"scatterternary\":[{\"marker\":{\"colorbar\":{\"outlinewidth\":0,\"ticks\":\"\"}},\"type\":\"scatterternary\"}],\"surface\":[{\"colorbar\":{\"outlinewidth\":0,\"ticks\":\"\"},\"colorscale\":[[0.0,\"#0d0887\"],[0.1111111111111111,\"#46039f\"],[0.2222222222222222,\"#7201a8\"],[0.3333333333333333,\"#9c179e\"],[0.4444444444444444,\"#bd3786\"],[0.5555555555555556,\"#d8576b\"],[0.6666666666666666,\"#ed7953\"],[0.7777777777777778,\"#fb9f3a\"],[0.8888888888888888,\"#fdca26\"],[1.0,\"#f0f921\"]],\"type\":\"surface\"}],\"table\":[{\"cells\":{\"fill\":{\"color\":\"#EBF0F8\"},\"line\":{\"color\":\"white\"}},\"header\":{\"fill\":{\"color\":\"#C8D4E3\"},\"line\":{\"color\":\"white\"}},\"type\":\"table\"}]},\"layout\":{\"annotationdefaults\":{\"arrowcolor\":\"#2a3f5f\",\"arrowhead\":0,\"arrowwidth\":1},\"autotypenumbers\":\"strict\",\"coloraxis\":{\"colorbar\":{\"outlinewidth\":0,\"ticks\":\"\"}},\"colorscale\":{\"diverging\":[[0,\"#8e0152\"],[0.1,\"#c51b7d\"],[0.2,\"#de77ae\"],[0.3,\"#f1b6da\"],[0.4,\"#fde0ef\"],[0.5,\"#f7f7f7\"],[0.6,\"#e6f5d0\"],[0.7,\"#b8e186\"],[0.8,\"#7fbc41\"],[0.9,\"#4d9221\"],[1,\"#276419\"]],\"sequential\":[[0.0,\"#0d0887\"],[0.1111111111111111,\"#46039f\"],[0.2222222222222222,\"#7201a8\"],[0.3333333333333333,\"#9c179e\"],[0.4444444444444444,\"#bd3786\"],[0.5555555555555556,\"#d8576b\"],[0.6666666666666666,\"#ed7953\"],[0.7777777777777778,\"#fb9f3a\"],[0.8888888888888888,\"#fdca26\"],[1.0,\"#f0f921\"]],\"sequentialminus\":[[0.0,\"#0d0887\"],[0.1111111111111111,\"#46039f\"],[0.2222222222222222,\"#7201a8\"],[0.3333333333333333,\"#9c179e\"],[0.4444444444444444,\"#bd3786\"],[0.5555555555555556,\"#d8576b\"],[0.6666666666666666,\"#ed7953\"],[0.7777777777777778,\"#fb9f3a\"],[0.8888888888888888,\"#fdca26\"],[1.0,\"#f0f921\"]]},\"colorway\":[\"#636efa\",\"#EF553B\",\"#00cc96\",\"#ab63fa\",\"#FFA15A\",\"#19d3f3\",\"#FF6692\",\"#B6E880\",\"#FF97FF\",\"#FECB52\"],\"font\":{\"color\":\"#2a3f5f\"},\"geo\":{\"bgcolor\":\"white\",\"lakecolor\":\"white\",\"landcolor\":\"#E5ECF6\",\"showlakes\":true,\"showland\":true,\"subunitcolor\":\"white\"},\"hoverlabel\":{\"align\":\"left\"},\"hovermode\":\"closest\",\"mapbox\":{\"style\":\"light\"},\"paper_bgcolor\":\"white\",\"plot_bgcolor\":\"#E5ECF6\",\"polar\":{\"angularaxis\":{\"gridcolor\":\"white\",\"linecolor\":\"white\",\"ticks\":\"\"},\"bgcolor\":\"#E5ECF6\",\"radialaxis\":{\"gridcolor\":\"white\",\"linecolor\":\"white\",\"ticks\":\"\"}},\"scene\":{\"xaxis\":{\"backgroundcolor\":\"#E5ECF6\",\"gridcolor\":\"white\",\"gridwidth\":2,\"linecolor\":\"white\",\"showbackground\":true,\"ticks\":\"\",\"zerolinecolor\":\"white\"},\"yaxis\":{\"backgroundcolor\":\"#E5ECF6\",\"gridcolor\":\"white\",\"gridwidth\":2,\"linecolor\":\"white\",\"showbackground\":true,\"ticks\":\"\",\"zerolinecolor\":\"white\"},\"zaxis\":{\"backgroundcolor\":\"#E5ECF6\",\"gridcolor\":\"white\",\"gridwidth\":2,\"linecolor\":\"white\",\"showbackground\":true,\"ticks\":\"\",\"zerolinecolor\":\"white\"}},\"shapedefaults\":{\"line\":{\"color\":\"#2a3f5f\"}},\"ternary\":{\"aaxis\":{\"gridcolor\":\"white\",\"linecolor\":\"white\",\"ticks\":\"\"},\"baxis\":{\"gridcolor\":\"white\",\"linecolor\":\"white\",\"ticks\":\"\"},\"bgcolor\":\"#E5ECF6\",\"caxis\":{\"gridcolor\":\"white\",\"linecolor\":\"white\",\"ticks\":\"\"}},\"title\":{\"x\":0.05},\"xaxis\":{\"automargin\":true,\"gridcolor\":\"white\",\"linecolor\":\"white\",\"ticks\":\"\",\"title\":{\"standoff\":15},\"zerolinecolor\":\"white\",\"zerolinewidth\":2},\"yaxis\":{\"automargin\":true,\"gridcolor\":\"white\",\"linecolor\":\"white\",\"ticks\":\"\",\"title\":{\"standoff\":15},\"zerolinecolor\":\"white\",\"zerolinewidth\":2}}},\"title\":{\"text\":\"Probability of a Seller Leaving Olist after One Month\"},\"xaxis\":{\"anchor\":\"y\",\"domain\":[0.0,1.0],\"title\":{\"text\":\"seller_revenue\"}},\"yaxis\":{\"anchor\":\"x\",\"domain\":[0.0,1.0],\"title\":{\"text\":\"probability\"}}},                        {\"responsive\": true}                    ).then(function(){\n",
       "                            \n",
       "var gd = document.getElementById('5ec69297-49b4-43da-b8ae-3e6b02309963');\n",
       "var x = new MutationObserver(function (mutations, observer) {{\n",
       "        var display = window.getComputedStyle(gd).display;\n",
       "        if (!display || display === 'none') {{\n",
       "            console.log([gd, 'removed!']);\n",
       "            Plotly.purge(gd);\n",
       "            observer.disconnect();\n",
       "        }}\n",
       "}});\n",
       "\n",
       "// Listen for the removal of the full notebook cells\n",
       "var notebookContainer = gd.closest('#notebook-container');\n",
       "if (notebookContainer) {{\n",
       "    x.observe(notebookContainer, {childList: true});\n",
       "}}\n",
       "\n",
       "// Listen for the clearing of the current output cell\n",
       "var outputEl = gd.closest('.output');\n",
       "if (outputEl) {{\n",
       "    x.observe(outputEl, {childList: true});\n",
       "}}\n",
       "\n",
       "                        })                };                });            </script>        </div>"
      ]
     },
     "metadata": {},
     "output_type": "display_data"
    }
   ],
   "source": [
    "# Probability of seller leaving olist\n",
    "# after one month based on seller revenue\n",
    "\n",
    "tmp2 = olist_revenue[olist_revenue[\"num_months\"] >= 1]\n",
    "\n",
    "#sns.histplot(x=\"seller_revenue\", bins= 20,data=tmp2, stat=\"probability\")\n",
    "\n",
    "fig = px.histogram(tmp2, x=\"seller_revenue\",\n",
    "                   nbins=20, histnorm=\"probability\",\n",
    "                   title=\"Probability of a Seller Leaving Olist after One Month\",)\n",
    "fig.show()"
   ]
  },
  {
   "cell_type": "markdown",
   "metadata": {},
   "source": [
    "### Olist Revenue per Month"
   ]
  },
  {
   "cell_type": "code",
   "execution_count": 161,
   "metadata": {},
   "outputs": [
    {
     "data": {
      "text/html": [
       "<div>\n",
       "<style scoped>\n",
       "    .dataframe tbody tr th:only-of-type {\n",
       "        vertical-align: middle;\n",
       "    }\n",
       "\n",
       "    .dataframe tbody tr th {\n",
       "        vertical-align: top;\n",
       "    }\n",
       "\n",
       "    .dataframe thead th {\n",
       "        text-align: right;\n",
       "    }\n",
       "</style>\n",
       "<table border=\"1\" class=\"dataframe\">\n",
       "  <thead>\n",
       "    <tr style=\"text-align: right;\">\n",
       "      <th></th>\n",
       "      <th>order_id</th>\n",
       "      <th>customer_id</th>\n",
       "      <th>order_status</th>\n",
       "      <th>order_purchase_timestamp</th>\n",
       "      <th>order_approved_at</th>\n",
       "      <th>order_delivered_carrier_date</th>\n",
       "      <th>order_delivered_customer_date</th>\n",
       "      <th>order_estimated_delivery_date</th>\n",
       "    </tr>\n",
       "  </thead>\n",
       "  <tbody>\n",
       "    <tr>\n",
       "      <th>0</th>\n",
       "      <td>e481f51cbdc54678b7cc49136f2d6af7</td>\n",
       "      <td>9ef432eb6251297304e76186b10a928d</td>\n",
       "      <td>delivered</td>\n",
       "      <td>2017-10-02 10:56:33</td>\n",
       "      <td>2017-10-02 11:07:15</td>\n",
       "      <td>2017-10-04 19:55:00</td>\n",
       "      <td>2017-10-10 21:25:13</td>\n",
       "      <td>2017-10-18 00:00:00</td>\n",
       "    </tr>\n",
       "  </tbody>\n",
       "</table>\n",
       "</div>"
      ],
      "text/plain": [
       "                           order_id                       customer_id  \\\n",
       "0  e481f51cbdc54678b7cc49136f2d6af7  9ef432eb6251297304e76186b10a928d   \n",
       "\n",
       "  order_status order_purchase_timestamp    order_approved_at  \\\n",
       "0    delivered      2017-10-02 10:56:33  2017-10-02 11:07:15   \n",
       "\n",
       "  order_delivered_carrier_date order_delivered_customer_date  \\\n",
       "0          2017-10-04 19:55:00           2017-10-10 21:25:13   \n",
       "\n",
       "  order_estimated_delivery_date  \n",
       "0           2017-10-18 00:00:00  "
      ]
     },
     "execution_count": 161,
     "metadata": {},
     "output_type": "execute_result"
    }
   ],
   "source": [
    "order_data.head(1)"
   ]
  },
  {
   "cell_type": "code",
   "execution_count": 213,
   "metadata": {},
   "outputs": [],
   "source": [
    "order_data = Olist().get_data()['orders']\n",
    "order_item = Olist().get_data()['order_items']"
   ]
  },
  {
   "cell_type": "code",
   "execution_count": 332,
   "metadata": {},
   "outputs": [],
   "source": [
    "tmp = order_item.merge(order_data, on=\"order_id\")\\\n",
    "          .merge(olist_revenue, on=\"seller_id\")\\\n",
    "            [[\"order_id\", \"seller_id\", \"order_approved_at\", \"date_first_sale\", \"price\"]]"
   ]
  },
  {
   "cell_type": "code",
   "execution_count": 333,
   "metadata": {},
   "outputs": [],
   "source": [
    "tmp[\"order_approved_at\"] = pd.to_datetime(tmp[\"order_approved_at\"])"
   ]
  },
  {
   "cell_type": "code",
   "execution_count": 334,
   "metadata": {},
   "outputs": [
    {
     "data": {
      "text/html": [
       "<div>\n",
       "<style scoped>\n",
       "    .dataframe tbody tr th:only-of-type {\n",
       "        vertical-align: middle;\n",
       "    }\n",
       "\n",
       "    .dataframe tbody tr th {\n",
       "        vertical-align: top;\n",
       "    }\n",
       "\n",
       "    .dataframe thead th {\n",
       "        text-align: right;\n",
       "    }\n",
       "</style>\n",
       "<table border=\"1\" class=\"dataframe\">\n",
       "  <thead>\n",
       "    <tr style=\"text-align: right;\">\n",
       "      <th></th>\n",
       "      <th>price</th>\n",
       "    </tr>\n",
       "    <tr>\n",
       "      <th>date</th>\n",
       "      <th></th>\n",
       "    </tr>\n",
       "  </thead>\n",
       "  <tbody>\n",
       "    <tr>\n",
       "      <th>2016-09-15</th>\n",
       "      <td>134.97</td>\n",
       "    </tr>\n",
       "  </tbody>\n",
       "</table>\n",
       "</div>"
      ],
      "text/plain": [
       "             price\n",
       "date              \n",
       "2016-09-15  134.97"
      ]
     },
     "execution_count": 334,
     "metadata": {},
     "output_type": "execute_result"
    }
   ],
   "source": [
    "tmp[\"date\"] = tmp[\"order_approved_at\"].dt.date\n",
    "tmp_grouped = tmp.groupby(\"date\").sum()\n",
    "tmp_grouped.head(1)"
   ]
  },
  {
   "cell_type": "code",
   "execution_count": 335,
   "metadata": {},
   "outputs": [
    {
     "data": {
      "application/vnd.plotly.v1+json": {
       "config": {
        "plotlyServerURL": "https://plot.ly"
       },
       "data": [
        {
         "hovertemplate": "variable=price<br>=%{x}<br>Sales [BRL]=%{y}<extra></extra>",
         "legendgroup": "price",
         "line": {
          "color": "#636efa",
          "dash": "solid"
         },
         "marker": {
          "symbol": "circle"
         },
         "mode": "lines",
         "name": "price",
         "orientation": "v",
         "showlegend": true,
         "type": "scatter",
         "x": [
          "2016-09-15",
          "2016-10-04",
          "2016-10-05",
          "2016-10-06",
          "2016-10-07",
          "2016-10-08",
          "2016-10-09",
          "2016-10-10",
          "2016-10-11",
          "2016-10-12",
          "2016-10-13",
          "2016-12-23",
          "2017-01-05",
          "2017-01-06",
          "2017-01-07",
          "2017-01-08",
          "2017-01-09",
          "2017-01-10",
          "2017-01-11",
          "2017-01-12",
          "2017-01-13",
          "2017-01-14",
          "2017-01-15",
          "2017-01-16",
          "2017-01-17",
          "2017-01-18",
          "2017-01-19",
          "2017-01-20",
          "2017-01-21",
          "2017-01-22",
          "2017-01-23",
          "2017-01-24",
          "2017-01-25",
          "2017-01-26",
          "2017-01-27",
          "2017-01-28",
          "2017-01-29",
          "2017-01-30",
          "2017-01-31",
          "2017-02-01",
          "2017-02-02",
          "2017-02-03",
          "2017-02-04",
          "2017-02-05",
          "2017-02-06",
          "2017-02-07",
          "2017-02-08",
          "2017-02-09",
          "2017-02-10",
          "2017-02-11",
          "2017-02-12",
          "2017-02-13",
          "2017-02-14",
          "2017-02-15",
          "2017-02-16",
          "2017-02-17",
          "2017-02-18",
          "2017-02-19",
          "2017-02-20",
          "2017-02-21",
          "2017-02-22",
          "2017-02-23",
          "2017-02-24",
          "2017-02-25",
          "2017-02-26",
          "2017-02-27",
          "2017-02-28",
          "2017-03-01",
          "2017-03-02",
          "2017-03-03",
          "2017-03-04",
          "2017-03-05",
          "2017-03-06",
          "2017-03-07",
          "2017-03-08",
          "2017-03-09",
          "2017-03-10",
          "2017-03-11",
          "2017-03-12",
          "2017-03-13",
          "2017-03-14",
          "2017-03-15",
          "2017-03-16",
          "2017-03-17",
          "2017-03-18",
          "2017-03-19",
          "2017-03-20",
          "2017-03-21",
          "2017-03-22",
          "2017-03-23",
          "2017-03-24",
          "2017-03-25",
          "2017-03-26",
          "2017-03-27",
          "2017-03-28",
          "2017-03-29",
          "2017-03-30",
          "2017-03-31",
          "2017-04-01",
          "2017-04-02",
          "2017-04-03",
          "2017-04-04",
          "2017-04-05",
          "2017-04-06",
          "2017-04-07",
          "2017-04-08",
          "2017-04-09",
          "2017-04-10",
          "2017-04-11",
          "2017-04-12",
          "2017-04-13",
          "2017-04-14",
          "2017-04-15",
          "2017-04-16",
          "2017-04-17",
          "2017-04-18",
          "2017-04-19",
          "2017-04-20",
          "2017-04-21",
          "2017-04-22",
          "2017-04-23",
          "2017-04-24",
          "2017-04-25",
          "2017-04-26",
          "2017-04-27",
          "2017-04-28",
          "2017-04-29",
          "2017-04-30",
          "2017-05-01",
          "2017-05-02",
          "2017-05-03",
          "2017-05-04",
          "2017-05-05",
          "2017-05-06",
          "2017-05-07",
          "2017-05-08",
          "2017-05-09",
          "2017-05-10",
          "2017-05-11",
          "2017-05-12",
          "2017-05-13",
          "2017-05-14",
          "2017-05-15",
          "2017-05-16",
          "2017-05-17",
          "2017-05-18",
          "2017-05-19",
          "2017-05-20",
          "2017-05-21",
          "2017-05-22",
          "2017-05-23",
          "2017-05-24",
          "2017-05-25",
          "2017-05-26",
          "2017-05-27",
          "2017-05-28",
          "2017-05-29",
          "2017-05-30",
          "2017-05-31",
          "2017-06-01",
          "2017-06-02",
          "2017-06-03",
          "2017-06-04",
          "2017-06-05",
          "2017-06-06",
          "2017-06-07",
          "2017-06-08",
          "2017-06-09",
          "2017-06-10",
          "2017-06-11",
          "2017-06-12",
          "2017-06-13",
          "2017-06-14",
          "2017-06-15",
          "2017-06-16",
          "2017-06-17",
          "2017-06-18",
          "2017-06-19",
          "2017-06-20",
          "2017-06-21",
          "2017-06-22",
          "2017-06-23",
          "2017-06-24",
          "2017-06-25",
          "2017-06-26",
          "2017-06-27",
          "2017-06-28",
          "2017-06-29",
          "2017-06-30",
          "2017-07-01",
          "2017-07-02",
          "2017-07-03",
          "2017-07-04",
          "2017-07-05",
          "2017-07-06",
          "2017-07-07",
          "2017-07-08",
          "2017-07-09",
          "2017-07-10",
          "2017-07-11",
          "2017-07-12",
          "2017-07-13",
          "2017-07-14",
          "2017-07-15",
          "2017-07-16",
          "2017-07-17",
          "2017-07-18",
          "2017-07-19",
          "2017-07-20",
          "2017-07-21",
          "2017-07-22",
          "2017-07-23",
          "2017-07-24",
          "2017-07-25",
          "2017-07-26",
          "2017-07-27",
          "2017-07-28",
          "2017-07-29",
          "2017-07-30",
          "2017-07-31",
          "2017-08-01",
          "2017-08-02",
          "2017-08-03",
          "2017-08-04",
          "2017-08-05",
          "2017-08-06",
          "2017-08-07",
          "2017-08-08",
          "2017-08-09",
          "2017-08-10",
          "2017-08-11",
          "2017-08-12",
          "2017-08-13",
          "2017-08-14",
          "2017-08-15",
          "2017-08-16",
          "2017-08-17",
          "2017-08-18",
          "2017-08-19",
          "2017-08-20",
          "2017-08-21",
          "2017-08-22",
          "2017-08-23",
          "2017-08-24",
          "2017-08-25",
          "2017-08-26",
          "2017-08-27",
          "2017-08-28",
          "2017-08-29",
          "2017-08-30",
          "2017-08-31",
          "2017-09-01",
          "2017-09-02",
          "2017-09-03",
          "2017-09-04",
          "2017-09-05",
          "2017-09-06",
          "2017-09-07",
          "2017-09-08",
          "2017-09-09",
          "2017-09-10",
          "2017-09-11",
          "2017-09-12",
          "2017-09-13",
          "2017-09-14",
          "2017-09-15",
          "2017-09-16",
          "2017-09-17",
          "2017-09-18",
          "2017-09-19",
          "2017-09-20",
          "2017-09-21",
          "2017-09-22",
          "2017-09-23",
          "2017-09-24",
          "2017-09-25",
          "2017-09-26",
          "2017-09-27",
          "2017-09-28",
          "2017-09-29",
          "2017-09-30",
          "2017-10-01",
          "2017-10-02",
          "2017-10-03",
          "2017-10-04",
          "2017-10-05",
          "2017-10-06",
          "2017-10-07",
          "2017-10-08",
          "2017-10-09",
          "2017-10-10",
          "2017-10-11",
          "2017-10-12",
          "2017-10-13",
          "2017-10-14",
          "2017-10-15",
          "2017-10-16",
          "2017-10-17",
          "2017-10-18",
          "2017-10-19",
          "2017-10-20",
          "2017-10-21",
          "2017-10-22",
          "2017-10-23",
          "2017-10-24",
          "2017-10-25",
          "2017-10-26",
          "2017-10-27",
          "2017-10-28",
          "2017-10-29",
          "2017-10-30",
          "2017-10-31",
          "2017-11-01",
          "2017-11-02",
          "2017-11-03",
          "2017-11-04",
          "2017-11-05",
          "2017-11-06",
          "2017-11-07",
          "2017-11-08",
          "2017-11-09",
          "2017-11-10",
          "2017-11-11",
          "2017-11-12",
          "2017-11-13",
          "2017-11-14",
          "2017-11-15",
          "2017-11-16",
          "2017-11-17",
          "2017-11-18",
          "2017-11-19",
          "2017-11-20",
          "2017-11-21",
          "2017-11-22",
          "2017-11-23",
          "2017-11-24",
          "2017-11-25",
          "2017-11-26",
          "2017-11-27",
          "2017-11-28",
          "2017-11-29",
          "2017-11-30",
          "2017-12-01",
          "2017-12-02",
          "2017-12-03",
          "2017-12-04",
          "2017-12-05",
          "2017-12-06",
          "2017-12-07",
          "2017-12-08",
          "2017-12-09",
          "2017-12-10",
          "2017-12-11",
          "2017-12-12",
          "2017-12-13",
          "2017-12-14",
          "2017-12-15",
          "2017-12-16",
          "2017-12-17",
          "2017-12-18",
          "2017-12-19",
          "2017-12-20",
          "2017-12-21",
          "2017-12-22",
          "2017-12-23",
          "2017-12-24",
          "2017-12-25",
          "2017-12-26",
          "2017-12-27",
          "2017-12-28",
          "2017-12-29",
          "2017-12-30",
          "2017-12-31",
          "2018-01-01",
          "2018-01-02",
          "2018-01-03",
          "2018-01-04",
          "2018-01-05",
          "2018-01-06",
          "2018-01-07",
          "2018-01-08",
          "2018-01-09",
          "2018-01-10",
          "2018-01-11",
          "2018-01-12",
          "2018-01-13",
          "2018-01-14",
          "2018-01-15",
          "2018-01-16",
          "2018-01-17",
          "2018-01-18",
          "2018-01-19",
          "2018-01-20",
          "2018-01-21",
          "2018-01-22",
          "2018-01-23",
          "2018-01-24",
          "2018-01-25",
          "2018-01-26",
          "2018-01-27",
          "2018-01-28",
          "2018-01-29",
          "2018-01-30",
          "2018-01-31",
          "2018-02-01",
          "2018-02-02",
          "2018-02-03",
          "2018-02-04",
          "2018-02-05",
          "2018-02-06",
          "2018-02-07",
          "2018-02-08",
          "2018-02-09",
          "2018-02-10",
          "2018-02-11",
          "2018-02-12",
          "2018-02-13",
          "2018-02-14",
          "2018-02-15",
          "2018-02-16",
          "2018-02-17",
          "2018-02-18",
          "2018-02-19",
          "2018-02-20",
          "2018-02-21",
          "2018-02-22",
          "2018-02-23",
          "2018-02-24",
          "2018-02-25",
          "2018-02-26",
          "2018-02-27",
          "2018-02-28",
          "2018-03-01",
          "2018-03-02",
          "2018-03-03",
          "2018-03-04",
          "2018-03-05",
          "2018-03-06",
          "2018-03-07",
          "2018-03-08",
          "2018-03-09",
          "2018-03-10",
          "2018-03-11",
          "2018-03-12",
          "2018-03-13",
          "2018-03-14",
          "2018-03-15",
          "2018-03-16",
          "2018-03-17",
          "2018-03-18",
          "2018-03-19",
          "2018-03-20",
          "2018-03-21",
          "2018-03-22",
          "2018-03-23",
          "2018-03-24",
          "2018-03-25",
          "2018-03-26",
          "2018-03-27",
          "2018-03-28",
          "2018-03-29",
          "2018-03-30",
          "2018-03-31",
          "2018-04-01",
          "2018-04-02",
          "2018-04-03",
          "2018-04-04",
          "2018-04-05",
          "2018-04-06",
          "2018-04-07",
          "2018-04-08",
          "2018-04-09",
          "2018-04-10",
          "2018-04-11",
          "2018-04-12",
          "2018-04-13",
          "2018-04-14",
          "2018-04-15",
          "2018-04-16",
          "2018-04-17",
          "2018-04-18",
          "2018-04-19",
          "2018-04-20",
          "2018-04-24",
          "2018-04-25",
          "2018-04-26",
          "2018-04-27",
          "2018-04-28",
          "2018-04-29",
          "2018-04-30",
          "2018-05-01",
          "2018-05-02",
          "2018-05-03",
          "2018-05-04",
          "2018-05-05",
          "2018-05-06",
          "2018-05-07",
          "2018-05-08",
          "2018-05-09",
          "2018-05-10",
          "2018-05-11",
          "2018-05-12",
          "2018-05-13",
          "2018-05-14",
          "2018-05-15",
          "2018-05-16",
          "2018-05-17",
          "2018-05-18",
          "2018-05-19",
          "2018-05-20",
          "2018-05-21",
          "2018-05-22",
          "2018-05-23",
          "2018-05-24",
          "2018-05-25",
          "2018-05-26",
          "2018-05-27",
          "2018-05-28",
          "2018-05-29",
          "2018-05-30",
          "2018-05-31",
          "2018-06-01",
          "2018-06-02",
          "2018-06-03",
          "2018-06-04",
          "2018-06-05",
          "2018-06-06",
          "2018-06-07",
          "2018-06-08",
          "2018-06-09",
          "2018-06-10",
          "2018-06-11",
          "2018-06-12",
          "2018-06-13",
          "2018-06-14",
          "2018-06-15",
          "2018-06-16",
          "2018-06-17",
          "2018-06-18",
          "2018-06-19",
          "2018-06-20",
          "2018-06-21",
          "2018-06-22",
          "2018-06-23",
          "2018-06-24",
          "2018-06-25",
          "2018-06-26",
          "2018-06-27",
          "2018-06-28",
          "2018-06-29",
          "2018-06-30",
          "2018-07-01",
          "2018-07-02",
          "2018-07-03",
          "2018-07-05",
          "2018-07-06",
          "2018-07-07",
          "2018-07-08",
          "2018-07-09",
          "2018-07-10",
          "2018-07-11",
          "2018-07-12",
          "2018-07-13",
          "2018-07-14",
          "2018-07-15",
          "2018-07-16",
          "2018-07-17",
          "2018-07-18",
          "2018-07-19",
          "2018-07-20",
          "2018-07-21",
          "2018-07-22",
          "2018-07-23",
          "2018-07-24",
          "2018-07-25",
          "2018-07-26",
          "2018-07-27",
          "2018-07-28",
          "2018-07-29",
          "2018-07-30",
          "2018-07-31",
          "2018-08-01",
          "2018-08-02",
          "2018-08-03",
          "2018-08-04",
          "2018-08-05",
          "2018-08-06",
          "2018-08-07",
          "2018-08-08",
          "2018-08-09",
          "2018-08-10",
          "2018-08-11",
          "2018-08-12",
          "2018-08-13",
          "2018-08-14",
          "2018-08-15",
          "2018-08-16",
          "2018-08-17",
          "2018-08-18",
          "2018-08-20",
          "2018-08-21",
          "2018-08-22",
          "2018-08-23",
          "2018-08-24",
          "2018-08-25",
          "2018-08-26",
          "2018-08-27",
          "2018-08-28",
          "2018-08-29",
          "2018-09-03"
         ],
         "xaxis": "x",
         "y": [
          134.97,
          2443.57,
          1622.0500000000002,
          15924.67,
          10559.8,
          5635.21,
          1738.35,
          6517.07,
          2520.15,
          358.59999999999997,
          599.69,
          10.9,
          85.8,
          905.89,
          1663,
          458.69000000000005,
          776.79,
          969.4499999999999,
          2444.56,
          2339.1800000000003,
          2529.48,
          1326.89,
          1177.58,
          2081.52,
          4032.84,
          4672.68,
          3254.44,
          3308.16,
          3023.64,
          3565.08,
          5483.22,
          6681.900000000001,
          8464.17,
          9081.41,
          9442.92,
          10468.94,
          4701.25,
          8381.75,
          12825.02,
          8715.6,
          9148.93,
          8489.38,
          17040.53,
          6049.93,
          7680.29,
          16293.64,
          9979.64,
          10548.2,
          11895.08,
          9818.91,
          12567.02,
          8145.1,
          13123.05,
          8844.8,
          6882.54,
          6314.97,
          6382.83,
          3976.71,
          4687.68,
          4580.42,
          11809.630000000001,
          7126.39,
          8467.78,
          3877.32,
          5426.7,
          5129.86,
          10520.01,
          8098.82,
          12682.53,
          13656.9,
          12986.93,
          7815.78,
          8706.77,
          12108.68,
          14584.25,
          14143.14,
          12682.07,
          10833.27,
          6612.16,
          16958.05,
          14243.66,
          14809.33,
          14034.78,
          11880.44,
          16433.82,
          6649.34,
          17096.49,
          10541.49,
          11991.62,
          12302.58,
          13839.52,
          9184.53,
          5871.59,
          10229.27,
          15240.77,
          11681.41,
          9711.58,
          9713.41,
          10281.710000000001,
          9557.98,
          13605.800000000001,
          16225.01,
          17411.84,
          21188.83,
          18270.46,
          9230.59,
          6800.77,
          10533.67,
          11509.64,
          7363.36,
          10712.18,
          8963.039999999999,
          6874.14,
          5546.35,
          5997.03,
          19125.95,
          15953.49,
          11598.99,
          8960.4,
          10249.86,
          7061.37,
          12220.23,
          19537.71,
          16877.52,
          11629.05,
          13518.68,
          12465.34,
          7957.04,
          10639.87,
          7239.68,
          23442.670000000002,
          14962.48,
          14592.53,
          19397.52,
          15564.08,
          11809.800000000001,
          14866.68,
          20408.23,
          21828.05,
          16770.63,
          12202.76,
          12021.57,
          11178.51,
          21318.51,
          23391.82,
          20159.56,
          17026.24,
          13022.54,
          13608.06,
          18877.82,
          25469.8,
          19341.64,
          15566.66,
          19898.58,
          10564.02,
          11367.05,
          14700.7,
          14840.8,
          19986.24,
          17885.02,
          20077.66,
          15218.85,
          11311.5,
          14807.93,
          25581.04,
          12934.53,
          15622.85,
          17393.36,
          11278.26,
          11581.220000000001,
          10274.88,
          19467.63,
          13338.12,
          17509.54,
          11334.93,
          14384.89,
          14942.57,
          17259.829999999998,
          17929.96,
          10327.75,
          8856.99,
          10396.5,
          6219.67,
          11921.14,
          11658.08,
          25420.83,
          14525.050000000001,
          14411.82,
          12469.93,
          11760.67,
          10815.56,
          12090.61,
          13564.94,
          21565.61,
          21747.38,
          15553.98,
          15770.119999999999,
          6986.04,
          11680.83,
          20289.51,
          19786.65,
          15740.66,
          19534.54,
          12925.65,
          11866.77,
          17513.75,
          26691.71,
          20185.7,
          22171.45,
          13455.44,
          14061.66,
          9026.91,
          15520.4,
          17961.96,
          16307.59,
          17012.08,
          15408.44,
          19808.94,
          10640.82,
          15055.54,
          18826.99,
          23282.11,
          20249.89,
          17336.28,
          15609.84,
          12547.19,
          13294.3,
          26094.32,
          17096.76,
          23617.8,
          17595.17,
          18782.99,
          8334.26,
          14232.640000000001,
          24108.5,
          22459.7,
          21647.93,
          16300.64,
          19145,
          10709.61,
          16801.48,
          18647.95,
          16842.94,
          16251.9,
          15653.16,
          12450.25,
          9634.5,
          19778.12,
          28989.510000000002,
          26707.74,
          28533.2,
          26885.24,
          19936.71,
          20943.97,
          23527.81,
          24120,
          28742.5,
          16958.27,
          14540.43,
          16036.49,
          13882.91,
          20931.53,
          25443.99,
          30727.12,
          26084,
          21126.88,
          18615.72,
          18323.46,
          19301.96,
          30527.22,
          21968.3,
          22466.39,
          14772.19,
          13278.48,
          10118.25,
          14705.31,
          24334.78,
          22422.68,
          18631.39,
          20259.13,
          14641.4,
          13390.64,
          33621.85,
          28521.11,
          23180.66,
          23780.239999999998,
          20360.58,
          17400.86,
          13869.65,
          19370.74,
          32928.65,
          25433.2,
          21251.8,
          19242.6,
          18209.04,
          15158.63,
          22862.84,
          34411.1,
          30470.23,
          22913.47,
          21584.14,
          17285.36,
          17102,
          17967.21,
          22493.84,
          20171.14,
          25457.99,
          17667.8,
          14070.26,
          12396.24,
          20415.25,
          24539.82,
          25668.65,
          20888.1,
          19755.79,
          21517.32,
          14521.63,
          10489.16,
          37978.49,
          25115.69,
          21763.51,
          21329.74,
          23523.77,
          19896.31,
          19304.88,
          31213.98,
          24164.05,
          18122.63,
          32876.45,
          34714.44,
          16726.16,
          31631.69,
          35725.83,
          36121.68,
          36652.12,
          104489.22,
          93853.79,
          39243.57,
          42905.57,
          65159.85,
          39826.7,
          27951.59,
          51798.28,
          33552.12,
          24256,
          24443.42,
          55629.21,
          43803.51,
          29770.170000000002,
          28491.74,
          24116.49,
          19848.940000000002,
          25663.3,
          45834.7,
          30325.27,
          21870.43,
          25373.59,
          28746.03,
          18134.37,
          22755.88,
          24576.12,
          30924.36,
          19285.32,
          19698.12,
          11503.53,
          6473.11,
          7362.65,
          17287.24,
          23063.18,
          16538.93,
          15045.98,
          10788.26,
          7214.96,
          6404,
          20553.43,
          32401.6,
          32787.38,
          29687.03,
          27807.86,
          25893.41,
          30424.46,
          31363.29,
          42064.24,
          34566.11,
          39668.6,
          33480.41,
          24040.41,
          34276.17,
          53421.42,
          35180.4,
          30324.51,
          28285.28,
          27180.67,
          397.70000000000005,
          47946.71,
          37046.16,
          35615.590000000004,
          31486.87,
          31876.81,
          29820.98,
          17387.82,
          29254.34,
          32249.49,
          29599.62,
          32101.17,
          26401.94,
          24783.260000000002,
          26038.93,
          28702.69,
          38452.58,
          29332.41,
          33107.67,
          29766.88,
          26552.1,
          21278.53,
          18281.03,
          19666.34,
          27172.79,
          38589.28,
          36384.37,
          27435.77,
          21091.6,
          23222.38,
          37737.22,
          33773.29,
          31039.71,
          32446.97,
          28299.08,
          21742.6,
          33698.76,
          44453.38,
          45336.41,
          44048.52,
          35841.6,
          30689.4,
          27042.78,
          30009.35,
          48358.19,
          33355.23,
          29122.98,
          29849.38,
          29795.2,
          27685.1,
          26259.66,
          34505.27,
          32261.72,
          39058.63,
          33219.15,
          27114.03,
          27412.22,
          35465.31,
          39125.26,
          39103.15,
          38808.41,
          31394.26,
          24506.83,
          22530.23,
          30178.15,
          35505.13,
          29029.33,
          32088.95,
          22669.19,
          25480.13,
          22874.11,
          35252.37,
          41188.44,
          36949.17,
          41680.63,
          27668.82,
          26680.9,
          17695.36,
          29087.45,
          51317.19,
          38400.22,
          20406.3,
          47261.39,
          22847.11,
          25150.75,
          35198.57,
          41012.49,
          38471.61,
          44899.42,
          19034.1,
          132994.94,
          45100.85,
          33924.89,
          37853.38,
          29593.09,
          18008.04,
          13705.95,
          50813.55,
          30875.73,
          45734.23,
          43122.62,
          30988.72,
          11567.75,
          55241.13,
          60324.55,
          41022.52,
          49681.06,
          41533.81,
          35316.64,
          25784.32,
          41711.95,
          52706.44,
          47551.020000000004,
          19267.27,
          58518.34,
          21135.77,
          18675.62,
          18424.76,
          34781.18,
          25185.02,
          20299.99,
          13677.59,
          21704.15,
          9054.92,
          22527.49,
          22954.58,
          23954.99,
          22830.53,
          25044.93,
          33109.26,
          25585.61,
          21262.07,
          41108.53,
          26694.47,
          37701.1,
          23986.69,
          32941.71,
          19244.9,
          40369.49,
          49687.94,
          38889.56,
          28801.07,
          25806.37,
          21446.71,
          15453.03,
          29321.41,
          40703.94,
          30514.04,
          27116.85,
          25115.260000000002,
          20179,
          18166.4,
          31758.79,
          37507.93,
          26855.08,
          33312.31,
          23028.92,
          18422.97,
          16330.89,
          22649.23,
          535.58,
          92983.58,
          23071.34,
          10774.4,
          11925.039999999999,
          15681.55,
          21839.14,
          19955.41,
          27567.649999999998,
          24587.37,
          25132.420000000002,
          17845.62,
          24684.3,
          47704.07,
          36184.34,
          37453.65,
          35764.35,
          27100.170000000002,
          357.69,
          41937.69,
          56169.75,
          33146.66,
          37129.69,
          32999.44,
          24614.59,
          16408.28,
          40774.14,
          45954.74,
          46740.85,
          42468.46,
          36907.13,
          37266.46,
          32710.8,
          51914.659999999996,
          54921.2,
          47500.54,
          42174.56,
          34947.27,
          26638.43,
          22293.46,
          36881.590000000004,
          46496.93,
          45103.87,
          34280.7,
          36701.72,
          27385.38,
          58428.55,
          31560.99,
          20912.06,
          16030.130000000001,
          15162.11,
          9131.79,
          10219.140000000001,
          5726.5,
          5106.3,
          1987.63,
          145
         ],
         "yaxis": "y"
        }
       ],
       "layout": {
        "legend": {
         "title": {
          "text": "variable"
         },
         "tracegroupgap": 0
        },
        "margin": {
         "t": 60
        },
        "template": {
         "data": {
          "bar": [
           {
            "error_x": {
             "color": "#2a3f5f"
            },
            "error_y": {
             "color": "#2a3f5f"
            },
            "marker": {
             "line": {
              "color": "#E5ECF6",
              "width": 0.5
             },
             "pattern": {
              "fillmode": "overlay",
              "size": 10,
              "solidity": 0.2
             }
            },
            "type": "bar"
           }
          ],
          "barpolar": [
           {
            "marker": {
             "line": {
              "color": "#E5ECF6",
              "width": 0.5
             },
             "pattern": {
              "fillmode": "overlay",
              "size": 10,
              "solidity": 0.2
             }
            },
            "type": "barpolar"
           }
          ],
          "carpet": [
           {
            "aaxis": {
             "endlinecolor": "#2a3f5f",
             "gridcolor": "white",
             "linecolor": "white",
             "minorgridcolor": "white",
             "startlinecolor": "#2a3f5f"
            },
            "baxis": {
             "endlinecolor": "#2a3f5f",
             "gridcolor": "white",
             "linecolor": "white",
             "minorgridcolor": "white",
             "startlinecolor": "#2a3f5f"
            },
            "type": "carpet"
           }
          ],
          "choropleth": [
           {
            "colorbar": {
             "outlinewidth": 0,
             "ticks": ""
            },
            "type": "choropleth"
           }
          ],
          "contour": [
           {
            "colorbar": {
             "outlinewidth": 0,
             "ticks": ""
            },
            "colorscale": [
             [
              0,
              "#0d0887"
             ],
             [
              0.1111111111111111,
              "#46039f"
             ],
             [
              0.2222222222222222,
              "#7201a8"
             ],
             [
              0.3333333333333333,
              "#9c179e"
             ],
             [
              0.4444444444444444,
              "#bd3786"
             ],
             [
              0.5555555555555556,
              "#d8576b"
             ],
             [
              0.6666666666666666,
              "#ed7953"
             ],
             [
              0.7777777777777778,
              "#fb9f3a"
             ],
             [
              0.8888888888888888,
              "#fdca26"
             ],
             [
              1,
              "#f0f921"
             ]
            ],
            "type": "contour"
           }
          ],
          "contourcarpet": [
           {
            "colorbar": {
             "outlinewidth": 0,
             "ticks": ""
            },
            "type": "contourcarpet"
           }
          ],
          "heatmap": [
           {
            "colorbar": {
             "outlinewidth": 0,
             "ticks": ""
            },
            "colorscale": [
             [
              0,
              "#0d0887"
             ],
             [
              0.1111111111111111,
              "#46039f"
             ],
             [
              0.2222222222222222,
              "#7201a8"
             ],
             [
              0.3333333333333333,
              "#9c179e"
             ],
             [
              0.4444444444444444,
              "#bd3786"
             ],
             [
              0.5555555555555556,
              "#d8576b"
             ],
             [
              0.6666666666666666,
              "#ed7953"
             ],
             [
              0.7777777777777778,
              "#fb9f3a"
             ],
             [
              0.8888888888888888,
              "#fdca26"
             ],
             [
              1,
              "#f0f921"
             ]
            ],
            "type": "heatmap"
           }
          ],
          "heatmapgl": [
           {
            "colorbar": {
             "outlinewidth": 0,
             "ticks": ""
            },
            "colorscale": [
             [
              0,
              "#0d0887"
             ],
             [
              0.1111111111111111,
              "#46039f"
             ],
             [
              0.2222222222222222,
              "#7201a8"
             ],
             [
              0.3333333333333333,
              "#9c179e"
             ],
             [
              0.4444444444444444,
              "#bd3786"
             ],
             [
              0.5555555555555556,
              "#d8576b"
             ],
             [
              0.6666666666666666,
              "#ed7953"
             ],
             [
              0.7777777777777778,
              "#fb9f3a"
             ],
             [
              0.8888888888888888,
              "#fdca26"
             ],
             [
              1,
              "#f0f921"
             ]
            ],
            "type": "heatmapgl"
           }
          ],
          "histogram": [
           {
            "marker": {
             "pattern": {
              "fillmode": "overlay",
              "size": 10,
              "solidity": 0.2
             }
            },
            "type": "histogram"
           }
          ],
          "histogram2d": [
           {
            "colorbar": {
             "outlinewidth": 0,
             "ticks": ""
            },
            "colorscale": [
             [
              0,
              "#0d0887"
             ],
             [
              0.1111111111111111,
              "#46039f"
             ],
             [
              0.2222222222222222,
              "#7201a8"
             ],
             [
              0.3333333333333333,
              "#9c179e"
             ],
             [
              0.4444444444444444,
              "#bd3786"
             ],
             [
              0.5555555555555556,
              "#d8576b"
             ],
             [
              0.6666666666666666,
              "#ed7953"
             ],
             [
              0.7777777777777778,
              "#fb9f3a"
             ],
             [
              0.8888888888888888,
              "#fdca26"
             ],
             [
              1,
              "#f0f921"
             ]
            ],
            "type": "histogram2d"
           }
          ],
          "histogram2dcontour": [
           {
            "colorbar": {
             "outlinewidth": 0,
             "ticks": ""
            },
            "colorscale": [
             [
              0,
              "#0d0887"
             ],
             [
              0.1111111111111111,
              "#46039f"
             ],
             [
              0.2222222222222222,
              "#7201a8"
             ],
             [
              0.3333333333333333,
              "#9c179e"
             ],
             [
              0.4444444444444444,
              "#bd3786"
             ],
             [
              0.5555555555555556,
              "#d8576b"
             ],
             [
              0.6666666666666666,
              "#ed7953"
             ],
             [
              0.7777777777777778,
              "#fb9f3a"
             ],
             [
              0.8888888888888888,
              "#fdca26"
             ],
             [
              1,
              "#f0f921"
             ]
            ],
            "type": "histogram2dcontour"
           }
          ],
          "mesh3d": [
           {
            "colorbar": {
             "outlinewidth": 0,
             "ticks": ""
            },
            "type": "mesh3d"
           }
          ],
          "parcoords": [
           {
            "line": {
             "colorbar": {
              "outlinewidth": 0,
              "ticks": ""
             }
            },
            "type": "parcoords"
           }
          ],
          "pie": [
           {
            "automargin": true,
            "type": "pie"
           }
          ],
          "scatter": [
           {
            "marker": {
             "colorbar": {
              "outlinewidth": 0,
              "ticks": ""
             }
            },
            "type": "scatter"
           }
          ],
          "scatter3d": [
           {
            "line": {
             "colorbar": {
              "outlinewidth": 0,
              "ticks": ""
             }
            },
            "marker": {
             "colorbar": {
              "outlinewidth": 0,
              "ticks": ""
             }
            },
            "type": "scatter3d"
           }
          ],
          "scattercarpet": [
           {
            "marker": {
             "colorbar": {
              "outlinewidth": 0,
              "ticks": ""
             }
            },
            "type": "scattercarpet"
           }
          ],
          "scattergeo": [
           {
            "marker": {
             "colorbar": {
              "outlinewidth": 0,
              "ticks": ""
             }
            },
            "type": "scattergeo"
           }
          ],
          "scattergl": [
           {
            "marker": {
             "colorbar": {
              "outlinewidth": 0,
              "ticks": ""
             }
            },
            "type": "scattergl"
           }
          ],
          "scattermapbox": [
           {
            "marker": {
             "colorbar": {
              "outlinewidth": 0,
              "ticks": ""
             }
            },
            "type": "scattermapbox"
           }
          ],
          "scatterpolar": [
           {
            "marker": {
             "colorbar": {
              "outlinewidth": 0,
              "ticks": ""
             }
            },
            "type": "scatterpolar"
           }
          ],
          "scatterpolargl": [
           {
            "marker": {
             "colorbar": {
              "outlinewidth": 0,
              "ticks": ""
             }
            },
            "type": "scatterpolargl"
           }
          ],
          "scatterternary": [
           {
            "marker": {
             "colorbar": {
              "outlinewidth": 0,
              "ticks": ""
             }
            },
            "type": "scatterternary"
           }
          ],
          "surface": [
           {
            "colorbar": {
             "outlinewidth": 0,
             "ticks": ""
            },
            "colorscale": [
             [
              0,
              "#0d0887"
             ],
             [
              0.1111111111111111,
              "#46039f"
             ],
             [
              0.2222222222222222,
              "#7201a8"
             ],
             [
              0.3333333333333333,
              "#9c179e"
             ],
             [
              0.4444444444444444,
              "#bd3786"
             ],
             [
              0.5555555555555556,
              "#d8576b"
             ],
             [
              0.6666666666666666,
              "#ed7953"
             ],
             [
              0.7777777777777778,
              "#fb9f3a"
             ],
             [
              0.8888888888888888,
              "#fdca26"
             ],
             [
              1,
              "#f0f921"
             ]
            ],
            "type": "surface"
           }
          ],
          "table": [
           {
            "cells": {
             "fill": {
              "color": "#EBF0F8"
             },
             "line": {
              "color": "white"
             }
            },
            "header": {
             "fill": {
              "color": "#C8D4E3"
             },
             "line": {
              "color": "white"
             }
            },
            "type": "table"
           }
          ]
         },
         "layout": {
          "annotationdefaults": {
           "arrowcolor": "#2a3f5f",
           "arrowhead": 0,
           "arrowwidth": 1
          },
          "autotypenumbers": "strict",
          "coloraxis": {
           "colorbar": {
            "outlinewidth": 0,
            "ticks": ""
           }
          },
          "colorscale": {
           "diverging": [
            [
             0,
             "#8e0152"
            ],
            [
             0.1,
             "#c51b7d"
            ],
            [
             0.2,
             "#de77ae"
            ],
            [
             0.3,
             "#f1b6da"
            ],
            [
             0.4,
             "#fde0ef"
            ],
            [
             0.5,
             "#f7f7f7"
            ],
            [
             0.6,
             "#e6f5d0"
            ],
            [
             0.7,
             "#b8e186"
            ],
            [
             0.8,
             "#7fbc41"
            ],
            [
             0.9,
             "#4d9221"
            ],
            [
             1,
             "#276419"
            ]
           ],
           "sequential": [
            [
             0,
             "#0d0887"
            ],
            [
             0.1111111111111111,
             "#46039f"
            ],
            [
             0.2222222222222222,
             "#7201a8"
            ],
            [
             0.3333333333333333,
             "#9c179e"
            ],
            [
             0.4444444444444444,
             "#bd3786"
            ],
            [
             0.5555555555555556,
             "#d8576b"
            ],
            [
             0.6666666666666666,
             "#ed7953"
            ],
            [
             0.7777777777777778,
             "#fb9f3a"
            ],
            [
             0.8888888888888888,
             "#fdca26"
            ],
            [
             1,
             "#f0f921"
            ]
           ],
           "sequentialminus": [
            [
             0,
             "#0d0887"
            ],
            [
             0.1111111111111111,
             "#46039f"
            ],
            [
             0.2222222222222222,
             "#7201a8"
            ],
            [
             0.3333333333333333,
             "#9c179e"
            ],
            [
             0.4444444444444444,
             "#bd3786"
            ],
            [
             0.5555555555555556,
             "#d8576b"
            ],
            [
             0.6666666666666666,
             "#ed7953"
            ],
            [
             0.7777777777777778,
             "#fb9f3a"
            ],
            [
             0.8888888888888888,
             "#fdca26"
            ],
            [
             1,
             "#f0f921"
            ]
           ]
          },
          "colorway": [
           "#636efa",
           "#EF553B",
           "#00cc96",
           "#ab63fa",
           "#FFA15A",
           "#19d3f3",
           "#FF6692",
           "#B6E880",
           "#FF97FF",
           "#FECB52"
          ],
          "font": {
           "color": "#2a3f5f"
          },
          "geo": {
           "bgcolor": "white",
           "lakecolor": "white",
           "landcolor": "#E5ECF6",
           "showlakes": true,
           "showland": true,
           "subunitcolor": "white"
          },
          "hoverlabel": {
           "align": "left"
          },
          "hovermode": "closest",
          "mapbox": {
           "style": "light"
          },
          "paper_bgcolor": "white",
          "plot_bgcolor": "#E5ECF6",
          "polar": {
           "angularaxis": {
            "gridcolor": "white",
            "linecolor": "white",
            "ticks": ""
           },
           "bgcolor": "#E5ECF6",
           "radialaxis": {
            "gridcolor": "white",
            "linecolor": "white",
            "ticks": ""
           }
          },
          "scene": {
           "xaxis": {
            "backgroundcolor": "#E5ECF6",
            "gridcolor": "white",
            "gridwidth": 2,
            "linecolor": "white",
            "showbackground": true,
            "ticks": "",
            "zerolinecolor": "white"
           },
           "yaxis": {
            "backgroundcolor": "#E5ECF6",
            "gridcolor": "white",
            "gridwidth": 2,
            "linecolor": "white",
            "showbackground": true,
            "ticks": "",
            "zerolinecolor": "white"
           },
           "zaxis": {
            "backgroundcolor": "#E5ECF6",
            "gridcolor": "white",
            "gridwidth": 2,
            "linecolor": "white",
            "showbackground": true,
            "ticks": "",
            "zerolinecolor": "white"
           }
          },
          "shapedefaults": {
           "line": {
            "color": "#2a3f5f"
           }
          },
          "ternary": {
           "aaxis": {
            "gridcolor": "white",
            "linecolor": "white",
            "ticks": ""
           },
           "baxis": {
            "gridcolor": "white",
            "linecolor": "white",
            "ticks": ""
           },
           "bgcolor": "#E5ECF6",
           "caxis": {
            "gridcolor": "white",
            "linecolor": "white",
            "ticks": ""
           }
          },
          "title": {
           "x": 0.05
          },
          "xaxis": {
           "automargin": true,
           "gridcolor": "white",
           "linecolor": "white",
           "ticks": "",
           "title": {
            "standoff": 15
           },
           "zerolinecolor": "white",
           "zerolinewidth": 2
          },
          "yaxis": {
           "automargin": true,
           "gridcolor": "white",
           "linecolor": "white",
           "ticks": "",
           "title": {
            "standoff": 15
           },
           "zerolinecolor": "white",
           "zerolinewidth": 2
          }
         }
        },
        "xaxis": {
         "anchor": "y",
         "domain": [
          0,
          1
         ],
         "title": {
          "text": ""
         }
        },
        "yaxis": {
         "anchor": "x",
         "domain": [
          0,
          1
         ],
         "title": {
          "text": "Sales [BRL]"
         }
        }
       }
      },
      "text/html": [
       "<div>                            <div id=\"2a75132f-04bf-40c5-a8d1-0d05114a9755\" class=\"plotly-graph-div\" style=\"height:525px; width:100%;\"></div>            <script type=\"text/javascript\">                require([\"plotly\"], function(Plotly) {                    window.PLOTLYENV=window.PLOTLYENV || {};                                    if (document.getElementById(\"2a75132f-04bf-40c5-a8d1-0d05114a9755\")) {                    Plotly.newPlot(                        \"2a75132f-04bf-40c5-a8d1-0d05114a9755\",                        [{\"hovertemplate\":\"variable=price<br>=%{x}<br>Sales [BRL]=%{y}<extra></extra>\",\"legendgroup\":\"price\",\"line\":{\"color\":\"#636efa\",\"dash\":\"solid\"},\"marker\":{\"symbol\":\"circle\"},\"mode\":\"lines\",\"name\":\"price\",\"orientation\":\"v\",\"showlegend\":true,\"type\":\"scatter\",\"x\":[\"2016-09-15\",\"2016-10-04\",\"2016-10-05\",\"2016-10-06\",\"2016-10-07\",\"2016-10-08\",\"2016-10-09\",\"2016-10-10\",\"2016-10-11\",\"2016-10-12\",\"2016-10-13\",\"2016-12-23\",\"2017-01-05\",\"2017-01-06\",\"2017-01-07\",\"2017-01-08\",\"2017-01-09\",\"2017-01-10\",\"2017-01-11\",\"2017-01-12\",\"2017-01-13\",\"2017-01-14\",\"2017-01-15\",\"2017-01-16\",\"2017-01-17\",\"2017-01-18\",\"2017-01-19\",\"2017-01-20\",\"2017-01-21\",\"2017-01-22\",\"2017-01-23\",\"2017-01-24\",\"2017-01-25\",\"2017-01-26\",\"2017-01-27\",\"2017-01-28\",\"2017-01-29\",\"2017-01-30\",\"2017-01-31\",\"2017-02-01\",\"2017-02-02\",\"2017-02-03\",\"2017-02-04\",\"2017-02-05\",\"2017-02-06\",\"2017-02-07\",\"2017-02-08\",\"2017-02-09\",\"2017-02-10\",\"2017-02-11\",\"2017-02-12\",\"2017-02-13\",\"2017-02-14\",\"2017-02-15\",\"2017-02-16\",\"2017-02-17\",\"2017-02-18\",\"2017-02-19\",\"2017-02-20\",\"2017-02-21\",\"2017-02-22\",\"2017-02-23\",\"2017-02-24\",\"2017-02-25\",\"2017-02-26\",\"2017-02-27\",\"2017-02-28\",\"2017-03-01\",\"2017-03-02\",\"2017-03-03\",\"2017-03-04\",\"2017-03-05\",\"2017-03-06\",\"2017-03-07\",\"2017-03-08\",\"2017-03-09\",\"2017-03-10\",\"2017-03-11\",\"2017-03-12\",\"2017-03-13\",\"2017-03-14\",\"2017-03-15\",\"2017-03-16\",\"2017-03-17\",\"2017-03-18\",\"2017-03-19\",\"2017-03-20\",\"2017-03-21\",\"2017-03-22\",\"2017-03-23\",\"2017-03-24\",\"2017-03-25\",\"2017-03-26\",\"2017-03-27\",\"2017-03-28\",\"2017-03-29\",\"2017-03-30\",\"2017-03-31\",\"2017-04-01\",\"2017-04-02\",\"2017-04-03\",\"2017-04-04\",\"2017-04-05\",\"2017-04-06\",\"2017-04-07\",\"2017-04-08\",\"2017-04-09\",\"2017-04-10\",\"2017-04-11\",\"2017-04-12\",\"2017-04-13\",\"2017-04-14\",\"2017-04-15\",\"2017-04-16\",\"2017-04-17\",\"2017-04-18\",\"2017-04-19\",\"2017-04-20\",\"2017-04-21\",\"2017-04-22\",\"2017-04-23\",\"2017-04-24\",\"2017-04-25\",\"2017-04-26\",\"2017-04-27\",\"2017-04-28\",\"2017-04-29\",\"2017-04-30\",\"2017-05-01\",\"2017-05-02\",\"2017-05-03\",\"2017-05-04\",\"2017-05-05\",\"2017-05-06\",\"2017-05-07\",\"2017-05-08\",\"2017-05-09\",\"2017-05-10\",\"2017-05-11\",\"2017-05-12\",\"2017-05-13\",\"2017-05-14\",\"2017-05-15\",\"2017-05-16\",\"2017-05-17\",\"2017-05-18\",\"2017-05-19\",\"2017-05-20\",\"2017-05-21\",\"2017-05-22\",\"2017-05-23\",\"2017-05-24\",\"2017-05-25\",\"2017-05-26\",\"2017-05-27\",\"2017-05-28\",\"2017-05-29\",\"2017-05-30\",\"2017-05-31\",\"2017-06-01\",\"2017-06-02\",\"2017-06-03\",\"2017-06-04\",\"2017-06-05\",\"2017-06-06\",\"2017-06-07\",\"2017-06-08\",\"2017-06-09\",\"2017-06-10\",\"2017-06-11\",\"2017-06-12\",\"2017-06-13\",\"2017-06-14\",\"2017-06-15\",\"2017-06-16\",\"2017-06-17\",\"2017-06-18\",\"2017-06-19\",\"2017-06-20\",\"2017-06-21\",\"2017-06-22\",\"2017-06-23\",\"2017-06-24\",\"2017-06-25\",\"2017-06-26\",\"2017-06-27\",\"2017-06-28\",\"2017-06-29\",\"2017-06-30\",\"2017-07-01\",\"2017-07-02\",\"2017-07-03\",\"2017-07-04\",\"2017-07-05\",\"2017-07-06\",\"2017-07-07\",\"2017-07-08\",\"2017-07-09\",\"2017-07-10\",\"2017-07-11\",\"2017-07-12\",\"2017-07-13\",\"2017-07-14\",\"2017-07-15\",\"2017-07-16\",\"2017-07-17\",\"2017-07-18\",\"2017-07-19\",\"2017-07-20\",\"2017-07-21\",\"2017-07-22\",\"2017-07-23\",\"2017-07-24\",\"2017-07-25\",\"2017-07-26\",\"2017-07-27\",\"2017-07-28\",\"2017-07-29\",\"2017-07-30\",\"2017-07-31\",\"2017-08-01\",\"2017-08-02\",\"2017-08-03\",\"2017-08-04\",\"2017-08-05\",\"2017-08-06\",\"2017-08-07\",\"2017-08-08\",\"2017-08-09\",\"2017-08-10\",\"2017-08-11\",\"2017-08-12\",\"2017-08-13\",\"2017-08-14\",\"2017-08-15\",\"2017-08-16\",\"2017-08-17\",\"2017-08-18\",\"2017-08-19\",\"2017-08-20\",\"2017-08-21\",\"2017-08-22\",\"2017-08-23\",\"2017-08-24\",\"2017-08-25\",\"2017-08-26\",\"2017-08-27\",\"2017-08-28\",\"2017-08-29\",\"2017-08-30\",\"2017-08-31\",\"2017-09-01\",\"2017-09-02\",\"2017-09-03\",\"2017-09-04\",\"2017-09-05\",\"2017-09-06\",\"2017-09-07\",\"2017-09-08\",\"2017-09-09\",\"2017-09-10\",\"2017-09-11\",\"2017-09-12\",\"2017-09-13\",\"2017-09-14\",\"2017-09-15\",\"2017-09-16\",\"2017-09-17\",\"2017-09-18\",\"2017-09-19\",\"2017-09-20\",\"2017-09-21\",\"2017-09-22\",\"2017-09-23\",\"2017-09-24\",\"2017-09-25\",\"2017-09-26\",\"2017-09-27\",\"2017-09-28\",\"2017-09-29\",\"2017-09-30\",\"2017-10-01\",\"2017-10-02\",\"2017-10-03\",\"2017-10-04\",\"2017-10-05\",\"2017-10-06\",\"2017-10-07\",\"2017-10-08\",\"2017-10-09\",\"2017-10-10\",\"2017-10-11\",\"2017-10-12\",\"2017-10-13\",\"2017-10-14\",\"2017-10-15\",\"2017-10-16\",\"2017-10-17\",\"2017-10-18\",\"2017-10-19\",\"2017-10-20\",\"2017-10-21\",\"2017-10-22\",\"2017-10-23\",\"2017-10-24\",\"2017-10-25\",\"2017-10-26\",\"2017-10-27\",\"2017-10-28\",\"2017-10-29\",\"2017-10-30\",\"2017-10-31\",\"2017-11-01\",\"2017-11-02\",\"2017-11-03\",\"2017-11-04\",\"2017-11-05\",\"2017-11-06\",\"2017-11-07\",\"2017-11-08\",\"2017-11-09\",\"2017-11-10\",\"2017-11-11\",\"2017-11-12\",\"2017-11-13\",\"2017-11-14\",\"2017-11-15\",\"2017-11-16\",\"2017-11-17\",\"2017-11-18\",\"2017-11-19\",\"2017-11-20\",\"2017-11-21\",\"2017-11-22\",\"2017-11-23\",\"2017-11-24\",\"2017-11-25\",\"2017-11-26\",\"2017-11-27\",\"2017-11-28\",\"2017-11-29\",\"2017-11-30\",\"2017-12-01\",\"2017-12-02\",\"2017-12-03\",\"2017-12-04\",\"2017-12-05\",\"2017-12-06\",\"2017-12-07\",\"2017-12-08\",\"2017-12-09\",\"2017-12-10\",\"2017-12-11\",\"2017-12-12\",\"2017-12-13\",\"2017-12-14\",\"2017-12-15\",\"2017-12-16\",\"2017-12-17\",\"2017-12-18\",\"2017-12-19\",\"2017-12-20\",\"2017-12-21\",\"2017-12-22\",\"2017-12-23\",\"2017-12-24\",\"2017-12-25\",\"2017-12-26\",\"2017-12-27\",\"2017-12-28\",\"2017-12-29\",\"2017-12-30\",\"2017-12-31\",\"2018-01-01\",\"2018-01-02\",\"2018-01-03\",\"2018-01-04\",\"2018-01-05\",\"2018-01-06\",\"2018-01-07\",\"2018-01-08\",\"2018-01-09\",\"2018-01-10\",\"2018-01-11\",\"2018-01-12\",\"2018-01-13\",\"2018-01-14\",\"2018-01-15\",\"2018-01-16\",\"2018-01-17\",\"2018-01-18\",\"2018-01-19\",\"2018-01-20\",\"2018-01-21\",\"2018-01-22\",\"2018-01-23\",\"2018-01-24\",\"2018-01-25\",\"2018-01-26\",\"2018-01-27\",\"2018-01-28\",\"2018-01-29\",\"2018-01-30\",\"2018-01-31\",\"2018-02-01\",\"2018-02-02\",\"2018-02-03\",\"2018-02-04\",\"2018-02-05\",\"2018-02-06\",\"2018-02-07\",\"2018-02-08\",\"2018-02-09\",\"2018-02-10\",\"2018-02-11\",\"2018-02-12\",\"2018-02-13\",\"2018-02-14\",\"2018-02-15\",\"2018-02-16\",\"2018-02-17\",\"2018-02-18\",\"2018-02-19\",\"2018-02-20\",\"2018-02-21\",\"2018-02-22\",\"2018-02-23\",\"2018-02-24\",\"2018-02-25\",\"2018-02-26\",\"2018-02-27\",\"2018-02-28\",\"2018-03-01\",\"2018-03-02\",\"2018-03-03\",\"2018-03-04\",\"2018-03-05\",\"2018-03-06\",\"2018-03-07\",\"2018-03-08\",\"2018-03-09\",\"2018-03-10\",\"2018-03-11\",\"2018-03-12\",\"2018-03-13\",\"2018-03-14\",\"2018-03-15\",\"2018-03-16\",\"2018-03-17\",\"2018-03-18\",\"2018-03-19\",\"2018-03-20\",\"2018-03-21\",\"2018-03-22\",\"2018-03-23\",\"2018-03-24\",\"2018-03-25\",\"2018-03-26\",\"2018-03-27\",\"2018-03-28\",\"2018-03-29\",\"2018-03-30\",\"2018-03-31\",\"2018-04-01\",\"2018-04-02\",\"2018-04-03\",\"2018-04-04\",\"2018-04-05\",\"2018-04-06\",\"2018-04-07\",\"2018-04-08\",\"2018-04-09\",\"2018-04-10\",\"2018-04-11\",\"2018-04-12\",\"2018-04-13\",\"2018-04-14\",\"2018-04-15\",\"2018-04-16\",\"2018-04-17\",\"2018-04-18\",\"2018-04-19\",\"2018-04-20\",\"2018-04-24\",\"2018-04-25\",\"2018-04-26\",\"2018-04-27\",\"2018-04-28\",\"2018-04-29\",\"2018-04-30\",\"2018-05-01\",\"2018-05-02\",\"2018-05-03\",\"2018-05-04\",\"2018-05-05\",\"2018-05-06\",\"2018-05-07\",\"2018-05-08\",\"2018-05-09\",\"2018-05-10\",\"2018-05-11\",\"2018-05-12\",\"2018-05-13\",\"2018-05-14\",\"2018-05-15\",\"2018-05-16\",\"2018-05-17\",\"2018-05-18\",\"2018-05-19\",\"2018-05-20\",\"2018-05-21\",\"2018-05-22\",\"2018-05-23\",\"2018-05-24\",\"2018-05-25\",\"2018-05-26\",\"2018-05-27\",\"2018-05-28\",\"2018-05-29\",\"2018-05-30\",\"2018-05-31\",\"2018-06-01\",\"2018-06-02\",\"2018-06-03\",\"2018-06-04\",\"2018-06-05\",\"2018-06-06\",\"2018-06-07\",\"2018-06-08\",\"2018-06-09\",\"2018-06-10\",\"2018-06-11\",\"2018-06-12\",\"2018-06-13\",\"2018-06-14\",\"2018-06-15\",\"2018-06-16\",\"2018-06-17\",\"2018-06-18\",\"2018-06-19\",\"2018-06-20\",\"2018-06-21\",\"2018-06-22\",\"2018-06-23\",\"2018-06-24\",\"2018-06-25\",\"2018-06-26\",\"2018-06-27\",\"2018-06-28\",\"2018-06-29\",\"2018-06-30\",\"2018-07-01\",\"2018-07-02\",\"2018-07-03\",\"2018-07-05\",\"2018-07-06\",\"2018-07-07\",\"2018-07-08\",\"2018-07-09\",\"2018-07-10\",\"2018-07-11\",\"2018-07-12\",\"2018-07-13\",\"2018-07-14\",\"2018-07-15\",\"2018-07-16\",\"2018-07-17\",\"2018-07-18\",\"2018-07-19\",\"2018-07-20\",\"2018-07-21\",\"2018-07-22\",\"2018-07-23\",\"2018-07-24\",\"2018-07-25\",\"2018-07-26\",\"2018-07-27\",\"2018-07-28\",\"2018-07-29\",\"2018-07-30\",\"2018-07-31\",\"2018-08-01\",\"2018-08-02\",\"2018-08-03\",\"2018-08-04\",\"2018-08-05\",\"2018-08-06\",\"2018-08-07\",\"2018-08-08\",\"2018-08-09\",\"2018-08-10\",\"2018-08-11\",\"2018-08-12\",\"2018-08-13\",\"2018-08-14\",\"2018-08-15\",\"2018-08-16\",\"2018-08-17\",\"2018-08-18\",\"2018-08-20\",\"2018-08-21\",\"2018-08-22\",\"2018-08-23\",\"2018-08-24\",\"2018-08-25\",\"2018-08-26\",\"2018-08-27\",\"2018-08-28\",\"2018-08-29\",\"2018-09-03\"],\"xaxis\":\"x\",\"y\":[134.97,2443.57,1622.0500000000002,15924.67,10559.8,5635.21,1738.35,6517.07,2520.15,358.59999999999997,599.69,10.9,85.8,905.89,1663.0,458.69000000000005,776.79,969.4499999999999,2444.56,2339.1800000000003,2529.48,1326.89,1177.58,2081.52,4032.84,4672.68,3254.44,3308.16,3023.64,3565.08,5483.22,6681.900000000001,8464.17,9081.41,9442.92,10468.94,4701.25,8381.75,12825.02,8715.6,9148.93,8489.38,17040.53,6049.93,7680.29,16293.64,9979.64,10548.2,11895.08,9818.91,12567.02,8145.1,13123.05,8844.8,6882.54,6314.97,6382.83,3976.71,4687.68,4580.42,11809.630000000001,7126.39,8467.78,3877.32,5426.7,5129.86,10520.01,8098.82,12682.53,13656.9,12986.93,7815.78,8706.77,12108.68,14584.25,14143.14,12682.07,10833.27,6612.16,16958.05,14243.66,14809.33,14034.78,11880.44,16433.82,6649.34,17096.49,10541.49,11991.62,12302.58,13839.52,9184.53,5871.59,10229.27,15240.77,11681.41,9711.58,9713.41,10281.710000000001,9557.98,13605.800000000001,16225.01,17411.84,21188.83,18270.46,9230.59,6800.77,10533.67,11509.64,7363.36,10712.18,8963.039999999999,6874.14,5546.35,5997.03,19125.95,15953.49,11598.99,8960.4,10249.86,7061.37,12220.23,19537.71,16877.52,11629.05,13518.68,12465.34,7957.04,10639.87,7239.68,23442.670000000002,14962.48,14592.53,19397.52,15564.08,11809.800000000001,14866.68,20408.23,21828.05,16770.63,12202.76,12021.57,11178.51,21318.51,23391.82,20159.56,17026.24,13022.54,13608.06,18877.82,25469.8,19341.64,15566.66,19898.58,10564.02,11367.05,14700.7,14840.8,19986.24,17885.02,20077.66,15218.85,11311.5,14807.93,25581.04,12934.53,15622.85,17393.36,11278.26,11581.220000000001,10274.88,19467.63,13338.12,17509.54,11334.93,14384.89,14942.57,17259.829999999998,17929.96,10327.75,8856.99,10396.5,6219.67,11921.14,11658.08,25420.83,14525.050000000001,14411.82,12469.93,11760.67,10815.56,12090.61,13564.94,21565.61,21747.38,15553.98,15770.119999999999,6986.04,11680.83,20289.51,19786.65,15740.66,19534.54,12925.65,11866.77,17513.75,26691.71,20185.7,22171.45,13455.44,14061.66,9026.91,15520.4,17961.96,16307.59,17012.08,15408.44,19808.94,10640.82,15055.54,18826.99,23282.11,20249.89,17336.28,15609.84,12547.19,13294.3,26094.32,17096.76,23617.8,17595.17,18782.99,8334.26,14232.640000000001,24108.5,22459.7,21647.93,16300.64,19145.0,10709.61,16801.48,18647.95,16842.94,16251.9,15653.16,12450.25,9634.5,19778.12,28989.510000000002,26707.74,28533.2,26885.24,19936.71,20943.97,23527.81,24120.0,28742.5,16958.27,14540.43,16036.49,13882.91,20931.53,25443.99,30727.12,26084.0,21126.88,18615.72,18323.46,19301.96,30527.22,21968.3,22466.39,14772.19,13278.48,10118.25,14705.31,24334.78,22422.68,18631.39,20259.13,14641.4,13390.64,33621.85,28521.11,23180.66,23780.239999999998,20360.58,17400.86,13869.65,19370.74,32928.65,25433.2,21251.8,19242.6,18209.04,15158.63,22862.84,34411.1,30470.23,22913.47,21584.14,17285.36,17102.0,17967.21,22493.84,20171.14,25457.99,17667.8,14070.26,12396.24,20415.25,24539.82,25668.65,20888.1,19755.79,21517.32,14521.63,10489.16,37978.49,25115.69,21763.51,21329.74,23523.77,19896.31,19304.88,31213.98,24164.05,18122.63,32876.45,34714.44,16726.16,31631.69,35725.83,36121.68,36652.12,104489.22,93853.79,39243.57,42905.57,65159.85,39826.7,27951.59,51798.28,33552.12,24256.0,24443.42,55629.21,43803.51,29770.170000000002,28491.74,24116.49,19848.940000000002,25663.3,45834.7,30325.27,21870.43,25373.59,28746.03,18134.37,22755.88,24576.12,30924.36,19285.32,19698.12,11503.53,6473.11,7362.65,17287.24,23063.18,16538.93,15045.98,10788.26,7214.96,6404.0,20553.43,32401.6,32787.38,29687.03,27807.86,25893.41,30424.46,31363.29,42064.24,34566.11,39668.6,33480.41,24040.41,34276.17,53421.42,35180.4,30324.51,28285.28,27180.67,397.70000000000005,47946.71,37046.16,35615.590000000004,31486.87,31876.81,29820.98,17387.82,29254.34,32249.49,29599.62,32101.17,26401.94,24783.260000000002,26038.93,28702.69,38452.58,29332.41,33107.67,29766.88,26552.1,21278.53,18281.03,19666.34,27172.79,38589.28,36384.37,27435.77,21091.6,23222.38,37737.22,33773.29,31039.71,32446.97,28299.08,21742.6,33698.76,44453.38,45336.41,44048.52,35841.6,30689.4,27042.78,30009.35,48358.19,33355.23,29122.98,29849.38,29795.2,27685.1,26259.66,34505.27,32261.72,39058.63,33219.15,27114.03,27412.22,35465.31,39125.26,39103.15,38808.41,31394.26,24506.83,22530.23,30178.15,35505.13,29029.33,32088.95,22669.19,25480.13,22874.11,35252.37,41188.44,36949.17,41680.63,27668.82,26680.9,17695.36,29087.45,51317.19,38400.22,20406.3,47261.39,22847.11,25150.75,35198.57,41012.49,38471.61,44899.42,19034.1,132994.94,45100.85,33924.89,37853.38,29593.09,18008.04,13705.95,50813.55,30875.73,45734.23,43122.62,30988.72,11567.75,55241.13,60324.55,41022.52,49681.06,41533.81,35316.64,25784.32,41711.95,52706.44,47551.020000000004,19267.27,58518.34,21135.77,18675.62,18424.76,34781.18,25185.02,20299.99,13677.59,21704.15,9054.92,22527.49,22954.58,23954.99,22830.53,25044.93,33109.26,25585.61,21262.07,41108.53,26694.47,37701.1,23986.69,32941.71,19244.9,40369.49,49687.94,38889.56,28801.07,25806.37,21446.71,15453.03,29321.41,40703.94,30514.04,27116.85,25115.260000000002,20179.0,18166.4,31758.79,37507.93,26855.08,33312.31,23028.92,18422.97,16330.89,22649.23,535.58,92983.58,23071.34,10774.4,11925.039999999999,15681.55,21839.14,19955.41,27567.649999999998,24587.37,25132.420000000002,17845.62,24684.3,47704.07,36184.34,37453.65,35764.35,27100.170000000002,357.69,41937.69,56169.75,33146.66,37129.69,32999.44,24614.59,16408.28,40774.14,45954.74,46740.85,42468.46,36907.13,37266.46,32710.8,51914.659999999996,54921.2,47500.54,42174.56,34947.27,26638.43,22293.46,36881.590000000004,46496.93,45103.87,34280.7,36701.72,27385.38,58428.55,31560.99,20912.06,16030.130000000001,15162.11,9131.79,10219.140000000001,5726.5,5106.3,1987.63,145.0],\"yaxis\":\"y\"}],                        {\"legend\":{\"title\":{\"text\":\"variable\"},\"tracegroupgap\":0},\"margin\":{\"t\":60},\"template\":{\"data\":{\"bar\":[{\"error_x\":{\"color\":\"#2a3f5f\"},\"error_y\":{\"color\":\"#2a3f5f\"},\"marker\":{\"line\":{\"color\":\"#E5ECF6\",\"width\":0.5},\"pattern\":{\"fillmode\":\"overlay\",\"size\":10,\"solidity\":0.2}},\"type\":\"bar\"}],\"barpolar\":[{\"marker\":{\"line\":{\"color\":\"#E5ECF6\",\"width\":0.5},\"pattern\":{\"fillmode\":\"overlay\",\"size\":10,\"solidity\":0.2}},\"type\":\"barpolar\"}],\"carpet\":[{\"aaxis\":{\"endlinecolor\":\"#2a3f5f\",\"gridcolor\":\"white\",\"linecolor\":\"white\",\"minorgridcolor\":\"white\",\"startlinecolor\":\"#2a3f5f\"},\"baxis\":{\"endlinecolor\":\"#2a3f5f\",\"gridcolor\":\"white\",\"linecolor\":\"white\",\"minorgridcolor\":\"white\",\"startlinecolor\":\"#2a3f5f\"},\"type\":\"carpet\"}],\"choropleth\":[{\"colorbar\":{\"outlinewidth\":0,\"ticks\":\"\"},\"type\":\"choropleth\"}],\"contour\":[{\"colorbar\":{\"outlinewidth\":0,\"ticks\":\"\"},\"colorscale\":[[0.0,\"#0d0887\"],[0.1111111111111111,\"#46039f\"],[0.2222222222222222,\"#7201a8\"],[0.3333333333333333,\"#9c179e\"],[0.4444444444444444,\"#bd3786\"],[0.5555555555555556,\"#d8576b\"],[0.6666666666666666,\"#ed7953\"],[0.7777777777777778,\"#fb9f3a\"],[0.8888888888888888,\"#fdca26\"],[1.0,\"#f0f921\"]],\"type\":\"contour\"}],\"contourcarpet\":[{\"colorbar\":{\"outlinewidth\":0,\"ticks\":\"\"},\"type\":\"contourcarpet\"}],\"heatmap\":[{\"colorbar\":{\"outlinewidth\":0,\"ticks\":\"\"},\"colorscale\":[[0.0,\"#0d0887\"],[0.1111111111111111,\"#46039f\"],[0.2222222222222222,\"#7201a8\"],[0.3333333333333333,\"#9c179e\"],[0.4444444444444444,\"#bd3786\"],[0.5555555555555556,\"#d8576b\"],[0.6666666666666666,\"#ed7953\"],[0.7777777777777778,\"#fb9f3a\"],[0.8888888888888888,\"#fdca26\"],[1.0,\"#f0f921\"]],\"type\":\"heatmap\"}],\"heatmapgl\":[{\"colorbar\":{\"outlinewidth\":0,\"ticks\":\"\"},\"colorscale\":[[0.0,\"#0d0887\"],[0.1111111111111111,\"#46039f\"],[0.2222222222222222,\"#7201a8\"],[0.3333333333333333,\"#9c179e\"],[0.4444444444444444,\"#bd3786\"],[0.5555555555555556,\"#d8576b\"],[0.6666666666666666,\"#ed7953\"],[0.7777777777777778,\"#fb9f3a\"],[0.8888888888888888,\"#fdca26\"],[1.0,\"#f0f921\"]],\"type\":\"heatmapgl\"}],\"histogram\":[{\"marker\":{\"pattern\":{\"fillmode\":\"overlay\",\"size\":10,\"solidity\":0.2}},\"type\":\"histogram\"}],\"histogram2d\":[{\"colorbar\":{\"outlinewidth\":0,\"ticks\":\"\"},\"colorscale\":[[0.0,\"#0d0887\"],[0.1111111111111111,\"#46039f\"],[0.2222222222222222,\"#7201a8\"],[0.3333333333333333,\"#9c179e\"],[0.4444444444444444,\"#bd3786\"],[0.5555555555555556,\"#d8576b\"],[0.6666666666666666,\"#ed7953\"],[0.7777777777777778,\"#fb9f3a\"],[0.8888888888888888,\"#fdca26\"],[1.0,\"#f0f921\"]],\"type\":\"histogram2d\"}],\"histogram2dcontour\":[{\"colorbar\":{\"outlinewidth\":0,\"ticks\":\"\"},\"colorscale\":[[0.0,\"#0d0887\"],[0.1111111111111111,\"#46039f\"],[0.2222222222222222,\"#7201a8\"],[0.3333333333333333,\"#9c179e\"],[0.4444444444444444,\"#bd3786\"],[0.5555555555555556,\"#d8576b\"],[0.6666666666666666,\"#ed7953\"],[0.7777777777777778,\"#fb9f3a\"],[0.8888888888888888,\"#fdca26\"],[1.0,\"#f0f921\"]],\"type\":\"histogram2dcontour\"}],\"mesh3d\":[{\"colorbar\":{\"outlinewidth\":0,\"ticks\":\"\"},\"type\":\"mesh3d\"}],\"parcoords\":[{\"line\":{\"colorbar\":{\"outlinewidth\":0,\"ticks\":\"\"}},\"type\":\"parcoords\"}],\"pie\":[{\"automargin\":true,\"type\":\"pie\"}],\"scatter\":[{\"marker\":{\"colorbar\":{\"outlinewidth\":0,\"ticks\":\"\"}},\"type\":\"scatter\"}],\"scatter3d\":[{\"line\":{\"colorbar\":{\"outlinewidth\":0,\"ticks\":\"\"}},\"marker\":{\"colorbar\":{\"outlinewidth\":0,\"ticks\":\"\"}},\"type\":\"scatter3d\"}],\"scattercarpet\":[{\"marker\":{\"colorbar\":{\"outlinewidth\":0,\"ticks\":\"\"}},\"type\":\"scattercarpet\"}],\"scattergeo\":[{\"marker\":{\"colorbar\":{\"outlinewidth\":0,\"ticks\":\"\"}},\"type\":\"scattergeo\"}],\"scattergl\":[{\"marker\":{\"colorbar\":{\"outlinewidth\":0,\"ticks\":\"\"}},\"type\":\"scattergl\"}],\"scattermapbox\":[{\"marker\":{\"colorbar\":{\"outlinewidth\":0,\"ticks\":\"\"}},\"type\":\"scattermapbox\"}],\"scatterpolar\":[{\"marker\":{\"colorbar\":{\"outlinewidth\":0,\"ticks\":\"\"}},\"type\":\"scatterpolar\"}],\"scatterpolargl\":[{\"marker\":{\"colorbar\":{\"outlinewidth\":0,\"ticks\":\"\"}},\"type\":\"scatterpolargl\"}],\"scatterternary\":[{\"marker\":{\"colorbar\":{\"outlinewidth\":0,\"ticks\":\"\"}},\"type\":\"scatterternary\"}],\"surface\":[{\"colorbar\":{\"outlinewidth\":0,\"ticks\":\"\"},\"colorscale\":[[0.0,\"#0d0887\"],[0.1111111111111111,\"#46039f\"],[0.2222222222222222,\"#7201a8\"],[0.3333333333333333,\"#9c179e\"],[0.4444444444444444,\"#bd3786\"],[0.5555555555555556,\"#d8576b\"],[0.6666666666666666,\"#ed7953\"],[0.7777777777777778,\"#fb9f3a\"],[0.8888888888888888,\"#fdca26\"],[1.0,\"#f0f921\"]],\"type\":\"surface\"}],\"table\":[{\"cells\":{\"fill\":{\"color\":\"#EBF0F8\"},\"line\":{\"color\":\"white\"}},\"header\":{\"fill\":{\"color\":\"#C8D4E3\"},\"line\":{\"color\":\"white\"}},\"type\":\"table\"}]},\"layout\":{\"annotationdefaults\":{\"arrowcolor\":\"#2a3f5f\",\"arrowhead\":0,\"arrowwidth\":1},\"autotypenumbers\":\"strict\",\"coloraxis\":{\"colorbar\":{\"outlinewidth\":0,\"ticks\":\"\"}},\"colorscale\":{\"diverging\":[[0,\"#8e0152\"],[0.1,\"#c51b7d\"],[0.2,\"#de77ae\"],[0.3,\"#f1b6da\"],[0.4,\"#fde0ef\"],[0.5,\"#f7f7f7\"],[0.6,\"#e6f5d0\"],[0.7,\"#b8e186\"],[0.8,\"#7fbc41\"],[0.9,\"#4d9221\"],[1,\"#276419\"]],\"sequential\":[[0.0,\"#0d0887\"],[0.1111111111111111,\"#46039f\"],[0.2222222222222222,\"#7201a8\"],[0.3333333333333333,\"#9c179e\"],[0.4444444444444444,\"#bd3786\"],[0.5555555555555556,\"#d8576b\"],[0.6666666666666666,\"#ed7953\"],[0.7777777777777778,\"#fb9f3a\"],[0.8888888888888888,\"#fdca26\"],[1.0,\"#f0f921\"]],\"sequentialminus\":[[0.0,\"#0d0887\"],[0.1111111111111111,\"#46039f\"],[0.2222222222222222,\"#7201a8\"],[0.3333333333333333,\"#9c179e\"],[0.4444444444444444,\"#bd3786\"],[0.5555555555555556,\"#d8576b\"],[0.6666666666666666,\"#ed7953\"],[0.7777777777777778,\"#fb9f3a\"],[0.8888888888888888,\"#fdca26\"],[1.0,\"#f0f921\"]]},\"colorway\":[\"#636efa\",\"#EF553B\",\"#00cc96\",\"#ab63fa\",\"#FFA15A\",\"#19d3f3\",\"#FF6692\",\"#B6E880\",\"#FF97FF\",\"#FECB52\"],\"font\":{\"color\":\"#2a3f5f\"},\"geo\":{\"bgcolor\":\"white\",\"lakecolor\":\"white\",\"landcolor\":\"#E5ECF6\",\"showlakes\":true,\"showland\":true,\"subunitcolor\":\"white\"},\"hoverlabel\":{\"align\":\"left\"},\"hovermode\":\"closest\",\"mapbox\":{\"style\":\"light\"},\"paper_bgcolor\":\"white\",\"plot_bgcolor\":\"#E5ECF6\",\"polar\":{\"angularaxis\":{\"gridcolor\":\"white\",\"linecolor\":\"white\",\"ticks\":\"\"},\"bgcolor\":\"#E5ECF6\",\"radialaxis\":{\"gridcolor\":\"white\",\"linecolor\":\"white\",\"ticks\":\"\"}},\"scene\":{\"xaxis\":{\"backgroundcolor\":\"#E5ECF6\",\"gridcolor\":\"white\",\"gridwidth\":2,\"linecolor\":\"white\",\"showbackground\":true,\"ticks\":\"\",\"zerolinecolor\":\"white\"},\"yaxis\":{\"backgroundcolor\":\"#E5ECF6\",\"gridcolor\":\"white\",\"gridwidth\":2,\"linecolor\":\"white\",\"showbackground\":true,\"ticks\":\"\",\"zerolinecolor\":\"white\"},\"zaxis\":{\"backgroundcolor\":\"#E5ECF6\",\"gridcolor\":\"white\",\"gridwidth\":2,\"linecolor\":\"white\",\"showbackground\":true,\"ticks\":\"\",\"zerolinecolor\":\"white\"}},\"shapedefaults\":{\"line\":{\"color\":\"#2a3f5f\"}},\"ternary\":{\"aaxis\":{\"gridcolor\":\"white\",\"linecolor\":\"white\",\"ticks\":\"\"},\"baxis\":{\"gridcolor\":\"white\",\"linecolor\":\"white\",\"ticks\":\"\"},\"bgcolor\":\"#E5ECF6\",\"caxis\":{\"gridcolor\":\"white\",\"linecolor\":\"white\",\"ticks\":\"\"}},\"title\":{\"x\":0.05},\"xaxis\":{\"automargin\":true,\"gridcolor\":\"white\",\"linecolor\":\"white\",\"ticks\":\"\",\"title\":{\"standoff\":15},\"zerolinecolor\":\"white\",\"zerolinewidth\":2},\"yaxis\":{\"automargin\":true,\"gridcolor\":\"white\",\"linecolor\":\"white\",\"ticks\":\"\",\"title\":{\"standoff\":15},\"zerolinecolor\":\"white\",\"zerolinewidth\":2}}},\"xaxis\":{\"anchor\":\"y\",\"domain\":[0.0,1.0],\"title\":{\"text\":\"\"}},\"yaxis\":{\"anchor\":\"x\",\"domain\":[0.0,1.0],\"title\":{\"text\":\"Sales [BRL]\"}}},                        {\"responsive\": true}                    ).then(function(){\n",
       "                            \n",
       "var gd = document.getElementById('2a75132f-04bf-40c5-a8d1-0d05114a9755');\n",
       "var x = new MutationObserver(function (mutations, observer) {{\n",
       "        var display = window.getComputedStyle(gd).display;\n",
       "        if (!display || display === 'none') {{\n",
       "            console.log([gd, 'removed!']);\n",
       "            Plotly.purge(gd);\n",
       "            observer.disconnect();\n",
       "        }}\n",
       "}});\n",
       "\n",
       "// Listen for the removal of the full notebook cells\n",
       "var notebookContainer = gd.closest('#notebook-container');\n",
       "if (notebookContainer) {{\n",
       "    x.observe(notebookContainer, {childList: true});\n",
       "}}\n",
       "\n",
       "// Listen for the clearing of the current output cell\n",
       "var outputEl = gd.closest('.output');\n",
       "if (outputEl) {{\n",
       "    x.observe(outputEl, {childList: true});\n",
       "}}\n",
       "\n",
       "                        })                };                });            </script>        </div>"
      ]
     },
     "metadata": {},
     "output_type": "display_data"
    }
   ],
   "source": [
    "fig = px.line(tmp_grouped, labels={\"value\": \"Sales [BRL]\", \"date\":\"\"})\n",
    "fig.show()"
   ]
  },
  {
   "cell_type": "markdown",
   "metadata": {},
   "source": [
    "## Cost Analysis"
   ]
  },
  {
   "cell_type": "markdown",
   "metadata": {},
   "source": [
    "### Loss per Review"
   ]
  },
  {
   "cell_type": "code",
   "execution_count": 9,
   "metadata": {},
   "outputs": [],
   "source": [
    "data = Olist().get_matching_table()"
   ]
  },
  {
   "cell_type": "code",
   "execution_count": 10,
   "metadata": {},
   "outputs": [],
   "source": [
    "review_score = order.Order().get_review_score()\n",
    "review_score_seller = review_score.merge(data, on=\"order_id\")[[\"order_id\", \"seller_id\", \n",
    "                                                               'dim_is_five_star', 'dim_is_one_star', 'review_score']]"
   ]
  },
  {
   "cell_type": "code",
   "execution_count": 11,
   "metadata": {},
   "outputs": [],
   "source": [
    "review_score_dict = {1:100, 2:50, 3:40, 4:0, 5:0}\n",
    "review_score_seller[\"review_score_cost\"] = review_score_seller[\"review_score\"].map(review_score_dict)\n",
    "\n",
    "# group by seller id and sum review_score_cost\n",
    "review_score_cost = review_score_seller.groupby(\"seller_id\", as_index=False).sum()[[\"seller_id\", \"review_score_cost\"]]"
   ]
  },
  {
   "cell_type": "code",
   "execution_count": 12,
   "metadata": {},
   "outputs": [
    {
     "data": {
      "text/html": [
       "<div>\n",
       "<style scoped>\n",
       "    .dataframe tbody tr th:only-of-type {\n",
       "        vertical-align: middle;\n",
       "    }\n",
       "\n",
       "    .dataframe tbody tr th {\n",
       "        vertical-align: top;\n",
       "    }\n",
       "\n",
       "    .dataframe thead th {\n",
       "        text-align: right;\n",
       "    }\n",
       "</style>\n",
       "<table border=\"1\" class=\"dataframe\">\n",
       "  <thead>\n",
       "    <tr style=\"text-align: right;\">\n",
       "      <th></th>\n",
       "      <th>seller_id</th>\n",
       "      <th>total_review_cost</th>\n",
       "      <th>olist_revenue</th>\n",
       "    </tr>\n",
       "  </thead>\n",
       "  <tbody>\n",
       "    <tr>\n",
       "      <th>0</th>\n",
       "      <td>4a3ca9315b744ce9f8e9374361493884</td>\n",
       "      <td>42340</td>\n",
       "      <td>21647.292</td>\n",
       "    </tr>\n",
       "    <tr>\n",
       "      <th>1</th>\n",
       "      <td>6560211a19b47992c3666cc44a7e94c0</td>\n",
       "      <td>38880</td>\n",
       "      <td>13850.483</td>\n",
       "    </tr>\n",
       "    <tr>\n",
       "      <th>2</th>\n",
       "      <td>cc419e0650a3c5ba77189a1882b7556a</td>\n",
       "      <td>31230</td>\n",
       "      <td>12028.842</td>\n",
       "    </tr>\n",
       "    <tr>\n",
       "      <th>3</th>\n",
       "      <td>7c67e1448b00f6e969d365cea6b010ab</td>\n",
       "      <td>29950</td>\n",
       "      <td>20312.389</td>\n",
       "    </tr>\n",
       "    <tr>\n",
       "      <th>4</th>\n",
       "      <td>1f50f920176fa81dab994f9023523100</td>\n",
       "      <td>24400</td>\n",
       "      <td>12133.921</td>\n",
       "    </tr>\n",
       "    <tr>\n",
       "      <th>...</th>\n",
       "      <td>...</td>\n",
       "      <td>...</td>\n",
       "      <td>...</td>\n",
       "    </tr>\n",
       "    <tr>\n",
       "      <th>2962</th>\n",
       "      <td>4fae87d32467e18eb46e4a76a0a0b9ce</td>\n",
       "      <td>0</td>\n",
       "      <td>90.090</td>\n",
       "    </tr>\n",
       "    <tr>\n",
       "      <th>2963</th>\n",
       "      <td>bba8d0c234a52b87b3957037a215d1a4</td>\n",
       "      <td>0</td>\n",
       "      <td>92.000</td>\n",
       "    </tr>\n",
       "    <tr>\n",
       "      <th>2964</th>\n",
       "      <td>4f1f1c8666cdb6442f775c4e8caed465</td>\n",
       "      <td>0</td>\n",
       "      <td>174.498</td>\n",
       "    </tr>\n",
       "    <tr>\n",
       "      <th>2965</th>\n",
       "      <td>bbe87dce25ba8b38bb61cc7210a3f10b</td>\n",
       "      <td>0</td>\n",
       "      <td>348.700</td>\n",
       "    </tr>\n",
       "    <tr>\n",
       "      <th>2966</th>\n",
       "      <td>478bfe564db21eeb44386606aa30b650</td>\n",
       "      <td>0</td>\n",
       "      <td>258.270</td>\n",
       "    </tr>\n",
       "  </tbody>\n",
       "</table>\n",
       "<p>2967 rows × 3 columns</p>\n",
       "</div>"
      ],
      "text/plain": [
       "                             seller_id  total_review_cost  olist_revenue\n",
       "0     4a3ca9315b744ce9f8e9374361493884              42340      21647.292\n",
       "1     6560211a19b47992c3666cc44a7e94c0              38880      13850.483\n",
       "2     cc419e0650a3c5ba77189a1882b7556a              31230      12028.842\n",
       "3     7c67e1448b00f6e969d365cea6b010ab              29950      20312.389\n",
       "4     1f50f920176fa81dab994f9023523100              24400      12133.921\n",
       "...                                ...                ...            ...\n",
       "2962  4fae87d32467e18eb46e4a76a0a0b9ce                  0         90.090\n",
       "2963  bba8d0c234a52b87b3957037a215d1a4                  0         92.000\n",
       "2964  4f1f1c8666cdb6442f775c4e8caed465                  0        174.498\n",
       "2965  bbe87dce25ba8b38bb61cc7210a3f10b                  0        348.700\n",
       "2966  478bfe564db21eeb44386606aa30b650                  0        258.270\n",
       "\n",
       "[2967 rows x 3 columns]"
      ]
     },
     "execution_count": 12,
     "metadata": {},
     "output_type": "execute_result"
    }
   ],
   "source": [
    "review_score_cost.rename({\"review_score_cost\": \"total_review_cost\"}, inplace=True, axis=1)\n",
    "review_score_cost.sort_values(\"total_review_cost\", inplace=True, ascending=False)\n",
    "review_score_cost = review_score_cost.merge(olist_revenue, on=\"seller_id\")[[\"seller_id\", \"total_review_cost\", \"olist_revenue\"]]\n",
    "review_score_cost"
   ]
  },
  {
   "cell_type": "markdown",
   "metadata": {},
   "source": [
    "### IT - Cost"
   ]
  },
  {
   "cell_type": "code",
   "execution_count": 13,
   "metadata": {},
   "outputs": [],
   "source": [
    "tot_orders = data[\"order_id\"].count()"
   ]
  },
  {
   "cell_type": "code",
   "execution_count": 14,
   "metadata": {},
   "outputs": [
    {
     "data": {
      "text/plain": [
       "4.816723664563364"
      ]
     },
     "execution_count": 14,
     "metadata": {},
     "output_type": "execute_result"
    }
   ],
   "source": [
    "# calculate cost per order, if for all orders cost = 500.000\n",
    "it_cost_per_order = 500_000/tot_orders\n",
    "it_cost_per_order"
   ]
  },
  {
   "cell_type": "code",
   "execution_count": 15,
   "metadata": {},
   "outputs": [
    {
     "data": {
      "text/html": [
       "<div>\n",
       "<style scoped>\n",
       "    .dataframe tbody tr th:only-of-type {\n",
       "        vertical-align: middle;\n",
       "    }\n",
       "\n",
       "    .dataframe tbody tr th {\n",
       "        vertical-align: top;\n",
       "    }\n",
       "\n",
       "    .dataframe thead th {\n",
       "        text-align: right;\n",
       "    }\n",
       "</style>\n",
       "<table border=\"1\" class=\"dataframe\">\n",
       "  <thead>\n",
       "    <tr style=\"text-align: right;\">\n",
       "      <th></th>\n",
       "      <th>seller_id</th>\n",
       "      <th>n_orders</th>\n",
       "      <th>it_cost</th>\n",
       "    </tr>\n",
       "  </thead>\n",
       "  <tbody>\n",
       "    <tr>\n",
       "      <th>0</th>\n",
       "      <td>3442f8959a84dea7ee197c632cb2df15</td>\n",
       "      <td>3</td>\n",
       "      <td>3.801338</td>\n",
       "    </tr>\n",
       "    <tr>\n",
       "      <th>1</th>\n",
       "      <td>d1b65fc7debc3361ea86b5f14c68d2e2</td>\n",
       "      <td>40</td>\n",
       "      <td>13.880524</td>\n",
       "    </tr>\n",
       "    <tr>\n",
       "      <th>2</th>\n",
       "      <td>ce3ad9de960102d0677a81f5d0bb7b2d</td>\n",
       "      <td>1</td>\n",
       "      <td>2.194704</td>\n",
       "    </tr>\n",
       "    <tr>\n",
       "      <th>3</th>\n",
       "      <td>c0f3eea2e14555b6faeea3dd58c1b1c3</td>\n",
       "      <td>1</td>\n",
       "      <td>2.194704</td>\n",
       "    </tr>\n",
       "    <tr>\n",
       "      <th>4</th>\n",
       "      <td>51a04a8a6bdcb23deccc82b0b80742cf</td>\n",
       "      <td>1</td>\n",
       "      <td>2.194704</td>\n",
       "    </tr>\n",
       "    <tr>\n",
       "      <th>...</th>\n",
       "      <td>...</td>\n",
       "      <td>...</td>\n",
       "      <td>...</td>\n",
       "    </tr>\n",
       "    <tr>\n",
       "      <th>2962</th>\n",
       "      <td>98dddbc4601dd4443ca174359b237166</td>\n",
       "      <td>2</td>\n",
       "      <td>3.103780</td>\n",
       "    </tr>\n",
       "    <tr>\n",
       "      <th>2963</th>\n",
       "      <td>f8201cab383e484733266d1906e2fdfa</td>\n",
       "      <td>10</td>\n",
       "      <td>6.940262</td>\n",
       "    </tr>\n",
       "    <tr>\n",
       "      <th>2964</th>\n",
       "      <td>74871d19219c7d518d0090283e03c137</td>\n",
       "      <td>6</td>\n",
       "      <td>5.375904</td>\n",
       "    </tr>\n",
       "    <tr>\n",
       "      <th>2965</th>\n",
       "      <td>e603cf3fec55f8697c9059638d6c8eb5</td>\n",
       "      <td>8</td>\n",
       "      <td>6.207559</td>\n",
       "    </tr>\n",
       "    <tr>\n",
       "      <th>2966</th>\n",
       "      <td>9e25199f6ef7e7c347120ff175652c3b</td>\n",
       "      <td>1</td>\n",
       "      <td>2.194704</td>\n",
       "    </tr>\n",
       "  </tbody>\n",
       "</table>\n",
       "<p>2967 rows × 3 columns</p>\n",
       "</div>"
      ],
      "text/plain": [
       "                             seller_id  n_orders    it_cost\n",
       "0     3442f8959a84dea7ee197c632cb2df15         3   3.801338\n",
       "1     d1b65fc7debc3361ea86b5f14c68d2e2        40  13.880524\n",
       "2     ce3ad9de960102d0677a81f5d0bb7b2d         1   2.194704\n",
       "3     c0f3eea2e14555b6faeea3dd58c1b1c3         1   2.194704\n",
       "4     51a04a8a6bdcb23deccc82b0b80742cf         1   2.194704\n",
       "...                                ...       ...        ...\n",
       "2962  98dddbc4601dd4443ca174359b237166         2   3.103780\n",
       "2963  f8201cab383e484733266d1906e2fdfa        10   6.940262\n",
       "2964  74871d19219c7d518d0090283e03c137         6   5.375904\n",
       "2965  e603cf3fec55f8697c9059638d6c8eb5         8   6.207559\n",
       "2966  9e25199f6ef7e7c347120ff175652c3b         1   2.194704\n",
       "\n",
       "[2967 rows x 3 columns]"
      ]
     },
     "execution_count": 15,
     "metadata": {},
     "output_type": "execute_result"
    }
   ],
   "source": [
    "order_per_seller = seller[[\"seller_id\", \"n_orders\"]].copy()\n",
    "order_per_seller[\"it_cost\"] = (order_per_seller[\"n_orders\"] * it_cost_per_order).map(np.sqrt)\n",
    "order_per_seller"
   ]
  },
  {
   "cell_type": "code",
   "execution_count": 16,
   "metadata": {},
   "outputs": [
    {
     "data": {
      "text/plain": [
       "<AxesSubplot:xlabel='n_orders', ylabel='it_cost'>"
      ]
     },
     "execution_count": 16,
     "metadata": {},
     "output_type": "execute_result"
    },
    {
     "data": {
      "image/png": "[encoded data removed]",
      "text/plain": [
       "<Figure size 432x288 with 1 Axes>"
      ]
     },
     "metadata": {
      "needs_background": "light"
     },
     "output_type": "display_data"
    }
   ],
   "source": [
    "sns.lineplot(x=\"n_orders\", y =\"it_cost\", data=order_per_seller)"
   ]
  },
  {
   "cell_type": "markdown",
   "metadata": {},
   "source": [
    "### Total Cost per Seller"
   ]
  },
  {
   "cell_type": "code",
   "execution_count": 17,
   "metadata": {},
   "outputs": [],
   "source": [
    "total_seller_cost = review_score_cost.merge(order_per_seller, on=\"seller_id\")\n",
    "total_seller_cost.drop(\"n_orders\", axis=1, inplace=True)"
   ]
  },
  {
   "cell_type": "code",
   "execution_count": 18,
   "metadata": {},
   "outputs": [
    {
     "data": {
      "text/plain": [
       "Index(['seller_id', 'total_review_cost', 'olist_revenue', 'it_cost'], dtype='object')"
      ]
     },
     "execution_count": 18,
     "metadata": {},
     "output_type": "execute_result"
    }
   ],
   "source": [
    "total_seller_cost.columns"
   ]
  },
  {
   "cell_type": "code",
   "execution_count": 19,
   "metadata": {},
   "outputs": [
    {
     "data": {
      "text/html": [
       "<div>\n",
       "<style scoped>\n",
       "    .dataframe tbody tr th:only-of-type {\n",
       "        vertical-align: middle;\n",
       "    }\n",
       "\n",
       "    .dataframe tbody tr th {\n",
       "        vertical-align: top;\n",
       "    }\n",
       "\n",
       "    .dataframe thead th {\n",
       "        text-align: right;\n",
       "    }\n",
       "</style>\n",
       "<table border=\"1\" class=\"dataframe\">\n",
       "  <thead>\n",
       "    <tr style=\"text-align: right;\">\n",
       "      <th></th>\n",
       "      <th>seller_id</th>\n",
       "      <th>total_review_cost</th>\n",
       "      <th>it_cost</th>\n",
       "      <th>olist_revenue</th>\n",
       "    </tr>\n",
       "  </thead>\n",
       "  <tbody>\n",
       "    <tr>\n",
       "      <th>0</th>\n",
       "      <td>4a3ca9315b744ce9f8e9374361493884</td>\n",
       "      <td>42340</td>\n",
       "      <td>93.268446</td>\n",
       "      <td>21647.292</td>\n",
       "    </tr>\n",
       "    <tr>\n",
       "      <th>1</th>\n",
       "      <td>6560211a19b47992c3666cc44a7e94c0</td>\n",
       "      <td>38880</td>\n",
       "      <td>94.499765</td>\n",
       "      <td>13850.483</td>\n",
       "    </tr>\n",
       "    <tr>\n",
       "      <th>2</th>\n",
       "      <td>cc419e0650a3c5ba77189a1882b7556a</td>\n",
       "      <td>31230</td>\n",
       "      <td>90.649493</td>\n",
       "      <td>12028.842</td>\n",
       "    </tr>\n",
       "    <tr>\n",
       "      <th>3</th>\n",
       "      <td>7c67e1448b00f6e969d365cea6b010ab</td>\n",
       "      <td>29950</td>\n",
       "      <td>68.775160</td>\n",
       "      <td>20312.389</td>\n",
       "    </tr>\n",
       "    <tr>\n",
       "      <th>4</th>\n",
       "      <td>1f50f920176fa81dab994f9023523100</td>\n",
       "      <td>24400</td>\n",
       "      <td>82.235516</td>\n",
       "      <td>12133.921</td>\n",
       "    </tr>\n",
       "    <tr>\n",
       "      <th>...</th>\n",
       "      <td>...</td>\n",
       "      <td>...</td>\n",
       "      <td>...</td>\n",
       "      <td>...</td>\n",
       "    </tr>\n",
       "    <tr>\n",
       "      <th>2962</th>\n",
       "      <td>4fae87d32467e18eb46e4a76a0a0b9ce</td>\n",
       "      <td>0</td>\n",
       "      <td>2.194704</td>\n",
       "      <td>90.090</td>\n",
       "    </tr>\n",
       "    <tr>\n",
       "      <th>2963</th>\n",
       "      <td>bba8d0c234a52b87b3957037a215d1a4</td>\n",
       "      <td>0</td>\n",
       "      <td>2.194704</td>\n",
       "      <td>92.000</td>\n",
       "    </tr>\n",
       "    <tr>\n",
       "      <th>2964</th>\n",
       "      <td>4f1f1c8666cdb6442f775c4e8caed465</td>\n",
       "      <td>0</td>\n",
       "      <td>3.103780</td>\n",
       "      <td>174.498</td>\n",
       "    </tr>\n",
       "    <tr>\n",
       "      <th>2965</th>\n",
       "      <td>bbe87dce25ba8b38bb61cc7210a3f10b</td>\n",
       "      <td>0</td>\n",
       "      <td>3.103780</td>\n",
       "      <td>348.700</td>\n",
       "    </tr>\n",
       "    <tr>\n",
       "      <th>2966</th>\n",
       "      <td>478bfe564db21eeb44386606aa30b650</td>\n",
       "      <td>0</td>\n",
       "      <td>3.801338</td>\n",
       "      <td>258.270</td>\n",
       "    </tr>\n",
       "  </tbody>\n",
       "</table>\n",
       "<p>2967 rows × 4 columns</p>\n",
       "</div>"
      ],
      "text/plain": [
       "                             seller_id  total_review_cost    it_cost  \\\n",
       "0     4a3ca9315b744ce9f8e9374361493884              42340  93.268446   \n",
       "1     6560211a19b47992c3666cc44a7e94c0              38880  94.499765   \n",
       "2     cc419e0650a3c5ba77189a1882b7556a              31230  90.649493   \n",
       "3     7c67e1448b00f6e969d365cea6b010ab              29950  68.775160   \n",
       "4     1f50f920176fa81dab994f9023523100              24400  82.235516   \n",
       "...                                ...                ...        ...   \n",
       "2962  4fae87d32467e18eb46e4a76a0a0b9ce                  0   2.194704   \n",
       "2963  bba8d0c234a52b87b3957037a215d1a4                  0   2.194704   \n",
       "2964  4f1f1c8666cdb6442f775c4e8caed465                  0   3.103780   \n",
       "2965  bbe87dce25ba8b38bb61cc7210a3f10b                  0   3.103780   \n",
       "2966  478bfe564db21eeb44386606aa30b650                  0   3.801338   \n",
       "\n",
       "      olist_revenue  \n",
       "0         21647.292  \n",
       "1         13850.483  \n",
       "2         12028.842  \n",
       "3         20312.389  \n",
       "4         12133.921  \n",
       "...             ...  \n",
       "2962         90.090  \n",
       "2963         92.000  \n",
       "2964        174.498  \n",
       "2965        348.700  \n",
       "2966        258.270  \n",
       "\n",
       "[2967 rows x 4 columns]"
      ]
     },
     "execution_count": 19,
     "metadata": {},
     "output_type": "execute_result"
    }
   ],
   "source": [
    "total_seller_cost = total_seller_cost[['seller_id', 'total_review_cost', 'it_cost', 'olist_revenue']]\n",
    "total_seller_cost"
   ]
  },
  {
   "cell_type": "markdown",
   "metadata": {},
   "source": [
    "\n",
    "2️⃣ # We can then:\n",
    "- sort sellers by increasing profits for Olist\n",
    "- for each number of sellers to remove, compute the financial impact it would have made if they had never been accepted on the platform. \n",
    "- we may find an optimal number of sellers to remove that maximizes Olist's profit margin"
   ]
  },
  {
   "cell_type": "code",
   "execution_count": 286,
   "metadata": {},
   "outputs": [],
   "source": [
    "sellers_df = total_seller_cost.copy()\n",
    "\n",
    "\n",
    "sellers_df[\"total_cost\"] = sellers_df[\"total_review_cost\"] + sellers_df[\"it_cost\"]\n",
    "\n",
    "bad_sellers = sellers_df[sellers_df[\"total_cost\"] > sellers_df[\"olist_revenue\"]].copy()\n",
    "bad_sellers[\"olist_loss\"] = bad_sellers[\"olist_revenue\"] - bad_sellers[\"total_cost\"]\n",
    "\n",
    "good_sellers = sellers_df[sellers_df[\"total_cost\"] <= sellers_df[\"olist_revenue\"]].copy()\n",
    "good_sellers[\"olist_winn\"] = good_sellers[\"olist_revenue\"] - good_sellers[\"total_cost\"] \n",
    "\n",
    "\n",
    "# talk with sellers, they are shit"
   ]
  },
  {
   "cell_type": "code",
   "execution_count": 302,
   "metadata": {},
   "outputs": [
    {
     "data": {
      "text/html": [
       "<div>\n",
       "<style scoped>\n",
       "    .dataframe tbody tr th:only-of-type {\n",
       "        vertical-align: middle;\n",
       "    }\n",
       "\n",
       "    .dataframe tbody tr th {\n",
       "        vertical-align: top;\n",
       "    }\n",
       "\n",
       "    .dataframe thead th {\n",
       "        text-align: right;\n",
       "    }\n",
       "</style>\n",
       "<table border=\"1\" class=\"dataframe\">\n",
       "  <thead>\n",
       "    <tr style=\"text-align: right;\">\n",
       "      <th></th>\n",
       "      <th>seller_id</th>\n",
       "      <th>total_review_cost</th>\n",
       "      <th>it_cost</th>\n",
       "      <th>olist_revenue</th>\n",
       "      <th>total_cost</th>\n",
       "      <th>olist_loss</th>\n",
       "      <th>seller_zip_code_prefix</th>\n",
       "      <th>seller_city</th>\n",
       "      <th>seller_state</th>\n",
       "      <th>geolocation_lat</th>\n",
       "      <th>geolocation_lng</th>\n",
       "    </tr>\n",
       "  </thead>\n",
       "  <tbody>\n",
       "    <tr>\n",
       "      <th>0</th>\n",
       "      <td>4a3ca9315b744ce9f8e9374361493884</td>\n",
       "      <td>42340</td>\n",
       "      <td>93.268446</td>\n",
       "      <td>21647.292</td>\n",
       "      <td>42433.268446</td>\n",
       "      <td>-20785.976446</td>\n",
       "      <td>14940</td>\n",
       "      <td>ibitinga</td>\n",
       "      <td>SP</td>\n",
       "      <td>-21.766477</td>\n",
       "      <td>-48.831547</td>\n",
       "    </tr>\n",
       "    <tr>\n",
       "      <th>1</th>\n",
       "      <td>6560211a19b47992c3666cc44a7e94c0</td>\n",
       "      <td>38880</td>\n",
       "      <td>94.499765</td>\n",
       "      <td>13850.483</td>\n",
       "      <td>38974.499765</td>\n",
       "      <td>-25124.016765</td>\n",
       "      <td>5849</td>\n",
       "      <td>sao paulo</td>\n",
       "      <td>SP</td>\n",
       "      <td>-23.651115</td>\n",
       "      <td>-46.755211</td>\n",
       "    </tr>\n",
       "    <tr>\n",
       "      <th>2</th>\n",
       "      <td>cc419e0650a3c5ba77189a1882b7556a</td>\n",
       "      <td>31230</td>\n",
       "      <td>90.649493</td>\n",
       "      <td>12028.842</td>\n",
       "      <td>31320.649493</td>\n",
       "      <td>-19291.807493</td>\n",
       "      <td>9015</td>\n",
       "      <td>santo andre</td>\n",
       "      <td>SP</td>\n",
       "      <td>-23.665703</td>\n",
       "      <td>-46.518082</td>\n",
       "    </tr>\n",
       "    <tr>\n",
       "      <th>3</th>\n",
       "      <td>7c67e1448b00f6e969d365cea6b010ab</td>\n",
       "      <td>29950</td>\n",
       "      <td>68.775160</td>\n",
       "      <td>20312.389</td>\n",
       "      <td>30018.775160</td>\n",
       "      <td>-9706.386160</td>\n",
       "      <td>8577</td>\n",
       "      <td>itaquaquecetuba</td>\n",
       "      <td>SP</td>\n",
       "      <td>-23.482623</td>\n",
       "      <td>-46.374490</td>\n",
       "    </tr>\n",
       "    <tr>\n",
       "      <th>4</th>\n",
       "      <td>1f50f920176fa81dab994f9023523100</td>\n",
       "      <td>24400</td>\n",
       "      <td>82.235516</td>\n",
       "      <td>12133.921</td>\n",
       "      <td>24482.235516</td>\n",
       "      <td>-12348.314516</td>\n",
       "      <td>15025</td>\n",
       "      <td>sao jose do rio preto</td>\n",
       "      <td>SP</td>\n",
       "      <td>-20.802436</td>\n",
       "      <td>-49.395624</td>\n",
       "    </tr>\n",
       "    <tr>\n",
       "      <th>...</th>\n",
       "      <td>...</td>\n",
       "      <td>...</td>\n",
       "      <td>...</td>\n",
       "      <td>...</td>\n",
       "      <td>...</td>\n",
       "      <td>...</td>\n",
       "      <td>...</td>\n",
       "      <td>...</td>\n",
       "      <td>...</td>\n",
       "      <td>...</td>\n",
       "      <td>...</td>\n",
       "    </tr>\n",
       "    <tr>\n",
       "      <th>288</th>\n",
       "      <td>51a04a8a6bdcb23deccc82b0b80742cf</td>\n",
       "      <td>100</td>\n",
       "      <td>2.194704</td>\n",
       "      <td>96.799</td>\n",
       "      <td>102.194704</td>\n",
       "      <td>-5.395704</td>\n",
       "      <td>12914</td>\n",
       "      <td>braganca paulista</td>\n",
       "      <td>SP</td>\n",
       "      <td>-22.971648</td>\n",
       "      <td>-46.533618</td>\n",
       "    </tr>\n",
       "    <tr>\n",
       "      <th>289</th>\n",
       "      <td>26f6b7ab07be3e9e69ce82a6552efc19</td>\n",
       "      <td>100</td>\n",
       "      <td>3.103780</td>\n",
       "      <td>85.480</td>\n",
       "      <td>103.103780</td>\n",
       "      <td>-17.623780</td>\n",
       "      <td>21070</td>\n",
       "      <td>rio de janeiro</td>\n",
       "      <td>RJ</td>\n",
       "      <td>-22.847275</td>\n",
       "      <td>-43.273888</td>\n",
       "    </tr>\n",
       "    <tr>\n",
       "      <th>290</th>\n",
       "      <td>7c4adcc13272c0e26fa23aac642adb7b</td>\n",
       "      <td>100</td>\n",
       "      <td>3.103780</td>\n",
       "      <td>93.500</td>\n",
       "      <td>103.103780</td>\n",
       "      <td>-9.603780</td>\n",
       "      <td>24725</td>\n",
       "      <td>sao goncalo</td>\n",
       "      <td>RJ</td>\n",
       "      <td>-22.803951</td>\n",
       "      <td>-42.964900</td>\n",
       "    </tr>\n",
       "    <tr>\n",
       "      <th>291</th>\n",
       "      <td>4ce8b55b4bfa4659184e7becc1fba3f2</td>\n",
       "      <td>100</td>\n",
       "      <td>3.103780</td>\n",
       "      <td>99.900</td>\n",
       "      <td>103.103780</td>\n",
       "      <td>-3.203780</td>\n",
       "      <td>83823</td>\n",
       "      <td>fazenda rio grande</td>\n",
       "      <td>PR</td>\n",
       "      <td>-25.667456</td>\n",
       "      <td>-49.288801</td>\n",
       "    </tr>\n",
       "    <tr>\n",
       "      <th>292</th>\n",
       "      <td>26e13b6ff5b641b329e5524241ee2c93</td>\n",
       "      <td>100</td>\n",
       "      <td>4.389407</td>\n",
       "      <td>91.970</td>\n",
       "      <td>104.389407</td>\n",
       "      <td>-12.419407</td>\n",
       "      <td>14401</td>\n",
       "      <td>franca</td>\n",
       "      <td>SP</td>\n",
       "      <td>-20.530671</td>\n",
       "      <td>-47.398519</td>\n",
       "    </tr>\n",
       "  </tbody>\n",
       "</table>\n",
       "<p>293 rows × 11 columns</p>\n",
       "</div>"
      ],
      "text/plain": [
       "                            seller_id  total_review_cost    it_cost  \\\n",
       "0    4a3ca9315b744ce9f8e9374361493884              42340  93.268446   \n",
       "1    6560211a19b47992c3666cc44a7e94c0              38880  94.499765   \n",
       "2    cc419e0650a3c5ba77189a1882b7556a              31230  90.649493   \n",
       "3    7c67e1448b00f6e969d365cea6b010ab              29950  68.775160   \n",
       "4    1f50f920176fa81dab994f9023523100              24400  82.235516   \n",
       "..                                ...                ...        ...   \n",
       "288  51a04a8a6bdcb23deccc82b0b80742cf                100   2.194704   \n",
       "289  26f6b7ab07be3e9e69ce82a6552efc19                100   3.103780   \n",
       "290  7c4adcc13272c0e26fa23aac642adb7b                100   3.103780   \n",
       "291  4ce8b55b4bfa4659184e7becc1fba3f2                100   3.103780   \n",
       "292  26e13b6ff5b641b329e5524241ee2c93                100   4.389407   \n",
       "\n",
       "     olist_revenue    total_cost    olist_loss  seller_zip_code_prefix  \\\n",
       "0        21647.292  42433.268446 -20785.976446                   14940   \n",
       "1        13850.483  38974.499765 -25124.016765                    5849   \n",
       "2        12028.842  31320.649493 -19291.807493                    9015   \n",
       "3        20312.389  30018.775160  -9706.386160                    8577   \n",
       "4        12133.921  24482.235516 -12348.314516                   15025   \n",
       "..             ...           ...           ...                     ...   \n",
       "288         96.799    102.194704     -5.395704                   12914   \n",
       "289         85.480    103.103780    -17.623780                   21070   \n",
       "290         93.500    103.103780     -9.603780                   24725   \n",
       "291         99.900    103.103780     -3.203780                   83823   \n",
       "292         91.970    104.389407    -12.419407                   14401   \n",
       "\n",
       "               seller_city seller_state  geolocation_lat  geolocation_lng  \n",
       "0                 ibitinga           SP       -21.766477       -48.831547  \n",
       "1                sao paulo           SP       -23.651115       -46.755211  \n",
       "2              santo andre           SP       -23.665703       -46.518082  \n",
       "3          itaquaquecetuba           SP       -23.482623       -46.374490  \n",
       "4    sao jose do rio preto           SP       -20.802436       -49.395624  \n",
       "..                     ...          ...              ...              ...  \n",
       "288      braganca paulista           SP       -22.971648       -46.533618  \n",
       "289         rio de janeiro           RJ       -22.847275       -43.273888  \n",
       "290            sao goncalo           RJ       -22.803951       -42.964900  \n",
       "291     fazenda rio grande           PR       -25.667456       -49.288801  \n",
       "292                 franca           SP       -20.530671       -47.398519  \n",
       "\n",
       "[293 rows x 11 columns]"
      ]
     },
     "execution_count": 302,
     "metadata": {},
     "output_type": "execute_result"
    }
   ],
   "source": [
    "bad_sellers"
   ]
  },
  {
   "cell_type": "code",
   "execution_count": 321,
   "metadata": {},
   "outputs": [
    {
     "data": {
      "application/vnd.plotly.v1+json": {
       "config": {
        "plotlyServerURL": "https://plot.ly"
       },
       "data": [
        {
         "alignmentgroup": "True",
         "hovertemplate": "color=Good Sellers<br>=%{x}<br>Olist Revenue=%{y}<extra></extra>",
         "legendgroup": "Good Sellers",
         "marker": {
          "color": "#636efa",
          "pattern": {
           "shape": ""
          }
         },
         "name": "Good Sellers",
         "offsetgroup": "Good Sellers",
         "orientation": "v",
         "showlegend": true,
         "textposition": "auto",
         "type": "bar",
         "x": [
          "Good Sellers"
         ],
         "xaxis": "x",
         "y": [
          1557757.2553698313
         ],
         "yaxis": "y"
        },
        {
         "alignmentgroup": "True",
         "hovertemplate": "color=Bad Sellers<br>=%{x}<br>Olist Revenue=%{y}<extra></extra>",
         "legendgroup": "Bad Sellers",
         "marker": {
          "color": "#EF553B",
          "pattern": {
           "shape": ""
          }
         },
         "name": "Bad Sellers",
         "offsetgroup": "Bad Sellers",
         "orientation": "v",
         "showlegend": true,
         "textposition": "auto",
         "type": "bar",
         "x": [
          "Bad Sellers"
         ],
         "xaxis": "x",
         "y": [
          -352550.5139183469
         ],
         "yaxis": "y"
        }
       ],
       "layout": {
        "barmode": "relative",
        "legend": {
         "title": {
          "text": "color"
         },
         "tracegroupgap": 0
        },
        "margin": {
         "t": 60
        },
        "template": {
         "data": {
          "bar": [
           {
            "error_x": {
             "color": "#2a3f5f"
            },
            "error_y": {
             "color": "#2a3f5f"
            },
            "marker": {
             "line": {
              "color": "#E5ECF6",
              "width": 0.5
             },
             "pattern": {
              "fillmode": "overlay",
              "size": 10,
              "solidity": 0.2
             }
            },
            "type": "bar"
           }
          ],
          "barpolar": [
           {
            "marker": {
             "line": {
              "color": "#E5ECF6",
              "width": 0.5
             },
             "pattern": {
              "fillmode": "overlay",
              "size": 10,
              "solidity": 0.2
             }
            },
            "type": "barpolar"
           }
          ],
          "carpet": [
           {
            "aaxis": {
             "endlinecolor": "#2a3f5f",
             "gridcolor": "white",
             "linecolor": "white",
             "minorgridcolor": "white",
             "startlinecolor": "#2a3f5f"
            },
            "baxis": {
             "endlinecolor": "#2a3f5f",
             "gridcolor": "white",
             "linecolor": "white",
             "minorgridcolor": "white",
             "startlinecolor": "#2a3f5f"
            },
            "type": "carpet"
           }
          ],
          "choropleth": [
           {
            "colorbar": {
             "outlinewidth": 0,
             "ticks": ""
            },
            "type": "choropleth"
           }
          ],
          "contour": [
           {
            "colorbar": {
             "outlinewidth": 0,
             "ticks": ""
            },
            "colorscale": [
             [
              0,
              "#0d0887"
             ],
             [
              0.1111111111111111,
              "#46039f"
             ],
             [
              0.2222222222222222,
              "#7201a8"
             ],
             [
              0.3333333333333333,
              "#9c179e"
             ],
             [
              0.4444444444444444,
              "#bd3786"
             ],
             [
              0.5555555555555556,
              "#d8576b"
             ],
             [
              0.6666666666666666,
              "#ed7953"
             ],
             [
              0.7777777777777778,
              "#fb9f3a"
             ],
             [
              0.8888888888888888,
              "#fdca26"
             ],
             [
              1,
              "#f0f921"
             ]
            ],
            "type": "contour"
           }
          ],
          "contourcarpet": [
           {
            "colorbar": {
             "outlinewidth": 0,
             "ticks": ""
            },
            "type": "contourcarpet"
           }
          ],
          "heatmap": [
           {
            "colorbar": {
             "outlinewidth": 0,
             "ticks": ""
            },
            "colorscale": [
             [
              0,
              "#0d0887"
             ],
             [
              0.1111111111111111,
              "#46039f"
             ],
             [
              0.2222222222222222,
              "#7201a8"
             ],
             [
              0.3333333333333333,
              "#9c179e"
             ],
             [
              0.4444444444444444,
              "#bd3786"
             ],
             [
              0.5555555555555556,
              "#d8576b"
             ],
             [
              0.6666666666666666,
              "#ed7953"
             ],
             [
              0.7777777777777778,
              "#fb9f3a"
             ],
             [
              0.8888888888888888,
              "#fdca26"
             ],
             [
              1,
              "#f0f921"
             ]
            ],
            "type": "heatmap"
           }
          ],
          "heatmapgl": [
           {
            "colorbar": {
             "outlinewidth": 0,
             "ticks": ""
            },
            "colorscale": [
             [
              0,
              "#0d0887"
             ],
             [
              0.1111111111111111,
              "#46039f"
             ],
             [
              0.2222222222222222,
              "#7201a8"
             ],
             [
              0.3333333333333333,
              "#9c179e"
             ],
             [
              0.4444444444444444,
              "#bd3786"
             ],
             [
              0.5555555555555556,
              "#d8576b"
             ],
             [
              0.6666666666666666,
              "#ed7953"
             ],
             [
              0.7777777777777778,
              "#fb9f3a"
             ],
             [
              0.8888888888888888,
              "#fdca26"
             ],
             [
              1,
              "#f0f921"
             ]
            ],
            "type": "heatmapgl"
           }
          ],
          "histogram": [
           {
            "marker": {
             "pattern": {
              "fillmode": "overlay",
              "size": 10,
              "solidity": 0.2
             }
            },
            "type": "histogram"
           }
          ],
          "histogram2d": [
           {
            "colorbar": {
             "outlinewidth": 0,
             "ticks": ""
            },
            "colorscale": [
             [
              0,
              "#0d0887"
             ],
             [
              0.1111111111111111,
              "#46039f"
             ],
             [
              0.2222222222222222,
              "#7201a8"
             ],
             [
              0.3333333333333333,
              "#9c179e"
             ],
             [
              0.4444444444444444,
              "#bd3786"
             ],
             [
              0.5555555555555556,
              "#d8576b"
             ],
             [
              0.6666666666666666,
              "#ed7953"
             ],
             [
              0.7777777777777778,
              "#fb9f3a"
             ],
             [
              0.8888888888888888,
              "#fdca26"
             ],
             [
              1,
              "#f0f921"
             ]
            ],
            "type": "histogram2d"
           }
          ],
          "histogram2dcontour": [
           {
            "colorbar": {
             "outlinewidth": 0,
             "ticks": ""
            },
            "colorscale": [
             [
              0,
              "#0d0887"
             ],
             [
              0.1111111111111111,
              "#46039f"
             ],
             [
              0.2222222222222222,
              "#7201a8"
             ],
             [
              0.3333333333333333,
              "#9c179e"
             ],
             [
              0.4444444444444444,
              "#bd3786"
             ],
             [
              0.5555555555555556,
              "#d8576b"
             ],
             [
              0.6666666666666666,
              "#ed7953"
             ],
             [
              0.7777777777777778,
              "#fb9f3a"
             ],
             [
              0.8888888888888888,
              "#fdca26"
             ],
             [
              1,
              "#f0f921"
             ]
            ],
            "type": "histogram2dcontour"
           }
          ],
          "mesh3d": [
           {
            "colorbar": {
             "outlinewidth": 0,
             "ticks": ""
            },
            "type": "mesh3d"
           }
          ],
          "parcoords": [
           {
            "line": {
             "colorbar": {
              "outlinewidth": 0,
              "ticks": ""
             }
            },
            "type": "parcoords"
           }
          ],
          "pie": [
           {
            "automargin": true,
            "type": "pie"
           }
          ],
          "scatter": [
           {
            "marker": {
             "colorbar": {
              "outlinewidth": 0,
              "ticks": ""
             }
            },
            "type": "scatter"
           }
          ],
          "scatter3d": [
           {
            "line": {
             "colorbar": {
              "outlinewidth": 0,
              "ticks": ""
             }
            },
            "marker": {
             "colorbar": {
              "outlinewidth": 0,
              "ticks": ""
             }
            },
            "type": "scatter3d"
           }
          ],
          "scattercarpet": [
           {
            "marker": {
             "colorbar": {
              "outlinewidth": 0,
              "ticks": ""
             }
            },
            "type": "scattercarpet"
           }
          ],
          "scattergeo": [
           {
            "marker": {
             "colorbar": {
              "outlinewidth": 0,
              "ticks": ""
             }
            },
            "type": "scattergeo"
           }
          ],
          "scattergl": [
           {
            "marker": {
             "colorbar": {
              "outlinewidth": 0,
              "ticks": ""
             }
            },
            "type": "scattergl"
           }
          ],
          "scattermapbox": [
           {
            "marker": {
             "colorbar": {
              "outlinewidth": 0,
              "ticks": ""
             }
            },
            "type": "scattermapbox"
           }
          ],
          "scatterpolar": [
           {
            "marker": {
             "colorbar": {
              "outlinewidth": 0,
              "ticks": ""
             }
            },
            "type": "scatterpolar"
           }
          ],
          "scatterpolargl": [
           {
            "marker": {
             "colorbar": {
              "outlinewidth": 0,
              "ticks": ""
             }
            },
            "type": "scatterpolargl"
           }
          ],
          "scatterternary": [
           {
            "marker": {
             "colorbar": {
              "outlinewidth": 0,
              "ticks": ""
             }
            },
            "type": "scatterternary"
           }
          ],
          "surface": [
           {
            "colorbar": {
             "outlinewidth": 0,
             "ticks": ""
            },
            "colorscale": [
             [
              0,
              "#0d0887"
             ],
             [
              0.1111111111111111,
              "#46039f"
             ],
             [
              0.2222222222222222,
              "#7201a8"
             ],
             [
              0.3333333333333333,
              "#9c179e"
             ],
             [
              0.4444444444444444,
              "#bd3786"
             ],
             [
              0.5555555555555556,
              "#d8576b"
             ],
             [
              0.6666666666666666,
              "#ed7953"
             ],
             [
              0.7777777777777778,
              "#fb9f3a"
             ],
             [
              0.8888888888888888,
              "#fdca26"
             ],
             [
              1,
              "#f0f921"
             ]
            ],
            "type": "surface"
           }
          ],
          "table": [
           {
            "cells": {
             "fill": {
              "color": "#EBF0F8"
             },
             "line": {
              "color": "white"
             }
            },
            "header": {
             "fill": {
              "color": "#C8D4E3"
             },
             "line": {
              "color": "white"
             }
            },
            "type": "table"
           }
          ]
         },
         "layout": {
          "annotationdefaults": {
           "arrowcolor": "#2a3f5f",
           "arrowhead": 0,
           "arrowwidth": 1
          },
          "autotypenumbers": "strict",
          "coloraxis": {
           "colorbar": {
            "outlinewidth": 0,
            "ticks": ""
           }
          },
          "colorscale": {
           "diverging": [
            [
             0,
             "#8e0152"
            ],
            [
             0.1,
             "#c51b7d"
            ],
            [
             0.2,
             "#de77ae"
            ],
            [
             0.3,
             "#f1b6da"
            ],
            [
             0.4,
             "#fde0ef"
            ],
            [
             0.5,
             "#f7f7f7"
            ],
            [
             0.6,
             "#e6f5d0"
            ],
            [
             0.7,
             "#b8e186"
            ],
            [
             0.8,
             "#7fbc41"
            ],
            [
             0.9,
             "#4d9221"
            ],
            [
             1,
             "#276419"
            ]
           ],
           "sequential": [
            [
             0,
             "#0d0887"
            ],
            [
             0.1111111111111111,
             "#46039f"
            ],
            [
             0.2222222222222222,
             "#7201a8"
            ],
            [
             0.3333333333333333,
             "#9c179e"
            ],
            [
             0.4444444444444444,
             "#bd3786"
            ],
            [
             0.5555555555555556,
             "#d8576b"
            ],
            [
             0.6666666666666666,
             "#ed7953"
            ],
            [
             0.7777777777777778,
             "#fb9f3a"
            ],
            [
             0.8888888888888888,
             "#fdca26"
            ],
            [
             1,
             "#f0f921"
            ]
           ],
           "sequentialminus": [
            [
             0,
             "#0d0887"
            ],
            [
             0.1111111111111111,
             "#46039f"
            ],
            [
             0.2222222222222222,
             "#7201a8"
            ],
            [
             0.3333333333333333,
             "#9c179e"
            ],
            [
             0.4444444444444444,
             "#bd3786"
            ],
            [
             0.5555555555555556,
             "#d8576b"
            ],
            [
             0.6666666666666666,
             "#ed7953"
            ],
            [
             0.7777777777777778,
             "#fb9f3a"
            ],
            [
             0.8888888888888888,
             "#fdca26"
            ],
            [
             1,
             "#f0f921"
            ]
           ]
          },
          "colorway": [
           "#636efa",
           "#EF553B",
           "#00cc96",
           "#ab63fa",
           "#FFA15A",
           "#19d3f3",
           "#FF6692",
           "#B6E880",
           "#FF97FF",
           "#FECB52"
          ],
          "font": {
           "color": "#2a3f5f"
          },
          "geo": {
           "bgcolor": "white",
           "lakecolor": "white",
           "landcolor": "#E5ECF6",
           "showlakes": true,
           "showland": true,
           "subunitcolor": "white"
          },
          "hoverlabel": {
           "align": "left"
          },
          "hovermode": "closest",
          "mapbox": {
           "style": "light"
          },
          "paper_bgcolor": "white",
          "plot_bgcolor": "#E5ECF6",
          "polar": {
           "angularaxis": {
            "gridcolor": "white",
            "linecolor": "white",
            "ticks": ""
           },
           "bgcolor": "#E5ECF6",
           "radialaxis": {
            "gridcolor": "white",
            "linecolor": "white",
            "ticks": ""
           }
          },
          "scene": {
           "xaxis": {
            "backgroundcolor": "#E5ECF6",
            "gridcolor": "white",
            "gridwidth": 2,
            "linecolor": "white",
            "showbackground": true,
            "ticks": "",
            "zerolinecolor": "white"
           },
           "yaxis": {
            "backgroundcolor": "#E5ECF6",
            "gridcolor": "white",
            "gridwidth": 2,
            "linecolor": "white",
            "showbackground": true,
            "ticks": "",
            "zerolinecolor": "white"
           },
           "zaxis": {
            "backgroundcolor": "#E5ECF6",
            "gridcolor": "white",
            "gridwidth": 2,
            "linecolor": "white",
            "showbackground": true,
            "ticks": "",
            "zerolinecolor": "white"
           }
          },
          "shapedefaults": {
           "line": {
            "color": "#2a3f5f"
           }
          },
          "ternary": {
           "aaxis": {
            "gridcolor": "white",
            "linecolor": "white",
            "ticks": ""
           },
           "baxis": {
            "gridcolor": "white",
            "linecolor": "white",
            "ticks": ""
           },
           "bgcolor": "#E5ECF6",
           "caxis": {
            "gridcolor": "white",
            "linecolor": "white",
            "ticks": ""
           }
          },
          "title": {
           "x": 0.05
          },
          "xaxis": {
           "automargin": true,
           "gridcolor": "white",
           "linecolor": "white",
           "ticks": "",
           "title": {
            "standoff": 15
           },
           "zerolinecolor": "white",
           "zerolinewidth": 2
          },
          "yaxis": {
           "automargin": true,
           "gridcolor": "white",
           "linecolor": "white",
           "ticks": "",
           "title": {
            "standoff": 15
           },
           "zerolinecolor": "white",
           "zerolinewidth": 2
          }
         }
        },
        "xaxis": {
         "anchor": "y",
         "domain": [
          0,
          1
         ],
         "title": {
          "text": ""
         }
        },
        "yaxis": {
         "anchor": "x",
         "domain": [
          0,
          1
         ],
         "title": {
          "text": "Olist Revenue"
         }
        }
       }
      },
      "text/html": [
       "<div>                            <div id=\"d7556baf-92dc-4cb9-a73e-a31127017087\" class=\"plotly-graph-div\" style=\"height:525px; width:100%;\"></div>            <script type=\"text/javascript\">                require([\"plotly\"], function(Plotly) {                    window.PLOTLYENV=window.PLOTLYENV || {};                                    if (document.getElementById(\"d7556baf-92dc-4cb9-a73e-a31127017087\")) {                    Plotly.newPlot(                        \"d7556baf-92dc-4cb9-a73e-a31127017087\",                        [{\"alignmentgroup\":\"True\",\"hovertemplate\":\"color=Good Sellers<br>=%{x}<br>Olist Revenue=%{y}<extra></extra>\",\"legendgroup\":\"Good Sellers\",\"marker\":{\"color\":\"#636efa\",\"pattern\":{\"shape\":\"\"}},\"name\":\"Good Sellers\",\"offsetgroup\":\"Good Sellers\",\"orientation\":\"v\",\"showlegend\":true,\"textposition\":\"auto\",\"type\":\"bar\",\"x\":[\"Good Sellers\"],\"xaxis\":\"x\",\"y\":[1557757.2553698313],\"yaxis\":\"y\"},{\"alignmentgroup\":\"True\",\"hovertemplate\":\"color=Bad Sellers<br>=%{x}<br>Olist Revenue=%{y}<extra></extra>\",\"legendgroup\":\"Bad Sellers\",\"marker\":{\"color\":\"#EF553B\",\"pattern\":{\"shape\":\"\"}},\"name\":\"Bad Sellers\",\"offsetgroup\":\"Bad Sellers\",\"orientation\":\"v\",\"showlegend\":true,\"textposition\":\"auto\",\"type\":\"bar\",\"x\":[\"Bad Sellers\"],\"xaxis\":\"x\",\"y\":[-352550.5139183469],\"yaxis\":\"y\"}],                        {\"barmode\":\"relative\",\"legend\":{\"title\":{\"text\":\"color\"},\"tracegroupgap\":0},\"margin\":{\"t\":60},\"template\":{\"data\":{\"bar\":[{\"error_x\":{\"color\":\"#2a3f5f\"},\"error_y\":{\"color\":\"#2a3f5f\"},\"marker\":{\"line\":{\"color\":\"#E5ECF6\",\"width\":0.5},\"pattern\":{\"fillmode\":\"overlay\",\"size\":10,\"solidity\":0.2}},\"type\":\"bar\"}],\"barpolar\":[{\"marker\":{\"line\":{\"color\":\"#E5ECF6\",\"width\":0.5},\"pattern\":{\"fillmode\":\"overlay\",\"size\":10,\"solidity\":0.2}},\"type\":\"barpolar\"}],\"carpet\":[{\"aaxis\":{\"endlinecolor\":\"#2a3f5f\",\"gridcolor\":\"white\",\"linecolor\":\"white\",\"minorgridcolor\":\"white\",\"startlinecolor\":\"#2a3f5f\"},\"baxis\":{\"endlinecolor\":\"#2a3f5f\",\"gridcolor\":\"white\",\"linecolor\":\"white\",\"minorgridcolor\":\"white\",\"startlinecolor\":\"#2a3f5f\"},\"type\":\"carpet\"}],\"choropleth\":[{\"colorbar\":{\"outlinewidth\":0,\"ticks\":\"\"},\"type\":\"choropleth\"}],\"contour\":[{\"colorbar\":{\"outlinewidth\":0,\"ticks\":\"\"},\"colorscale\":[[0.0,\"#0d0887\"],[0.1111111111111111,\"#46039f\"],[0.2222222222222222,\"#7201a8\"],[0.3333333333333333,\"#9c179e\"],[0.4444444444444444,\"#bd3786\"],[0.5555555555555556,\"#d8576b\"],[0.6666666666666666,\"#ed7953\"],[0.7777777777777778,\"#fb9f3a\"],[0.8888888888888888,\"#fdca26\"],[1.0,\"#f0f921\"]],\"type\":\"contour\"}],\"contourcarpet\":[{\"colorbar\":{\"outlinewidth\":0,\"ticks\":\"\"},\"type\":\"contourcarpet\"}],\"heatmap\":[{\"colorbar\":{\"outlinewidth\":0,\"ticks\":\"\"},\"colorscale\":[[0.0,\"#0d0887\"],[0.1111111111111111,\"#46039f\"],[0.2222222222222222,\"#7201a8\"],[0.3333333333333333,\"#9c179e\"],[0.4444444444444444,\"#bd3786\"],[0.5555555555555556,\"#d8576b\"],[0.6666666666666666,\"#ed7953\"],[0.7777777777777778,\"#fb9f3a\"],[0.8888888888888888,\"#fdca26\"],[1.0,\"#f0f921\"]],\"type\":\"heatmap\"}],\"heatmapgl\":[{\"colorbar\":{\"outlinewidth\":0,\"ticks\":\"\"},\"colorscale\":[[0.0,\"#0d0887\"],[0.1111111111111111,\"#46039f\"],[0.2222222222222222,\"#7201a8\"],[0.3333333333333333,\"#9c179e\"],[0.4444444444444444,\"#bd3786\"],[0.5555555555555556,\"#d8576b\"],[0.6666666666666666,\"#ed7953\"],[0.7777777777777778,\"#fb9f3a\"],[0.8888888888888888,\"#fdca26\"],[1.0,\"#f0f921\"]],\"type\":\"heatmapgl\"}],\"histogram\":[{\"marker\":{\"pattern\":{\"fillmode\":\"overlay\",\"size\":10,\"solidity\":0.2}},\"type\":\"histogram\"}],\"histogram2d\":[{\"colorbar\":{\"outlinewidth\":0,\"ticks\":\"\"},\"colorscale\":[[0.0,\"#0d0887\"],[0.1111111111111111,\"#46039f\"],[0.2222222222222222,\"#7201a8\"],[0.3333333333333333,\"#9c179e\"],[0.4444444444444444,\"#bd3786\"],[0.5555555555555556,\"#d8576b\"],[0.6666666666666666,\"#ed7953\"],[0.7777777777777778,\"#fb9f3a\"],[0.8888888888888888,\"#fdca26\"],[1.0,\"#f0f921\"]],\"type\":\"histogram2d\"}],\"histogram2dcontour\":[{\"colorbar\":{\"outlinewidth\":0,\"ticks\":\"\"},\"colorscale\":[[0.0,\"#0d0887\"],[0.1111111111111111,\"#46039f\"],[0.2222222222222222,\"#7201a8\"],[0.3333333333333333,\"#9c179e\"],[0.4444444444444444,\"#bd3786\"],[0.5555555555555556,\"#d8576b\"],[0.6666666666666666,\"#ed7953\"],[0.7777777777777778,\"#fb9f3a\"],[0.8888888888888888,\"#fdca26\"],[1.0,\"#f0f921\"]],\"type\":\"histogram2dcontour\"}],\"mesh3d\":[{\"colorbar\":{\"outlinewidth\":0,\"ticks\":\"\"},\"type\":\"mesh3d\"}],\"parcoords\":[{\"line\":{\"colorbar\":{\"outlinewidth\":0,\"ticks\":\"\"}},\"type\":\"parcoords\"}],\"pie\":[{\"automargin\":true,\"type\":\"pie\"}],\"scatter\":[{\"marker\":{\"colorbar\":{\"outlinewidth\":0,\"ticks\":\"\"}},\"type\":\"scatter\"}],\"scatter3d\":[{\"line\":{\"colorbar\":{\"outlinewidth\":0,\"ticks\":\"\"}},\"marker\":{\"colorbar\":{\"outlinewidth\":0,\"ticks\":\"\"}},\"type\":\"scatter3d\"}],\"scattercarpet\":[{\"marker\":{\"colorbar\":{\"outlinewidth\":0,\"ticks\":\"\"}},\"type\":\"scattercarpet\"}],\"scattergeo\":[{\"marker\":{\"colorbar\":{\"outlinewidth\":0,\"ticks\":\"\"}},\"type\":\"scattergeo\"}],\"scattergl\":[{\"marker\":{\"colorbar\":{\"outlinewidth\":0,\"ticks\":\"\"}},\"type\":\"scattergl\"}],\"scattermapbox\":[{\"marker\":{\"colorbar\":{\"outlinewidth\":0,\"ticks\":\"\"}},\"type\":\"scattermapbox\"}],\"scatterpolar\":[{\"marker\":{\"colorbar\":{\"outlinewidth\":0,\"ticks\":\"\"}},\"type\":\"scatterpolar\"}],\"scatterpolargl\":[{\"marker\":{\"colorbar\":{\"outlinewidth\":0,\"ticks\":\"\"}},\"type\":\"scatterpolargl\"}],\"scatterternary\":[{\"marker\":{\"colorbar\":{\"outlinewidth\":0,\"ticks\":\"\"}},\"type\":\"scatterternary\"}],\"surface\":[{\"colorbar\":{\"outlinewidth\":0,\"ticks\":\"\"},\"colorscale\":[[0.0,\"#0d0887\"],[0.1111111111111111,\"#46039f\"],[0.2222222222222222,\"#7201a8\"],[0.3333333333333333,\"#9c179e\"],[0.4444444444444444,\"#bd3786\"],[0.5555555555555556,\"#d8576b\"],[0.6666666666666666,\"#ed7953\"],[0.7777777777777778,\"#fb9f3a\"],[0.8888888888888888,\"#fdca26\"],[1.0,\"#f0f921\"]],\"type\":\"surface\"}],\"table\":[{\"cells\":{\"fill\":{\"color\":\"#EBF0F8\"},\"line\":{\"color\":\"white\"}},\"header\":{\"fill\":{\"color\":\"#C8D4E3\"},\"line\":{\"color\":\"white\"}},\"type\":\"table\"}]},\"layout\":{\"annotationdefaults\":{\"arrowcolor\":\"#2a3f5f\",\"arrowhead\":0,\"arrowwidth\":1},\"autotypenumbers\":\"strict\",\"coloraxis\":{\"colorbar\":{\"outlinewidth\":0,\"ticks\":\"\"}},\"colorscale\":{\"diverging\":[[0,\"#8e0152\"],[0.1,\"#c51b7d\"],[0.2,\"#de77ae\"],[0.3,\"#f1b6da\"],[0.4,\"#fde0ef\"],[0.5,\"#f7f7f7\"],[0.6,\"#e6f5d0\"],[0.7,\"#b8e186\"],[0.8,\"#7fbc41\"],[0.9,\"#4d9221\"],[1,\"#276419\"]],\"sequential\":[[0.0,\"#0d0887\"],[0.1111111111111111,\"#46039f\"],[0.2222222222222222,\"#7201a8\"],[0.3333333333333333,\"#9c179e\"],[0.4444444444444444,\"#bd3786\"],[0.5555555555555556,\"#d8576b\"],[0.6666666666666666,\"#ed7953\"],[0.7777777777777778,\"#fb9f3a\"],[0.8888888888888888,\"#fdca26\"],[1.0,\"#f0f921\"]],\"sequentialminus\":[[0.0,\"#0d0887\"],[0.1111111111111111,\"#46039f\"],[0.2222222222222222,\"#7201a8\"],[0.3333333333333333,\"#9c179e\"],[0.4444444444444444,\"#bd3786\"],[0.5555555555555556,\"#d8576b\"],[0.6666666666666666,\"#ed7953\"],[0.7777777777777778,\"#fb9f3a\"],[0.8888888888888888,\"#fdca26\"],[1.0,\"#f0f921\"]]},\"colorway\":[\"#636efa\",\"#EF553B\",\"#00cc96\",\"#ab63fa\",\"#FFA15A\",\"#19d3f3\",\"#FF6692\",\"#B6E880\",\"#FF97FF\",\"#FECB52\"],\"font\":{\"color\":\"#2a3f5f\"},\"geo\":{\"bgcolor\":\"white\",\"lakecolor\":\"white\",\"landcolor\":\"#E5ECF6\",\"showlakes\":true,\"showland\":true,\"subunitcolor\":\"white\"},\"hoverlabel\":{\"align\":\"left\"},\"hovermode\":\"closest\",\"mapbox\":{\"style\":\"light\"},\"paper_bgcolor\":\"white\",\"plot_bgcolor\":\"#E5ECF6\",\"polar\":{\"angularaxis\":{\"gridcolor\":\"white\",\"linecolor\":\"white\",\"ticks\":\"\"},\"bgcolor\":\"#E5ECF6\",\"radialaxis\":{\"gridcolor\":\"white\",\"linecolor\":\"white\",\"ticks\":\"\"}},\"scene\":{\"xaxis\":{\"backgroundcolor\":\"#E5ECF6\",\"gridcolor\":\"white\",\"gridwidth\":2,\"linecolor\":\"white\",\"showbackground\":true,\"ticks\":\"\",\"zerolinecolor\":\"white\"},\"yaxis\":{\"backgroundcolor\":\"#E5ECF6\",\"gridcolor\":\"white\",\"gridwidth\":2,\"linecolor\":\"white\",\"showbackground\":true,\"ticks\":\"\",\"zerolinecolor\":\"white\"},\"zaxis\":{\"backgroundcolor\":\"#E5ECF6\",\"gridcolor\":\"white\",\"gridwidth\":2,\"linecolor\":\"white\",\"showbackground\":true,\"ticks\":\"\",\"zerolinecolor\":\"white\"}},\"shapedefaults\":{\"line\":{\"color\":\"#2a3f5f\"}},\"ternary\":{\"aaxis\":{\"gridcolor\":\"white\",\"linecolor\":\"white\",\"ticks\":\"\"},\"baxis\":{\"gridcolor\":\"white\",\"linecolor\":\"white\",\"ticks\":\"\"},\"bgcolor\":\"#E5ECF6\",\"caxis\":{\"gridcolor\":\"white\",\"linecolor\":\"white\",\"ticks\":\"\"}},\"title\":{\"x\":0.05},\"xaxis\":{\"automargin\":true,\"gridcolor\":\"white\",\"linecolor\":\"white\",\"ticks\":\"\",\"title\":{\"standoff\":15},\"zerolinecolor\":\"white\",\"zerolinewidth\":2},\"yaxis\":{\"automargin\":true,\"gridcolor\":\"white\",\"linecolor\":\"white\",\"ticks\":\"\",\"title\":{\"standoff\":15},\"zerolinecolor\":\"white\",\"zerolinewidth\":2}}},\"xaxis\":{\"anchor\":\"y\",\"domain\":[0.0,1.0],\"title\":{\"text\":\"\"}},\"yaxis\":{\"anchor\":\"x\",\"domain\":[0.0,1.0],\"title\":{\"text\":\"Olist Revenue\"}}},                        {\"responsive\": true}                    ).then(function(){\n",
       "                            \n",
       "var gd = document.getElementById('d7556baf-92dc-4cb9-a73e-a31127017087');\n",
       "var x = new MutationObserver(function (mutations, observer) {{\n",
       "        var display = window.getComputedStyle(gd).display;\n",
       "        if (!display || display === 'none') {{\n",
       "            console.log([gd, 'removed!']);\n",
       "            Plotly.purge(gd);\n",
       "            observer.disconnect();\n",
       "        }}\n",
       "}});\n",
       "\n",
       "// Listen for the removal of the full notebook cells\n",
       "var notebookContainer = gd.closest('#notebook-container');\n",
       "if (notebookContainer) {{\n",
       "    x.observe(notebookContainer, {childList: true});\n",
       "}}\n",
       "\n",
       "// Listen for the clearing of the current output cell\n",
       "var outputEl = gd.closest('.output');\n",
       "if (outputEl) {{\n",
       "    x.observe(outputEl, {childList: true});\n",
       "}}\n",
       "\n",
       "                        })                };                });            </script>        </div>"
      ]
     },
     "metadata": {},
     "output_type": "display_data"
    }
   ],
   "source": [
    "# plot bad sellers vs good sellers\n",
    "\n",
    "y_loss = bad_sellers[\"olist_loss\"].sum() \n",
    "y_winn = good_sellers[\"olist_winn\"].sum() \n",
    "\n",
    "x=[\"Good Sellers\", \"Bad Sellers\"]\n",
    "y=[y_winn, y_loss]\n",
    "\n",
    "px.bar(x=x , y=y, labels={\"x\":\"\", \"y\":\"Olist Revenue\"}, color=x)\n"
   ]
  },
  {
   "cell_type": "markdown",
   "metadata": {},
   "source": [
    "Total accumulated profit with and without bad sellers"
   ]
  },
  {
   "cell_type": "code",
   "execution_count": null,
   "metadata": {},
   "outputs": [],
   "source": []
  },
  {
   "cell_type": "code",
   "execution_count": 288,
   "metadata": {},
   "outputs": [],
   "source": [
    "## Plot bad sellers on map\n",
    "# Since one zip code can map to multiple (lat, lng), take the first one\n",
    "geo = Olist().get_data()['geolocation']\n",
    "geo = geo.groupby('geolocation_zip_code_prefix',\n",
    "                  as_index=False).first()\n",
    "\n",
    "# Select sellers and customers\n",
    "sellers = Olist().get_data()['sellers']\n",
    "\n",
    "# Merge geo_location for sellers\n",
    "sellers_mask_columns = ['seller_id', 'seller_zip_code_prefix',\n",
    "                        'seller_city', 'seller_state',\n",
    "                        'geolocation_lat', 'geolocation_lng']\n",
    "\n",
    "sellers_geo = sellers.merge(geo,\n",
    "                            how='left',\n",
    "                            left_on='seller_zip_code_prefix',\n",
    "                            right_on='geolocation_zip_code_prefix')[sellers_mask_columns]"
   ]
  },
  {
   "cell_type": "code",
   "execution_count": 289,
   "metadata": {},
   "outputs": [
    {
     "data": {
      "text/html": [
       "<div>\n",
       "<style scoped>\n",
       "    .dataframe tbody tr th:only-of-type {\n",
       "        vertical-align: middle;\n",
       "    }\n",
       "\n",
       "    .dataframe tbody tr th {\n",
       "        vertical-align: top;\n",
       "    }\n",
       "\n",
       "    .dataframe thead th {\n",
       "        text-align: right;\n",
       "    }\n",
       "</style>\n",
       "<table border=\"1\" class=\"dataframe\">\n",
       "  <thead>\n",
       "    <tr style=\"text-align: right;\">\n",
       "      <th></th>\n",
       "      <th>seller_id</th>\n",
       "      <th>total_review_cost</th>\n",
       "      <th>it_cost</th>\n",
       "      <th>olist_revenue</th>\n",
       "      <th>total_cost</th>\n",
       "      <th>olist_loss</th>\n",
       "    </tr>\n",
       "  </thead>\n",
       "  <tbody>\n",
       "    <tr>\n",
       "      <th>0</th>\n",
       "      <td>4a3ca9315b744ce9f8e9374361493884</td>\n",
       "      <td>42340</td>\n",
       "      <td>93.268446</td>\n",
       "      <td>21647.292</td>\n",
       "      <td>42433.268446</td>\n",
       "      <td>-20785.976446</td>\n",
       "    </tr>\n",
       "    <tr>\n",
       "      <th>1</th>\n",
       "      <td>6560211a19b47992c3666cc44a7e94c0</td>\n",
       "      <td>38880</td>\n",
       "      <td>94.499765</td>\n",
       "      <td>13850.483</td>\n",
       "      <td>38974.499765</td>\n",
       "      <td>-25124.016765</td>\n",
       "    </tr>\n",
       "    <tr>\n",
       "      <th>2</th>\n",
       "      <td>cc419e0650a3c5ba77189a1882b7556a</td>\n",
       "      <td>31230</td>\n",
       "      <td>90.649493</td>\n",
       "      <td>12028.842</td>\n",
       "      <td>31320.649493</td>\n",
       "      <td>-19291.807493</td>\n",
       "    </tr>\n",
       "  </tbody>\n",
       "</table>\n",
       "</div>"
      ],
      "text/plain": [
       "                          seller_id  total_review_cost    it_cost  \\\n",
       "0  4a3ca9315b744ce9f8e9374361493884              42340  93.268446   \n",
       "1  6560211a19b47992c3666cc44a7e94c0              38880  94.499765   \n",
       "2  cc419e0650a3c5ba77189a1882b7556a              31230  90.649493   \n",
       "\n",
       "   olist_revenue    total_cost    olist_loss  \n",
       "0      21647.292  42433.268446 -20785.976446  \n",
       "1      13850.483  38974.499765 -25124.016765  \n",
       "2      12028.842  31320.649493 -19291.807493  "
      ]
     },
     "execution_count": 289,
     "metadata": {},
     "output_type": "execute_result"
    }
   ],
   "source": [
    "bad_sellers.head(3)"
   ]
  },
  {
   "cell_type": "code",
   "execution_count": 290,
   "metadata": {},
   "outputs": [],
   "source": [
    "bad_sellers = bad_sellers.merge(sellers_geo, on=\"seller_id\")"
   ]
  },
  {
   "cell_type": "code",
   "execution_count": 291,
   "metadata": {},
   "outputs": [
    {
     "data": {
      "text/html": [
       "<div>\n",
       "<style scoped>\n",
       "    .dataframe tbody tr th:only-of-type {\n",
       "        vertical-align: middle;\n",
       "    }\n",
       "\n",
       "    .dataframe tbody tr th {\n",
       "        vertical-align: top;\n",
       "    }\n",
       "\n",
       "    .dataframe thead th {\n",
       "        text-align: right;\n",
       "    }\n",
       "</style>\n",
       "<table border=\"1\" class=\"dataframe\">\n",
       "  <thead>\n",
       "    <tr style=\"text-align: right;\">\n",
       "      <th></th>\n",
       "      <th>seller_id</th>\n",
       "      <th>total_review_cost</th>\n",
       "      <th>it_cost</th>\n",
       "      <th>olist_revenue</th>\n",
       "      <th>total_cost</th>\n",
       "      <th>olist_loss</th>\n",
       "      <th>seller_zip_code_prefix</th>\n",
       "      <th>seller_city</th>\n",
       "      <th>seller_state</th>\n",
       "      <th>geolocation_lat</th>\n",
       "      <th>geolocation_lng</th>\n",
       "    </tr>\n",
       "  </thead>\n",
       "  <tbody>\n",
       "    <tr>\n",
       "      <th>0</th>\n",
       "      <td>4a3ca9315b744ce9f8e9374361493884</td>\n",
       "      <td>42340</td>\n",
       "      <td>93.268446</td>\n",
       "      <td>21647.292</td>\n",
       "      <td>42433.268446</td>\n",
       "      <td>-20785.976446</td>\n",
       "      <td>14940</td>\n",
       "      <td>ibitinga</td>\n",
       "      <td>SP</td>\n",
       "      <td>-21.766477</td>\n",
       "      <td>-48.831547</td>\n",
       "    </tr>\n",
       "    <tr>\n",
       "      <th>1</th>\n",
       "      <td>6560211a19b47992c3666cc44a7e94c0</td>\n",
       "      <td>38880</td>\n",
       "      <td>94.499765</td>\n",
       "      <td>13850.483</td>\n",
       "      <td>38974.499765</td>\n",
       "      <td>-25124.016765</td>\n",
       "      <td>5849</td>\n",
       "      <td>sao paulo</td>\n",
       "      <td>SP</td>\n",
       "      <td>-23.651115</td>\n",
       "      <td>-46.755211</td>\n",
       "    </tr>\n",
       "    <tr>\n",
       "      <th>2</th>\n",
       "      <td>cc419e0650a3c5ba77189a1882b7556a</td>\n",
       "      <td>31230</td>\n",
       "      <td>90.649493</td>\n",
       "      <td>12028.842</td>\n",
       "      <td>31320.649493</td>\n",
       "      <td>-19291.807493</td>\n",
       "      <td>9015</td>\n",
       "      <td>santo andre</td>\n",
       "      <td>SP</td>\n",
       "      <td>-23.665703</td>\n",
       "      <td>-46.518082</td>\n",
       "    </tr>\n",
       "    <tr>\n",
       "      <th>3</th>\n",
       "      <td>7c67e1448b00f6e969d365cea6b010ab</td>\n",
       "      <td>29950</td>\n",
       "      <td>68.775160</td>\n",
       "      <td>20312.389</td>\n",
       "      <td>30018.775160</td>\n",
       "      <td>-9706.386160</td>\n",
       "      <td>8577</td>\n",
       "      <td>itaquaquecetuba</td>\n",
       "      <td>SP</td>\n",
       "      <td>-23.482623</td>\n",
       "      <td>-46.374490</td>\n",
       "    </tr>\n",
       "    <tr>\n",
       "      <th>4</th>\n",
       "      <td>1f50f920176fa81dab994f9023523100</td>\n",
       "      <td>24400</td>\n",
       "      <td>82.235516</td>\n",
       "      <td>12133.921</td>\n",
       "      <td>24482.235516</td>\n",
       "      <td>-12348.314516</td>\n",
       "      <td>15025</td>\n",
       "      <td>sao jose do rio preto</td>\n",
       "      <td>SP</td>\n",
       "      <td>-20.802436</td>\n",
       "      <td>-49.395624</td>\n",
       "    </tr>\n",
       "    <tr>\n",
       "      <th>...</th>\n",
       "      <td>...</td>\n",
       "      <td>...</td>\n",
       "      <td>...</td>\n",
       "      <td>...</td>\n",
       "      <td>...</td>\n",
       "      <td>...</td>\n",
       "      <td>...</td>\n",
       "      <td>...</td>\n",
       "      <td>...</td>\n",
       "      <td>...</td>\n",
       "      <td>...</td>\n",
       "    </tr>\n",
       "    <tr>\n",
       "      <th>288</th>\n",
       "      <td>51a04a8a6bdcb23deccc82b0b80742cf</td>\n",
       "      <td>100</td>\n",
       "      <td>2.194704</td>\n",
       "      <td>96.799</td>\n",
       "      <td>102.194704</td>\n",
       "      <td>-5.395704</td>\n",
       "      <td>12914</td>\n",
       "      <td>braganca paulista</td>\n",
       "      <td>SP</td>\n",
       "      <td>-22.971648</td>\n",
       "      <td>-46.533618</td>\n",
       "    </tr>\n",
       "    <tr>\n",
       "      <th>289</th>\n",
       "      <td>26f6b7ab07be3e9e69ce82a6552efc19</td>\n",
       "      <td>100</td>\n",
       "      <td>3.103780</td>\n",
       "      <td>85.480</td>\n",
       "      <td>103.103780</td>\n",
       "      <td>-17.623780</td>\n",
       "      <td>21070</td>\n",
       "      <td>rio de janeiro</td>\n",
       "      <td>RJ</td>\n",
       "      <td>-22.847275</td>\n",
       "      <td>-43.273888</td>\n",
       "    </tr>\n",
       "    <tr>\n",
       "      <th>290</th>\n",
       "      <td>7c4adcc13272c0e26fa23aac642adb7b</td>\n",
       "      <td>100</td>\n",
       "      <td>3.103780</td>\n",
       "      <td>93.500</td>\n",
       "      <td>103.103780</td>\n",
       "      <td>-9.603780</td>\n",
       "      <td>24725</td>\n",
       "      <td>sao goncalo</td>\n",
       "      <td>RJ</td>\n",
       "      <td>-22.803951</td>\n",
       "      <td>-42.964900</td>\n",
       "    </tr>\n",
       "    <tr>\n",
       "      <th>291</th>\n",
       "      <td>4ce8b55b4bfa4659184e7becc1fba3f2</td>\n",
       "      <td>100</td>\n",
       "      <td>3.103780</td>\n",
       "      <td>99.900</td>\n",
       "      <td>103.103780</td>\n",
       "      <td>-3.203780</td>\n",
       "      <td>83823</td>\n",
       "      <td>fazenda rio grande</td>\n",
       "      <td>PR</td>\n",
       "      <td>-25.667456</td>\n",
       "      <td>-49.288801</td>\n",
       "    </tr>\n",
       "    <tr>\n",
       "      <th>292</th>\n",
       "      <td>26e13b6ff5b641b329e5524241ee2c93</td>\n",
       "      <td>100</td>\n",
       "      <td>4.389407</td>\n",
       "      <td>91.970</td>\n",
       "      <td>104.389407</td>\n",
       "      <td>-12.419407</td>\n",
       "      <td>14401</td>\n",
       "      <td>franca</td>\n",
       "      <td>SP</td>\n",
       "      <td>-20.530671</td>\n",
       "      <td>-47.398519</td>\n",
       "    </tr>\n",
       "  </tbody>\n",
       "</table>\n",
       "<p>293 rows × 11 columns</p>\n",
       "</div>"
      ],
      "text/plain": [
       "                            seller_id  total_review_cost    it_cost  \\\n",
       "0    4a3ca9315b744ce9f8e9374361493884              42340  93.268446   \n",
       "1    6560211a19b47992c3666cc44a7e94c0              38880  94.499765   \n",
       "2    cc419e0650a3c5ba77189a1882b7556a              31230  90.649493   \n",
       "3    7c67e1448b00f6e969d365cea6b010ab              29950  68.775160   \n",
       "4    1f50f920176fa81dab994f9023523100              24400  82.235516   \n",
       "..                                ...                ...        ...   \n",
       "288  51a04a8a6bdcb23deccc82b0b80742cf                100   2.194704   \n",
       "289  26f6b7ab07be3e9e69ce82a6552efc19                100   3.103780   \n",
       "290  7c4adcc13272c0e26fa23aac642adb7b                100   3.103780   \n",
       "291  4ce8b55b4bfa4659184e7becc1fba3f2                100   3.103780   \n",
       "292  26e13b6ff5b641b329e5524241ee2c93                100   4.389407   \n",
       "\n",
       "     olist_revenue    total_cost    olist_loss  seller_zip_code_prefix  \\\n",
       "0        21647.292  42433.268446 -20785.976446                   14940   \n",
       "1        13850.483  38974.499765 -25124.016765                    5849   \n",
       "2        12028.842  31320.649493 -19291.807493                    9015   \n",
       "3        20312.389  30018.775160  -9706.386160                    8577   \n",
       "4        12133.921  24482.235516 -12348.314516                   15025   \n",
       "..             ...           ...           ...                     ...   \n",
       "288         96.799    102.194704     -5.395704                   12914   \n",
       "289         85.480    103.103780    -17.623780                   21070   \n",
       "290         93.500    103.103780     -9.603780                   24725   \n",
       "291         99.900    103.103780     -3.203780                   83823   \n",
       "292         91.970    104.389407    -12.419407                   14401   \n",
       "\n",
       "               seller_city seller_state  geolocation_lat  geolocation_lng  \n",
       "0                 ibitinga           SP       -21.766477       -48.831547  \n",
       "1                sao paulo           SP       -23.651115       -46.755211  \n",
       "2              santo andre           SP       -23.665703       -46.518082  \n",
       "3          itaquaquecetuba           SP       -23.482623       -46.374490  \n",
       "4    sao jose do rio preto           SP       -20.802436       -49.395624  \n",
       "..                     ...          ...              ...              ...  \n",
       "288      braganca paulista           SP       -22.971648       -46.533618  \n",
       "289         rio de janeiro           RJ       -22.847275       -43.273888  \n",
       "290            sao goncalo           RJ       -22.803951       -42.964900  \n",
       "291     fazenda rio grande           PR       -25.667456       -49.288801  \n",
       "292                 franca           SP       -20.530671       -47.398519  \n",
       "\n",
       "[293 rows x 11 columns]"
      ]
     },
     "execution_count": 291,
     "metadata": {},
     "output_type": "execute_result"
    }
   ],
   "source": [
    "bad_sellers"
   ]
  },
  {
   "cell_type": "code",
   "execution_count": 292,
   "metadata": {},
   "outputs": [],
   "source": [
    "bad_sellers_per_city = bad_sellers.groupby([\"seller_city\", \"geolocation_lat\", \"geolocation_lng\"], as_index=False).agg({\"olist_loss\":\"sum\", \"seller_id\":\"count\"})"
   ]
  },
  {
   "cell_type": "code",
   "execution_count": 297,
   "metadata": {},
   "outputs": [],
   "source": [
    "bad_sellers_per_city[\"olist_loss\"] = bad_sellers_per_city[\"olist_loss\"].map(abs)"
   ]
  },
  {
   "cell_type": "code",
   "execution_count": 331,
   "metadata": {},
   "outputs": [
    {
     "data": {
      "application/vnd.plotly.v1+json": {
       "config": {
        "plotlyServerURL": "https://plot.ly"
       },
       "data": [
        {
         "geo": "geo",
         "hovertemplate": "<b>%{hovertext}</b><br><br>seller_city=ibitinga<br>olist_loss=%{marker.size}<br>geolocation_lat=%{lat}<br>geolocation_lng=%{lon}<extra></extra>",
         "hovertext": [
          "ibitinga"
         ],
         "lat": [
          -21.7664768468313
         ],
         "legendgroup": "ibitinga",
         "lon": [
          -48.83154737836604
         ],
         "marker": {
          "color": "#636efa",
          "size": [
           77741.60594183164
          ],
          "sizemode": "area",
          "sizeref": 194.3540148545791,
          "symbol": "circle"
         },
         "mode": "markers",
         "name": "ibitinga",
         "showlegend": true,
         "type": "scattergeo"
        },
        {
         "geo": "geo",
         "hovertemplate": "<b>%{hovertext}</b><br><br>seller_city=sao paulo<br>olist_loss=%{marker.size}<br>geolocation_lat=%{lat}<br>geolocation_lng=%{lon}<extra></extra>",
         "hovertext": [
          "sao paulo",
          "sao paulo",
          "sao paulo",
          "sao paulo",
          "sao paulo",
          "sao paulo",
          "sao paulo",
          "sao paulo",
          "sao paulo",
          "sao paulo",
          "sao paulo",
          "sao paulo",
          "sao paulo",
          "sao paulo",
          "sao paulo",
          "sao paulo",
          "sao paulo",
          "sao paulo",
          "sao paulo",
          "sao paulo",
          "sao paulo",
          "sao paulo",
          "sao paulo",
          "sao paulo",
          "sao paulo",
          "sao paulo",
          "sao paulo",
          "sao paulo",
          "sao paulo",
          "sao paulo",
          "sao paulo",
          "sao paulo",
          "sao paulo",
          "sao paulo",
          "sao paulo",
          "sao paulo",
          "sao paulo",
          "sao paulo",
          "sao paulo",
          "sao paulo",
          "sao paulo",
          "sao paulo",
          "sao paulo",
          "sao paulo",
          "sao paulo",
          "sao paulo",
          "sao paulo",
          "sao paulo",
          "sao paulo",
          "sao paulo",
          "sao paulo",
          "sao paulo",
          "sao paulo",
          "sao paulo",
          "sao paulo",
          "sao paulo",
          "sao paulo",
          "sao paulo",
          "sao paulo",
          "sao paulo",
          "sao paulo",
          "sao paulo",
          "sao paulo",
          "sao paulo",
          "sao paulo",
          "sao paulo",
          "sao paulo",
          "sao paulo",
          "sao paulo",
          "sao paulo",
          "sao paulo",
          "sao paulo"
         ],
         "lat": [
          -23.651114842510157,
          -23.62358155176294,
          -23.537511255832708,
          -23.539824031911863,
          -23.53877907744238,
          -23.541941545934563,
          -23.59798552039933,
          -23.539494799586286,
          -23.50271592062436,
          -23.693985995008337,
          -23.532447184574945,
          -23.58667354731954,
          -23.58343069747245,
          -23.55156260866176,
          -23.555682314184303,
          -23.53321650340715,
          -23.59272363197529,
          -23.553644898695826,
          -23.472335179294816,
          -23.56168119891244,
          -23.50869470774424,
          -23.69289565500035,
          -23.48535959449485,
          -23.48029674271453,
          -23.53689213711117,
          -23.57841833611285,
          -23.536864121011018,
          -23.48770416180969,
          -23.53108125950717,
          -23.49266694338963,
          -23.56625832001269,
          -23.496403578683147,
          -23.491089052455425,
          -23.55487039661836,
          -23.512538179294825,
          -23.592690175182163,
          -23.58067325143878,
          -23.59539756425642,
          -23.49997012461769,
          -23.646246311207523,
          -23.52833381848348,
          -23.504769581649203,
          -23.58790062753188,
          -23.67774108964741,
          -23.746252526227707,
          -23.4719444074384,
          -23.54279940605341,
          -23.554597380692613,
          -23.5413525745282,
          -23.591530822926867,
          -23.541718547319537,
          -23.61959447821568,
          -23.606158440567068,
          -23.66900465722205,
          -23.50663459838998,
          -23.47666615958798,
          -23.584614569248075,
          -23.523367358589653,
          -23.58020448542905,
          -23.485809164031377,
          -23.540691446852072,
          -23.592660045242067,
          -23.57884253067112,
          -23.52076037607479,
          -23.602162547319526,
          -23.523895623925213,
          -23.50623786745398,
          -23.57034735804139,
          -23.54260295697964,
          -23.62510448987245,
          -23.568722298084143,
          -23.667843855675457
         ],
         "legendgroup": "sao paulo",
         "lon": [
          -46.75521082321932,
          -46.61056007369148,
          -46.63705730743676,
          -46.434679443937874,
          -46.53648566833056,
          -46.49095488842404,
          -46.55547278711988,
          -46.63284391414975,
          -46.48299647362806,
          -46.70188324132953,
          -46.61401961463438,
          -46.61242320483004,
          -46.50203424424373,
          -46.64021297307979,
          -46.63309991286275,
          -46.50046729003948,
          -46.6315844403312,
          -46.63261889578163,
          -46.64636526449883,
          -46.50627110555333,
          -46.48672956633388,
          -46.68021046531817,
          -46.624283978908174,
          -46.71122495337295,
          -46.71311138051819,
          -46.5592068753823,
          -46.63349313820771,
          -46.41534043450283,
          -46.51791357132556,
          -46.649278230509495,
          -46.51841724632121,
          -46.44510648389983,
          -46.5850818805182,
          -46.5943762934965,
          -46.50108112461768,
          -46.62106099443002,
          -46.591568341608856,
          -46.55163738273989,
          -46.42365639286743,
          -46.66349868836885,
          -46.61941011172019,
          -46.62470303231384,
          -46.501829952680446,
          -46.66864662392521,
          -46.677001782820696,
          -46.59864459256161,
          -46.595165217323526,
          -46.57370400298258,
          -46.609555379681474,
          -46.73618746947312,
          -46.64883066180968,
          -46.60003319608748,
          -46.69703876815752,
          -46.71802455259966,
          -46.442126210658415,
          -46.68147008895491,
          -46.60193214931619,
          -46.46705568665242,
          -46.62978341909516,
          -46.68889056841136,
          -46.57315915849145,
          -46.79704030919264,
          -46.52280151387845,
          -46.661384138207694,
          -46.52124572898028,
          -46.691459916180975,
          -46.64043238758518,
          -46.65315099653755,
          -46.63094283625709,
          -46.72835260796926,
          -46.61880092397124,
          -46.66038973120199
         ],
         "marker": {
          "color": "#EF553B",
          "size": [
           25124.01676547114,
           16706.544469092343,
           13203.826626087182,
           5697.971049173016,
           4025.6648024276683,
           3882.361663867935,
           3869.5325150391654,
           3636.203849082348,
           3481.820440234463,
           2851.5645118502216,
           2360.0564566629537,
           2073.375185323074,
           2036.22952092988,
           1962.9887390304043,
           1734.7230327820112,
           1152.1277044245305,
           1087.5471584052525,
           1082.0085768656638,
           1042.314224046642,
           1007.4572759634348,
           980.7274425786236,
           937.2976661498715,
           889.2779518249392,
           865.7532929694908,
           848.4229594835783,
           773.8465189728304,
           742.0392450048209,
           713.6624227718494,
           582.7754705105672,
           490.76422128931165,
           456.3902930157765,
           447.1367959142847,
           432.8069248375303,
           417.8679193702925,
           403.3228569217463,
           306.1947035482186,
           302.5573464248903,
           260.1961587526266,
           251.5580163910056,
           248.93677719114248,
           207.21863359651104,
           197.35113750134587,
           188.1341106446559,
           171.61590382981134,
           169.59382032208214,
           162.86731269728944,
           153.56505029211303,
           135.4596484235517,
           131.68133805306633,
           116.44477952327911,
           104.78884030996008,
           98.11327958019501,
           86.6146397900975,
           86.1926397900975,
           66.80133805306633,
           65.10883621891804,
           57.81557686566373,
           43.695448697722156,
           21.504703548218615,
           21.004703548218615,
           19.72377952327912,
           18.80377952327912,
           17.831338053066332,
           17.294703548218607,
           17.103779523279115,
           16.588779523279115,
           13.294703548218607,
           10.231338053066338,
           9.926338053066331,
           8.894703548218615,
           7.495703548218614,
           2.2526709530775406
          ],
          "sizemode": "area",
          "sizeref": 194.3540148545791,
          "symbol": "circle"
         },
         "mode": "markers",
         "name": "sao paulo",
         "showlegend": true,
         "type": "scattergeo"
        },
        {
         "geo": "geo",
         "hovertemplate": "<b>%{hovertext}</b><br><br>seller_city=santo andre<br>olist_loss=%{marker.size}<br>geolocation_lat=%{lat}<br>geolocation_lng=%{lon}<extra></extra>",
         "hovertext": [
          "santo andre",
          "santo andre",
          "santo andre",
          "santo andre",
          "santo andre",
          "santo andre"
         ],
         "lat": [
          -23.665703457960586,
          -23.624784000000005,
          -23.63888466388715,
          -23.7622680628159,
          -23.66721675288362,
          -23.668312295314184
         ],
         "legendgroup": "santo andre",
         "lon": [
          -46.51808196779969,
          -46.53954225000001,
          -46.49858921994927,
          -46.46728047262276,
          -46.49913206319721,
          -46.50547970468581
         ],
         "marker": {
          "color": "#00cc96",
          "size": [
           19291.807492948086,
           649.3923671722359,
           308.42890080501184,
           230.2718076596227,
           16.20377952327911,
           15.912506324276805
          ],
          "sizemode": "area",
          "sizeref": 194.3540148545791,
          "symbol": "circle"
         },
         "mode": "markers",
         "name": "santo andre",
         "showlegend": true,
         "type": "scattergeo"
        },
        {
         "geo": "geo",
         "hovertemplate": "<b>%{hovertext}</b><br><br>seller_city=sao jose do rio preto<br>olist_loss=%{marker.size}<br>geolocation_lat=%{lat}<br>geolocation_lng=%{lon}<extra></extra>",
         "hovertext": [
          "sao jose do rio preto",
          "sao jose do rio preto",
          "sao jose do rio preto",
          "sao jose do rio preto"
         ],
         "lat": [
          -20.80243626346376,
          -20.81842802837701,
          -20.84380119949777,
          -20.77693393507797
         ],
         "legendgroup": "sao jose do rio preto",
         "lon": [
          -49.39562406741489,
          -49.39248776604019,
          -49.36891118527178,
          -49.38713234157808
         ],
         "marker": {
          "color": "#ab63fa",
          "size": [
           12348.314515594217,
           214.6010163910055,
           137.0874775180896,
           114.70377952327911
          ],
          "sizemode": "area",
          "sizeref": 194.3540148545791,
          "symbol": "circle"
         },
         "mode": "markers",
         "name": "sao jose do rio preto",
         "showlegend": true,
         "type": "scattergeo"
        },
        {
         "geo": "geo",
         "hovertemplate": "<b>%{hovertext}</b><br><br>seller_city=itaquaquecetuba<br>olist_loss=%{marker.size}<br>geolocation_lat=%{lat}<br>geolocation_lng=%{lon}<extra></extra>",
         "hovertext": [
          "itaquaquecetuba",
          "itaquaquecetuba"
         ],
         "lat": [
          -23.48262344063541,
          -23.43567309991361
         ],
         "legendgroup": "itaquaquecetuba",
         "lon": [
          -46.37448952833195,
          -46.38032799842931
         ],
         "marker": {
          "color": "#FFA15A",
          "size": [
           10357.628850305864,
           485.13791937029237
          ],
          "sizemode": "area",
          "sizeref": 194.3540148545791,
          "symbol": "circle"
         },
         "mode": "markers",
         "name": "itaquaquecetuba",
         "showlegend": true,
         "type": "scattergeo"
        },
        {
         "geo": "geo",
         "hovertemplate": "<b>%{hovertext}</b><br><br>seller_city=ribeirao preto<br>olist_loss=%{marker.size}<br>geolocation_lat=%{lat}<br>geolocation_lng=%{lon}<extra></extra>",
         "hovertext": [
          "ribeirao preto",
          "ribeirao preto",
          "ribeirao preto"
         ],
         "lat": [
          -21.174925033585303,
          -21.16850440882337,
          -21.185944576067463
         ],
         "legendgroup": "ribeirao preto",
         "lon": [
          -47.7686162776848,
          -47.79370519233655,
          -47.81498292186677
         ],
         "marker": {
          "color": "#19d3f3",
          "size": [
           6696.96686153936,
           436.5459819554301,
           212.7893485326349
          ],
          "sizemode": "area",
          "sizeref": 194.3540148545791,
          "symbol": "circle"
         },
         "mode": "markers",
         "name": "ribeirao preto",
         "showlegend": true,
         "type": "scattergeo"
        },
        {
         "geo": "geo",
         "hovertemplate": "<b>%{hovertext}</b><br><br>seller_city=santana de parnaiba<br>olist_loss=%{marker.size}<br>geolocation_lat=%{lat}<br>geolocation_lng=%{lon}<extra></extra>",
         "hovertext": [
          "santana de parnaiba"
         ],
         "lat": [
          -23.419753962259747
         ],
         "legendgroup": "santana de parnaiba",
         "lon": [
          -46.95925190896761
         ],
         "marker": {
          "color": "#FF6692",
          "size": [
           5859.378573530823
          ],
          "sizemode": "area",
          "sizeref": 194.3540148545791,
          "symbol": "circle"
         },
         "mode": "markers",
         "name": "santana de parnaiba",
         "showlegend": true,
         "type": "scattergeo"
        },
        {
         "geo": "geo",
         "hovertemplate": "<b>%{hovertext}</b><br><br>seller_city=piracicaba<br>olist_loss=%{marker.size}<br>geolocation_lat=%{lat}<br>geolocation_lng=%{lon}<extra></extra>",
         "hovertext": [
          "piracicaba",
          "piracicaba"
         ],
         "lat": [
          -22.71683928585045,
          -22.726257875353635
         ],
         "legendgroup": "piracicaba",
         "lon": [
          -47.65736585405934,
          -47.63781138952056
         ],
         "marker": {
          "color": "#B6E880",
          "size": [
           5615.89911161461,
           62.18311963979431
          ],
          "sizemode": "area",
          "sizeref": 194.3540148545791,
          "symbol": "circle"
         },
         "mode": "markers",
         "name": "piracicaba",
         "showlegend": true,
         "type": "scattergeo"
        },
        {
         "geo": "geo",
         "hovertemplate": "<b>%{hovertext}</b><br><br>seller_city=campinas<br>olist_loss=%{marker.size}<br>geolocation_lat=%{lat}<br>geolocation_lng=%{lon}<extra></extra>",
         "hovertext": [
          "campinas",
          "campinas",
          "campinas",
          "campinas",
          "campinas",
          "campinas"
         ],
         "lat": [
          -22.90081444463038,
          -22.895876357204664,
          -22.829166690333924,
          -22.89149811512646,
          -22.90124134639356,
          -22.926904742714527
         ],
         "legendgroup": "campinas",
         "lon": [
          -46.99864279239999,
          -47.0791850342778,
          -47.09886947241718,
          -47.14575284988991,
          -47.05512845102415,
          -47.067241683593984
         ],
         "marker": {
          "color": "#FF97FF",
          "size": [
           5508.331598164336,
           2489.3683235455205,
           110.32377952327911,
           10.694703548218612,
           7.204703548218603,
           3.594703548218618
          ],
          "sizemode": "area",
          "sizeref": 194.3540148545791,
          "symbol": "circle"
         },
         "mode": "markers",
         "name": "campinas",
         "showlegend": true,
         "type": "scattergeo"
        },
        {
         "geo": "geo",
         "hovertemplate": "<b>%{hovertext}</b><br><br>seller_city=maringa<br>olist_loss=%{marker.size}<br>geolocation_lat=%{lat}<br>geolocation_lng=%{lon}<extra></extra>",
         "hovertext": [
          "maringa",
          "maringa",
          "maringa",
          "maringa",
          "maringa"
         ],
         "lat": [
          -23.41848622413047,
          -23.437975269077903,
          -23.41000679702781,
          -23.377396999935016,
          -23.42880633856904
         ],
         "legendgroup": "maringa",
         "lon": [
          -51.92625934548862,
          -51.91385959802448,
          -51.88262571961486,
          -51.93100618003307,
          -51.97183135000928
         ],
         "marker": {
          "color": "#FECB52",
          "size": [
           5399.90722603959,
           4409.7836659900595,
           2351.660103508356,
           662.6577272955508,
           9.041338053066326
          ],
          "sizemode": "area",
          "sizeref": 194.3540148545791,
          "symbol": "circle"
         },
         "mode": "markers",
         "name": "maringa",
         "showlegend": true,
         "type": "scattergeo"
        },
        {
         "geo": "geo",
         "hovertemplate": "<b>%{hovertext}</b><br><br>seller_city=campo limpo paulista<br>olist_loss=%{marker.size}<br>geolocation_lat=%{lat}<br>geolocation_lng=%{lon}<extra></extra>",
         "hovertext": [
          "campo limpo paulista"
         ],
         "lat": [
          -23.20706431353269
         ],
         "legendgroup": "campo limpo paulista",
         "lon": [
          -46.760735214610754
         ],
         "marker": {
          "color": "#636efa",
          "size": [
           5230.7053184237575
          ],
          "sizemode": "area",
          "sizeref": 194.3540148545791,
          "symbol": "circle"
         },
         "mode": "markers",
         "name": "campo limpo paulista",
         "showlegend": true,
         "type": "scattergeo"
        },
        {
         "geo": "geo",
         "hovertemplate": "<b>%{hovertext}</b><br><br>seller_city=brusque<br>olist_loss=%{marker.size}<br>geolocation_lat=%{lat}<br>geolocation_lng=%{lon}<extra></extra>",
         "hovertext": [
          "brusque"
         ],
         "lat": [
          -27.14105704919435
         ],
         "legendgroup": "brusque",
         "lon": [
          -48.96146112936535
         ],
         "marker": {
          "color": "#EF553B",
          "size": [
           5013.461554329692
          ],
          "sizemode": "area",
          "sizeref": 194.3540148545791,
          "symbol": "circle"
         },
         "mode": "markers",
         "name": "brusque",
         "showlegend": true,
         "type": "scattergeo"
        },
        {
         "geo": "geo",
         "hovertemplate": "<b>%{hovertext}</b><br><br>seller_city=praia grande<br>olist_loss=%{marker.size}<br>geolocation_lat=%{lat}<br>geolocation_lng=%{lon}<extra></extra>",
         "hovertext": [
          "praia grande",
          "praia grande"
         ],
         "lat": [
          -24.026786758814687,
          -24.011288218359883
         ],
         "legendgroup": "praia grande",
         "lon": [
          -46.49304889148245,
          -46.41873374429398
         ],
         "marker": {
          "color": "#00cc96",
          "size": [
           4681.789640142737,
           3069.959666007524
          ],
          "sizemode": "area",
          "sizeref": 194.3540148545791,
          "symbol": "circle"
         },
         "mode": "markers",
         "name": "praia grande",
         "showlegend": true,
         "type": "scattergeo"
        },
        {
         "geo": "geo",
         "hovertemplate": "<b>%{hovertext}</b><br><br>seller_city=limeira<br>olist_loss=%{marker.size}<br>geolocation_lat=%{lat}<br>geolocation_lng=%{lon}<extra></extra>",
         "hovertext": [
          "limeira",
          "limeira"
         ],
         "lat": [
          -22.56835042131686,
          -22.599254430886607
         ],
         "legendgroup": "limeira",
         "lon": [
          -47.44743947974489,
          -47.37980963550319
         ],
         "marker": {
          "color": "#ab63fa",
          "size": [
           4669.012314971885,
           108.62377952327911
          ],
          "sizemode": "area",
          "sizeref": 194.3540148545791,
          "symbol": "circle"
         },
         "mode": "markers",
         "name": "limeira",
         "showlegend": true,
         "type": "scattergeo"
        },
        {
         "geo": "geo",
         "hovertemplate": "<b>%{hovertext}</b><br><br>seller_city=jacarei<br>olist_loss=%{marker.size}<br>geolocation_lat=%{lat}<br>geolocation_lng=%{lon}<extra></extra>",
         "hovertext": [
          "jacarei",
          "jacarei"
         ],
         "lat": [
          -23.29818595956356,
          -23.30139631473257
         ],
         "legendgroup": "jacarei",
         "lon": [
          -45.974828011182304,
          -45.96172658840667
         ],
         "marker": {
          "color": "#FFA15A",
          "size": [
           3945.040162283485,
           87.13632413230926
          ],
          "sizemode": "area",
          "sizeref": 194.3540148545791,
          "symbol": "circle"
         },
         "mode": "markers",
         "name": "jacarei",
         "showlegend": true,
         "type": "scattergeo"
        },
        {
         "geo": "geo",
         "hovertemplate": "<b>%{hovertext}</b><br><br>seller_city=pedreira<br>olist_loss=%{marker.size}<br>geolocation_lat=%{lat}<br>geolocation_lng=%{lon}<extra></extra>",
         "hovertext": [
          "pedreira"
         ],
         "lat": [
          -22.73824150585765
         ],
         "legendgroup": "pedreira",
         "lon": [
          -46.8958585777586
         ],
         "marker": {
          "color": "#19d3f3",
          "size": [
           3492.8366487598996
          ],
          "sizemode": "area",
          "sizeref": 194.3540148545791,
          "symbol": "circle"
         },
         "mode": "markers",
         "name": "pedreira",
         "showlegend": true,
         "type": "scattergeo"
        },
        {
         "geo": "geo",
         "hovertemplate": "<b>%{hovertext}</b><br><br>seller_city=belo horizonte<br>olist_loss=%{marker.size}<br>geolocation_lat=%{lat}<br>geolocation_lng=%{lon}<extra></extra>",
         "hovertext": [
          "belo horizonte",
          "belo horizonte",
          "belo horizonte",
          "belo horizonte"
         ],
         "lat": [
          -19.878513898894187,
          -19.95661690748416,
          -19.91953334886612,
          -19.91624655709342
         ],
         "legendgroup": "belo horizonte",
         "lon": [
          -43.95694702879617,
          -43.968436347881045,
          -43.93684688980902,
          -43.93623364096637
         ],
         "marker": {
          "color": "#FF6692",
          "size": [
           3209.1287972794134,
           301.52623235508986,
           78.62040709643722,
           16.195918967157013
          ],
          "sizemode": "area",
          "sizeref": 194.3540148545791,
          "symbol": "circle"
         },
         "mode": "markers",
         "name": "belo horizonte",
         "showlegend": true,
         "type": "scattergeo"
        },
        {
         "geo": "geo",
         "hovertemplate": "<b>%{hovertext}</b><br><br>seller_city=sao luis<br>olist_loss=%{marker.size}<br>geolocation_lat=%{lat}<br>geolocation_lng=%{lon}<extra></extra>",
         "hovertext": [
          "sao luis"
         ],
         "lat": [
          -2.546079233971952
         ],
         "legendgroup": "sao luis",
         "lon": [
          -44.3089863702464
         ],
         "marker": {
          "color": "#B6E880",
          "size": [
           3032.557913325907
          ],
          "sizemode": "area",
          "sizeref": 194.3540148545791,
          "symbol": "circle"
         },
         "mode": "markers",
         "name": "sao luis",
         "showlegend": true,
         "type": "scattergeo"
        },
        {
         "geo": "geo",
         "hovertemplate": "<b>%{hovertext}</b><br><br>seller_city=itatiba<br>olist_loss=%{marker.size}<br>geolocation_lat=%{lat}<br>geolocation_lng=%{lon}<extra></extra>",
         "hovertext": [
          "itatiba"
         ],
         "lat": [
          -22.995677703232374
         ],
         "legendgroup": "itatiba",
         "lon": [
          -46.857106243157794
         ],
         "marker": {
          "color": "#FF97FF",
          "size": [
           2877.950193820695
          ],
          "sizemode": "area",
          "sizeref": 194.3540148545791,
          "symbol": "circle"
         },
         "mode": "markers",
         "name": "itatiba",
         "showlegend": true,
         "type": "scattergeo"
        },
        {
         "geo": "geo",
         "hovertemplate": "<b>%{hovertext}</b><br><br>seller_city=atibaia<br>olist_loss=%{marker.size}<br>geolocation_lat=%{lat}<br>geolocation_lng=%{lon}<extra></extra>",
         "hovertext": [
          "atibaia",
          "atibaia",
          "atibaia"
         ],
         "lat": [
          -23.112774381969185,
          -23.120273860118864,
          -23.14492333670709
         ],
         "legendgroup": "atibaia",
         "lon": [
          -46.5488845105504,
          -46.56362790244673,
          -46.539830386938746
         ],
         "marker": {
          "color": "#FECB52",
          "size": [
           2152.3596693146656,
           353.41511809311646,
           60.19944036739889
          ],
          "sizemode": "area",
          "sizeref": 194.3540148545791,
          "symbol": "circle"
         },
         "mode": "markers",
         "name": "atibaia",
         "showlegend": true,
         "type": "scattergeo"
        },
        {
         "geo": "geo",
         "hovertemplate": "<b>%{hovertext}</b><br><br>seller_city=dracena<br>olist_loss=%{marker.size}<br>geolocation_lat=%{lat}<br>geolocation_lng=%{lon}<extra></extra>",
         "hovertext": [
          "dracena"
         ],
         "lat": [
          -21.4988715
         ],
         "legendgroup": "dracena",
         "lon": [
          -51.53786099999999
         ],
         "marker": {
          "color": "#636efa",
          "size": [
           1834.4792968471036
          ],
          "sizemode": "area",
          "sizeref": 194.3540148545791,
          "symbol": "circle"
         },
         "mode": "markers",
         "name": "dracena",
         "showlegend": true,
         "type": "scattergeo"
        },
        {
         "geo": "geo",
         "hovertemplate": "<b>%{hovertext}</b><br><br>seller_city=salto<br>olist_loss=%{marker.size}<br>geolocation_lat=%{lat}<br>geolocation_lng=%{lon}<extra></extra>",
         "hovertext": [
          "salto",
          "salto",
          "salto"
         ],
         "lat": [
          -23.20591698084141,
          -23.190243653067117,
          -23.194155763010308
         ],
         "legendgroup": "salto",
         "lon": [
          -47.307845865803,
          -47.291570633360266,
          -47.26601382366275
         ],
         "marker": {
          "color": "#EF553B",
          "size": [
           1774.1211669275044,
           1269.3738388226716,
           435.0912930157765
          ],
          "sizemode": "area",
          "sizeref": 194.3540148545791,
          "symbol": "circle"
         },
         "mode": "markers",
         "name": "salto",
         "showlegend": true,
         "type": "scattergeo"
        },
        {
         "geo": "geo",
         "hovertemplate": "<b>%{hovertext}</b><br><br>seller_city=foz do iguacu<br>olist_loss=%{marker.size}<br>geolocation_lat=%{lat}<br>geolocation_lng=%{lon}<extra></extra>",
         "hovertext": [
          "foz do iguacu"
         ],
         "lat": [
          -25.548584861815545
         ],
         "legendgroup": "foz do iguacu",
         "lon": [
          -54.58121020316589
         ],
         "marker": {
          "color": "#00cc96",
          "size": [
           1753.2530969103477
          ],
          "sizemode": "area",
          "sizeref": 194.3540148545791,
          "symbol": "circle"
         },
         "mode": "markers",
         "name": "foz do iguacu",
         "showlegend": true,
         "type": "scattergeo"
        },
        {
         "geo": "geo",
         "hovertemplate": "<b>%{hovertext}</b><br><br>seller_city=santos<br>olist_loss=%{marker.size}<br>geolocation_lat=%{lat}<br>geolocation_lng=%{lon}<extra></extra>",
         "hovertext": [
          "santos",
          "santos",
          "santos"
         ],
         "lat": [
          -23.93465945090488,
          -23.959748294477464,
          -23.93360892117263
         ],
         "legendgroup": "santos",
         "lon": [
          -46.331065142884974,
          -46.31359166374292,
          -46.34716271579432
         ],
         "marker": {
          "color": "#ab63fa",
          "size": [
           1588.948554783091,
           221.15005029211304,
           90.59449097771508
          ],
          "sizemode": "area",
          "sizeref": 194.3540148545791,
          "symbol": "circle"
         },
         "mode": "markers",
         "name": "santos",
         "showlegend": true,
         "type": "scattergeo"
        },
        {
         "geo": "geo",
         "hovertemplate": "<b>%{hovertext}</b><br><br>seller_city=guarulhos<br>olist_loss=%{marker.size}<br>geolocation_lat=%{lat}<br>geolocation_lng=%{lon}<extra></extra>",
         "hovertext": [
          "guarulhos",
          "guarulhos",
          "guarulhos",
          "guarulhos",
          "guarulhos",
          "guarulhos"
         ],
         "lat": [
          -23.444148887039063,
          -23.45088569608748,
          -23.44634995836461,
          -23.44007914793122,
          -23.496488565250488,
          -23.447025555369624
         ],
         "legendgroup": "guarulhos",
         "lon": [
          -46.50655197737896,
          -46.54498377407813,
          -46.54365549347912,
          -46.51144923980033,
          -46.54671310832206,
          -46.519970678602334
         ],
         "marker": {
          "color": "#FFA15A",
          "size": [
           1579.7097009019578,
           713.3407009019579,
           630.1596283857489,
           376.9191008433063,
           103.15566614987165,
           18.004703548218615
          ],
          "sizemode": "area",
          "sizeref": 194.3540148545791,
          "symbol": "circle"
         },
         "mode": "markers",
         "name": "guarulhos",
         "showlegend": true,
         "type": "scattergeo"
        },
        {
         "geo": "geo",
         "hovertemplate": "<b>%{hovertext}</b><br><br>seller_city=sao jose dos campos<br>olist_loss=%{marker.size}<br>geolocation_lat=%{lat}<br>geolocation_lng=%{lon}<extra></extra>",
         "hovertext": [
          "sao jose dos campos",
          "sao jose dos campos",
          "sao jose dos campos",
          "sao jose dos campos"
         ],
         "lat": [
          -23.221431461827063,
          -23.23724961587513,
          -23.201781118789317,
          -23.18093790397594
         ],
         "legendgroup": "sao jose dos campos",
         "lon": [
          -45.888163895493165,
          -45.88082955926476,
          -45.89567007799064,
          -45.86936250721335
         ],
         "marker": {
          "color": "#19d3f3",
          "size": [
           1340.2863241323093,
           470.5071669333802,
           378.67483728340767,
           17.72377952327912
          ],
          "sizemode": "area",
          "sizeref": 194.3540148545791,
          "symbol": "circle"
         },
         "mode": "markers",
         "name": "sao jose dos campos",
         "showlegend": true,
         "type": "scattergeo"
        },
        {
         "geo": "geo",
         "hovertemplate": "<b>%{hovertext}</b><br><br>seller_city=brasilia<br>olist_loss=%{marker.size}<br>geolocation_lat=%{lat}<br>geolocation_lng=%{lon}<extra></extra>",
         "hovertext": [
          "brasilia",
          "brasilia",
          "brasilia"
         ],
         "lat": [
          -15.840667480274698,
          -15.84494561197996,
          -15.841450954140925
         ],
         "legendgroup": "brasilia",
         "lon": [
          -48.051942900348365,
          -47.98527498130505,
          -48.024025688112914
         ],
         "marker": {
          "color": "#FF6692",
          "size": [
           1272.3571281108398,
           203.37244257862358,
           13.623779523279111
          ],
          "sizemode": "area",
          "sizeref": 194.3540148545791,
          "symbol": "circle"
         },
         "mode": "markers",
         "name": "brasilia",
         "showlegend": true,
         "type": "scattergeo"
        },
        {
         "geo": "geo",
         "hovertemplate": "<b>%{hovertext}</b><br><br>seller_city=maua<br>olist_loss=%{marker.size}<br>geolocation_lat=%{lat}<br>geolocation_lng=%{lon}<extra></extra>",
         "hovertext": [
          "maua",
          "maua"
         ],
         "lat": [
          -23.68011442853022,
          -23.656676689970634
         ],
         "legendgroup": "maua",
         "lon": [
          -46.4524537436668,
          -46.44420755410021
         ],
         "marker": {
          "color": "#B6E880",
          "size": [
           1072.1025981643372,
           13.228779523279115
          ],
          "sizemode": "area",
          "sizeref": 194.3540148545791,
          "symbol": "circle"
         },
         "mode": "markers",
         "name": "maua",
         "showlegend": true,
         "type": "scattergeo"
        },
        {
         "geo": "geo",
         "hovertemplate": "<b>%{hovertext}</b><br><br>seller_city=laranjal paulista<br>olist_loss=%{marker.size}<br>geolocation_lat=%{lat}<br>geolocation_lng=%{lon}<extra></extra>",
         "hovertext": [
          "laranjal paulista"
         ],
         "lat": [
          -23.03582473318652
         ],
         "legendgroup": "laranjal paulista",
         "lon": [
          -47.8363026594829
         ],
         "marker": {
          "color": "#FF97FF",
          "size": [
           1018.8490020910958
          ],
          "sizemode": "area",
          "sizeref": 194.3540148545791,
          "symbol": "circle"
         },
         "mode": "markers",
         "name": "laranjal paulista",
         "showlegend": true,
         "type": "scattergeo"
        },
        {
         "geo": "geo",
         "hovertemplate": "<b>%{hovertext}</b><br><br>seller_city=jundiai<br>olist_loss=%{marker.size}<br>geolocation_lat=%{lat}<br>geolocation_lng=%{lon}<extra></extra>",
         "hovertext": [
          "jundiai",
          "jundiai"
         ],
         "lat": [
          -23.211714582578274,
          -23.151712385018914
         ],
         "legendgroup": "jundiai",
         "lon": [
          -46.8753760355472,
          -46.97128780668247
         ],
         "marker": {
          "color": "#FECB52",
          "size": [
           998.7801322572514,
           16.264703548218606
          ],
          "sizemode": "area",
          "sizeref": 194.3540148545791,
          "symbol": "circle"
         },
         "mode": "markers",
         "name": "jundiai",
         "showlegend": true,
         "type": "scattergeo"
        },
        {
         "geo": "geo",
         "hovertemplate": "<b>%{hovertext}</b><br><br>seller_city=rio de janeiro<br>olist_loss=%{marker.size}<br>geolocation_lat=%{lat}<br>geolocation_lng=%{lon}<extra></extra>",
         "hovertext": [
          "rio de janeiro",
          "rio de janeiro",
          "rio de janeiro",
          "rio de janeiro",
          "rio de janeiro",
          "rio de janeiro",
          "rio de janeiro",
          "rio de janeiro",
          "rio de janeiro",
          "rio de janeiro",
          "rio de janeiro",
          "rio de janeiro"
         ],
         "lat": [
          -22.842290284753936,
          -23.00927096142304,
          -22.920104850395337,
          -22.90216947322403,
          -22.97552030068124,
          -22.89211739578164,
          -22.972496751601327,
          -22.886098638900197,
          -22.8858726103352,
          -22.84727502827443,
          -22.92931946221692,
          -22.899753502914194
         ],
         "legendgroup": "rio de janeiro",
         "lon": [
          -43.29762071175495,
          -43.42940927644404,
          -43.22138202997862,
          -43.18431801722535,
          -43.48436102271125,
          -43.47562901249349,
          -43.18950774937962,
          -43.3108898963299,
          -43.34219063959268,
          -43.27388796588767,
          -43.23596118471042,
          -43.17764601165675
         ],
         "marker": {
          "color": "#636efa",
          "size": [
           988.0371989504874,
           833.1050126485536,
           429.79104800489586,
           252.7350126485536,
           121.45542846087312,
           106.21026200122395,
           95.43940709643722,
           45.826786003671714,
           43.13677952327912,
           17.62377952327911,
           15.194703548218612,
           13.195703548218617
          ],
          "sizemode": "area",
          "sizeref": 194.3540148545791,
          "symbol": "circle"
         },
         "mode": "markers",
         "name": "rio de janeiro",
         "showlegend": true,
         "type": "scattergeo"
        },
        {
         "geo": "geo",
         "hovertemplate": "<b>%{hovertext}</b><br><br>seller_city=vicente de carvalho<br>olist_loss=%{marker.size}<br>geolocation_lat=%{lat}<br>geolocation_lng=%{lon}<extra></extra>",
         "hovertext": [
          "vicente de carvalho"
         ],
         "lat": [
          -23.939318620030072
         ],
         "legendgroup": "vicente de carvalho",
         "lon": [
          -46.30539278864907
         ],
         "marker": {
          "color": "#EF553B",
          "size": [
           986.2101281108396
          ],
          "sizemode": "area",
          "sizeref": 194.3540148545791,
          "symbol": "circle"
         },
         "mode": "markers",
         "name": "vicente de carvalho",
         "showlegend": true,
         "type": "scattergeo"
        },
        {
         "geo": "geo",
         "hovertemplate": "<b>%{hovertext}</b><br><br>seller_city=borda da mata<br>olist_loss=%{marker.size}<br>geolocation_lat=%{lat}<br>geolocation_lng=%{lon}<extra></extra>",
         "hovertext": [
          "borda da mata"
         ],
         "lat": [
          -22.264093569966427
         ],
         "legendgroup": "borda da mata",
         "lon": [
          -46.15856420525942
         ],
         "marker": {
          "color": "#00cc96",
          "size": [
           890.6242835039538
          ],
          "sizemode": "area",
          "sizeref": 194.3540148545791,
          "symbol": "circle"
         },
         "mode": "markers",
         "name": "borda da mata",
         "showlegend": true,
         "type": "scattergeo"
        },
        {
         "geo": "geo",
         "hovertemplate": "<b>%{hovertext}</b><br><br>seller_city=florianopolis<br>olist_loss=%{marker.size}<br>geolocation_lat=%{lat}<br>geolocation_lng=%{lon}<extra></extra>",
         "hovertext": [
          "florianopolis"
         ],
         "lat": [
          -27.60731306466045
         ],
         "legendgroup": "florianopolis",
         "lon": [
          -48.59058002775691
         ],
         "marker": {
          "color": "#ab63fa",
          "size": [
           821.5484454765015
          ],
          "sizemode": "area",
          "sizeref": 194.3540148545791,
          "symbol": "circle"
         },
         "mode": "markers",
         "name": "florianopolis",
         "showlegend": true,
         "type": "scattergeo"
        },
        {
         "geo": "geo",
         "hovertemplate": "<b>%{hovertext}</b><br><br>seller_city=sao bernardo do campo<br>olist_loss=%{marker.size}<br>geolocation_lat=%{lat}<br>geolocation_lng=%{lon}<extra></extra>",
         "hovertext": [
          "sao bernardo do campo",
          "sao bernardo do campo",
          "sao bernardo do campo"
         ],
         "lat": [
          -23.71688471949829,
          -23.724134173502662,
          -23.724048365774344
         ],
         "legendgroup": "sao bernardo do campo",
         "lon": [
          -46.54199108267673,
          -46.57554561519289,
          -46.57360861668318
         ],
         "marker": {
          "color": "#FFA15A",
          "size": [
           670.3609104958416,
           148.03011617754495,
           10.575903829811338
          ],
          "sizemode": "area",
          "sizeref": 194.3540148545791,
          "symbol": "circle"
         },
         "mode": "markers",
         "name": "sao bernardo do campo",
         "showlegend": true,
         "type": "scattergeo"
        },
        {
         "geo": "geo",
         "hovertemplate": "<b>%{hovertext}</b><br><br>seller_city=curitiba<br>olist_loss=%{marker.size}<br>geolocation_lat=%{lat}<br>geolocation_lng=%{lon}<extra></extra>",
         "hovertext": [
          "curitiba",
          "curitiba",
          "curitiba",
          "curitiba",
          "curitiba"
         ],
         "lat": [
          -25.50714419618402,
          -25.454342472387303,
          -25.39986976934627,
          -25.48015350874257,
          -25.4400884207686
         ],
         "legendgroup": "curitiba",
         "lon": [
          -49.27207460483913,
          -49.22258337676727,
          -49.25998715153791,
          -49.29687243020366,
          -49.34526604939701
         ],
         "marker": {
          "color": "#19d3f3",
          "size": [
           634.6360502921129,
           260.9331161775449,
           182.29470354821862,
           43.12377952327911,
           4.194703548218612
          ],
          "sizemode": "area",
          "sizeref": 194.3540148545791,
          "symbol": "circle"
         },
         "mode": "markers",
         "name": "curitiba",
         "showlegend": true,
         "type": "scattergeo"
        },
        {
         "geo": "geo",
         "hovertemplate": "<b>%{hovertext}</b><br><br>seller_city=mogi das cruzes<br>olist_loss=%{marker.size}<br>geolocation_lat=%{lat}<br>geolocation_lng=%{lon}<extra></extra>",
         "hovertext": [
          "mogi das cruzes"
         ],
         "lat": [
          -23.551706513599484
         ],
         "legendgroup": "mogi das cruzes",
         "lon": [
          -46.260979398542325
         ],
         "marker": {
          "color": "#FF6692",
          "size": [
           573.6914862289136
          ],
          "sizemode": "area",
          "sizeref": 194.3540148545791,
          "symbol": "circle"
         },
         "mode": "markers",
         "name": "mogi das cruzes",
         "showlegend": true,
         "type": "scattergeo"
        },
        {
         "geo": "geo",
         "hovertemplate": "<b>%{hovertext}</b><br><br>seller_city=votorantim<br>olist_loss=%{marker.size}<br>geolocation_lat=%{lat}<br>geolocation_lng=%{lon}<extra></extra>",
         "hovertext": [
          "votorantim"
         ],
         "lat": [
          -23.540699932021333
         ],
         "legendgroup": "votorantim",
         "lon": [
          -47.45842622799934
         ],
         "marker": {
          "color": "#B6E880",
          "size": [
           556.2453663714641
          ],
          "sizemode": "area",
          "sizeref": 194.3540148545791,
          "symbol": "circle"
         },
         "mode": "markers",
         "name": "votorantim",
         "showlegend": true,
         "type": "scattergeo"
        },
        {
         "geo": "geo",
         "hovertemplate": "<b>%{hovertext}</b><br><br>seller_city=presidente prudente<br>olist_loss=%{marker.size}<br>geolocation_lat=%{lat}<br>geolocation_lng=%{lon}<extra></extra>",
         "hovertext": [
          "presidente prudente",
          "presidente prudente"
         ],
         "lat": [
          -22.131826190859822,
          -22.133927157857254
         ],
         "legendgroup": "presidente prudente",
         "lon": [
          -51.450761316949546,
          -51.36875322173029
         ],
         "marker": {
          "color": "#FF97FF",
          "size": [
           519.3852036791545,
           195.89132413230936
          ],
          "sizemode": "area",
          "sizeref": 194.3540148545791,
          "symbol": "circle"
         },
         "mode": "markers",
         "name": "presidente prudente",
         "showlegend": true,
         "type": "scattergeo"
        },
        {
         "geo": "geo",
         "hovertemplate": "<b>%{hovertext}</b><br><br>seller_city=jussara<br>olist_loss=%{marker.size}<br>geolocation_lat=%{lat}<br>geolocation_lng=%{lon}<extra></extra>",
         "hovertext": [
          "jussara"
         ],
         "lat": [
          -23.62208737103585
         ],
         "legendgroup": "jussara",
         "lon": [
          -52.46578937273949
         ],
         "marker": {
          "color": "#FECB52",
          "size": [
           485.00083190339365
          ],
          "sizemode": "area",
          "sizeref": 194.3540148545791,
          "symbol": "circle"
         },
         "mode": "markers",
         "name": "jussara",
         "showlegend": true,
         "type": "scattergeo"
        },
        {
         "geo": "geo",
         "hovertemplate": "<b>%{hovertext}</b><br><br>seller_city=franca<br>olist_loss=%{marker.size}<br>geolocation_lat=%{lat}<br>geolocation_lng=%{lon}<extra></extra>",
         "hovertext": [
          "franca",
          "franca",
          "franca"
         ],
         "lat": [
          -20.506793628480604,
          -20.530671079410943,
          -20.50234199999999
         ],
         "legendgroup": "franca",
         "lon": [
          -47.40773763671002,
          -47.39851931627846,
          -47.4215895
         ],
         "marker": {
          "color": "#636efa",
          "size": [
           442.2233183114722,
           12.419407096437226,
           11.323779523279114
          ],
          "sizemode": "area",
          "sizeref": 194.3540148545791,
          "symbol": "circle"
         },
         "mode": "markers",
         "name": "franca",
         "showlegend": true,
         "type": "scattergeo"
        },
        {
         "geo": "geo",
         "hovertemplate": "<b>%{hovertext}</b><br><br>seller_city=rolandia<br>olist_loss=%{marker.size}<br>geolocation_lat=%{lat}<br>geolocation_lng=%{lon}<extra></extra>",
         "hovertext": [
          "rolandia"
         ],
         "lat": [
          -23.31259824896755
         ],
         "legendgroup": "rolandia",
         "lon": [
          -51.36894941889966
         ],
         "marker": {
          "color": "#EF553B",
          "size": [
           417.68342162621775
          ],
          "sizemode": "area",
          "sizeref": 194.3540148545791,
          "symbol": "circle"
         },
         "mode": "markers",
         "name": "rolandia",
         "showlegend": true,
         "type": "scattergeo"
        },
        {
         "geo": "geo",
         "hovertemplate": "<b>%{hovertext}</b><br><br>seller_city=santa terezinha de itaipu<br>olist_loss=%{marker.size}<br>geolocation_lat=%{lat}<br>geolocation_lng=%{lon}<extra></extra>",
         "hovertext": [
          "santa terezinha de itaipu"
         ],
         "lat": [
          -25.43158405315624
         ],
         "legendgroup": "santa terezinha de itaipu",
         "lon": [
          -54.402330873588255
         ],
         "marker": {
          "color": "#00cc96",
          "size": [
           411.12207211070495
          ],
          "sizemode": "area",
          "sizeref": 194.3540148545791,
          "symbol": "circle"
         },
         "mode": "markers",
         "name": "santa terezinha de itaipu",
         "showlegend": true,
         "type": "scattergeo"
        },
        {
         "geo": "geo",
         "hovertemplate": "<b>%{hovertext}</b><br><br>seller_city=bebedouro<br>olist_loss=%{marker.size}<br>geolocation_lat=%{lat}<br>geolocation_lng=%{lon}<extra></extra>",
         "hovertext": [
          "bebedouro"
         ],
         "lat": [
          -20.928623885001464
         ],
         "legendgroup": "bebedouro",
         "lon": [
          -48.49299639722605
         ],
         "marker": {
          "color": "#ab63fa",
          "size": [
           402.8360528928306
          ],
          "sizemode": "area",
          "sizeref": 194.3540148545791,
          "symbol": "circle"
         },
         "mode": "markers",
         "name": "bebedouro",
         "showlegend": true,
         "type": "scattergeo"
        },
        {
         "geo": "geo",
         "hovertemplate": "<b>%{hovertext}</b><br><br>seller_city=guara<br>olist_loss=%{marker.size}<br>geolocation_lat=%{lat}<br>geolocation_lng=%{lon}<extra></extra>",
         "hovertext": [
          "guara"
         ],
         "lat": [
          -20.43399042630061
         ],
         "legendgroup": "guara",
         "lon": [
          -47.81416224047547
         ],
         "marker": {
          "color": "#FFA15A",
          "size": [
           329.0125442699373
          ],
          "sizemode": "area",
          "sizeref": 194.3540148545791,
          "symbol": "circle"
         },
         "mode": "markers",
         "name": "guara",
         "showlegend": true,
         "type": "scattergeo"
        },
        {
         "geo": "geo",
         "hovertemplate": "<b>%{hovertext}</b><br><br>seller_city=londrina<br>olist_loss=%{marker.size}<br>geolocation_lat=%{lat}<br>geolocation_lng=%{lon}<extra></extra>",
         "hovertext": [
          "londrina",
          "londrina"
         ],
         "lat": [
          -23.309902583386343,
          -23.306545499567303
         ],
         "legendgroup": "londrina",
         "lon": [
          -51.172848272548926,
          -51.15347141909516
         ],
         "marker": {
          "color": "#19d3f3",
          "size": [
           292.20755904655823,
           105.82133805306633
          ],
          "sizemode": "area",
          "sizeref": 194.3540148545791,
          "symbol": "circle"
         },
         "mode": "markers",
         "name": "londrina",
         "showlegend": true,
         "type": "scattergeo"
        },
        {
         "geo": "geo",
         "hovertemplate": "<b>%{hovertext}</b><br><br>seller_city=araraquara<br>olist_loss=%{marker.size}<br>geolocation_lat=%{lat}<br>geolocation_lng=%{lon}<extra></extra>",
         "hovertext": [
          "araraquara",
          "araraquara"
         ],
         "lat": [
          -21.760806096824155,
          -21.75910441993188
         ],
         "legendgroup": "araraquara",
         "lon": [
          -48.17228519205648,
          -48.16642293075191
         ],
         "marker": {
          "color": "#FF6692",
          "size": [
           282.32425564591665,
           11.320407096437236
          ],
          "sizemode": "area",
          "sizeref": 194.3540148545791,
          "symbol": "circle"
         },
         "mode": "markers",
         "name": "araraquara",
         "showlegend": true,
         "type": "scattergeo"
        },
        {
         "geo": "geo",
         "hovertemplate": "<b>%{hovertext}</b><br><br>seller_city=contagem<br>olist_loss=%{marker.size}<br>geolocation_lat=%{lat}<br>geolocation_lng=%{lon}<extra></extra>",
         "hovertext": [
          "contagem",
          "contagem"
         ],
         "lat": [
          -19.944519773919623,
          -19.893454436332657
         ],
         "legendgroup": "contagem",
         "lon": [
          -44.03388528779314,
          -44.03400171616229
         ],
         "marker": {
          "color": "#B6E880",
          "size": [
           259.02182874297114,
           10.694703548218612
          ],
          "sizemode": "area",
          "sizeref": 194.3540148545791,
          "symbol": "circle"
         },
         "mode": "markers",
         "name": "contagem",
         "showlegend": true,
         "type": "scattergeo"
        },
        {
         "geo": "geo",
         "hovertemplate": "<b>%{hovertext}</b><br><br>seller_city=juiz de fora<br>olist_loss=%{marker.size}<br>geolocation_lat=%{lat}<br>geolocation_lng=%{lon}<extra></extra>",
         "hovertext": [
          "juiz de fora"
         ],
         "lat": [
          -21.729309223700177
         ],
         "legendgroup": "juiz de fora",
         "lon": [
          -43.34147826034389
         ],
         "marker": {
          "color": "#FF97FF",
          "size": [
           254.2839945462232
          ],
          "sizemode": "area",
          "sizeref": 194.3540148545791,
          "symbol": "circle"
         },
         "mode": "markers",
         "name": "juiz de fora",
         "showlegend": true,
         "type": "scattergeo"
        },
        {
         "geo": "geo",
         "hovertemplate": "<b>%{hovertext}</b><br><br>seller_city=coronel fabriciano<br>olist_loss=%{marker.size}<br>geolocation_lat=%{lat}<br>geolocation_lng=%{lon}<extra></extra>",
         "hovertext": [
          "coronel fabriciano"
         ],
         "lat": [
          -19.50664329902649
         ],
         "legendgroup": "coronel fabriciano",
         "lon": [
          -42.630873484496206
         ],
         "marker": {
          "color": "#FECB52",
          "size": [
           249.83899454622315
          ],
          "sizemode": "area",
          "sizeref": 194.3540148545791,
          "symbol": "circle"
         },
         "mode": "markers",
         "name": "coronel fabriciano",
         "showlegend": true,
         "type": "scattergeo"
        },
        {
         "geo": "geo",
         "hovertemplate": "<b>%{hovertext}</b><br><br>seller_city=marilia<br>olist_loss=%{marker.size}<br>geolocation_lat=%{lat}<br>geolocation_lng=%{lon}<extra></extra>",
         "hovertext": [
          "marilia"
         ],
         "lat": [
          -22.210461027738702
         ],
         "legendgroup": "marilia",
         "lon": [
          -49.93571261075899
         ],
         "marker": {
          "color": "#636efa",
          "size": [
           234.2766397900975
          ],
          "sizemode": "area",
          "sizeref": 194.3540148545791,
          "symbol": "circle"
         },
         "mode": "markers",
         "name": "marilia",
         "showlegend": true,
         "type": "scattergeo"
        },
        {
         "geo": "geo",
         "hovertemplate": "<b>%{hovertext}</b><br><br>seller_city=sorocaba<br>olist_loss=%{marker.size}<br>geolocation_lat=%{lat}<br>geolocation_lng=%{lon}<extra></extra>",
         "hovertext": [
          "sorocaba",
          "sorocaba"
         ],
         "lat": [
          -23.49636707533955,
          -23.539013392723216
         ],
         "legendgroup": "sorocaba",
         "lon": [
          -47.43890030979464,
          -47.49104229586244
         ],
         "marker": {
          "color": "#EF553B",
          "size": [
           219.76289570082406,
           17.12377952327911
          ],
          "sizemode": "area",
          "sizeref": 194.3540148545791,
          "symbol": "circle"
         },
         "mode": "markers",
         "name": "sorocaba",
         "showlegend": true,
         "type": "scattergeo"
        },
        {
         "geo": "geo",
         "hovertemplate": "<b>%{hovertext}</b><br><br>seller_city=teixeira soares<br>olist_loss=%{marker.size}<br>geolocation_lat=%{lat}<br>geolocation_lng=%{lon}<extra></extra>",
         "hovertext": [
          "teixeira soares"
         ],
         "lat": [
          -25.372898999999997
         ],
         "legendgroup": "teixeira soares",
         "lon": [
          -50.46185700000001
         ],
         "marker": {
          "color": "#00cc96",
          "size": [
           202.30831831147225
          ],
          "sizemode": "area",
          "sizeref": 194.3540148545791,
          "symbol": "circle"
         },
         "mode": "markers",
         "name": "teixeira soares",
         "showlegend": true,
         "type": "scattergeo"
        },
        {
         "geo": "geo",
         "hovertemplate": "<b>%{hovertext}</b><br><br>seller_city=indaiatuba<br>olist_loss=%{marker.size}<br>geolocation_lat=%{lat}<br>geolocation_lng=%{lon}<extra></extra>",
         "hovertext": [
          "indaiatuba"
         ],
         "lat": [
          -23.141554810215275
         ],
         "legendgroup": "indaiatuba",
         "lon": [
          -47.23811647179686
         ],
         "marker": {
          "color": "#ab63fa",
          "size": [
           202.1886902653314
          ],
          "sizemode": "area",
          "sizeref": 194.3540148545791,
          "symbol": "circle"
         },
         "mode": "markers",
         "name": "indaiatuba",
         "showlegend": true,
         "type": "scattergeo"
        },
        {
         "geo": "geo",
         "hovertemplate": "<b>%{hovertext}</b><br><br>seller_city=valinhos<br>olist_loss=%{marker.size}<br>geolocation_lat=%{lat}<br>geolocation_lng=%{lon}<extra></extra>",
         "hovertext": [
          "valinhos",
          "valinhos"
         ],
         "lat": [
          -22.976619071841363,
          -22.9865591766809
         ],
         "legendgroup": "valinhos",
         "lon": [
          -47.01071509319301,
          -46.98871848455929
         ],
         "marker": {
          "color": "#FFA15A",
          "size": [
           198.21118267618544,
           2.0047035482186146
          ],
          "sizemode": "area",
          "sizeref": 194.3540148545791,
          "symbol": "circle"
         },
         "mode": "markers",
         "name": "valinhos",
         "showlegend": true,
         "type": "scattergeo"
        },
        {
         "geo": "geo",
         "hovertemplate": "<b>%{hovertext}</b><br><br>seller_city=taruma<br>olist_loss=%{marker.size}<br>geolocation_lat=%{lat}<br>geolocation_lng=%{lon}<extra></extra>",
         "hovertext": [
          "taruma"
         ],
         "lat": [
          -22.751694253550635
         ],
         "legendgroup": "taruma",
         "lon": [
          -50.5739497814992
         ],
         "marker": {
          "color": "#19d3f3",
          "size": [
           196.38767610613263
          ],
          "sizemode": "area",
          "sizeref": 194.3540148545791,
          "symbol": "circle"
         },
         "mode": "markers",
         "name": "taruma",
         "showlegend": true,
         "type": "scattergeo"
        },
        {
         "geo": "geo",
         "hovertemplate": "<b>%{hovertext}</b><br><br>seller_city=portoferreira<br>olist_loss=%{marker.size}<br>geolocation_lat=%{lat}<br>geolocation_lng=%{lon}<extra></extra>",
         "hovertext": [
          "portoferreira"
         ],
         "lat": [
          -21.858555070695942
         ],
         "legendgroup": "portoferreira",
         "lon": [
          -47.48403458197557
         ],
         "marker": {
          "color": "#FF6692",
          "size": [
           190.20133805306634
          ],
          "sizemode": "area",
          "sizeref": 194.3540148545791,
          "symbol": "circle"
         },
         "mode": "markers",
         "name": "portoferreira",
         "showlegend": true,
         "type": "scattergeo"
        },
        {
         "geo": "geo",
         "hovertemplate": "<b>%{hovertext}</b><br><br>seller_city=sao goncalo<br>olist_loss=%{marker.size}<br>geolocation_lat=%{lat}<br>geolocation_lng=%{lon}<extra></extra>",
         "hovertext": [
          "sao goncalo",
          "sao goncalo"
         ],
         "lat": [
          -22.82732701725956,
          -22.80395133423044
         ],
         "legendgroup": "sao goncalo",
         "lon": [
          -43.05044041062229,
          -42.96490045553483
         ],
         "marker": {
          "color": "#B6E880",
          "size": [
           183.22819002889992,
           9.603779523279115
          ],
          "sizemode": "area",
          "sizeref": 194.3540148545791,
          "symbol": "circle"
         },
         "mode": "markers",
         "name": "sao goncalo",
         "showlegend": true,
         "type": "scattergeo"
        },
        {
         "geo": "geo",
         "hovertemplate": "<b>%{hovertext}</b><br><br>seller_city=congonhal<br>olist_loss=%{marker.size}<br>geolocation_lat=%{lat}<br>geolocation_lng=%{lon}<extra></extra>",
         "hovertext": [
          "congonhal"
         ],
         "lat": [
          -22.15937587770692
         ],
         "legendgroup": "congonhal",
         "lon": [
          -46.04402732344177
         ],
         "marker": {
          "color": "#FF97FF",
          "size": [
           174.5160245865086
          ],
          "sizemode": "area",
          "sizeref": 194.3540148545791,
          "symbol": "circle"
         },
         "mode": "markers",
         "name": "congonhal",
         "showlegend": true,
         "type": "scattergeo"
        },
        {
         "geo": "geo",
         "hovertemplate": "<b>%{hovertext}</b><br><br>seller_city=bady bassitt<br>olist_loss=%{marker.size}<br>geolocation_lat=%{lat}<br>geolocation_lng=%{lon}<extra></extra>",
         "hovertext": [
          "bady bassitt"
         ],
         "lat": [
          -20.9245222402303
         ],
         "legendgroup": "bady bassitt",
         "lon": [
          -49.45780155372428
         ],
         "marker": {
          "color": "#FECB52",
          "size": [
           155.3068141928744
          ],
          "sizemode": "area",
          "sizeref": 194.3540148545791,
          "symbol": "circle"
         },
         "mode": "markers",
         "name": "bady bassitt",
         "showlegend": true,
         "type": "scattergeo"
        },
        {
         "geo": "geo",
         "hovertemplate": "<b>%{hovertext}</b><br><br>seller_city=joinville<br>olist_loss=%{marker.size}<br>geolocation_lat=%{lat}<br>geolocation_lng=%{lon}<extra></extra>",
         "hovertext": [
          "joinville",
          "joinville"
         ],
         "lat": [
          -26.270855620639093,
          -26.330548143460163
         ],
         "legendgroup": "joinville",
         "lon": [
          -48.86166604614817,
          -48.88090174304856
         ],
         "marker": {
          "color": "#636efa",
          "size": [
           154.6294070964372,
           0.13263359651091378
          ],
          "sizemode": "area",
          "sizeref": 194.3540148545791,
          "symbol": "circle"
         },
         "mode": "markers",
         "name": "joinville",
         "showlegend": true,
         "type": "scattergeo"
        },
        {
         "geo": "geo",
         "hovertemplate": "<b>%{hovertext}</b><br><br>seller_city=itaborai<br>olist_loss=%{marker.size}<br>geolocation_lat=%{lat}<br>geolocation_lng=%{lon}<extra></extra>",
         "hovertext": [
          "itaborai"
         ],
         "lat": [
          -22.70666999999997
         ],
         "legendgroup": "itaborai",
         "lon": [
          -42.896109999999965
         ],
         "marker": {
          "color": "#EF553B",
          "size": [
           149.1489945462232
          ],
          "sizemode": "area",
          "sizeref": 194.3540148545791,
          "symbol": "circle"
         },
         "mode": "markers",
         "name": "itaborai",
         "showlegend": true,
         "type": "scattergeo"
        },
        {
         "geo": "geo",
         "hovertemplate": "<b>%{hovertext}</b><br><br>seller_city=capivari<br>olist_loss=%{marker.size}<br>geolocation_lat=%{lat}<br>geolocation_lng=%{lon}<extra></extra>",
         "hovertext": [
          "capivari"
         ],
         "lat": [
          -23.0122137105142
         ],
         "legendgroup": "capivari",
         "lon": [
          -47.52203973160603
         ],
         "marker": {
          "color": "#00cc96",
          "size": [
           136.11655378650926
          ],
          "sizemode": "area",
          "sizeref": 194.3540148545791,
          "symbol": "circle"
         },
         "mode": "markers",
         "name": "capivari",
         "showlegend": true,
         "type": "scattergeo"
        },
        {
         "geo": "geo",
         "hovertemplate": "<b>%{hovertext}</b><br><br>seller_city=goiania<br>olist_loss=%{marker.size}<br>geolocation_lat=%{lat}<br>geolocation_lng=%{lon}<extra></extra>",
         "hovertext": [
          "goiania",
          "goiania"
         ],
         "lat": [
          -16.667759999999944,
          -16.70654296583296
         ],
         "legendgroup": "goiania",
         "lon": [
          -49.26147649999996,
          -49.2684231411224
         ],
         "marker": {
          "color": "#ab63fa",
          "size": [
           117.23470354821859,
           17.672703548218607
          ],
          "sizemode": "area",
          "sizeref": 194.3540148545791,
          "symbol": "circle"
         },
         "mode": "markers",
         "name": "goiania",
         "showlegend": true,
         "type": "scattergeo"
        },
        {
         "geo": "geo",
         "hovertemplate": "<b>%{hovertext}</b><br><br>seller_city=araguari<br>olist_loss=%{marker.size}<br>geolocation_lat=%{lat}<br>geolocation_lng=%{lon}<extra></extra>",
         "hovertext": [
          "araguari"
         ],
         "lat": [
          -18.643784093954583
         ],
         "legendgroup": "araguari",
         "lon": [
          -48.20804381879092
         ],
         "marker": {
          "color": "#FFA15A",
          "size": [
           109.53785600157062
          ],
          "sizemode": "area",
          "sizeref": 194.3540148545791,
          "symbol": "circle"
         },
         "mode": "markers",
         "name": "araguari",
         "showlegend": true,
         "type": "scattergeo"
        },
        {
         "geo": "geo",
         "hovertemplate": "<b>%{hovertext}</b><br><br>seller_city=mesquita<br>olist_loss=%{marker.size}<br>geolocation_lat=%{lat}<br>geolocation_lng=%{lon}<extra></extra>",
         "hovertext": [
          "mesquita"
         ],
         "lat": [
          -22.767224960596728
         ],
         "legendgroup": "mesquita",
         "lon": [
          -43.424453496437685
         ],
         "marker": {
          "color": "#19d3f3",
          "size": [
           102.10892483753025
          ],
          "sizemode": "area",
          "sizeref": 194.3540148545791,
          "symbol": "circle"
         },
         "mode": "markers",
         "name": "mesquita",
         "showlegend": true,
         "type": "scattergeo"
        },
        {
         "geo": "geo",
         "hovertemplate": "<b>%{hovertext}</b><br><br>seller_city=tupa<br>olist_loss=%{marker.size}<br>geolocation_lat=%{lat}<br>geolocation_lng=%{lon}<extra></extra>",
         "hovertext": [
          "tupa"
         ],
         "lat": [
          -21.936588293449766
         ],
         "legendgroup": "tupa",
         "lon": [
          -50.52238400033537
         ],
         "marker": {
          "color": "#FF6692",
          "size": [
           100.13377952327912
          ],
          "sizemode": "area",
          "sizeref": 194.3540148545791,
          "symbol": "circle"
         },
         "mode": "markers",
         "name": "tupa",
         "showlegend": true,
         "type": "scattergeo"
        },
        {
         "geo": "geo",
         "hovertemplate": "<b>%{hovertext}</b><br><br>seller_city=cascavel<br>olist_loss=%{marker.size}<br>geolocation_lat=%{lat}<br>geolocation_lng=%{lon}<extra></extra>",
         "hovertext": [
          "cascavel"
         ],
         "lat": [
          -24.966371460470743
         ],
         "legendgroup": "cascavel",
         "lon": [
          -53.46488320191585
         ],
         "marker": {
          "color": "#B6E880",
          "size": [
           86.31542162621736
          ],
          "sizemode": "area",
          "sizeref": 194.3540148545791,
          "symbol": "circle"
         },
         "mode": "markers",
         "name": "cascavel",
         "showlegend": true,
         "type": "scattergeo"
        },
        {
         "geo": "geo",
         "hovertemplate": "<b>%{hovertext}</b><br><br>seller_city=santo antonio da patrulha<br>olist_loss=%{marker.size}<br>geolocation_lat=%{lat}<br>geolocation_lng=%{lon}<extra></extra>",
         "hovertext": [
          "santo antonio da patrulha"
         ],
         "lat": [
          -29.8278405
         ],
         "legendgroup": "santo antonio da patrulha",
         "lon": [
          -50.5234755
         ],
         "marker": {
          "color": "#FF97FF",
          "size": [
           85.42377952327911
          ],
          "sizemode": "area",
          "sizeref": 194.3540148545791,
          "symbol": "circle"
         },
         "mode": "markers",
         "name": "santo antonio da patrulha",
         "showlegend": true,
         "type": "scattergeo"
        },
        {
         "geo": "geo",
         "hovertemplate": "<b>%{hovertext}</b><br><br>seller_city=penapolis<br>olist_loss=%{marker.size}<br>geolocation_lat=%{lat}<br>geolocation_lng=%{lon}<extra></extra>",
         "hovertext": [
          "penapolis"
         ],
         "lat": [
          -21.426570046543283
         ],
         "legendgroup": "penapolis",
         "lon": [
          -50.06791761043272
         ],
         "marker": {
          "color": "#FECB52",
          "size": [
           81.8426587652657
          ],
          "sizemode": "area",
          "sizeref": 194.3540148545791,
          "symbol": "circle"
         },
         "mode": "markers",
         "name": "penapolis",
         "showlegend": true,
         "type": "scattergeo"
        },
        {
         "geo": "geo",
         "hovertemplate": "<b>%{hovertext}</b><br><br>seller_city=sete lagoas<br>olist_loss=%{marker.size}<br>geolocation_lat=%{lat}<br>geolocation_lng=%{lon}<extra></extra>",
         "hovertext": [
          "sete lagoas"
         ],
         "lat": [
          -19.46361254830593
         ],
         "legendgroup": "sete lagoas",
         "lon": [
          -44.24441403023008
         ],
         "marker": {
          "color": "#636efa",
          "size": [
           72.6170316615935
          ],
          "sizemode": "area",
          "sizeref": 194.3540148545791,
          "symbol": "circle"
         },
         "mode": "markers",
         "name": "sete lagoas",
         "showlegend": true,
         "type": "scattergeo"
        },
        {
         "geo": "geo",
         "hovertemplate": "<b>%{hovertext}</b><br><br>seller_city=osasco<br>olist_loss=%{marker.size}<br>geolocation_lat=%{lat}<br>geolocation_lng=%{lon}<extra></extra>",
         "hovertext": [
          "osasco",
          "osasco"
         ],
         "lat": [
          -23.50689076715323,
          -23.565986162357948
         ],
         "legendgroup": "osasco",
         "lon": [
          -46.78586646309645,
          -46.78504212655093
         ],
         "marker": {
          "color": "#EF553B",
          "size": [
           68.71507211070502,
           18.91607211070493
          ],
          "sizemode": "area",
          "sizeref": 194.3540148545791,
          "symbol": "circle"
         },
         "mode": "markers",
         "name": "osasco",
         "showlegend": true,
         "type": "scattergeo"
        },
        {
         "geo": "geo",
         "hovertemplate": "<b>%{hovertext}</b><br><br>seller_city=porto ferreira<br>olist_loss=%{marker.size}<br>geolocation_lat=%{lat}<br>geolocation_lng=%{lon}<extra></extra>",
         "hovertext": [
          "porto ferreira"
         ],
         "lat": [
          -21.858555070695942
         ],
         "legendgroup": "porto ferreira",
         "lon": [
          -47.48403458197557
         ],
         "marker": {
          "color": "#00cc96",
          "size": [
           65.36633805306633
          ],
          "sizemode": "area",
          "sizeref": 194.3540148545791,
          "symbol": "circle"
         },
         "mode": "markers",
         "name": "porto ferreira",
         "showlegend": true,
         "type": "scattergeo"
        },
        {
         "geo": "geo",
         "hovertemplate": "<b>%{hovertext}</b><br><br>seller_city=sao caetano do sul<br>olist_loss=%{marker.size}<br>geolocation_lat=%{lat}<br>geolocation_lng=%{lon}<extra></extra>",
         "hovertext": [
          "sao caetano do sul",
          "sao caetano do sul"
         ],
         "lat": [
          -23.637496609498484,
          -23.626053031363607
         ],
         "legendgroup": "sao caetano do sul",
         "lon": [
          -46.57411344809283,
          -46.554888478215695
         ],
         "marker": {
          "color": "#ab63fa",
          "size": [
           53.30377952327912,
           20.356639790097503
          ],
          "sizemode": "area",
          "sizeref": 194.3540148545791,
          "symbol": "circle"
         },
         "mode": "markers",
         "name": "sao caetano do sul",
         "showlegend": true,
         "type": "scattergeo"
        },
        {
         "geo": "geo",
         "hovertemplate": "<b>%{hovertext}</b><br><br>seller_city=caxias do sul<br>olist_loss=%{marker.size}<br>geolocation_lat=%{lat}<br>geolocation_lng=%{lon}<extra></extra>",
         "hovertext": [
          "caxias do sul"
         ],
         "lat": [
          -29.16957635052199
         ],
         "legendgroup": "caxias do sul",
         "lon": [
          -51.164852512339095
         ],
         "marker": {
          "color": "#FFA15A",
          "size": [
           45.64382874297115
          ],
          "sizemode": "area",
          "sizeref": 194.3540148545791,
          "symbol": "circle"
         },
         "mode": "markers",
         "name": "caxias do sul",
         "showlegend": true,
         "type": "scattergeo"
        },
        {
         "geo": "geo",
         "hovertemplate": "<b>%{hovertext}</b><br><br>seller_city=bauru<br>olist_loss=%{marker.size}<br>geolocation_lat=%{lat}<br>geolocation_lng=%{lon}<extra></extra>",
         "hovertext": [
          "bauru"
         ],
         "lat": [
          -22.33259929227913
         ],
         "legendgroup": "bauru",
         "lon": [
          -49.0443811707606
         ],
         "marker": {
          "color": "#19d3f3",
          "size": [
           35.26877952327911
          ],
          "sizemode": "area",
          "sizeref": 194.3540148545791,
          "symbol": "circle"
         },
         "mode": "markers",
         "name": "bauru",
         "showlegend": true,
         "type": "scattergeo"
        },
        {
         "geo": "geo",
         "hovertemplate": "<b>%{hovertext}</b><br><br>seller_city=itapevi<br>olist_loss=%{marker.size}<br>geolocation_lat=%{lat}<br>geolocation_lng=%{lon}<extra></extra>",
         "hovertext": [
          "itapevi"
         ],
         "lat": [
          -23.56337220714669
         ],
         "legendgroup": "itapevi",
         "lon": [
          -46.93710104735605
         ],
         "marker": {
          "color": "#FF6692",
          "size": [
           33.213903829811386
          ],
          "sizemode": "area",
          "sizeref": 194.3540148545791,
          "symbol": "circle"
         },
         "mode": "markers",
         "name": "itapevi",
         "showlegend": true,
         "type": "scattergeo"
        },
        {
         "geo": "geo",
         "hovertemplate": "<b>%{hovertext}</b><br><br>seller_city=taboao da serra<br>olist_loss=%{marker.size}<br>geolocation_lat=%{lat}<br>geolocation_lng=%{lon}<extra></extra>",
         "hovertext": [
          "taboao da serra"
         ],
         "lat": [
          -23.615066461567263
         ],
         "legendgroup": "taboao da serra",
         "lon": [
          -46.79855272938433
         ],
         "marker": {
          "color": "#B6E880",
          "size": [
           30.34077952327914
          ],
          "sizemode": "area",
          "sizeref": 194.3540148545791,
          "symbol": "circle"
         },
         "mode": "markers",
         "name": "taboao da serra",
         "showlegend": true,
         "type": "scattergeo"
        },
        {
         "geo": "geo",
         "hovertemplate": "<b>%{hovertext}</b><br><br>seller_city=toledo<br>olist_loss=%{marker.size}<br>geolocation_lat=%{lat}<br>geolocation_lng=%{lon}<extra></extra>",
         "hovertext": [
          "toledo"
         ],
         "lat": [
          -24.709844492474502
         ],
         "legendgroup": "toledo",
         "lon": [
          -53.75003279931422
         ],
         "marker": {
          "color": "#FF97FF",
          "size": [
           26.184110644655846
          ],
          "sizemode": "area",
          "sizeref": 194.3540148545791,
          "symbol": "circle"
         },
         "mode": "markers",
         "name": "toledo",
         "showlegend": true,
         "type": "scattergeo"
        },
        {
         "geo": "geo",
         "hovertemplate": "<b>%{hovertext}</b><br><br>seller_city=macatuba<br>olist_loss=%{marker.size}<br>geolocation_lat=%{lat}<br>geolocation_lng=%{lon}<extra></extra>",
         "hovertext": [
          "macatuba"
         ],
         "lat": [
          -22.50137476856727
         ],
         "legendgroup": "macatuba",
         "lon": [
          -48.707334186318725
         ],
         "marker": {
          "color": "#FECB52",
          "size": [
           20.894703548218615
          ],
          "sizemode": "area",
          "sizeref": 194.3540148545791,
          "symbol": "circle"
         },
         "mode": "markers",
         "name": "macatuba",
         "showlegend": true,
         "type": "scattergeo"
        },
        {
         "geo": "geo",
         "hovertemplate": "<b>%{hovertext}</b><br><br>seller_city=rio claro<br>olist_loss=%{marker.size}<br>geolocation_lat=%{lat}<br>geolocation_lng=%{lon}<extra></extra>",
         "hovertext": [
          "rio claro"
         ],
         "lat": [
          -22.402133192076768
         ],
         "legendgroup": "rio claro",
         "lon": [
          -47.56233402025511
         ],
         "marker": {
          "color": "#636efa",
          "size": [
           19.722676106132667
          ],
          "sizemode": "area",
          "sizeref": 194.3540148545791,
          "symbol": "circle"
         },
         "mode": "markers",
         "name": "rio claro",
         "showlegend": true,
         "type": "scattergeo"
        },
        {
         "geo": "geo",
         "hovertemplate": "<b>%{hovertext}</b><br><br>seller_city=novo hamburgo<br>olist_loss=%{marker.size}<br>geolocation_lat=%{lat}<br>geolocation_lng=%{lon}<extra></extra>",
         "hovertext": [
          "novo hamburgo"
         ],
         "lat": [
          -29.684009472963563
         ],
         "legendgroup": "novo hamburgo",
         "lon": [
          -51.128338877236175
         ],
         "marker": {
          "color": "#EF553B",
          "size": [
           19.204703548218617
          ],
          "sizemode": "area",
          "sizeref": 194.3540148545791,
          "symbol": "circle"
         },
         "mode": "markers",
         "name": "novo hamburgo",
         "showlegend": true,
         "type": "scattergeo"
        },
        {
         "geo": "geo",
         "hovertemplate": "<b>%{hovertext}</b><br><br>seller_city=pocos de caldas<br>olist_loss=%{marker.size}<br>geolocation_lat=%{lat}<br>geolocation_lng=%{lon}<extra></extra>",
         "hovertext": [
          "pocos de caldas"
         ],
         "lat": [
          -21.799403368591747
         ],
         "legendgroup": "pocos de caldas",
         "lon": [
          -46.50732673145176
         ],
         "marker": {
          "color": "#00cc96",
          "size": [
           18.783779523279122
          ],
          "sizemode": "area",
          "sizeref": 194.3540148545791,
          "symbol": "circle"
         },
         "mode": "markers",
         "name": "pocos de caldas",
         "showlegend": true,
         "type": "scattergeo"
        },
        {
         "geo": "geo",
         "hovertemplate": "<b>%{hovertext}</b><br><br>seller_city=aguas claras df<br>olist_loss=%{marker.size}<br>geolocation_lat=%{lat}<br>geolocation_lng=%{lon}<extra></extra>",
         "hovertext": [
          "aguas claras df"
         ],
         "lat": [
          -15.832334737539538
         ],
         "legendgroup": "aguas claras df",
         "lon": [
          -48.03880152367143
         ],
         "marker": {
          "color": "#ab63fa",
          "size": [
           18.694703548218612
          ],
          "sizemode": "area",
          "sizeref": 194.3540148545791,
          "symbol": "circle"
         },
         "mode": "markers",
         "name": "aguas claras df",
         "showlegend": true,
         "type": "scattergeo"
        },
        {
         "geo": "geo",
         "hovertemplate": "<b>%{hovertext}</b><br><br>seller_city=farroupilha<br>olist_loss=%{marker.size}<br>geolocation_lat=%{lat}<br>geolocation_lng=%{lon}<extra></extra>",
         "hovertext": [
          "farroupilha"
         ],
         "lat": [
          -29.20322965727452
         ],
         "legendgroup": "farroupilha",
         "lon": [
          -51.35111427008906
         ],
         "marker": {
          "color": "#FFA15A",
          "size": [
           18.204703548218617
          ],
          "sizemode": "area",
          "sizeref": 194.3540148545791,
          "symbol": "circle"
         },
         "mode": "markers",
         "name": "farroupilha",
         "showlegend": true,
         "type": "scattergeo"
        },
        {
         "geo": "geo",
         "hovertemplate": "<b>%{hovertext}</b><br><br>seller_city=cordilheira alta<br>olist_loss=%{marker.size}<br>geolocation_lat=%{lat}<br>geolocation_lng=%{lon}<extra></extra>",
         "hovertext": [
          "cordilheira alta"
         ],
         "lat": [
          -26.981354045514674
         ],
         "legendgroup": "cordilheira alta",
         "lon": [
          -52.59374448121119
         ],
         "marker": {
          "color": "#19d3f3",
          "size": [
           16.395703548218606
          ],
          "sizemode": "area",
          "sizeref": 194.3540148545791,
          "symbol": "circle"
         },
         "mode": "markers",
         "name": "cordilheira alta",
         "showlegend": true,
         "type": "scattergeo"
        },
        {
         "geo": "geo",
         "hovertemplate": "<b>%{hovertext}</b><br><br>seller_city=fortaleza<br>olist_loss=%{marker.size}<br>geolocation_lat=%{lat}<br>geolocation_lng=%{lon}<extra></extra>",
         "hovertext": [
          "fortaleza"
         ],
         "lat": [
          -3.723672446852087
         ],
         "legendgroup": "fortaleza",
         "lon": [
          -38.59178942714525
         ],
         "marker": {
          "color": "#FF6692",
          "size": [
           16.24770354821861
          ],
          "sizemode": "area",
          "sizeref": 194.3540148545791,
          "symbol": "circle"
         },
         "mode": "markers",
         "name": "fortaleza",
         "showlegend": true,
         "type": "scattergeo"
        },
        {
         "geo": "geo",
         "hovertemplate": "<b>%{hovertext}</b><br><br>seller_city=carmo da mata<br>olist_loss=%{marker.size}<br>geolocation_lat=%{lat}<br>geolocation_lng=%{lon}<extra></extra>",
         "hovertext": [
          "carmo da mata"
         ],
         "lat": [
          -20.560695251372668
         ],
         "legendgroup": "carmo da mata",
         "lon": [
          -44.86750449963131
         ],
         "marker": {
          "color": "#B6E880",
          "size": [
           14.704703548218617
          ],
          "sizemode": "area",
          "sizeref": 194.3540148545791,
          "symbol": "circle"
         },
         "mode": "markers",
         "name": "carmo da mata",
         "showlegend": true,
         "type": "scattergeo"
        },
        {
         "geo": "geo",
         "hovertemplate": "<b>%{hovertext}</b><br><br>seller_city=varginha<br>olist_loss=%{marker.size}<br>geolocation_lat=%{lat}<br>geolocation_lng=%{lon}<extra></extra>",
         "hovertext": [
          "varginha"
         ],
         "lat": [
          -21.56727451244741
         ],
         "legendgroup": "varginha",
         "lon": [
          -45.43589090780592
         ],
         "marker": {
          "color": "#FF97FF",
          "size": [
           14.694703548218612
          ],
          "sizemode": "area",
          "sizeref": 194.3540148545791,
          "symbol": "circle"
         },
         "mode": "markers",
         "name": "varginha",
         "showlegend": true,
         "type": "scattergeo"
        },
        {
         "geo": "geo",
         "hovertemplate": "<b>%{hovertext}</b><br><br>seller_city=xanxere<br>olist_loss=%{marker.size}<br>geolocation_lat=%{lat}<br>geolocation_lng=%{lon}<extra></extra>",
         "hovertext": [
          "xanxere"
         ],
         "lat": [
          -26.87062454886829
         ],
         "legendgroup": "xanxere",
         "lon": [
          -52.40448790429404
         ],
         "marker": {
          "color": "#FECB52",
          "size": [
           14.204703548218617
          ],
          "sizemode": "area",
          "sizeref": 194.3540148545791,
          "symbol": "circle"
         },
         "mode": "markers",
         "name": "xanxere",
         "showlegend": true,
         "type": "scattergeo"
        },
        {
         "geo": "geo",
         "hovertemplate": "<b>%{hovertext}</b><br><br>seller_city=sao jose dos pinhais<br>olist_loss=%{marker.size}<br>geolocation_lat=%{lat}<br>geolocation_lng=%{lon}<extra></extra>",
         "hovertext": [
          "sao jose dos pinhais",
          "sao jose dos pinhais"
         ],
         "lat": [
          -25.533751917338503,
          -25.533552342489493
         ],
         "legendgroup": "sao jose dos pinhais",
         "lon": [
          -49.199826126071535,
          -49.18726902068778
         ],
         "marker": {
          "color": "#636efa",
          "size": [
           11.335779523279115,
           9.194703548218612
          ],
          "sizemode": "area",
          "sizeref": 194.3540148545791,
          "symbol": "circle"
         },
         "mode": "markers",
         "name": "sao jose dos pinhais",
         "showlegend": true,
         "type": "scattergeo"
        },
        {
         "geo": "geo",
         "hovertemplate": "<b>%{hovertext}</b><br><br>seller_city=apucarana<br>olist_loss=%{marker.size}<br>geolocation_lat=%{lat}<br>geolocation_lng=%{lon}<extra></extra>",
         "hovertext": [
          "apucarana"
         ],
         "lat": [
          -23.558241337915224
         ],
         "legendgroup": "apucarana",
         "lon": [
          -51.489341276340376
         ],
         "marker": {
          "color": "#EF553B",
          "size": [
           10.533779523279122
          ],
          "sizemode": "area",
          "sizeref": 194.3540148545791,
          "symbol": "circle"
         },
         "mode": "markers",
         "name": "apucarana",
         "showlegend": true,
         "type": "scattergeo"
        },
        {
         "geo": "geo",
         "hovertemplate": "<b>%{hovertext}</b><br><br>seller_city=porto alegre<br>olist_loss=%{marker.size}<br>geolocation_lat=%{lat}<br>geolocation_lng=%{lon}<extra></extra>",
         "hovertext": [
          "porto alegre",
          "porto alegre"
         ],
         "lat": [
          -29.986860174851422,
          -30.04404879488149
         ],
         "legendgroup": "porto alegre",
         "lon": [
          -51.19170121247608,
          -51.19180931334757
         ],
         "marker": {
          "color": "#00cc96",
          "size": [
           9.72377952327912,
           2.394703548218615
          ],
          "sizemode": "area",
          "sizeref": 194.3540148545791,
          "symbol": "circle"
         },
         "mode": "markers",
         "name": "porto alegre",
         "showlegend": true,
         "type": "scattergeo"
        },
        {
         "geo": "geo",
         "hovertemplate": "<b>%{hovertext}</b><br><br>seller_city=mogi guacu<br>olist_loss=%{marker.size}<br>geolocation_lat=%{lat}<br>geolocation_lng=%{lon}<extra></extra>",
         "hovertext": [
          "mogi guacu"
         ],
         "lat": [
          -22.359648157307664
         ],
         "legendgroup": "mogi guacu",
         "lon": [
          -46.93603474635176
         ],
         "marker": {
          "color": "#ab63fa",
          "size": [
           8.593407096437218
          ],
          "sizemode": "area",
          "sizeref": 194.3540148545791,
          "symbol": "circle"
         },
         "mode": "markers",
         "name": "mogi guacu",
         "showlegend": true,
         "type": "scattergeo"
        },
        {
         "geo": "geo",
         "hovertemplate": "<b>%{hovertext}</b><br><br>seller_city=cravinhos<br>olist_loss=%{marker.size}<br>geolocation_lat=%{lat}<br>geolocation_lng=%{lon}<extra></extra>",
         "hovertext": [
          "cravinhos"
         ],
         "lat": [
          -21.33657673516688
         ],
         "legendgroup": "cravinhos",
         "lon": [
          -47.74963189171813
         ],
         "marker": {
          "color": "#FFA15A",
          "size": [
           8.334703548218613
          ],
          "sizemode": "area",
          "sizeref": 194.3540148545791,
          "symbol": "circle"
         },
         "mode": "markers",
         "name": "cravinhos",
         "showlegend": true,
         "type": "scattergeo"
        },
        {
         "geo": "geo",
         "hovertemplate": "<b>%{hovertext}</b><br><br>seller_city=cambe<br>olist_loss=%{marker.size}<br>geolocation_lat=%{lat}<br>geolocation_lng=%{lon}<extra></extra>",
         "hovertext": [
          "cambe"
         ],
         "lat": [
          -23.29212231171705
         ],
         "legendgroup": "cambe",
         "lon": [
          -51.27502315585853
         ],
         "marker": {
          "color": "#19d3f3",
          "size": [
           8.294703548218607
          ],
          "sizemode": "area",
          "sizeref": 194.3540148545791,
          "symbol": "circle"
         },
         "mode": "markers",
         "name": "cambe",
         "showlegend": true,
         "type": "scattergeo"
        },
        {
         "geo": "geo",
         "hovertemplate": "<b>%{hovertext}</b><br><br>seller_city=arapongas<br>olist_loss=%{marker.size}<br>geolocation_lat=%{lat}<br>geolocation_lng=%{lon}<extra></extra>",
         "hovertext": [
          "arapongas"
         ],
         "lat": [
          -23.420739085916825
         ],
         "legendgroup": "arapongas",
         "lon": [
          -51.41460369847018
         ],
         "marker": {
          "color": "#FF6692",
          "size": [
           7.513779523279112
          ],
          "sizemode": "area",
          "sizeref": 194.3540148545791,
          "symbol": "circle"
         },
         "mode": "markers",
         "name": "arapongas",
         "showlegend": true,
         "type": "scattergeo"
        },
        {
         "geo": "geo",
         "hovertemplate": "<b>%{hovertext}</b><br><br>seller_city=blumenau<br>olist_loss=%{marker.size}<br>geolocation_lat=%{lat}<br>geolocation_lng=%{lon}<extra></extra>",
         "hovertext": [
          "blumenau"
         ],
         "lat": [
          -26.87609219920492
         ],
         "legendgroup": "blumenau",
         "lon": [
          -49.11778268660643
         ],
         "marker": {
          "color": "#B6E880",
          "size": [
           6.204703548218603
          ],
          "sizemode": "area",
          "sizeref": 194.3540148545791,
          "symbol": "circle"
         },
         "mode": "markers",
         "name": "blumenau",
         "showlegend": true,
         "type": "scattergeo"
        },
        {
         "geo": "geo",
         "hovertemplate": "<b>%{hovertext}</b><br><br>seller_city=braganca paulista<br>olist_loss=%{marker.size}<br>geolocation_lat=%{lat}<br>geolocation_lng=%{lon}<extra></extra>",
         "hovertext": [
          "braganca paulista"
         ],
         "lat": [
          -22.971647510075705
         ],
         "legendgroup": "braganca paulista",
         "lon": [
          -46.53361841170685
         ],
         "marker": {
          "color": "#FF97FF",
          "size": [
           5.395703548218606
          ],
          "sizemode": "area",
          "sizeref": 194.3540148545791,
          "symbol": "circle"
         },
         "mode": "markers",
         "name": "braganca paulista",
         "showlegend": true,
         "type": "scattergeo"
        },
        {
         "geo": "geo",
         "hovertemplate": "<b>%{hovertext}</b><br><br>seller_city=conchal<br>olist_loss=%{marker.size}<br>geolocation_lat=%{lat}<br>geolocation_lng=%{lon}<extra></extra>",
         "hovertext": [
          "conchal"
         ],
         "lat": [
          -22.338621
         ],
         "legendgroup": "conchal",
         "lon": [
          -47.17603125
         ],
         "marker": {
          "color": "#FECB52",
          "size": [
           4.121506324276808
          ],
          "sizemode": "area",
          "sizeref": 194.3540148545791,
          "symbol": "circle"
         },
         "mode": "markers",
         "name": "conchal",
         "showlegend": true,
         "type": "scattergeo"
        },
        {
         "geo": "geo",
         "hovertemplate": "<b>%{hovertext}</b><br><br>seller_city=canoas<br>olist_loss=%{marker.size}<br>geolocation_lat=%{lat}<br>geolocation_lng=%{lon}<extra></extra>",
         "hovertext": [
          "canoas"
         ],
         "lat": [
          -29.92327422093021
         ],
         "legendgroup": "canoas",
         "lon": [
          -51.16155342258625
         ],
         "marker": {
          "color": "#636efa",
          "size": [
           3.5857795232791148
          ],
          "sizemode": "area",
          "sizeref": 194.3540148545791,
          "symbol": "circle"
         },
         "mode": "markers",
         "name": "canoas",
         "showlegend": true,
         "type": "scattergeo"
        },
        {
         "geo": "geo",
         "hovertemplate": "<b>%{hovertext}</b><br><br>seller_city=fazenda rio grande<br>olist_loss=%{marker.size}<br>geolocation_lat=%{lat}<br>geolocation_lng=%{lon}<extra></extra>",
         "hovertext": [
          "fazenda rio grande"
         ],
         "lat": [
          -25.66745573437876
         ],
         "legendgroup": "fazenda rio grande",
         "lon": [
          -49.28880133395711
         ],
         "marker": {
          "color": "#EF553B",
          "size": [
           3.2037795232791098
          ],
          "sizemode": "area",
          "sizeref": 194.3540148545791,
          "symbol": "circle"
         },
         "mode": "markers",
         "name": "fazenda rio grande",
         "showlegend": true,
         "type": "scattergeo"
        },
        {
         "geo": "geo",
         "hovertemplate": "<b>%{hovertext}</b><br><br>seller_city=sumare<br>olist_loss=%{marker.size}<br>geolocation_lat=%{lat}<br>geolocation_lng=%{lon}<extra></extra>",
         "hovertext": [
          "sumare"
         ],
         "lat": [
          -22.813951149316207
         ],
         "legendgroup": "sumare",
         "lon": [
          -47.22434086940969
         ],
         "marker": {
          "color": "#00cc96",
          "size": [
           0.7867035482186111
          ],
          "sizemode": "area",
          "sizeref": 194.3540148545791,
          "symbol": "circle"
         },
         "mode": "markers",
         "name": "sumare",
         "showlegend": true,
         "type": "scattergeo"
        }
       ],
       "layout": {
        "geo": {
         "center": {},
         "domain": {
          "x": [
           0,
           1
          ],
          "y": [
           0,
           1
          ]
         },
         "scope": "south america"
        },
        "legend": {
         "itemsizing": "constant",
         "title": {
          "text": "seller_city"
         },
         "tracegroupgap": 0
        },
        "template": {
         "data": {
          "bar": [
           {
            "error_x": {
             "color": "#2a3f5f"
            },
            "error_y": {
             "color": "#2a3f5f"
            },
            "marker": {
             "line": {
              "color": "#E5ECF6",
              "width": 0.5
             },
             "pattern": {
              "fillmode": "overlay",
              "size": 10,
              "solidity": 0.2
             }
            },
            "type": "bar"
           }
          ],
          "barpolar": [
           {
            "marker": {
             "line": {
              "color": "#E5ECF6",
              "width": 0.5
             },
             "pattern": {
              "fillmode": "overlay",
              "size": 10,
              "solidity": 0.2
             }
            },
            "type": "barpolar"
           }
          ],
          "carpet": [
           {
            "aaxis": {
             "endlinecolor": "#2a3f5f",
             "gridcolor": "white",
             "linecolor": "white",
             "minorgridcolor": "white",
             "startlinecolor": "#2a3f5f"
            },
            "baxis": {
             "endlinecolor": "#2a3f5f",
             "gridcolor": "white",
             "linecolor": "white",
             "minorgridcolor": "white",
             "startlinecolor": "#2a3f5f"
            },
            "type": "carpet"
           }
          ],
          "choropleth": [
           {
            "colorbar": {
             "outlinewidth": 0,
             "ticks": ""
            },
            "type": "choropleth"
           }
          ],
          "contour": [
           {
            "colorbar": {
             "outlinewidth": 0,
             "ticks": ""
            },
            "colorscale": [
             [
              0,
              "#0d0887"
             ],
             [
              0.1111111111111111,
              "#46039f"
             ],
             [
              0.2222222222222222,
              "#7201a8"
             ],
             [
              0.3333333333333333,
              "#9c179e"
             ],
             [
              0.4444444444444444,
              "#bd3786"
             ],
             [
              0.5555555555555556,
              "#d8576b"
             ],
             [
              0.6666666666666666,
              "#ed7953"
             ],
             [
              0.7777777777777778,
              "#fb9f3a"
             ],
             [
              0.8888888888888888,
              "#fdca26"
             ],
             [
              1,
              "#f0f921"
             ]
            ],
            "type": "contour"
           }
          ],
          "contourcarpet": [
           {
            "colorbar": {
             "outlinewidth": 0,
             "ticks": ""
            },
            "type": "contourcarpet"
           }
          ],
          "heatmap": [
           {
            "colorbar": {
             "outlinewidth": 0,
             "ticks": ""
            },
            "colorscale": [
             [
              0,
              "#0d0887"
             ],
             [
              0.1111111111111111,
              "#46039f"
             ],
             [
              0.2222222222222222,
              "#7201a8"
             ],
             [
              0.3333333333333333,
              "#9c179e"
             ],
             [
              0.4444444444444444,
              "#bd3786"
             ],
             [
              0.5555555555555556,
              "#d8576b"
             ],
             [
              0.6666666666666666,
              "#ed7953"
             ],
             [
              0.7777777777777778,
              "#fb9f3a"
             ],
             [
              0.8888888888888888,
              "#fdca26"
             ],
             [
              1,
              "#f0f921"
             ]
            ],
            "type": "heatmap"
           }
          ],
          "heatmapgl": [
           {
            "colorbar": {
             "outlinewidth": 0,
             "ticks": ""
            },
            "colorscale": [
             [
              0,
              "#0d0887"
             ],
             [
              0.1111111111111111,
              "#46039f"
             ],
             [
              0.2222222222222222,
              "#7201a8"
             ],
             [
              0.3333333333333333,
              "#9c179e"
             ],
             [
              0.4444444444444444,
              "#bd3786"
             ],
             [
              0.5555555555555556,
              "#d8576b"
             ],
             [
              0.6666666666666666,
              "#ed7953"
             ],
             [
              0.7777777777777778,
              "#fb9f3a"
             ],
             [
              0.8888888888888888,
              "#fdca26"
             ],
             [
              1,
              "#f0f921"
             ]
            ],
            "type": "heatmapgl"
           }
          ],
          "histogram": [
           {
            "marker": {
             "pattern": {
              "fillmode": "overlay",
              "size": 10,
              "solidity": 0.2
             }
            },
            "type": "histogram"
           }
          ],
          "histogram2d": [
           {
            "colorbar": {
             "outlinewidth": 0,
             "ticks": ""
            },
            "colorscale": [
             [
              0,
              "#0d0887"
             ],
             [
              0.1111111111111111,
              "#46039f"
             ],
             [
              0.2222222222222222,
              "#7201a8"
             ],
             [
              0.3333333333333333,
              "#9c179e"
             ],
             [
              0.4444444444444444,
              "#bd3786"
             ],
             [
              0.5555555555555556,
              "#d8576b"
             ],
             [
              0.6666666666666666,
              "#ed7953"
             ],
             [
              0.7777777777777778,
              "#fb9f3a"
             ],
             [
              0.8888888888888888,
              "#fdca26"
             ],
             [
              1,
              "#f0f921"
             ]
            ],
            "type": "histogram2d"
           }
          ],
          "histogram2dcontour": [
           {
            "colorbar": {
             "outlinewidth": 0,
             "ticks": ""
            },
            "colorscale": [
             [
              0,
              "#0d0887"
             ],
             [
              0.1111111111111111,
              "#46039f"
             ],
             [
              0.2222222222222222,
              "#7201a8"
             ],
             [
              0.3333333333333333,
              "#9c179e"
             ],
             [
              0.4444444444444444,
              "#bd3786"
             ],
             [
              0.5555555555555556,
              "#d8576b"
             ],
             [
              0.6666666666666666,
              "#ed7953"
             ],
             [
              0.7777777777777778,
              "#fb9f3a"
             ],
             [
              0.8888888888888888,
              "#fdca26"
             ],
             [
              1,
              "#f0f921"
             ]
            ],
            "type": "histogram2dcontour"
           }
          ],
          "mesh3d": [
           {
            "colorbar": {
             "outlinewidth": 0,
             "ticks": ""
            },
            "type": "mesh3d"
           }
          ],
          "parcoords": [
           {
            "line": {
             "colorbar": {
              "outlinewidth": 0,
              "ticks": ""
             }
            },
            "type": "parcoords"
           }
          ],
          "pie": [
           {
            "automargin": true,
            "type": "pie"
           }
          ],
          "scatter": [
           {
            "marker": {
             "colorbar": {
              "outlinewidth": 0,
              "ticks": ""
             }
            },
            "type": "scatter"
           }
          ],
          "scatter3d": [
           {
            "line": {
             "colorbar": {
              "outlinewidth": 0,
              "ticks": ""
             }
            },
            "marker": {
             "colorbar": {
              "outlinewidth": 0,
              "ticks": ""
             }
            },
            "type": "scatter3d"
           }
          ],
          "scattercarpet": [
           {
            "marker": {
             "colorbar": {
              "outlinewidth": 0,
              "ticks": ""
             }
            },
            "type": "scattercarpet"
           }
          ],
          "scattergeo": [
           {
            "marker": {
             "colorbar": {
              "outlinewidth": 0,
              "ticks": ""
             }
            },
            "type": "scattergeo"
           }
          ],
          "scattergl": [
           {
            "marker": {
             "colorbar": {
              "outlinewidth": 0,
              "ticks": ""
             }
            },
            "type": "scattergl"
           }
          ],
          "scattermapbox": [
           {
            "marker": {
             "colorbar": {
              "outlinewidth": 0,
              "ticks": ""
             }
            },
            "type": "scattermapbox"
           }
          ],
          "scatterpolar": [
           {
            "marker": {
             "colorbar": {
              "outlinewidth": 0,
              "ticks": ""
             }
            },
            "type": "scatterpolar"
           }
          ],
          "scatterpolargl": [
           {
            "marker": {
             "colorbar": {
              "outlinewidth": 0,
              "ticks": ""
             }
            },
            "type": "scatterpolargl"
           }
          ],
          "scatterternary": [
           {
            "marker": {
             "colorbar": {
              "outlinewidth": 0,
              "ticks": ""
             }
            },
            "type": "scatterternary"
           }
          ],
          "surface": [
           {
            "colorbar": {
             "outlinewidth": 0,
             "ticks": ""
            },
            "colorscale": [
             [
              0,
              "#0d0887"
             ],
             [
              0.1111111111111111,
              "#46039f"
             ],
             [
              0.2222222222222222,
              "#7201a8"
             ],
             [
              0.3333333333333333,
              "#9c179e"
             ],
             [
              0.4444444444444444,
              "#bd3786"
             ],
             [
              0.5555555555555556,
              "#d8576b"
             ],
             [
              0.6666666666666666,
              "#ed7953"
             ],
             [
              0.7777777777777778,
              "#fb9f3a"
             ],
             [
              0.8888888888888888,
              "#fdca26"
             ],
             [
              1,
              "#f0f921"
             ]
            ],
            "type": "surface"
           }
          ],
          "table": [
           {
            "cells": {
             "fill": {
              "color": "#EBF0F8"
             },
             "line": {
              "color": "white"
             }
            },
            "header": {
             "fill": {
              "color": "#C8D4E3"
             },
             "line": {
              "color": "white"
             }
            },
            "type": "table"
           }
          ]
         },
         "layout": {
          "annotationdefaults": {
           "arrowcolor": "#2a3f5f",
           "arrowhead": 0,
           "arrowwidth": 1
          },
          "autotypenumbers": "strict",
          "coloraxis": {
           "colorbar": {
            "outlinewidth": 0,
            "ticks": ""
           }
          },
          "colorscale": {
           "diverging": [
            [
             0,
             "#8e0152"
            ],
            [
             0.1,
             "#c51b7d"
            ],
            [
             0.2,
             "#de77ae"
            ],
            [
             0.3,
             "#f1b6da"
            ],
            [
             0.4,
             "#fde0ef"
            ],
            [
             0.5,
             "#f7f7f7"
            ],
            [
             0.6,
             "#e6f5d0"
            ],
            [
             0.7,
             "#b8e186"
            ],
            [
             0.8,
             "#7fbc41"
            ],
            [
             0.9,
             "#4d9221"
            ],
            [
             1,
             "#276419"
            ]
           ],
           "sequential": [
            [
             0,
             "#0d0887"
            ],
            [
             0.1111111111111111,
             "#46039f"
            ],
            [
             0.2222222222222222,
             "#7201a8"
            ],
            [
             0.3333333333333333,
             "#9c179e"
            ],
            [
             0.4444444444444444,
             "#bd3786"
            ],
            [
             0.5555555555555556,
             "#d8576b"
            ],
            [
             0.6666666666666666,
             "#ed7953"
            ],
            [
             0.7777777777777778,
             "#fb9f3a"
            ],
            [
             0.8888888888888888,
             "#fdca26"
            ],
            [
             1,
             "#f0f921"
            ]
           ],
           "sequentialminus": [
            [
             0,
             "#0d0887"
            ],
            [
             0.1111111111111111,
             "#46039f"
            ],
            [
             0.2222222222222222,
             "#7201a8"
            ],
            [
             0.3333333333333333,
             "#9c179e"
            ],
            [
             0.4444444444444444,
             "#bd3786"
            ],
            [
             0.5555555555555556,
             "#d8576b"
            ],
            [
             0.6666666666666666,
             "#ed7953"
            ],
            [
             0.7777777777777778,
             "#fb9f3a"
            ],
            [
             0.8888888888888888,
             "#fdca26"
            ],
            [
             1,
             "#f0f921"
            ]
           ]
          },
          "colorway": [
           "#636efa",
           "#EF553B",
           "#00cc96",
           "#ab63fa",
           "#FFA15A",
           "#19d3f3",
           "#FF6692",
           "#B6E880",
           "#FF97FF",
           "#FECB52"
          ],
          "font": {
           "color": "#2a3f5f"
          },
          "geo": {
           "bgcolor": "white",
           "lakecolor": "white",
           "landcolor": "#E5ECF6",
           "showlakes": true,
           "showland": true,
           "subunitcolor": "white"
          },
          "hoverlabel": {
           "align": "left"
          },
          "hovermode": "closest",
          "mapbox": {
           "style": "light"
          },
          "paper_bgcolor": "white",
          "plot_bgcolor": "#E5ECF6",
          "polar": {
           "angularaxis": {
            "gridcolor": "white",
            "linecolor": "white",
            "ticks": ""
           },
           "bgcolor": "#E5ECF6",
           "radialaxis": {
            "gridcolor": "white",
            "linecolor": "white",
            "ticks": ""
           }
          },
          "scene": {
           "xaxis": {
            "backgroundcolor": "#E5ECF6",
            "gridcolor": "white",
            "gridwidth": 2,
            "linecolor": "white",
            "showbackground": true,
            "ticks": "",
            "zerolinecolor": "white"
           },
           "yaxis": {
            "backgroundcolor": "#E5ECF6",
            "gridcolor": "white",
            "gridwidth": 2,
            "linecolor": "white",
            "showbackground": true,
            "ticks": "",
            "zerolinecolor": "white"
           },
           "zaxis": {
            "backgroundcolor": "#E5ECF6",
            "gridcolor": "white",
            "gridwidth": 2,
            "linecolor": "white",
            "showbackground": true,
            "ticks": "",
            "zerolinecolor": "white"
           }
          },
          "shapedefaults": {
           "line": {
            "color": "#2a3f5f"
           }
          },
          "ternary": {
           "aaxis": {
            "gridcolor": "white",
            "linecolor": "white",
            "ticks": ""
           },
           "baxis": {
            "gridcolor": "white",
            "linecolor": "white",
            "ticks": ""
           },
           "bgcolor": "#E5ECF6",
           "caxis": {
            "gridcolor": "white",
            "linecolor": "white",
            "ticks": ""
           }
          },
          "title": {
           "x": 0.05
          },
          "xaxis": {
           "automargin": true,
           "gridcolor": "white",
           "linecolor": "white",
           "ticks": "",
           "title": {
            "standoff": 15
           },
           "zerolinecolor": "white",
           "zerolinewidth": 2
          },
          "yaxis": {
           "automargin": true,
           "gridcolor": "white",
           "linecolor": "white",
           "ticks": "",
           "title": {
            "standoff": 15
           },
           "zerolinecolor": "white",
           "zerolinewidth": 2
          }
         }
        },
        "title": {
         "text": "Location of underperforming Sellers"
        }
       }
      },
      "text/html": [
       "<div>                            <div id=\"c14d6b2a-76ab-4acb-be05-b973e4024ce0\" class=\"plotly-graph-div\" style=\"height:525px; width:100%;\"></div>            <script type=\"text/javascript\">                require([\"plotly\"], function(Plotly) {                    window.PLOTLYENV=window.PLOTLYENV || {};                                    if (document.getElementById(\"c14d6b2a-76ab-4acb-be05-b973e4024ce0\")) {                    Plotly.newPlot(                        \"c14d6b2a-76ab-4acb-be05-b973e4024ce0\",                        [{\"geo\":\"geo\",\"hovertemplate\":\"<b>%{hovertext}</b><br><br>seller_city=ibitinga<br>olist_loss=%{marker.size}<br>geolocation_lat=%{lat}<br>geolocation_lng=%{lon}<extra></extra>\",\"hovertext\":[\"ibitinga\"],\"lat\":[-21.7664768468313],\"legendgroup\":\"ibitinga\",\"lon\":[-48.83154737836604],\"marker\":{\"color\":\"#636efa\",\"size\":[77741.60594183164],\"sizemode\":\"area\",\"sizeref\":194.3540148545791,\"symbol\":\"circle\"},\"mode\":\"markers\",\"name\":\"ibitinga\",\"showlegend\":true,\"type\":\"scattergeo\"},{\"geo\":\"geo\",\"hovertemplate\":\"<b>%{hovertext}</b><br><br>seller_city=sao paulo<br>olist_loss=%{marker.size}<br>geolocation_lat=%{lat}<br>geolocation_lng=%{lon}<extra></extra>\",\"hovertext\":[\"sao paulo\",\"sao paulo\",\"sao paulo\",\"sao paulo\",\"sao paulo\",\"sao paulo\",\"sao paulo\",\"sao paulo\",\"sao paulo\",\"sao paulo\",\"sao paulo\",\"sao paulo\",\"sao paulo\",\"sao paulo\",\"sao paulo\",\"sao paulo\",\"sao paulo\",\"sao paulo\",\"sao paulo\",\"sao paulo\",\"sao paulo\",\"sao paulo\",\"sao paulo\",\"sao paulo\",\"sao paulo\",\"sao paulo\",\"sao paulo\",\"sao paulo\",\"sao paulo\",\"sao paulo\",\"sao paulo\",\"sao paulo\",\"sao paulo\",\"sao paulo\",\"sao paulo\",\"sao paulo\",\"sao paulo\",\"sao paulo\",\"sao paulo\",\"sao paulo\",\"sao paulo\",\"sao paulo\",\"sao paulo\",\"sao paulo\",\"sao paulo\",\"sao paulo\",\"sao paulo\",\"sao paulo\",\"sao paulo\",\"sao paulo\",\"sao paulo\",\"sao paulo\",\"sao paulo\",\"sao paulo\",\"sao paulo\",\"sao paulo\",\"sao paulo\",\"sao paulo\",\"sao paulo\",\"sao paulo\",\"sao paulo\",\"sao paulo\",\"sao paulo\",\"sao paulo\",\"sao paulo\",\"sao paulo\",\"sao paulo\",\"sao paulo\",\"sao paulo\",\"sao paulo\",\"sao paulo\",\"sao paulo\"],\"lat\":[-23.651114842510157,-23.62358155176294,-23.537511255832708,-23.539824031911863,-23.53877907744238,-23.541941545934563,-23.59798552039933,-23.539494799586286,-23.50271592062436,-23.693985995008337,-23.532447184574945,-23.58667354731954,-23.58343069747245,-23.55156260866176,-23.555682314184303,-23.53321650340715,-23.59272363197529,-23.553644898695826,-23.472335179294816,-23.56168119891244,-23.50869470774424,-23.69289565500035,-23.48535959449485,-23.48029674271453,-23.53689213711117,-23.57841833611285,-23.536864121011018,-23.48770416180969,-23.53108125950717,-23.49266694338963,-23.56625832001269,-23.496403578683147,-23.491089052455425,-23.55487039661836,-23.512538179294825,-23.592690175182163,-23.58067325143878,-23.59539756425642,-23.49997012461769,-23.646246311207523,-23.52833381848348,-23.504769581649203,-23.58790062753188,-23.67774108964741,-23.746252526227707,-23.4719444074384,-23.54279940605341,-23.554597380692613,-23.5413525745282,-23.591530822926867,-23.541718547319537,-23.61959447821568,-23.606158440567068,-23.66900465722205,-23.50663459838998,-23.47666615958798,-23.584614569248075,-23.523367358589653,-23.58020448542905,-23.485809164031377,-23.540691446852072,-23.592660045242067,-23.57884253067112,-23.52076037607479,-23.602162547319526,-23.523895623925213,-23.50623786745398,-23.57034735804139,-23.54260295697964,-23.62510448987245,-23.568722298084143,-23.667843855675457],\"legendgroup\":\"sao paulo\",\"lon\":[-46.75521082321932,-46.61056007369148,-46.63705730743676,-46.434679443937874,-46.53648566833056,-46.49095488842404,-46.55547278711988,-46.63284391414975,-46.48299647362806,-46.70188324132953,-46.61401961463438,-46.61242320483004,-46.50203424424373,-46.64021297307979,-46.63309991286275,-46.50046729003948,-46.6315844403312,-46.63261889578163,-46.64636526449883,-46.50627110555333,-46.48672956633388,-46.68021046531817,-46.624283978908174,-46.71122495337295,-46.71311138051819,-46.5592068753823,-46.63349313820771,-46.41534043450283,-46.51791357132556,-46.649278230509495,-46.51841724632121,-46.44510648389983,-46.5850818805182,-46.5943762934965,-46.50108112461768,-46.62106099443002,-46.591568341608856,-46.55163738273989,-46.42365639286743,-46.66349868836885,-46.61941011172019,-46.62470303231384,-46.501829952680446,-46.66864662392521,-46.677001782820696,-46.59864459256161,-46.595165217323526,-46.57370400298258,-46.609555379681474,-46.73618746947312,-46.64883066180968,-46.60003319608748,-46.69703876815752,-46.71802455259966,-46.442126210658415,-46.68147008895491,-46.60193214931619,-46.46705568665242,-46.62978341909516,-46.68889056841136,-46.57315915849145,-46.79704030919264,-46.52280151387845,-46.661384138207694,-46.52124572898028,-46.691459916180975,-46.64043238758518,-46.65315099653755,-46.63094283625709,-46.72835260796926,-46.61880092397124,-46.66038973120199],\"marker\":{\"color\":\"#EF553B\",\"size\":[25124.01676547114,16706.544469092343,13203.826626087182,5697.971049173016,4025.6648024276683,3882.361663867935,3869.5325150391654,3636.203849082348,3481.820440234463,2851.5645118502216,2360.0564566629537,2073.375185323074,2036.22952092988,1962.9887390304043,1734.7230327820112,1152.1277044245305,1087.5471584052525,1082.0085768656638,1042.314224046642,1007.4572759634348,980.7274425786236,937.2976661498715,889.2779518249392,865.7532929694908,848.4229594835783,773.8465189728304,742.0392450048209,713.6624227718494,582.7754705105672,490.76422128931165,456.3902930157765,447.1367959142847,432.8069248375303,417.8679193702925,403.3228569217463,306.1947035482186,302.5573464248903,260.1961587526266,251.5580163910056,248.93677719114248,207.21863359651104,197.35113750134587,188.1341106446559,171.61590382981134,169.59382032208214,162.86731269728944,153.56505029211303,135.4596484235517,131.68133805306633,116.44477952327911,104.78884030996008,98.11327958019501,86.6146397900975,86.1926397900975,66.80133805306633,65.10883621891804,57.81557686566373,43.695448697722156,21.504703548218615,21.004703548218615,19.72377952327912,18.80377952327912,17.831338053066332,17.294703548218607,17.103779523279115,16.588779523279115,13.294703548218607,10.231338053066338,9.926338053066331,8.894703548218615,7.495703548218614,2.2526709530775406],\"sizemode\":\"area\",\"sizeref\":194.3540148545791,\"symbol\":\"circle\"},\"mode\":\"markers\",\"name\":\"sao paulo\",\"showlegend\":true,\"type\":\"scattergeo\"},{\"geo\":\"geo\",\"hovertemplate\":\"<b>%{hovertext}</b><br><br>seller_city=santo andre<br>olist_loss=%{marker.size}<br>geolocation_lat=%{lat}<br>geolocation_lng=%{lon}<extra></extra>\",\"hovertext\":[\"santo andre\",\"santo andre\",\"santo andre\",\"santo andre\",\"santo andre\",\"santo andre\"],\"lat\":[-23.665703457960586,-23.624784000000005,-23.63888466388715,-23.7622680628159,-23.66721675288362,-23.668312295314184],\"legendgroup\":\"santo andre\",\"lon\":[-46.51808196779969,-46.53954225000001,-46.49858921994927,-46.46728047262276,-46.49913206319721,-46.50547970468581],\"marker\":{\"color\":\"#00cc96\",\"size\":[19291.807492948086,649.3923671722359,308.42890080501184,230.2718076596227,16.20377952327911,15.912506324276805],\"sizemode\":\"area\",\"sizeref\":194.3540148545791,\"symbol\":\"circle\"},\"mode\":\"markers\",\"name\":\"santo andre\",\"showlegend\":true,\"type\":\"scattergeo\"},{\"geo\":\"geo\",\"hovertemplate\":\"<b>%{hovertext}</b><br><br>seller_city=sao jose do rio preto<br>olist_loss=%{marker.size}<br>geolocation_lat=%{lat}<br>geolocation_lng=%{lon}<extra></extra>\",\"hovertext\":[\"sao jose do rio preto\",\"sao jose do rio preto\",\"sao jose do rio preto\",\"sao jose do rio preto\"],\"lat\":[-20.80243626346376,-20.81842802837701,-20.84380119949777,-20.77693393507797],\"legendgroup\":\"sao jose do rio preto\",\"lon\":[-49.39562406741489,-49.39248776604019,-49.36891118527178,-49.38713234157808],\"marker\":{\"color\":\"#ab63fa\",\"size\":[12348.314515594217,214.6010163910055,137.0874775180896,114.70377952327911],\"sizemode\":\"area\",\"sizeref\":194.3540148545791,\"symbol\":\"circle\"},\"mode\":\"markers\",\"name\":\"sao jose do rio preto\",\"showlegend\":true,\"type\":\"scattergeo\"},{\"geo\":\"geo\",\"hovertemplate\":\"<b>%{hovertext}</b><br><br>seller_city=itaquaquecetuba<br>olist_loss=%{marker.size}<br>geolocation_lat=%{lat}<br>geolocation_lng=%{lon}<extra></extra>\",\"hovertext\":[\"itaquaquecetuba\",\"itaquaquecetuba\"],\"lat\":[-23.48262344063541,-23.43567309991361],\"legendgroup\":\"itaquaquecetuba\",\"lon\":[-46.37448952833195,-46.38032799842931],\"marker\":{\"color\":\"#FFA15A\",\"size\":[10357.628850305864,485.13791937029237],\"sizemode\":\"area\",\"sizeref\":194.3540148545791,\"symbol\":\"circle\"},\"mode\":\"markers\",\"name\":\"itaquaquecetuba\",\"showlegend\":true,\"type\":\"scattergeo\"},{\"geo\":\"geo\",\"hovertemplate\":\"<b>%{hovertext}</b><br><br>seller_city=ribeirao preto<br>olist_loss=%{marker.size}<br>geolocation_lat=%{lat}<br>geolocation_lng=%{lon}<extra></extra>\",\"hovertext\":[\"ribeirao preto\",\"ribeirao preto\",\"ribeirao preto\"],\"lat\":[-21.174925033585303,-21.16850440882337,-21.185944576067463],\"legendgroup\":\"ribeirao preto\",\"lon\":[-47.7686162776848,-47.79370519233655,-47.81498292186677],\"marker\":{\"color\":\"#19d3f3\",\"size\":[6696.96686153936,436.5459819554301,212.7893485326349],\"sizemode\":\"area\",\"sizeref\":194.3540148545791,\"symbol\":\"circle\"},\"mode\":\"markers\",\"name\":\"ribeirao preto\",\"showlegend\":true,\"type\":\"scattergeo\"},{\"geo\":\"geo\",\"hovertemplate\":\"<b>%{hovertext}</b><br><br>seller_city=santana de parnaiba<br>olist_loss=%{marker.size}<br>geolocation_lat=%{lat}<br>geolocation_lng=%{lon}<extra></extra>\",\"hovertext\":[\"santana de parnaiba\"],\"lat\":[-23.419753962259747],\"legendgroup\":\"santana de parnaiba\",\"lon\":[-46.95925190896761],\"marker\":{\"color\":\"#FF6692\",\"size\":[5859.378573530823],\"sizemode\":\"area\",\"sizeref\":194.3540148545791,\"symbol\":\"circle\"},\"mode\":\"markers\",\"name\":\"santana de parnaiba\",\"showlegend\":true,\"type\":\"scattergeo\"},{\"geo\":\"geo\",\"hovertemplate\":\"<b>%{hovertext}</b><br><br>seller_city=piracicaba<br>olist_loss=%{marker.size}<br>geolocation_lat=%{lat}<br>geolocation_lng=%{lon}<extra></extra>\",\"hovertext\":[\"piracicaba\",\"piracicaba\"],\"lat\":[-22.71683928585045,-22.726257875353635],\"legendgroup\":\"piracicaba\",\"lon\":[-47.65736585405934,-47.63781138952056],\"marker\":{\"color\":\"#B6E880\",\"size\":[5615.89911161461,62.18311963979431],\"sizemode\":\"area\",\"sizeref\":194.3540148545791,\"symbol\":\"circle\"},\"mode\":\"markers\",\"name\":\"piracicaba\",\"showlegend\":true,\"type\":\"scattergeo\"},{\"geo\":\"geo\",\"hovertemplate\":\"<b>%{hovertext}</b><br><br>seller_city=campinas<br>olist_loss=%{marker.size}<br>geolocation_lat=%{lat}<br>geolocation_lng=%{lon}<extra></extra>\",\"hovertext\":[\"campinas\",\"campinas\",\"campinas\",\"campinas\",\"campinas\",\"campinas\"],\"lat\":[-22.90081444463038,-22.895876357204664,-22.829166690333924,-22.89149811512646,-22.90124134639356,-22.926904742714527],\"legendgroup\":\"campinas\",\"lon\":[-46.99864279239999,-47.0791850342778,-47.09886947241718,-47.14575284988991,-47.05512845102415,-47.067241683593984],\"marker\":{\"color\":\"#FF97FF\",\"size\":[5508.331598164336,2489.3683235455205,110.32377952327911,10.694703548218612,7.204703548218603,3.594703548218618],\"sizemode\":\"area\",\"sizeref\":194.3540148545791,\"symbol\":\"circle\"},\"mode\":\"markers\",\"name\":\"campinas\",\"showlegend\":true,\"type\":\"scattergeo\"},{\"geo\":\"geo\",\"hovertemplate\":\"<b>%{hovertext}</b><br><br>seller_city=maringa<br>olist_loss=%{marker.size}<br>geolocation_lat=%{lat}<br>geolocation_lng=%{lon}<extra></extra>\",\"hovertext\":[\"maringa\",\"maringa\",\"maringa\",\"maringa\",\"maringa\"],\"lat\":[-23.41848622413047,-23.437975269077903,-23.41000679702781,-23.377396999935016,-23.42880633856904],\"legendgroup\":\"maringa\",\"lon\":[-51.92625934548862,-51.91385959802448,-51.88262571961486,-51.93100618003307,-51.97183135000928],\"marker\":{\"color\":\"#FECB52\",\"size\":[5399.90722603959,4409.7836659900595,2351.660103508356,662.6577272955508,9.041338053066326],\"sizemode\":\"area\",\"sizeref\":194.3540148545791,\"symbol\":\"circle\"},\"mode\":\"markers\",\"name\":\"maringa\",\"showlegend\":true,\"type\":\"scattergeo\"},{\"geo\":\"geo\",\"hovertemplate\":\"<b>%{hovertext}</b><br><br>seller_city=campo limpo paulista<br>olist_loss=%{marker.size}<br>geolocation_lat=%{lat}<br>geolocation_lng=%{lon}<extra></extra>\",\"hovertext\":[\"campo limpo paulista\"],\"lat\":[-23.20706431353269],\"legendgroup\":\"campo limpo paulista\",\"lon\":[-46.760735214610754],\"marker\":{\"color\":\"#636efa\",\"size\":[5230.7053184237575],\"sizemode\":\"area\",\"sizeref\":194.3540148545791,\"symbol\":\"circle\"},\"mode\":\"markers\",\"name\":\"campo limpo paulista\",\"showlegend\":true,\"type\":\"scattergeo\"},{\"geo\":\"geo\",\"hovertemplate\":\"<b>%{hovertext}</b><br><br>seller_city=brusque<br>olist_loss=%{marker.size}<br>geolocation_lat=%{lat}<br>geolocation_lng=%{lon}<extra></extra>\",\"hovertext\":[\"brusque\"],\"lat\":[-27.14105704919435],\"legendgroup\":\"brusque\",\"lon\":[-48.96146112936535],\"marker\":{\"color\":\"#EF553B\",\"size\":[5013.461554329692],\"sizemode\":\"area\",\"sizeref\":194.3540148545791,\"symbol\":\"circle\"},\"mode\":\"markers\",\"name\":\"brusque\",\"showlegend\":true,\"type\":\"scattergeo\"},{\"geo\":\"geo\",\"hovertemplate\":\"<b>%{hovertext}</b><br><br>seller_city=praia grande<br>olist_loss=%{marker.size}<br>geolocation_lat=%{lat}<br>geolocation_lng=%{lon}<extra></extra>\",\"hovertext\":[\"praia grande\",\"praia grande\"],\"lat\":[-24.026786758814687,-24.011288218359883],\"legendgroup\":\"praia grande\",\"lon\":[-46.49304889148245,-46.41873374429398],\"marker\":{\"color\":\"#00cc96\",\"size\":[4681.789640142737,3069.959666007524],\"sizemode\":\"area\",\"sizeref\":194.3540148545791,\"symbol\":\"circle\"},\"mode\":\"markers\",\"name\":\"praia grande\",\"showlegend\":true,\"type\":\"scattergeo\"},{\"geo\":\"geo\",\"hovertemplate\":\"<b>%{hovertext}</b><br><br>seller_city=limeira<br>olist_loss=%{marker.size}<br>geolocation_lat=%{lat}<br>geolocation_lng=%{lon}<extra></extra>\",\"hovertext\":[\"limeira\",\"limeira\"],\"lat\":[-22.56835042131686,-22.599254430886607],\"legendgroup\":\"limeira\",\"lon\":[-47.44743947974489,-47.37980963550319],\"marker\":{\"color\":\"#ab63fa\",\"size\":[4669.012314971885,108.62377952327911],\"sizemode\":\"area\",\"sizeref\":194.3540148545791,\"symbol\":\"circle\"},\"mode\":\"markers\",\"name\":\"limeira\",\"showlegend\":true,\"type\":\"scattergeo\"},{\"geo\":\"geo\",\"hovertemplate\":\"<b>%{hovertext}</b><br><br>seller_city=jacarei<br>olist_loss=%{marker.size}<br>geolocation_lat=%{lat}<br>geolocation_lng=%{lon}<extra></extra>\",\"hovertext\":[\"jacarei\",\"jacarei\"],\"lat\":[-23.29818595956356,-23.30139631473257],\"legendgroup\":\"jacarei\",\"lon\":[-45.974828011182304,-45.96172658840667],\"marker\":{\"color\":\"#FFA15A\",\"size\":[3945.040162283485,87.13632413230926],\"sizemode\":\"area\",\"sizeref\":194.3540148545791,\"symbol\":\"circle\"},\"mode\":\"markers\",\"name\":\"jacarei\",\"showlegend\":true,\"type\":\"scattergeo\"},{\"geo\":\"geo\",\"hovertemplate\":\"<b>%{hovertext}</b><br><br>seller_city=pedreira<br>olist_loss=%{marker.size}<br>geolocation_lat=%{lat}<br>geolocation_lng=%{lon}<extra></extra>\",\"hovertext\":[\"pedreira\"],\"lat\":[-22.73824150585765],\"legendgroup\":\"pedreira\",\"lon\":[-46.8958585777586],\"marker\":{\"color\":\"#19d3f3\",\"size\":[3492.8366487598996],\"sizemode\":\"area\",\"sizeref\":194.3540148545791,\"symbol\":\"circle\"},\"mode\":\"markers\",\"name\":\"pedreira\",\"showlegend\":true,\"type\":\"scattergeo\"},{\"geo\":\"geo\",\"hovertemplate\":\"<b>%{hovertext}</b><br><br>seller_city=belo horizonte<br>olist_loss=%{marker.size}<br>geolocation_lat=%{lat}<br>geolocation_lng=%{lon}<extra></extra>\",\"hovertext\":[\"belo horizonte\",\"belo horizonte\",\"belo horizonte\",\"belo horizonte\"],\"lat\":[-19.878513898894187,-19.95661690748416,-19.91953334886612,-19.91624655709342],\"legendgroup\":\"belo horizonte\",\"lon\":[-43.95694702879617,-43.968436347881045,-43.93684688980902,-43.93623364096637],\"marker\":{\"color\":\"#FF6692\",\"size\":[3209.1287972794134,301.52623235508986,78.62040709643722,16.195918967157013],\"sizemode\":\"area\",\"sizeref\":194.3540148545791,\"symbol\":\"circle\"},\"mode\":\"markers\",\"name\":\"belo horizonte\",\"showlegend\":true,\"type\":\"scattergeo\"},{\"geo\":\"geo\",\"hovertemplate\":\"<b>%{hovertext}</b><br><br>seller_city=sao luis<br>olist_loss=%{marker.size}<br>geolocation_lat=%{lat}<br>geolocation_lng=%{lon}<extra></extra>\",\"hovertext\":[\"sao luis\"],\"lat\":[-2.546079233971952],\"legendgroup\":\"sao luis\",\"lon\":[-44.3089863702464],\"marker\":{\"color\":\"#B6E880\",\"size\":[3032.557913325907],\"sizemode\":\"area\",\"sizeref\":194.3540148545791,\"symbol\":\"circle\"},\"mode\":\"markers\",\"name\":\"sao luis\",\"showlegend\":true,\"type\":\"scattergeo\"},{\"geo\":\"geo\",\"hovertemplate\":\"<b>%{hovertext}</b><br><br>seller_city=itatiba<br>olist_loss=%{marker.size}<br>geolocation_lat=%{lat}<br>geolocation_lng=%{lon}<extra></extra>\",\"hovertext\":[\"itatiba\"],\"lat\":[-22.995677703232374],\"legendgroup\":\"itatiba\",\"lon\":[-46.857106243157794],\"marker\":{\"color\":\"#FF97FF\",\"size\":[2877.950193820695],\"sizemode\":\"area\",\"sizeref\":194.3540148545791,\"symbol\":\"circle\"},\"mode\":\"markers\",\"name\":\"itatiba\",\"showlegend\":true,\"type\":\"scattergeo\"},{\"geo\":\"geo\",\"hovertemplate\":\"<b>%{hovertext}</b><br><br>seller_city=atibaia<br>olist_loss=%{marker.size}<br>geolocation_lat=%{lat}<br>geolocation_lng=%{lon}<extra></extra>\",\"hovertext\":[\"atibaia\",\"atibaia\",\"atibaia\"],\"lat\":[-23.112774381969185,-23.120273860118864,-23.14492333670709],\"legendgroup\":\"atibaia\",\"lon\":[-46.5488845105504,-46.56362790244673,-46.539830386938746],\"marker\":{\"color\":\"#FECB52\",\"size\":[2152.3596693146656,353.41511809311646,60.19944036739889],\"sizemode\":\"area\",\"sizeref\":194.3540148545791,\"symbol\":\"circle\"},\"mode\":\"markers\",\"name\":\"atibaia\",\"showlegend\":true,\"type\":\"scattergeo\"},{\"geo\":\"geo\",\"hovertemplate\":\"<b>%{hovertext}</b><br><br>seller_city=dracena<br>olist_loss=%{marker.size}<br>geolocation_lat=%{lat}<br>geolocation_lng=%{lon}<extra></extra>\",\"hovertext\":[\"dracena\"],\"lat\":[-21.4988715],\"legendgroup\":\"dracena\",\"lon\":[-51.53786099999999],\"marker\":{\"color\":\"#636efa\",\"size\":[1834.4792968471036],\"sizemode\":\"area\",\"sizeref\":194.3540148545791,\"symbol\":\"circle\"},\"mode\":\"markers\",\"name\":\"dracena\",\"showlegend\":true,\"type\":\"scattergeo\"},{\"geo\":\"geo\",\"hovertemplate\":\"<b>%{hovertext}</b><br><br>seller_city=salto<br>olist_loss=%{marker.size}<br>geolocation_lat=%{lat}<br>geolocation_lng=%{lon}<extra></extra>\",\"hovertext\":[\"salto\",\"salto\",\"salto\"],\"lat\":[-23.20591698084141,-23.190243653067117,-23.194155763010308],\"legendgroup\":\"salto\",\"lon\":[-47.307845865803,-47.291570633360266,-47.26601382366275],\"marker\":{\"color\":\"#EF553B\",\"size\":[1774.1211669275044,1269.3738388226716,435.0912930157765],\"sizemode\":\"area\",\"sizeref\":194.3540148545791,\"symbol\":\"circle\"},\"mode\":\"markers\",\"name\":\"salto\",\"showlegend\":true,\"type\":\"scattergeo\"},{\"geo\":\"geo\",\"hovertemplate\":\"<b>%{hovertext}</b><br><br>seller_city=foz do iguacu<br>olist_loss=%{marker.size}<br>geolocation_lat=%{lat}<br>geolocation_lng=%{lon}<extra></extra>\",\"hovertext\":[\"foz do iguacu\"],\"lat\":[-25.548584861815545],\"legendgroup\":\"foz do iguacu\",\"lon\":[-54.58121020316589],\"marker\":{\"color\":\"#00cc96\",\"size\":[1753.2530969103477],\"sizemode\":\"area\",\"sizeref\":194.3540148545791,\"symbol\":\"circle\"},\"mode\":\"markers\",\"name\":\"foz do iguacu\",\"showlegend\":true,\"type\":\"scattergeo\"},{\"geo\":\"geo\",\"hovertemplate\":\"<b>%{hovertext}</b><br><br>seller_city=santos<br>olist_loss=%{marker.size}<br>geolocation_lat=%{lat}<br>geolocation_lng=%{lon}<extra></extra>\",\"hovertext\":[\"santos\",\"santos\",\"santos\"],\"lat\":[-23.93465945090488,-23.959748294477464,-23.93360892117263],\"legendgroup\":\"santos\",\"lon\":[-46.331065142884974,-46.31359166374292,-46.34716271579432],\"marker\":{\"color\":\"#ab63fa\",\"size\":[1588.948554783091,221.15005029211304,90.59449097771508],\"sizemode\":\"area\",\"sizeref\":194.3540148545791,\"symbol\":\"circle\"},\"mode\":\"markers\",\"name\":\"santos\",\"showlegend\":true,\"type\":\"scattergeo\"},{\"geo\":\"geo\",\"hovertemplate\":\"<b>%{hovertext}</b><br><br>seller_city=guarulhos<br>olist_loss=%{marker.size}<br>geolocation_lat=%{lat}<br>geolocation_lng=%{lon}<extra></extra>\",\"hovertext\":[\"guarulhos\",\"guarulhos\",\"guarulhos\",\"guarulhos\",\"guarulhos\",\"guarulhos\"],\"lat\":[-23.444148887039063,-23.45088569608748,-23.44634995836461,-23.44007914793122,-23.496488565250488,-23.447025555369624],\"legendgroup\":\"guarulhos\",\"lon\":[-46.50655197737896,-46.54498377407813,-46.54365549347912,-46.51144923980033,-46.54671310832206,-46.519970678602334],\"marker\":{\"color\":\"#FFA15A\",\"size\":[1579.7097009019578,713.3407009019579,630.1596283857489,376.9191008433063,103.15566614987165,18.004703548218615],\"sizemode\":\"area\",\"sizeref\":194.3540148545791,\"symbol\":\"circle\"},\"mode\":\"markers\",\"name\":\"guarulhos\",\"showlegend\":true,\"type\":\"scattergeo\"},{\"geo\":\"geo\",\"hovertemplate\":\"<b>%{hovertext}</b><br><br>seller_city=sao jose dos campos<br>olist_loss=%{marker.size}<br>geolocation_lat=%{lat}<br>geolocation_lng=%{lon}<extra></extra>\",\"hovertext\":[\"sao jose dos campos\",\"sao jose dos campos\",\"sao jose dos campos\",\"sao jose dos campos\"],\"lat\":[-23.221431461827063,-23.23724961587513,-23.201781118789317,-23.18093790397594],\"legendgroup\":\"sao jose dos campos\",\"lon\":[-45.888163895493165,-45.88082955926476,-45.89567007799064,-45.86936250721335],\"marker\":{\"color\":\"#19d3f3\",\"size\":[1340.2863241323093,470.5071669333802,378.67483728340767,17.72377952327912],\"sizemode\":\"area\",\"sizeref\":194.3540148545791,\"symbol\":\"circle\"},\"mode\":\"markers\",\"name\":\"sao jose dos campos\",\"showlegend\":true,\"type\":\"scattergeo\"},{\"geo\":\"geo\",\"hovertemplate\":\"<b>%{hovertext}</b><br><br>seller_city=brasilia<br>olist_loss=%{marker.size}<br>geolocation_lat=%{lat}<br>geolocation_lng=%{lon}<extra></extra>\",\"hovertext\":[\"brasilia\",\"brasilia\",\"brasilia\"],\"lat\":[-15.840667480274698,-15.84494561197996,-15.841450954140925],\"legendgroup\":\"brasilia\",\"lon\":[-48.051942900348365,-47.98527498130505,-48.024025688112914],\"marker\":{\"color\":\"#FF6692\",\"size\":[1272.3571281108398,203.37244257862358,13.623779523279111],\"sizemode\":\"area\",\"sizeref\":194.3540148545791,\"symbol\":\"circle\"},\"mode\":\"markers\",\"name\":\"brasilia\",\"showlegend\":true,\"type\":\"scattergeo\"},{\"geo\":\"geo\",\"hovertemplate\":\"<b>%{hovertext}</b><br><br>seller_city=maua<br>olist_loss=%{marker.size}<br>geolocation_lat=%{lat}<br>geolocation_lng=%{lon}<extra></extra>\",\"hovertext\":[\"maua\",\"maua\"],\"lat\":[-23.68011442853022,-23.656676689970634],\"legendgroup\":\"maua\",\"lon\":[-46.4524537436668,-46.44420755410021],\"marker\":{\"color\":\"#B6E880\",\"size\":[1072.1025981643372,13.228779523279115],\"sizemode\":\"area\",\"sizeref\":194.3540148545791,\"symbol\":\"circle\"},\"mode\":\"markers\",\"name\":\"maua\",\"showlegend\":true,\"type\":\"scattergeo\"},{\"geo\":\"geo\",\"hovertemplate\":\"<b>%{hovertext}</b><br><br>seller_city=laranjal paulista<br>olist_loss=%{marker.size}<br>geolocation_lat=%{lat}<br>geolocation_lng=%{lon}<extra></extra>\",\"hovertext\":[\"laranjal paulista\"],\"lat\":[-23.03582473318652],\"legendgroup\":\"laranjal paulista\",\"lon\":[-47.8363026594829],\"marker\":{\"color\":\"#FF97FF\",\"size\":[1018.8490020910958],\"sizemode\":\"area\",\"sizeref\":194.3540148545791,\"symbol\":\"circle\"},\"mode\":\"markers\",\"name\":\"laranjal paulista\",\"showlegend\":true,\"type\":\"scattergeo\"},{\"geo\":\"geo\",\"hovertemplate\":\"<b>%{hovertext}</b><br><br>seller_city=jundiai<br>olist_loss=%{marker.size}<br>geolocation_lat=%{lat}<br>geolocation_lng=%{lon}<extra></extra>\",\"hovertext\":[\"jundiai\",\"jundiai\"],\"lat\":[-23.211714582578274,-23.151712385018914],\"legendgroup\":\"jundiai\",\"lon\":[-46.8753760355472,-46.97128780668247],\"marker\":{\"color\":\"#FECB52\",\"size\":[998.7801322572514,16.264703548218606],\"sizemode\":\"area\",\"sizeref\":194.3540148545791,\"symbol\":\"circle\"},\"mode\":\"markers\",\"name\":\"jundiai\",\"showlegend\":true,\"type\":\"scattergeo\"},{\"geo\":\"geo\",\"hovertemplate\":\"<b>%{hovertext}</b><br><br>seller_city=rio de janeiro<br>olist_loss=%{marker.size}<br>geolocation_lat=%{lat}<br>geolocation_lng=%{lon}<extra></extra>\",\"hovertext\":[\"rio de janeiro\",\"rio de janeiro\",\"rio de janeiro\",\"rio de janeiro\",\"rio de janeiro\",\"rio de janeiro\",\"rio de janeiro\",\"rio de janeiro\",\"rio de janeiro\",\"rio de janeiro\",\"rio de janeiro\",\"rio de janeiro\"],\"lat\":[-22.842290284753936,-23.00927096142304,-22.920104850395337,-22.90216947322403,-22.97552030068124,-22.89211739578164,-22.972496751601327,-22.886098638900197,-22.8858726103352,-22.84727502827443,-22.92931946221692,-22.899753502914194],\"legendgroup\":\"rio de janeiro\",\"lon\":[-43.29762071175495,-43.42940927644404,-43.22138202997862,-43.18431801722535,-43.48436102271125,-43.47562901249349,-43.18950774937962,-43.3108898963299,-43.34219063959268,-43.27388796588767,-43.23596118471042,-43.17764601165675],\"marker\":{\"color\":\"#636efa\",\"size\":[988.0371989504874,833.1050126485536,429.79104800489586,252.7350126485536,121.45542846087312,106.21026200122395,95.43940709643722,45.826786003671714,43.13677952327912,17.62377952327911,15.194703548218612,13.195703548218617],\"sizemode\":\"area\",\"sizeref\":194.3540148545791,\"symbol\":\"circle\"},\"mode\":\"markers\",\"name\":\"rio de janeiro\",\"showlegend\":true,\"type\":\"scattergeo\"},{\"geo\":\"geo\",\"hovertemplate\":\"<b>%{hovertext}</b><br><br>seller_city=vicente de carvalho<br>olist_loss=%{marker.size}<br>geolocation_lat=%{lat}<br>geolocation_lng=%{lon}<extra></extra>\",\"hovertext\":[\"vicente de carvalho\"],\"lat\":[-23.939318620030072],\"legendgroup\":\"vicente de carvalho\",\"lon\":[-46.30539278864907],\"marker\":{\"color\":\"#EF553B\",\"size\":[986.2101281108396],\"sizemode\":\"area\",\"sizeref\":194.3540148545791,\"symbol\":\"circle\"},\"mode\":\"markers\",\"name\":\"vicente de carvalho\",\"showlegend\":true,\"type\":\"scattergeo\"},{\"geo\":\"geo\",\"hovertemplate\":\"<b>%{hovertext}</b><br><br>seller_city=borda da mata<br>olist_loss=%{marker.size}<br>geolocation_lat=%{lat}<br>geolocation_lng=%{lon}<extra></extra>\",\"hovertext\":[\"borda da mata\"],\"lat\":[-22.264093569966427],\"legendgroup\":\"borda da mata\",\"lon\":[-46.15856420525942],\"marker\":{\"color\":\"#00cc96\",\"size\":[890.6242835039538],\"sizemode\":\"area\",\"sizeref\":194.3540148545791,\"symbol\":\"circle\"},\"mode\":\"markers\",\"name\":\"borda da mata\",\"showlegend\":true,\"type\":\"scattergeo\"},{\"geo\":\"geo\",\"hovertemplate\":\"<b>%{hovertext}</b><br><br>seller_city=florianopolis<br>olist_loss=%{marker.size}<br>geolocation_lat=%{lat}<br>geolocation_lng=%{lon}<extra></extra>\",\"hovertext\":[\"florianopolis\"],\"lat\":[-27.60731306466045],\"legendgroup\":\"florianopolis\",\"lon\":[-48.59058002775691],\"marker\":{\"color\":\"#ab63fa\",\"size\":[821.5484454765015],\"sizemode\":\"area\",\"sizeref\":194.3540148545791,\"symbol\":\"circle\"},\"mode\":\"markers\",\"name\":\"florianopolis\",\"showlegend\":true,\"type\":\"scattergeo\"},{\"geo\":\"geo\",\"hovertemplate\":\"<b>%{hovertext}</b><br><br>seller_city=sao bernardo do campo<br>olist_loss=%{marker.size}<br>geolocation_lat=%{lat}<br>geolocation_lng=%{lon}<extra></extra>\",\"hovertext\":[\"sao bernardo do campo\",\"sao bernardo do campo\",\"sao bernardo do campo\"],\"lat\":[-23.71688471949829,-23.724134173502662,-23.724048365774344],\"legendgroup\":\"sao bernardo do campo\",\"lon\":[-46.54199108267673,-46.57554561519289,-46.57360861668318],\"marker\":{\"color\":\"#FFA15A\",\"size\":[670.3609104958416,148.03011617754495,10.575903829811338],\"sizemode\":\"area\",\"sizeref\":194.3540148545791,\"symbol\":\"circle\"},\"mode\":\"markers\",\"name\":\"sao bernardo do campo\",\"showlegend\":true,\"type\":\"scattergeo\"},{\"geo\":\"geo\",\"hovertemplate\":\"<b>%{hovertext}</b><br><br>seller_city=curitiba<br>olist_loss=%{marker.size}<br>geolocation_lat=%{lat}<br>geolocation_lng=%{lon}<extra></extra>\",\"hovertext\":[\"curitiba\",\"curitiba\",\"curitiba\",\"curitiba\",\"curitiba\"],\"lat\":[-25.50714419618402,-25.454342472387303,-25.39986976934627,-25.48015350874257,-25.4400884207686],\"legendgroup\":\"curitiba\",\"lon\":[-49.27207460483913,-49.22258337676727,-49.25998715153791,-49.29687243020366,-49.34526604939701],\"marker\":{\"color\":\"#19d3f3\",\"size\":[634.6360502921129,260.9331161775449,182.29470354821862,43.12377952327911,4.194703548218612],\"sizemode\":\"area\",\"sizeref\":194.3540148545791,\"symbol\":\"circle\"},\"mode\":\"markers\",\"name\":\"curitiba\",\"showlegend\":true,\"type\":\"scattergeo\"},{\"geo\":\"geo\",\"hovertemplate\":\"<b>%{hovertext}</b><br><br>seller_city=mogi das cruzes<br>olist_loss=%{marker.size}<br>geolocation_lat=%{lat}<br>geolocation_lng=%{lon}<extra></extra>\",\"hovertext\":[\"mogi das cruzes\"],\"lat\":[-23.551706513599484],\"legendgroup\":\"mogi das cruzes\",\"lon\":[-46.260979398542325],\"marker\":{\"color\":\"#FF6692\",\"size\":[573.6914862289136],\"sizemode\":\"area\",\"sizeref\":194.3540148545791,\"symbol\":\"circle\"},\"mode\":\"markers\",\"name\":\"mogi das cruzes\",\"showlegend\":true,\"type\":\"scattergeo\"},{\"geo\":\"geo\",\"hovertemplate\":\"<b>%{hovertext}</b><br><br>seller_city=votorantim<br>olist_loss=%{marker.size}<br>geolocation_lat=%{lat}<br>geolocation_lng=%{lon}<extra></extra>\",\"hovertext\":[\"votorantim\"],\"lat\":[-23.540699932021333],\"legendgroup\":\"votorantim\",\"lon\":[-47.45842622799934],\"marker\":{\"color\":\"#B6E880\",\"size\":[556.2453663714641],\"sizemode\":\"area\",\"sizeref\":194.3540148545791,\"symbol\":\"circle\"},\"mode\":\"markers\",\"name\":\"votorantim\",\"showlegend\":true,\"type\":\"scattergeo\"},{\"geo\":\"geo\",\"hovertemplate\":\"<b>%{hovertext}</b><br><br>seller_city=presidente prudente<br>olist_loss=%{marker.size}<br>geolocation_lat=%{lat}<br>geolocation_lng=%{lon}<extra></extra>\",\"hovertext\":[\"presidente prudente\",\"presidente prudente\"],\"lat\":[-22.131826190859822,-22.133927157857254],\"legendgroup\":\"presidente prudente\",\"lon\":[-51.450761316949546,-51.36875322173029],\"marker\":{\"color\":\"#FF97FF\",\"size\":[519.3852036791545,195.89132413230936],\"sizemode\":\"area\",\"sizeref\":194.3540148545791,\"symbol\":\"circle\"},\"mode\":\"markers\",\"name\":\"presidente prudente\",\"showlegend\":true,\"type\":\"scattergeo\"},{\"geo\":\"geo\",\"hovertemplate\":\"<b>%{hovertext}</b><br><br>seller_city=jussara<br>olist_loss=%{marker.size}<br>geolocation_lat=%{lat}<br>geolocation_lng=%{lon}<extra></extra>\",\"hovertext\":[\"jussara\"],\"lat\":[-23.62208737103585],\"legendgroup\":\"jussara\",\"lon\":[-52.46578937273949],\"marker\":{\"color\":\"#FECB52\",\"size\":[485.00083190339365],\"sizemode\":\"area\",\"sizeref\":194.3540148545791,\"symbol\":\"circle\"},\"mode\":\"markers\",\"name\":\"jussara\",\"showlegend\":true,\"type\":\"scattergeo\"},{\"geo\":\"geo\",\"hovertemplate\":\"<b>%{hovertext}</b><br><br>seller_city=franca<br>olist_loss=%{marker.size}<br>geolocation_lat=%{lat}<br>geolocation_lng=%{lon}<extra></extra>\",\"hovertext\":[\"franca\",\"franca\",\"franca\"],\"lat\":[-20.506793628480604,-20.530671079410943,-20.50234199999999],\"legendgroup\":\"franca\",\"lon\":[-47.40773763671002,-47.39851931627846,-47.4215895],\"marker\":{\"color\":\"#636efa\",\"size\":[442.2233183114722,12.419407096437226,11.323779523279114],\"sizemode\":\"area\",\"sizeref\":194.3540148545791,\"symbol\":\"circle\"},\"mode\":\"markers\",\"name\":\"franca\",\"showlegend\":true,\"type\":\"scattergeo\"},{\"geo\":\"geo\",\"hovertemplate\":\"<b>%{hovertext}</b><br><br>seller_city=rolandia<br>olist_loss=%{marker.size}<br>geolocation_lat=%{lat}<br>geolocation_lng=%{lon}<extra></extra>\",\"hovertext\":[\"rolandia\"],\"lat\":[-23.31259824896755],\"legendgroup\":\"rolandia\",\"lon\":[-51.36894941889966],\"marker\":{\"color\":\"#EF553B\",\"size\":[417.68342162621775],\"sizemode\":\"area\",\"sizeref\":194.3540148545791,\"symbol\":\"circle\"},\"mode\":\"markers\",\"name\":\"rolandia\",\"showlegend\":true,\"type\":\"scattergeo\"},{\"geo\":\"geo\",\"hovertemplate\":\"<b>%{hovertext}</b><br><br>seller_city=santa terezinha de itaipu<br>olist_loss=%{marker.size}<br>geolocation_lat=%{lat}<br>geolocation_lng=%{lon}<extra></extra>\",\"hovertext\":[\"santa terezinha de itaipu\"],\"lat\":[-25.43158405315624],\"legendgroup\":\"santa terezinha de itaipu\",\"lon\":[-54.402330873588255],\"marker\":{\"color\":\"#00cc96\",\"size\":[411.12207211070495],\"sizemode\":\"area\",\"sizeref\":194.3540148545791,\"symbol\":\"circle\"},\"mode\":\"markers\",\"name\":\"santa terezinha de itaipu\",\"showlegend\":true,\"type\":\"scattergeo\"},{\"geo\":\"geo\",\"hovertemplate\":\"<b>%{hovertext}</b><br><br>seller_city=bebedouro<br>olist_loss=%{marker.size}<br>geolocation_lat=%{lat}<br>geolocation_lng=%{lon}<extra></extra>\",\"hovertext\":[\"bebedouro\"],\"lat\":[-20.928623885001464],\"legendgroup\":\"bebedouro\",\"lon\":[-48.49299639722605],\"marker\":{\"color\":\"#ab63fa\",\"size\":[402.8360528928306],\"sizemode\":\"area\",\"sizeref\":194.3540148545791,\"symbol\":\"circle\"},\"mode\":\"markers\",\"name\":\"bebedouro\",\"showlegend\":true,\"type\":\"scattergeo\"},{\"geo\":\"geo\",\"hovertemplate\":\"<b>%{hovertext}</b><br><br>seller_city=guara<br>olist_loss=%{marker.size}<br>geolocation_lat=%{lat}<br>geolocation_lng=%{lon}<extra></extra>\",\"hovertext\":[\"guara\"],\"lat\":[-20.43399042630061],\"legendgroup\":\"guara\",\"lon\":[-47.81416224047547],\"marker\":{\"color\":\"#FFA15A\",\"size\":[329.0125442699373],\"sizemode\":\"area\",\"sizeref\":194.3540148545791,\"symbol\":\"circle\"},\"mode\":\"markers\",\"name\":\"guara\",\"showlegend\":true,\"type\":\"scattergeo\"},{\"geo\":\"geo\",\"hovertemplate\":\"<b>%{hovertext}</b><br><br>seller_city=londrina<br>olist_loss=%{marker.size}<br>geolocation_lat=%{lat}<br>geolocation_lng=%{lon}<extra></extra>\",\"hovertext\":[\"londrina\",\"londrina\"],\"lat\":[-23.309902583386343,-23.306545499567303],\"legendgroup\":\"londrina\",\"lon\":[-51.172848272548926,-51.15347141909516],\"marker\":{\"color\":\"#19d3f3\",\"size\":[292.20755904655823,105.82133805306633],\"sizemode\":\"area\",\"sizeref\":194.3540148545791,\"symbol\":\"circle\"},\"mode\":\"markers\",\"name\":\"londrina\",\"showlegend\":true,\"type\":\"scattergeo\"},{\"geo\":\"geo\",\"hovertemplate\":\"<b>%{hovertext}</b><br><br>seller_city=araraquara<br>olist_loss=%{marker.size}<br>geolocation_lat=%{lat}<br>geolocation_lng=%{lon}<extra></extra>\",\"hovertext\":[\"araraquara\",\"araraquara\"],\"lat\":[-21.760806096824155,-21.75910441993188],\"legendgroup\":\"araraquara\",\"lon\":[-48.17228519205648,-48.16642293075191],\"marker\":{\"color\":\"#FF6692\",\"size\":[282.32425564591665,11.320407096437236],\"sizemode\":\"area\",\"sizeref\":194.3540148545791,\"symbol\":\"circle\"},\"mode\":\"markers\",\"name\":\"araraquara\",\"showlegend\":true,\"type\":\"scattergeo\"},{\"geo\":\"geo\",\"hovertemplate\":\"<b>%{hovertext}</b><br><br>seller_city=contagem<br>olist_loss=%{marker.size}<br>geolocation_lat=%{lat}<br>geolocation_lng=%{lon}<extra></extra>\",\"hovertext\":[\"contagem\",\"contagem\"],\"lat\":[-19.944519773919623,-19.893454436332657],\"legendgroup\":\"contagem\",\"lon\":[-44.03388528779314,-44.03400171616229],\"marker\":{\"color\":\"#B6E880\",\"size\":[259.02182874297114,10.694703548218612],\"sizemode\":\"area\",\"sizeref\":194.3540148545791,\"symbol\":\"circle\"},\"mode\":\"markers\",\"name\":\"contagem\",\"showlegend\":true,\"type\":\"scattergeo\"},{\"geo\":\"geo\",\"hovertemplate\":\"<b>%{hovertext}</b><br><br>seller_city=juiz de fora<br>olist_loss=%{marker.size}<br>geolocation_lat=%{lat}<br>geolocation_lng=%{lon}<extra></extra>\",\"hovertext\":[\"juiz de fora\"],\"lat\":[-21.729309223700177],\"legendgroup\":\"juiz de fora\",\"lon\":[-43.34147826034389],\"marker\":{\"color\":\"#FF97FF\",\"size\":[254.2839945462232],\"sizemode\":\"area\",\"sizeref\":194.3540148545791,\"symbol\":\"circle\"},\"mode\":\"markers\",\"name\":\"juiz de fora\",\"showlegend\":true,\"type\":\"scattergeo\"},{\"geo\":\"geo\",\"hovertemplate\":\"<b>%{hovertext}</b><br><br>seller_city=coronel fabriciano<br>olist_loss=%{marker.size}<br>geolocation_lat=%{lat}<br>geolocation_lng=%{lon}<extra></extra>\",\"hovertext\":[\"coronel fabriciano\"],\"lat\":[-19.50664329902649],\"legendgroup\":\"coronel fabriciano\",\"lon\":[-42.630873484496206],\"marker\":{\"color\":\"#FECB52\",\"size\":[249.83899454622315],\"sizemode\":\"area\",\"sizeref\":194.3540148545791,\"symbol\":\"circle\"},\"mode\":\"markers\",\"name\":\"coronel fabriciano\",\"showlegend\":true,\"type\":\"scattergeo\"},{\"geo\":\"geo\",\"hovertemplate\":\"<b>%{hovertext}</b><br><br>seller_city=marilia<br>olist_loss=%{marker.size}<br>geolocation_lat=%{lat}<br>geolocation_lng=%{lon}<extra></extra>\",\"hovertext\":[\"marilia\"],\"lat\":[-22.210461027738702],\"legendgroup\":\"marilia\",\"lon\":[-49.93571261075899],\"marker\":{\"color\":\"#636efa\",\"size\":[234.2766397900975],\"sizemode\":\"area\",\"sizeref\":194.3540148545791,\"symbol\":\"circle\"},\"mode\":\"markers\",\"name\":\"marilia\",\"showlegend\":true,\"type\":\"scattergeo\"},{\"geo\":\"geo\",\"hovertemplate\":\"<b>%{hovertext}</b><br><br>seller_city=sorocaba<br>olist_loss=%{marker.size}<br>geolocation_lat=%{lat}<br>geolocation_lng=%{lon}<extra></extra>\",\"hovertext\":[\"sorocaba\",\"sorocaba\"],\"lat\":[-23.49636707533955,-23.539013392723216],\"legendgroup\":\"sorocaba\",\"lon\":[-47.43890030979464,-47.49104229586244],\"marker\":{\"color\":\"#EF553B\",\"size\":[219.76289570082406,17.12377952327911],\"sizemode\":\"area\",\"sizeref\":194.3540148545791,\"symbol\":\"circle\"},\"mode\":\"markers\",\"name\":\"sorocaba\",\"showlegend\":true,\"type\":\"scattergeo\"},{\"geo\":\"geo\",\"hovertemplate\":\"<b>%{hovertext}</b><br><br>seller_city=teixeira soares<br>olist_loss=%{marker.size}<br>geolocation_lat=%{lat}<br>geolocation_lng=%{lon}<extra></extra>\",\"hovertext\":[\"teixeira soares\"],\"lat\":[-25.372898999999997],\"legendgroup\":\"teixeira soares\",\"lon\":[-50.46185700000001],\"marker\":{\"color\":\"#00cc96\",\"size\":[202.30831831147225],\"sizemode\":\"area\",\"sizeref\":194.3540148545791,\"symbol\":\"circle\"},\"mode\":\"markers\",\"name\":\"teixeira soares\",\"showlegend\":true,\"type\":\"scattergeo\"},{\"geo\":\"geo\",\"hovertemplate\":\"<b>%{hovertext}</b><br><br>seller_city=indaiatuba<br>olist_loss=%{marker.size}<br>geolocation_lat=%{lat}<br>geolocation_lng=%{lon}<extra></extra>\",\"hovertext\":[\"indaiatuba\"],\"lat\":[-23.141554810215275],\"legendgroup\":\"indaiatuba\",\"lon\":[-47.23811647179686],\"marker\":{\"color\":\"#ab63fa\",\"size\":[202.1886902653314],\"sizemode\":\"area\",\"sizeref\":194.3540148545791,\"symbol\":\"circle\"},\"mode\":\"markers\",\"name\":\"indaiatuba\",\"showlegend\":true,\"type\":\"scattergeo\"},{\"geo\":\"geo\",\"hovertemplate\":\"<b>%{hovertext}</b><br><br>seller_city=valinhos<br>olist_loss=%{marker.size}<br>geolocation_lat=%{lat}<br>geolocation_lng=%{lon}<extra></extra>\",\"hovertext\":[\"valinhos\",\"valinhos\"],\"lat\":[-22.976619071841363,-22.9865591766809],\"legendgroup\":\"valinhos\",\"lon\":[-47.01071509319301,-46.98871848455929],\"marker\":{\"color\":\"#FFA15A\",\"size\":[198.21118267618544,2.0047035482186146],\"sizemode\":\"area\",\"sizeref\":194.3540148545791,\"symbol\":\"circle\"},\"mode\":\"markers\",\"name\":\"valinhos\",\"showlegend\":true,\"type\":\"scattergeo\"},{\"geo\":\"geo\",\"hovertemplate\":\"<b>%{hovertext}</b><br><br>seller_city=taruma<br>olist_loss=%{marker.size}<br>geolocation_lat=%{lat}<br>geolocation_lng=%{lon}<extra></extra>\",\"hovertext\":[\"taruma\"],\"lat\":[-22.751694253550635],\"legendgroup\":\"taruma\",\"lon\":[-50.5739497814992],\"marker\":{\"color\":\"#19d3f3\",\"size\":[196.38767610613263],\"sizemode\":\"area\",\"sizeref\":194.3540148545791,\"symbol\":\"circle\"},\"mode\":\"markers\",\"name\":\"taruma\",\"showlegend\":true,\"type\":\"scattergeo\"},{\"geo\":\"geo\",\"hovertemplate\":\"<b>%{hovertext}</b><br><br>seller_city=portoferreira<br>olist_loss=%{marker.size}<br>geolocation_lat=%{lat}<br>geolocation_lng=%{lon}<extra></extra>\",\"hovertext\":[\"portoferreira\"],\"lat\":[-21.858555070695942],\"legendgroup\":\"portoferreira\",\"lon\":[-47.48403458197557],\"marker\":{\"color\":\"#FF6692\",\"size\":[190.20133805306634],\"sizemode\":\"area\",\"sizeref\":194.3540148545791,\"symbol\":\"circle\"},\"mode\":\"markers\",\"name\":\"portoferreira\",\"showlegend\":true,\"type\":\"scattergeo\"},{\"geo\":\"geo\",\"hovertemplate\":\"<b>%{hovertext}</b><br><br>seller_city=sao goncalo<br>olist_loss=%{marker.size}<br>geolocation_lat=%{lat}<br>geolocation_lng=%{lon}<extra></extra>\",\"hovertext\":[\"sao goncalo\",\"sao goncalo\"],\"lat\":[-22.82732701725956,-22.80395133423044],\"legendgroup\":\"sao goncalo\",\"lon\":[-43.05044041062229,-42.96490045553483],\"marker\":{\"color\":\"#B6E880\",\"size\":[183.22819002889992,9.603779523279115],\"sizemode\":\"area\",\"sizeref\":194.3540148545791,\"symbol\":\"circle\"},\"mode\":\"markers\",\"name\":\"sao goncalo\",\"showlegend\":true,\"type\":\"scattergeo\"},{\"geo\":\"geo\",\"hovertemplate\":\"<b>%{hovertext}</b><br><br>seller_city=congonhal<br>olist_loss=%{marker.size}<br>geolocation_lat=%{lat}<br>geolocation_lng=%{lon}<extra></extra>\",\"hovertext\":[\"congonhal\"],\"lat\":[-22.15937587770692],\"legendgroup\":\"congonhal\",\"lon\":[-46.04402732344177],\"marker\":{\"color\":\"#FF97FF\",\"size\":[174.5160245865086],\"sizemode\":\"area\",\"sizeref\":194.3540148545791,\"symbol\":\"circle\"},\"mode\":\"markers\",\"name\":\"congonhal\",\"showlegend\":true,\"type\":\"scattergeo\"},{\"geo\":\"geo\",\"hovertemplate\":\"<b>%{hovertext}</b><br><br>seller_city=bady bassitt<br>olist_loss=%{marker.size}<br>geolocation_lat=%{lat}<br>geolocation_lng=%{lon}<extra></extra>\",\"hovertext\":[\"bady bassitt\"],\"lat\":[-20.9245222402303],\"legendgroup\":\"bady bassitt\",\"lon\":[-49.45780155372428],\"marker\":{\"color\":\"#FECB52\",\"size\":[155.3068141928744],\"sizemode\":\"area\",\"sizeref\":194.3540148545791,\"symbol\":\"circle\"},\"mode\":\"markers\",\"name\":\"bady bassitt\",\"showlegend\":true,\"type\":\"scattergeo\"},{\"geo\":\"geo\",\"hovertemplate\":\"<b>%{hovertext}</b><br><br>seller_city=joinville<br>olist_loss=%{marker.size}<br>geolocation_lat=%{lat}<br>geolocation_lng=%{lon}<extra></extra>\",\"hovertext\":[\"joinville\",\"joinville\"],\"lat\":[-26.270855620639093,-26.330548143460163],\"legendgroup\":\"joinville\",\"lon\":[-48.86166604614817,-48.88090174304856],\"marker\":{\"color\":\"#636efa\",\"size\":[154.6294070964372,0.13263359651091378],\"sizemode\":\"area\",\"sizeref\":194.3540148545791,\"symbol\":\"circle\"},\"mode\":\"markers\",\"name\":\"joinville\",\"showlegend\":true,\"type\":\"scattergeo\"},{\"geo\":\"geo\",\"hovertemplate\":\"<b>%{hovertext}</b><br><br>seller_city=itaborai<br>olist_loss=%{marker.size}<br>geolocation_lat=%{lat}<br>geolocation_lng=%{lon}<extra></extra>\",\"hovertext\":[\"itaborai\"],\"lat\":[-22.70666999999997],\"legendgroup\":\"itaborai\",\"lon\":[-42.896109999999965],\"marker\":{\"color\":\"#EF553B\",\"size\":[149.1489945462232],\"sizemode\":\"area\",\"sizeref\":194.3540148545791,\"symbol\":\"circle\"},\"mode\":\"markers\",\"name\":\"itaborai\",\"showlegend\":true,\"type\":\"scattergeo\"},{\"geo\":\"geo\",\"hovertemplate\":\"<b>%{hovertext}</b><br><br>seller_city=capivari<br>olist_loss=%{marker.size}<br>geolocation_lat=%{lat}<br>geolocation_lng=%{lon}<extra></extra>\",\"hovertext\":[\"capivari\"],\"lat\":[-23.0122137105142],\"legendgroup\":\"capivari\",\"lon\":[-47.52203973160603],\"marker\":{\"color\":\"#00cc96\",\"size\":[136.11655378650926],\"sizemode\":\"area\",\"sizeref\":194.3540148545791,\"symbol\":\"circle\"},\"mode\":\"markers\",\"name\":\"capivari\",\"showlegend\":true,\"type\":\"scattergeo\"},{\"geo\":\"geo\",\"hovertemplate\":\"<b>%{hovertext}</b><br><br>seller_city=goiania<br>olist_loss=%{marker.size}<br>geolocation_lat=%{lat}<br>geolocation_lng=%{lon}<extra></extra>\",\"hovertext\":[\"goiania\",\"goiania\"],\"lat\":[-16.667759999999944,-16.70654296583296],\"legendgroup\":\"goiania\",\"lon\":[-49.26147649999996,-49.2684231411224],\"marker\":{\"color\":\"#ab63fa\",\"size\":[117.23470354821859,17.672703548218607],\"sizemode\":\"area\",\"sizeref\":194.3540148545791,\"symbol\":\"circle\"},\"mode\":\"markers\",\"name\":\"goiania\",\"showlegend\":true,\"type\":\"scattergeo\"},{\"geo\":\"geo\",\"hovertemplate\":\"<b>%{hovertext}</b><br><br>seller_city=araguari<br>olist_loss=%{marker.size}<br>geolocation_lat=%{lat}<br>geolocation_lng=%{lon}<extra></extra>\",\"hovertext\":[\"araguari\"],\"lat\":[-18.643784093954583],\"legendgroup\":\"araguari\",\"lon\":[-48.20804381879092],\"marker\":{\"color\":\"#FFA15A\",\"size\":[109.53785600157062],\"sizemode\":\"area\",\"sizeref\":194.3540148545791,\"symbol\":\"circle\"},\"mode\":\"markers\",\"name\":\"araguari\",\"showlegend\":true,\"type\":\"scattergeo\"},{\"geo\":\"geo\",\"hovertemplate\":\"<b>%{hovertext}</b><br><br>seller_city=mesquita<br>olist_loss=%{marker.size}<br>geolocation_lat=%{lat}<br>geolocation_lng=%{lon}<extra></extra>\",\"hovertext\":[\"mesquita\"],\"lat\":[-22.767224960596728],\"legendgroup\":\"mesquita\",\"lon\":[-43.424453496437685],\"marker\":{\"color\":\"#19d3f3\",\"size\":[102.10892483753025],\"sizemode\":\"area\",\"sizeref\":194.3540148545791,\"symbol\":\"circle\"},\"mode\":\"markers\",\"name\":\"mesquita\",\"showlegend\":true,\"type\":\"scattergeo\"},{\"geo\":\"geo\",\"hovertemplate\":\"<b>%{hovertext}</b><br><br>seller_city=tupa<br>olist_loss=%{marker.size}<br>geolocation_lat=%{lat}<br>geolocation_lng=%{lon}<extra></extra>\",\"hovertext\":[\"tupa\"],\"lat\":[-21.936588293449766],\"legendgroup\":\"tupa\",\"lon\":[-50.52238400033537],\"marker\":{\"color\":\"#FF6692\",\"size\":[100.13377952327912],\"sizemode\":\"area\",\"sizeref\":194.3540148545791,\"symbol\":\"circle\"},\"mode\":\"markers\",\"name\":\"tupa\",\"showlegend\":true,\"type\":\"scattergeo\"},{\"geo\":\"geo\",\"hovertemplate\":\"<b>%{hovertext}</b><br><br>seller_city=cascavel<br>olist_loss=%{marker.size}<br>geolocation_lat=%{lat}<br>geolocation_lng=%{lon}<extra></extra>\",\"hovertext\":[\"cascavel\"],\"lat\":[-24.966371460470743],\"legendgroup\":\"cascavel\",\"lon\":[-53.46488320191585],\"marker\":{\"color\":\"#B6E880\",\"size\":[86.31542162621736],\"sizemode\":\"area\",\"sizeref\":194.3540148545791,\"symbol\":\"circle\"},\"mode\":\"markers\",\"name\":\"cascavel\",\"showlegend\":true,\"type\":\"scattergeo\"},{\"geo\":\"geo\",\"hovertemplate\":\"<b>%{hovertext}</b><br><br>seller_city=santo antonio da patrulha<br>olist_loss=%{marker.size}<br>geolocation_lat=%{lat}<br>geolocation_lng=%{lon}<extra></extra>\",\"hovertext\":[\"santo antonio da patrulha\"],\"lat\":[-29.8278405],\"legendgroup\":\"santo antonio da patrulha\",\"lon\":[-50.5234755],\"marker\":{\"color\":\"#FF97FF\",\"size\":[85.42377952327911],\"sizemode\":\"area\",\"sizeref\":194.3540148545791,\"symbol\":\"circle\"},\"mode\":\"markers\",\"name\":\"santo antonio da patrulha\",\"showlegend\":true,\"type\":\"scattergeo\"},{\"geo\":\"geo\",\"hovertemplate\":\"<b>%{hovertext}</b><br><br>seller_city=penapolis<br>olist_loss=%{marker.size}<br>geolocation_lat=%{lat}<br>geolocation_lng=%{lon}<extra></extra>\",\"hovertext\":[\"penapolis\"],\"lat\":[-21.426570046543283],\"legendgroup\":\"penapolis\",\"lon\":[-50.06791761043272],\"marker\":{\"color\":\"#FECB52\",\"size\":[81.8426587652657],\"sizemode\":\"area\",\"sizeref\":194.3540148545791,\"symbol\":\"circle\"},\"mode\":\"markers\",\"name\":\"penapolis\",\"showlegend\":true,\"type\":\"scattergeo\"},{\"geo\":\"geo\",\"hovertemplate\":\"<b>%{hovertext}</b><br><br>seller_city=sete lagoas<br>olist_loss=%{marker.size}<br>geolocation_lat=%{lat}<br>geolocation_lng=%{lon}<extra></extra>\",\"hovertext\":[\"sete lagoas\"],\"lat\":[-19.46361254830593],\"legendgroup\":\"sete lagoas\",\"lon\":[-44.24441403023008],\"marker\":{\"color\":\"#636efa\",\"size\":[72.6170316615935],\"sizemode\":\"area\",\"sizeref\":194.3540148545791,\"symbol\":\"circle\"},\"mode\":\"markers\",\"name\":\"sete lagoas\",\"showlegend\":true,\"type\":\"scattergeo\"},{\"geo\":\"geo\",\"hovertemplate\":\"<b>%{hovertext}</b><br><br>seller_city=osasco<br>olist_loss=%{marker.size}<br>geolocation_lat=%{lat}<br>geolocation_lng=%{lon}<extra></extra>\",\"hovertext\":[\"osasco\",\"osasco\"],\"lat\":[-23.50689076715323,-23.565986162357948],\"legendgroup\":\"osasco\",\"lon\":[-46.78586646309645,-46.78504212655093],\"marker\":{\"color\":\"#EF553B\",\"size\":[68.71507211070502,18.91607211070493],\"sizemode\":\"area\",\"sizeref\":194.3540148545791,\"symbol\":\"circle\"},\"mode\":\"markers\",\"name\":\"osasco\",\"showlegend\":true,\"type\":\"scattergeo\"},{\"geo\":\"geo\",\"hovertemplate\":\"<b>%{hovertext}</b><br><br>seller_city=porto ferreira<br>olist_loss=%{marker.size}<br>geolocation_lat=%{lat}<br>geolocation_lng=%{lon}<extra></extra>\",\"hovertext\":[\"porto ferreira\"],\"lat\":[-21.858555070695942],\"legendgroup\":\"porto ferreira\",\"lon\":[-47.48403458197557],\"marker\":{\"color\":\"#00cc96\",\"size\":[65.36633805306633],\"sizemode\":\"area\",\"sizeref\":194.3540148545791,\"symbol\":\"circle\"},\"mode\":\"markers\",\"name\":\"porto ferreira\",\"showlegend\":true,\"type\":\"scattergeo\"},{\"geo\":\"geo\",\"hovertemplate\":\"<b>%{hovertext}</b><br><br>seller_city=sao caetano do sul<br>olist_loss=%{marker.size}<br>geolocation_lat=%{lat}<br>geolocation_lng=%{lon}<extra></extra>\",\"hovertext\":[\"sao caetano do sul\",\"sao caetano do sul\"],\"lat\":[-23.637496609498484,-23.626053031363607],\"legendgroup\":\"sao caetano do sul\",\"lon\":[-46.57411344809283,-46.554888478215695],\"marker\":{\"color\":\"#ab63fa\",\"size\":[53.30377952327912,20.356639790097503],\"sizemode\":\"area\",\"sizeref\":194.3540148545791,\"symbol\":\"circle\"},\"mode\":\"markers\",\"name\":\"sao caetano do sul\",\"showlegend\":true,\"type\":\"scattergeo\"},{\"geo\":\"geo\",\"hovertemplate\":\"<b>%{hovertext}</b><br><br>seller_city=caxias do sul<br>olist_loss=%{marker.size}<br>geolocation_lat=%{lat}<br>geolocation_lng=%{lon}<extra></extra>\",\"hovertext\":[\"caxias do sul\"],\"lat\":[-29.16957635052199],\"legendgroup\":\"caxias do sul\",\"lon\":[-51.164852512339095],\"marker\":{\"color\":\"#FFA15A\",\"size\":[45.64382874297115],\"sizemode\":\"area\",\"sizeref\":194.3540148545791,\"symbol\":\"circle\"},\"mode\":\"markers\",\"name\":\"caxias do sul\",\"showlegend\":true,\"type\":\"scattergeo\"},{\"geo\":\"geo\",\"hovertemplate\":\"<b>%{hovertext}</b><br><br>seller_city=bauru<br>olist_loss=%{marker.size}<br>geolocation_lat=%{lat}<br>geolocation_lng=%{lon}<extra></extra>\",\"hovertext\":[\"bauru\"],\"lat\":[-22.33259929227913],\"legendgroup\":\"bauru\",\"lon\":[-49.0443811707606],\"marker\":{\"color\":\"#19d3f3\",\"size\":[35.26877952327911],\"sizemode\":\"area\",\"sizeref\":194.3540148545791,\"symbol\":\"circle\"},\"mode\":\"markers\",\"name\":\"bauru\",\"showlegend\":true,\"type\":\"scattergeo\"},{\"geo\":\"geo\",\"hovertemplate\":\"<b>%{hovertext}</b><br><br>seller_city=itapevi<br>olist_loss=%{marker.size}<br>geolocation_lat=%{lat}<br>geolocation_lng=%{lon}<extra></extra>\",\"hovertext\":[\"itapevi\"],\"lat\":[-23.56337220714669],\"legendgroup\":\"itapevi\",\"lon\":[-46.93710104735605],\"marker\":{\"color\":\"#FF6692\",\"size\":[33.213903829811386],\"sizemode\":\"area\",\"sizeref\":194.3540148545791,\"symbol\":\"circle\"},\"mode\":\"markers\",\"name\":\"itapevi\",\"showlegend\":true,\"type\":\"scattergeo\"},{\"geo\":\"geo\",\"hovertemplate\":\"<b>%{hovertext}</b><br><br>seller_city=taboao da serra<br>olist_loss=%{marker.size}<br>geolocation_lat=%{lat}<br>geolocation_lng=%{lon}<extra></extra>\",\"hovertext\":[\"taboao da serra\"],\"lat\":[-23.615066461567263],\"legendgroup\":\"taboao da serra\",\"lon\":[-46.79855272938433],\"marker\":{\"color\":\"#B6E880\",\"size\":[30.34077952327914],\"sizemode\":\"area\",\"sizeref\":194.3540148545791,\"symbol\":\"circle\"},\"mode\":\"markers\",\"name\":\"taboao da serra\",\"showlegend\":true,\"type\":\"scattergeo\"},{\"geo\":\"geo\",\"hovertemplate\":\"<b>%{hovertext}</b><br><br>seller_city=toledo<br>olist_loss=%{marker.size}<br>geolocation_lat=%{lat}<br>geolocation_lng=%{lon}<extra></extra>\",\"hovertext\":[\"toledo\"],\"lat\":[-24.709844492474502],\"legendgroup\":\"toledo\",\"lon\":[-53.75003279931422],\"marker\":{\"color\":\"#FF97FF\",\"size\":[26.184110644655846],\"sizemode\":\"area\",\"sizeref\":194.3540148545791,\"symbol\":\"circle\"},\"mode\":\"markers\",\"name\":\"toledo\",\"showlegend\":true,\"type\":\"scattergeo\"},{\"geo\":\"geo\",\"hovertemplate\":\"<b>%{hovertext}</b><br><br>seller_city=macatuba<br>olist_loss=%{marker.size}<br>geolocation_lat=%{lat}<br>geolocation_lng=%{lon}<extra></extra>\",\"hovertext\":[\"macatuba\"],\"lat\":[-22.50137476856727],\"legendgroup\":\"macatuba\",\"lon\":[-48.707334186318725],\"marker\":{\"color\":\"#FECB52\",\"size\":[20.894703548218615],\"sizemode\":\"area\",\"sizeref\":194.3540148545791,\"symbol\":\"circle\"},\"mode\":\"markers\",\"name\":\"macatuba\",\"showlegend\":true,\"type\":\"scattergeo\"},{\"geo\":\"geo\",\"hovertemplate\":\"<b>%{hovertext}</b><br><br>seller_city=rio claro<br>olist_loss=%{marker.size}<br>geolocation_lat=%{lat}<br>geolocation_lng=%{lon}<extra></extra>\",\"hovertext\":[\"rio claro\"],\"lat\":[-22.402133192076768],\"legendgroup\":\"rio claro\",\"lon\":[-47.56233402025511],\"marker\":{\"color\":\"#636efa\",\"size\":[19.722676106132667],\"sizemode\":\"area\",\"sizeref\":194.3540148545791,\"symbol\":\"circle\"},\"mode\":\"markers\",\"name\":\"rio claro\",\"showlegend\":true,\"type\":\"scattergeo\"},{\"geo\":\"geo\",\"hovertemplate\":\"<b>%{hovertext}</b><br><br>seller_city=novo hamburgo<br>olist_loss=%{marker.size}<br>geolocation_lat=%{lat}<br>geolocation_lng=%{lon}<extra></extra>\",\"hovertext\":[\"novo hamburgo\"],\"lat\":[-29.684009472963563],\"legendgroup\":\"novo hamburgo\",\"lon\":[-51.128338877236175],\"marker\":{\"color\":\"#EF553B\",\"size\":[19.204703548218617],\"sizemode\":\"area\",\"sizeref\":194.3540148545791,\"symbol\":\"circle\"},\"mode\":\"markers\",\"name\":\"novo hamburgo\",\"showlegend\":true,\"type\":\"scattergeo\"},{\"geo\":\"geo\",\"hovertemplate\":\"<b>%{hovertext}</b><br><br>seller_city=pocos de caldas<br>olist_loss=%{marker.size}<br>geolocation_lat=%{lat}<br>geolocation_lng=%{lon}<extra></extra>\",\"hovertext\":[\"pocos de caldas\"],\"lat\":[-21.799403368591747],\"legendgroup\":\"pocos de caldas\",\"lon\":[-46.50732673145176],\"marker\":{\"color\":\"#00cc96\",\"size\":[18.783779523279122],\"sizemode\":\"area\",\"sizeref\":194.3540148545791,\"symbol\":\"circle\"},\"mode\":\"markers\",\"name\":\"pocos de caldas\",\"showlegend\":true,\"type\":\"scattergeo\"},{\"geo\":\"geo\",\"hovertemplate\":\"<b>%{hovertext}</b><br><br>seller_city=aguas claras df<br>olist_loss=%{marker.size}<br>geolocation_lat=%{lat}<br>geolocation_lng=%{lon}<extra></extra>\",\"hovertext\":[\"aguas claras df\"],\"lat\":[-15.832334737539538],\"legendgroup\":\"aguas claras df\",\"lon\":[-48.03880152367143],\"marker\":{\"color\":\"#ab63fa\",\"size\":[18.694703548218612],\"sizemode\":\"area\",\"sizeref\":194.3540148545791,\"symbol\":\"circle\"},\"mode\":\"markers\",\"name\":\"aguas claras df\",\"showlegend\":true,\"type\":\"scattergeo\"},{\"geo\":\"geo\",\"hovertemplate\":\"<b>%{hovertext}</b><br><br>seller_city=farroupilha<br>olist_loss=%{marker.size}<br>geolocation_lat=%{lat}<br>geolocation_lng=%{lon}<extra></extra>\",\"hovertext\":[\"farroupilha\"],\"lat\":[-29.20322965727452],\"legendgroup\":\"farroupilha\",\"lon\":[-51.35111427008906],\"marker\":{\"color\":\"#FFA15A\",\"size\":[18.204703548218617],\"sizemode\":\"area\",\"sizeref\":194.3540148545791,\"symbol\":\"circle\"},\"mode\":\"markers\",\"name\":\"farroupilha\",\"showlegend\":true,\"type\":\"scattergeo\"},{\"geo\":\"geo\",\"hovertemplate\":\"<b>%{hovertext}</b><br><br>seller_city=cordilheira alta<br>olist_loss=%{marker.size}<br>geolocation_lat=%{lat}<br>geolocation_lng=%{lon}<extra></extra>\",\"hovertext\":[\"cordilheira alta\"],\"lat\":[-26.981354045514674],\"legendgroup\":\"cordilheira alta\",\"lon\":[-52.59374448121119],\"marker\":{\"color\":\"#19d3f3\",\"size\":[16.395703548218606],\"sizemode\":\"area\",\"sizeref\":194.3540148545791,\"symbol\":\"circle\"},\"mode\":\"markers\",\"name\":\"cordilheira alta\",\"showlegend\":true,\"type\":\"scattergeo\"},{\"geo\":\"geo\",\"hovertemplate\":\"<b>%{hovertext}</b><br><br>seller_city=fortaleza<br>olist_loss=%{marker.size}<br>geolocation_lat=%{lat}<br>geolocation_lng=%{lon}<extra></extra>\",\"hovertext\":[\"fortaleza\"],\"lat\":[-3.723672446852087],\"legendgroup\":\"fortaleza\",\"lon\":[-38.59178942714525],\"marker\":{\"color\":\"#FF6692\",\"size\":[16.24770354821861],\"sizemode\":\"area\",\"sizeref\":194.3540148545791,\"symbol\":\"circle\"},\"mode\":\"markers\",\"name\":\"fortaleza\",\"showlegend\":true,\"type\":\"scattergeo\"},{\"geo\":\"geo\",\"hovertemplate\":\"<b>%{hovertext}</b><br><br>seller_city=carmo da mata<br>olist_loss=%{marker.size}<br>geolocation_lat=%{lat}<br>geolocation_lng=%{lon}<extra></extra>\",\"hovertext\":[\"carmo da mata\"],\"lat\":[-20.560695251372668],\"legendgroup\":\"carmo da mata\",\"lon\":[-44.86750449963131],\"marker\":{\"color\":\"#B6E880\",\"size\":[14.704703548218617],\"sizemode\":\"area\",\"sizeref\":194.3540148545791,\"symbol\":\"circle\"},\"mode\":\"markers\",\"name\":\"carmo da mata\",\"showlegend\":true,\"type\":\"scattergeo\"},{\"geo\":\"geo\",\"hovertemplate\":\"<b>%{hovertext}</b><br><br>seller_city=varginha<br>olist_loss=%{marker.size}<br>geolocation_lat=%{lat}<br>geolocation_lng=%{lon}<extra></extra>\",\"hovertext\":[\"varginha\"],\"lat\":[-21.56727451244741],\"legendgroup\":\"varginha\",\"lon\":[-45.43589090780592],\"marker\":{\"color\":\"#FF97FF\",\"size\":[14.694703548218612],\"sizemode\":\"area\",\"sizeref\":194.3540148545791,\"symbol\":\"circle\"},\"mode\":\"markers\",\"name\":\"varginha\",\"showlegend\":true,\"type\":\"scattergeo\"},{\"geo\":\"geo\",\"hovertemplate\":\"<b>%{hovertext}</b><br><br>seller_city=xanxere<br>olist_loss=%{marker.size}<br>geolocation_lat=%{lat}<br>geolocation_lng=%{lon}<extra></extra>\",\"hovertext\":[\"xanxere\"],\"lat\":[-26.87062454886829],\"legendgroup\":\"xanxere\",\"lon\":[-52.40448790429404],\"marker\":{\"color\":\"#FECB52\",\"size\":[14.204703548218617],\"sizemode\":\"area\",\"sizeref\":194.3540148545791,\"symbol\":\"circle\"},\"mode\":\"markers\",\"name\":\"xanxere\",\"showlegend\":true,\"type\":\"scattergeo\"},{\"geo\":\"geo\",\"hovertemplate\":\"<b>%{hovertext}</b><br><br>seller_city=sao jose dos pinhais<br>olist_loss=%{marker.size}<br>geolocation_lat=%{lat}<br>geolocation_lng=%{lon}<extra></extra>\",\"hovertext\":[\"sao jose dos pinhais\",\"sao jose dos pinhais\"],\"lat\":[-25.533751917338503,-25.533552342489493],\"legendgroup\":\"sao jose dos pinhais\",\"lon\":[-49.199826126071535,-49.18726902068778],\"marker\":{\"color\":\"#636efa\",\"size\":[11.335779523279115,9.194703548218612],\"sizemode\":\"area\",\"sizeref\":194.3540148545791,\"symbol\":\"circle\"},\"mode\":\"markers\",\"name\":\"sao jose dos pinhais\",\"showlegend\":true,\"type\":\"scattergeo\"},{\"geo\":\"geo\",\"hovertemplate\":\"<b>%{hovertext}</b><br><br>seller_city=apucarana<br>olist_loss=%{marker.size}<br>geolocation_lat=%{lat}<br>geolocation_lng=%{lon}<extra></extra>\",\"hovertext\":[\"apucarana\"],\"lat\":[-23.558241337915224],\"legendgroup\":\"apucarana\",\"lon\":[-51.489341276340376],\"marker\":{\"color\":\"#EF553B\",\"size\":[10.533779523279122],\"sizemode\":\"area\",\"sizeref\":194.3540148545791,\"symbol\":\"circle\"},\"mode\":\"markers\",\"name\":\"apucarana\",\"showlegend\":true,\"type\":\"scattergeo\"},{\"geo\":\"geo\",\"hovertemplate\":\"<b>%{hovertext}</b><br><br>seller_city=porto alegre<br>olist_loss=%{marker.size}<br>geolocation_lat=%{lat}<br>geolocation_lng=%{lon}<extra></extra>\",\"hovertext\":[\"porto alegre\",\"porto alegre\"],\"lat\":[-29.986860174851422,-30.04404879488149],\"legendgroup\":\"porto alegre\",\"lon\":[-51.19170121247608,-51.19180931334757],\"marker\":{\"color\":\"#00cc96\",\"size\":[9.72377952327912,2.394703548218615],\"sizemode\":\"area\",\"sizeref\":194.3540148545791,\"symbol\":\"circle\"},\"mode\":\"markers\",\"name\":\"porto alegre\",\"showlegend\":true,\"type\":\"scattergeo\"},{\"geo\":\"geo\",\"hovertemplate\":\"<b>%{hovertext}</b><br><br>seller_city=mogi guacu<br>olist_loss=%{marker.size}<br>geolocation_lat=%{lat}<br>geolocation_lng=%{lon}<extra></extra>\",\"hovertext\":[\"mogi guacu\"],\"lat\":[-22.359648157307664],\"legendgroup\":\"mogi guacu\",\"lon\":[-46.93603474635176],\"marker\":{\"color\":\"#ab63fa\",\"size\":[8.593407096437218],\"sizemode\":\"area\",\"sizeref\":194.3540148545791,\"symbol\":\"circle\"},\"mode\":\"markers\",\"name\":\"mogi guacu\",\"showlegend\":true,\"type\":\"scattergeo\"},{\"geo\":\"geo\",\"hovertemplate\":\"<b>%{hovertext}</b><br><br>seller_city=cravinhos<br>olist_loss=%{marker.size}<br>geolocation_lat=%{lat}<br>geolocation_lng=%{lon}<extra></extra>\",\"hovertext\":[\"cravinhos\"],\"lat\":[-21.33657673516688],\"legendgroup\":\"cravinhos\",\"lon\":[-47.74963189171813],\"marker\":{\"color\":\"#FFA15A\",\"size\":[8.334703548218613],\"sizemode\":\"area\",\"sizeref\":194.3540148545791,\"symbol\":\"circle\"},\"mode\":\"markers\",\"name\":\"cravinhos\",\"showlegend\":true,\"type\":\"scattergeo\"},{\"geo\":\"geo\",\"hovertemplate\":\"<b>%{hovertext}</b><br><br>seller_city=cambe<br>olist_loss=%{marker.size}<br>geolocation_lat=%{lat}<br>geolocation_lng=%{lon}<extra></extra>\",\"hovertext\":[\"cambe\"],\"lat\":[-23.29212231171705],\"legendgroup\":\"cambe\",\"lon\":[-51.27502315585853],\"marker\":{\"color\":\"#19d3f3\",\"size\":[8.294703548218607],\"sizemode\":\"area\",\"sizeref\":194.3540148545791,\"symbol\":\"circle\"},\"mode\":\"markers\",\"name\":\"cambe\",\"showlegend\":true,\"type\":\"scattergeo\"},{\"geo\":\"geo\",\"hovertemplate\":\"<b>%{hovertext}</b><br><br>seller_city=arapongas<br>olist_loss=%{marker.size}<br>geolocation_lat=%{lat}<br>geolocation_lng=%{lon}<extra></extra>\",\"hovertext\":[\"arapongas\"],\"lat\":[-23.420739085916825],\"legendgroup\":\"arapongas\",\"lon\":[-51.41460369847018],\"marker\":{\"color\":\"#FF6692\",\"size\":[7.513779523279112],\"sizemode\":\"area\",\"sizeref\":194.3540148545791,\"symbol\":\"circle\"},\"mode\":\"markers\",\"name\":\"arapongas\",\"showlegend\":true,\"type\":\"scattergeo\"},{\"geo\":\"geo\",\"hovertemplate\":\"<b>%{hovertext}</b><br><br>seller_city=blumenau<br>olist_loss=%{marker.size}<br>geolocation_lat=%{lat}<br>geolocation_lng=%{lon}<extra></extra>\",\"hovertext\":[\"blumenau\"],\"lat\":[-26.87609219920492],\"legendgroup\":\"blumenau\",\"lon\":[-49.11778268660643],\"marker\":{\"color\":\"#B6E880\",\"size\":[6.204703548218603],\"sizemode\":\"area\",\"sizeref\":194.3540148545791,\"symbol\":\"circle\"},\"mode\":\"markers\",\"name\":\"blumenau\",\"showlegend\":true,\"type\":\"scattergeo\"},{\"geo\":\"geo\",\"hovertemplate\":\"<b>%{hovertext}</b><br><br>seller_city=braganca paulista<br>olist_loss=%{marker.size}<br>geolocation_lat=%{lat}<br>geolocation_lng=%{lon}<extra></extra>\",\"hovertext\":[\"braganca paulista\"],\"lat\":[-22.971647510075705],\"legendgroup\":\"braganca paulista\",\"lon\":[-46.53361841170685],\"marker\":{\"color\":\"#FF97FF\",\"size\":[5.395703548218606],\"sizemode\":\"area\",\"sizeref\":194.3540148545791,\"symbol\":\"circle\"},\"mode\":\"markers\",\"name\":\"braganca paulista\",\"showlegend\":true,\"type\":\"scattergeo\"},{\"geo\":\"geo\",\"hovertemplate\":\"<b>%{hovertext}</b><br><br>seller_city=conchal<br>olist_loss=%{marker.size}<br>geolocation_lat=%{lat}<br>geolocation_lng=%{lon}<extra></extra>\",\"hovertext\":[\"conchal\"],\"lat\":[-22.338621],\"legendgroup\":\"conchal\",\"lon\":[-47.17603125],\"marker\":{\"color\":\"#FECB52\",\"size\":[4.121506324276808],\"sizemode\":\"area\",\"sizeref\":194.3540148545791,\"symbol\":\"circle\"},\"mode\":\"markers\",\"name\":\"conchal\",\"showlegend\":true,\"type\":\"scattergeo\"},{\"geo\":\"geo\",\"hovertemplate\":\"<b>%{hovertext}</b><br><br>seller_city=canoas<br>olist_loss=%{marker.size}<br>geolocation_lat=%{lat}<br>geolocation_lng=%{lon}<extra></extra>\",\"hovertext\":[\"canoas\"],\"lat\":[-29.92327422093021],\"legendgroup\":\"canoas\",\"lon\":[-51.16155342258625],\"marker\":{\"color\":\"#636efa\",\"size\":[3.5857795232791148],\"sizemode\":\"area\",\"sizeref\":194.3540148545791,\"symbol\":\"circle\"},\"mode\":\"markers\",\"name\":\"canoas\",\"showlegend\":true,\"type\":\"scattergeo\"},{\"geo\":\"geo\",\"hovertemplate\":\"<b>%{hovertext}</b><br><br>seller_city=fazenda rio grande<br>olist_loss=%{marker.size}<br>geolocation_lat=%{lat}<br>geolocation_lng=%{lon}<extra></extra>\",\"hovertext\":[\"fazenda rio grande\"],\"lat\":[-25.66745573437876],\"legendgroup\":\"fazenda rio grande\",\"lon\":[-49.28880133395711],\"marker\":{\"color\":\"#EF553B\",\"size\":[3.2037795232791098],\"sizemode\":\"area\",\"sizeref\":194.3540148545791,\"symbol\":\"circle\"},\"mode\":\"markers\",\"name\":\"fazenda rio grande\",\"showlegend\":true,\"type\":\"scattergeo\"},{\"geo\":\"geo\",\"hovertemplate\":\"<b>%{hovertext}</b><br><br>seller_city=sumare<br>olist_loss=%{marker.size}<br>geolocation_lat=%{lat}<br>geolocation_lng=%{lon}<extra></extra>\",\"hovertext\":[\"sumare\"],\"lat\":[-22.813951149316207],\"legendgroup\":\"sumare\",\"lon\":[-47.22434086940969],\"marker\":{\"color\":\"#00cc96\",\"size\":[0.7867035482186111],\"sizemode\":\"area\",\"sizeref\":194.3540148545791,\"symbol\":\"circle\"},\"mode\":\"markers\",\"name\":\"sumare\",\"showlegend\":true,\"type\":\"scattergeo\"}],                        {\"geo\":{\"center\":{},\"domain\":{\"x\":[0.0,1.0],\"y\":[0.0,1.0]},\"scope\":\"south america\"},\"legend\":{\"itemsizing\":\"constant\",\"title\":{\"text\":\"seller_city\"},\"tracegroupgap\":0},\"template\":{\"data\":{\"bar\":[{\"error_x\":{\"color\":\"#2a3f5f\"},\"error_y\":{\"color\":\"#2a3f5f\"},\"marker\":{\"line\":{\"color\":\"#E5ECF6\",\"width\":0.5},\"pattern\":{\"fillmode\":\"overlay\",\"size\":10,\"solidity\":0.2}},\"type\":\"bar\"}],\"barpolar\":[{\"marker\":{\"line\":{\"color\":\"#E5ECF6\",\"width\":0.5},\"pattern\":{\"fillmode\":\"overlay\",\"size\":10,\"solidity\":0.2}},\"type\":\"barpolar\"}],\"carpet\":[{\"aaxis\":{\"endlinecolor\":\"#2a3f5f\",\"gridcolor\":\"white\",\"linecolor\":\"white\",\"minorgridcolor\":\"white\",\"startlinecolor\":\"#2a3f5f\"},\"baxis\":{\"endlinecolor\":\"#2a3f5f\",\"gridcolor\":\"white\",\"linecolor\":\"white\",\"minorgridcolor\":\"white\",\"startlinecolor\":\"#2a3f5f\"},\"type\":\"carpet\"}],\"choropleth\":[{\"colorbar\":{\"outlinewidth\":0,\"ticks\":\"\"},\"type\":\"choropleth\"}],\"contour\":[{\"colorbar\":{\"outlinewidth\":0,\"ticks\":\"\"},\"colorscale\":[[0.0,\"#0d0887\"],[0.1111111111111111,\"#46039f\"],[0.2222222222222222,\"#7201a8\"],[0.3333333333333333,\"#9c179e\"],[0.4444444444444444,\"#bd3786\"],[0.5555555555555556,\"#d8576b\"],[0.6666666666666666,\"#ed7953\"],[0.7777777777777778,\"#fb9f3a\"],[0.8888888888888888,\"#fdca26\"],[1.0,\"#f0f921\"]],\"type\":\"contour\"}],\"contourcarpet\":[{\"colorbar\":{\"outlinewidth\":0,\"ticks\":\"\"},\"type\":\"contourcarpet\"}],\"heatmap\":[{\"colorbar\":{\"outlinewidth\":0,\"ticks\":\"\"},\"colorscale\":[[0.0,\"#0d0887\"],[0.1111111111111111,\"#46039f\"],[0.2222222222222222,\"#7201a8\"],[0.3333333333333333,\"#9c179e\"],[0.4444444444444444,\"#bd3786\"],[0.5555555555555556,\"#d8576b\"],[0.6666666666666666,\"#ed7953\"],[0.7777777777777778,\"#fb9f3a\"],[0.8888888888888888,\"#fdca26\"],[1.0,\"#f0f921\"]],\"type\":\"heatmap\"}],\"heatmapgl\":[{\"colorbar\":{\"outlinewidth\":0,\"ticks\":\"\"},\"colorscale\":[[0.0,\"#0d0887\"],[0.1111111111111111,\"#46039f\"],[0.2222222222222222,\"#7201a8\"],[0.3333333333333333,\"#9c179e\"],[0.4444444444444444,\"#bd3786\"],[0.5555555555555556,\"#d8576b\"],[0.6666666666666666,\"#ed7953\"],[0.7777777777777778,\"#fb9f3a\"],[0.8888888888888888,\"#fdca26\"],[1.0,\"#f0f921\"]],\"type\":\"heatmapgl\"}],\"histogram\":[{\"marker\":{\"pattern\":{\"fillmode\":\"overlay\",\"size\":10,\"solidity\":0.2}},\"type\":\"histogram\"}],\"histogram2d\":[{\"colorbar\":{\"outlinewidth\":0,\"ticks\":\"\"},\"colorscale\":[[0.0,\"#0d0887\"],[0.1111111111111111,\"#46039f\"],[0.2222222222222222,\"#7201a8\"],[0.3333333333333333,\"#9c179e\"],[0.4444444444444444,\"#bd3786\"],[0.5555555555555556,\"#d8576b\"],[0.6666666666666666,\"#ed7953\"],[0.7777777777777778,\"#fb9f3a\"],[0.8888888888888888,\"#fdca26\"],[1.0,\"#f0f921\"]],\"type\":\"histogram2d\"}],\"histogram2dcontour\":[{\"colorbar\":{\"outlinewidth\":0,\"ticks\":\"\"},\"colorscale\":[[0.0,\"#0d0887\"],[0.1111111111111111,\"#46039f\"],[0.2222222222222222,\"#7201a8\"],[0.3333333333333333,\"#9c179e\"],[0.4444444444444444,\"#bd3786\"],[0.5555555555555556,\"#d8576b\"],[0.6666666666666666,\"#ed7953\"],[0.7777777777777778,\"#fb9f3a\"],[0.8888888888888888,\"#fdca26\"],[1.0,\"#f0f921\"]],\"type\":\"histogram2dcontour\"}],\"mesh3d\":[{\"colorbar\":{\"outlinewidth\":0,\"ticks\":\"\"},\"type\":\"mesh3d\"}],\"parcoords\":[{\"line\":{\"colorbar\":{\"outlinewidth\":0,\"ticks\":\"\"}},\"type\":\"parcoords\"}],\"pie\":[{\"automargin\":true,\"type\":\"pie\"}],\"scatter\":[{\"marker\":{\"colorbar\":{\"outlinewidth\":0,\"ticks\":\"\"}},\"type\":\"scatter\"}],\"scatter3d\":[{\"line\":{\"colorbar\":{\"outlinewidth\":0,\"ticks\":\"\"}},\"marker\":{\"colorbar\":{\"outlinewidth\":0,\"ticks\":\"\"}},\"type\":\"scatter3d\"}],\"scattercarpet\":[{\"marker\":{\"colorbar\":{\"outlinewidth\":0,\"ticks\":\"\"}},\"type\":\"scattercarpet\"}],\"scattergeo\":[{\"marker\":{\"colorbar\":{\"outlinewidth\":0,\"ticks\":\"\"}},\"type\":\"scattergeo\"}],\"scattergl\":[{\"marker\":{\"colorbar\":{\"outlinewidth\":0,\"ticks\":\"\"}},\"type\":\"scattergl\"}],\"scattermapbox\":[{\"marker\":{\"colorbar\":{\"outlinewidth\":0,\"ticks\":\"\"}},\"type\":\"scattermapbox\"}],\"scatterpolar\":[{\"marker\":{\"colorbar\":{\"outlinewidth\":0,\"ticks\":\"\"}},\"type\":\"scatterpolar\"}],\"scatterpolargl\":[{\"marker\":{\"colorbar\":{\"outlinewidth\":0,\"ticks\":\"\"}},\"type\":\"scatterpolargl\"}],\"scatterternary\":[{\"marker\":{\"colorbar\":{\"outlinewidth\":0,\"ticks\":\"\"}},\"type\":\"scatterternary\"}],\"surface\":[{\"colorbar\":{\"outlinewidth\":0,\"ticks\":\"\"},\"colorscale\":[[0.0,\"#0d0887\"],[0.1111111111111111,\"#46039f\"],[0.2222222222222222,\"#7201a8\"],[0.3333333333333333,\"#9c179e\"],[0.4444444444444444,\"#bd3786\"],[0.5555555555555556,\"#d8576b\"],[0.6666666666666666,\"#ed7953\"],[0.7777777777777778,\"#fb9f3a\"],[0.8888888888888888,\"#fdca26\"],[1.0,\"#f0f921\"]],\"type\":\"surface\"}],\"table\":[{\"cells\":{\"fill\":{\"color\":\"#EBF0F8\"},\"line\":{\"color\":\"white\"}},\"header\":{\"fill\":{\"color\":\"#C8D4E3\"},\"line\":{\"color\":\"white\"}},\"type\":\"table\"}]},\"layout\":{\"annotationdefaults\":{\"arrowcolor\":\"#2a3f5f\",\"arrowhead\":0,\"arrowwidth\":1},\"autotypenumbers\":\"strict\",\"coloraxis\":{\"colorbar\":{\"outlinewidth\":0,\"ticks\":\"\"}},\"colorscale\":{\"diverging\":[[0,\"#8e0152\"],[0.1,\"#c51b7d\"],[0.2,\"#de77ae\"],[0.3,\"#f1b6da\"],[0.4,\"#fde0ef\"],[0.5,\"#f7f7f7\"],[0.6,\"#e6f5d0\"],[0.7,\"#b8e186\"],[0.8,\"#7fbc41\"],[0.9,\"#4d9221\"],[1,\"#276419\"]],\"sequential\":[[0.0,\"#0d0887\"],[0.1111111111111111,\"#46039f\"],[0.2222222222222222,\"#7201a8\"],[0.3333333333333333,\"#9c179e\"],[0.4444444444444444,\"#bd3786\"],[0.5555555555555556,\"#d8576b\"],[0.6666666666666666,\"#ed7953\"],[0.7777777777777778,\"#fb9f3a\"],[0.8888888888888888,\"#fdca26\"],[1.0,\"#f0f921\"]],\"sequentialminus\":[[0.0,\"#0d0887\"],[0.1111111111111111,\"#46039f\"],[0.2222222222222222,\"#7201a8\"],[0.3333333333333333,\"#9c179e\"],[0.4444444444444444,\"#bd3786\"],[0.5555555555555556,\"#d8576b\"],[0.6666666666666666,\"#ed7953\"],[0.7777777777777778,\"#fb9f3a\"],[0.8888888888888888,\"#fdca26\"],[1.0,\"#f0f921\"]]},\"colorway\":[\"#636efa\",\"#EF553B\",\"#00cc96\",\"#ab63fa\",\"#FFA15A\",\"#19d3f3\",\"#FF6692\",\"#B6E880\",\"#FF97FF\",\"#FECB52\"],\"font\":{\"color\":\"#2a3f5f\"},\"geo\":{\"bgcolor\":\"white\",\"lakecolor\":\"white\",\"landcolor\":\"#E5ECF6\",\"showlakes\":true,\"showland\":true,\"subunitcolor\":\"white\"},\"hoverlabel\":{\"align\":\"left\"},\"hovermode\":\"closest\",\"mapbox\":{\"style\":\"light\"},\"paper_bgcolor\":\"white\",\"plot_bgcolor\":\"#E5ECF6\",\"polar\":{\"angularaxis\":{\"gridcolor\":\"white\",\"linecolor\":\"white\",\"ticks\":\"\"},\"bgcolor\":\"#E5ECF6\",\"radialaxis\":{\"gridcolor\":\"white\",\"linecolor\":\"white\",\"ticks\":\"\"}},\"scene\":{\"xaxis\":{\"backgroundcolor\":\"#E5ECF6\",\"gridcolor\":\"white\",\"gridwidth\":2,\"linecolor\":\"white\",\"showbackground\":true,\"ticks\":\"\",\"zerolinecolor\":\"white\"},\"yaxis\":{\"backgroundcolor\":\"#E5ECF6\",\"gridcolor\":\"white\",\"gridwidth\":2,\"linecolor\":\"white\",\"showbackground\":true,\"ticks\":\"\",\"zerolinecolor\":\"white\"},\"zaxis\":{\"backgroundcolor\":\"#E5ECF6\",\"gridcolor\":\"white\",\"gridwidth\":2,\"linecolor\":\"white\",\"showbackground\":true,\"ticks\":\"\",\"zerolinecolor\":\"white\"}},\"shapedefaults\":{\"line\":{\"color\":\"#2a3f5f\"}},\"ternary\":{\"aaxis\":{\"gridcolor\":\"white\",\"linecolor\":\"white\",\"ticks\":\"\"},\"baxis\":{\"gridcolor\":\"white\",\"linecolor\":\"white\",\"ticks\":\"\"},\"bgcolor\":\"#E5ECF6\",\"caxis\":{\"gridcolor\":\"white\",\"linecolor\":\"white\",\"ticks\":\"\"}},\"title\":{\"x\":0.05},\"xaxis\":{\"automargin\":true,\"gridcolor\":\"white\",\"linecolor\":\"white\",\"ticks\":\"\",\"title\":{\"standoff\":15},\"zerolinecolor\":\"white\",\"zerolinewidth\":2},\"yaxis\":{\"automargin\":true,\"gridcolor\":\"white\",\"linecolor\":\"white\",\"ticks\":\"\",\"title\":{\"standoff\":15},\"zerolinecolor\":\"white\",\"zerolinewidth\":2}}},\"title\":{\"text\":\"Location of underperforming Sellers\"}},                        {\"responsive\": true}                    ).then(function(){\n",
       "                            \n",
       "var gd = document.getElementById('c14d6b2a-76ab-4acb-be05-b973e4024ce0');\n",
       "var x = new MutationObserver(function (mutations, observer) {{\n",
       "        var display = window.getComputedStyle(gd).display;\n",
       "        if (!display || display === 'none') {{\n",
       "            console.log([gd, 'removed!']);\n",
       "            Plotly.purge(gd);\n",
       "            observer.disconnect();\n",
       "        }}\n",
       "}});\n",
       "\n",
       "// Listen for the removal of the full notebook cells\n",
       "var notebookContainer = gd.closest('#notebook-container');\n",
       "if (notebookContainer) {{\n",
       "    x.observe(notebookContainer, {childList: true});\n",
       "}}\n",
       "\n",
       "// Listen for the clearing of the current output cell\n",
       "var outputEl = gd.closest('.output');\n",
       "if (outputEl) {{\n",
       "    x.observe(outputEl, {childList: true});\n",
       "}}\n",
       "\n",
       "                        })                };                });            </script>        </div>"
      ]
     },
     "metadata": {},
     "output_type": "display_data"
    }
   ],
   "source": [
    "fig = px.scatter_geo(bad_sellers_per_city.sort_values(\"olist_loss\", ascending=False),\n",
    "                     lat=\"geolocation_lat\",\n",
    "                     lon=\"geolocation_lng\",\n",
    "                     size=\"olist_loss\",\n",
    "                     scope=\"south america\",\n",
    "                     hover_name = \"seller_city\",\n",
    "                     color=\"seller_city\",\n",
    "                     title=\"Location of underperforming Sellers\")\n",
    "\n",
    "fig.show()"
   ]
  },
  {
   "cell_type": "markdown",
   "metadata": {},
   "source": [
    "### Total Olist Loss"
   ]
  },
  {
   "cell_type": "code",
   "execution_count": 299,
   "metadata": {},
   "outputs": [
    {
     "data": {
      "text/plain": [
       "-352550.5139183469"
      ]
     },
     "execution_count": 299,
     "metadata": {},
     "output_type": "execute_result"
    }
   ],
   "source": [
    "bad_sellers[\"olist_loss\"].sum()"
   ]
  },
  {
   "cell_type": "markdown",
   "metadata": {},
   "source": [
    "<details>\n",
    "    <summary>- <i>Hints</i> -</summary>\n",
    "\n",
    "\n",
    "Starting from your current `seller().get_training_data()` DataFrame, can you easily transform it to compute:\n",
    "- Olist's positive `revenue_per_seller`? \n",
    "- Olist's `cost_of_bad_reviews`?\n",
    "\n",
    "⚠️ Do no start from scratch ! Investigate your source code in `seller.py` : \n",
    "- how was the mean `review_score` per seller computed? \n",
    "- Can you think about  a way to update your code to incorporate the `cost_of_reviews`? \n",
    "\n",
    "</details>\n"
   ]
  },
  {
   "cell_type": "markdown",
   "metadata": {},
   "source": [
    "## Worst performing products\n",
    "\n",
    "Should Olist remove the worst performing products / categories from its marketplace entirely?"
   ]
  },
  {
   "cell_type": "code",
   "execution_count": 23,
   "metadata": {},
   "outputs": [],
   "source": [
    "from olist import product"
   ]
  },
  {
   "cell_type": "code",
   "execution_count": 24,
   "metadata": {},
   "outputs": [],
   "source": [
    "product_df = product.Product().get_training_data()"
   ]
  },
  {
   "cell_type": "code",
   "execution_count": 329,
   "metadata": {},
   "outputs": [],
   "source": [
    "product_df = product_df.merge(Olist().get_data()[\"order_items\"], on=\"product_id\")"
   ]
  },
  {
   "cell_type": "code",
   "execution_count": 330,
   "metadata": {},
   "outputs": [
    {
     "data": {
      "text/html": [
       "<div>\n",
       "<style scoped>\n",
       "    .dataframe tbody tr th:only-of-type {\n",
       "        vertical-align: middle;\n",
       "    }\n",
       "\n",
       "    .dataframe tbody tr th {\n",
       "        vertical-align: top;\n",
       "    }\n",
       "\n",
       "    .dataframe thead th {\n",
       "        text-align: right;\n",
       "    }\n",
       "</style>\n",
       "<table border=\"1\" class=\"dataframe\">\n",
       "  <thead>\n",
       "    <tr style=\"text-align: right;\">\n",
       "      <th></th>\n",
       "      <th>product_id</th>\n",
       "      <th>product_name_length</th>\n",
       "      <th>product_description_length</th>\n",
       "      <th>product_photos_qty</th>\n",
       "      <th>product_weight_g</th>\n",
       "      <th>product_length_cm</th>\n",
       "      <th>product_height_cm</th>\n",
       "      <th>product_width_cm</th>\n",
       "      <th>category</th>\n",
       "      <th>wait_time</th>\n",
       "      <th>...</th>\n",
       "      <th>review_score</th>\n",
       "      <th>n_orders</th>\n",
       "      <th>quantity</th>\n",
       "      <th>sales</th>\n",
       "      <th>order_id</th>\n",
       "      <th>order_item_id</th>\n",
       "      <th>seller_id</th>\n",
       "      <th>shipping_limit_date</th>\n",
       "      <th>price_y</th>\n",
       "      <th>freight_value</th>\n",
       "    </tr>\n",
       "  </thead>\n",
       "  <tbody>\n",
       "    <tr>\n",
       "      <th>0</th>\n",
       "      <td>1e9e8ef04dbcff4541ed26657ea517e5</td>\n",
       "      <td>40.0</td>\n",
       "      <td>287.0</td>\n",
       "      <td>1.0</td>\n",
       "      <td>225.0</td>\n",
       "      <td>16.0</td>\n",
       "      <td>10.0</td>\n",
       "      <td>14.0</td>\n",
       "      <td>perfumery</td>\n",
       "      <td>3.017639</td>\n",
       "      <td>...</td>\n",
       "      <td>5.000000</td>\n",
       "      <td>1</td>\n",
       "      <td>1</td>\n",
       "      <td>10.91</td>\n",
       "      <td>e17e4f88e31525f7deef66779844ddce</td>\n",
       "      <td>1</td>\n",
       "      <td>5670f4db5b62c43d542e1b2d56b0cf7c</td>\n",
       "      <td>2018-04-30 17:33:54</td>\n",
       "      <td>10.91</td>\n",
       "      <td>7.39</td>\n",
       "    </tr>\n",
       "    <tr>\n",
       "      <th>1</th>\n",
       "      <td>6a2fb4dd53d2cdb88e0432f1284a004c</td>\n",
       "      <td>39.0</td>\n",
       "      <td>346.0</td>\n",
       "      <td>2.0</td>\n",
       "      <td>400.0</td>\n",
       "      <td>27.0</td>\n",
       "      <td>5.0</td>\n",
       "      <td>20.0</td>\n",
       "      <td>perfumery</td>\n",
       "      <td>10.275272</td>\n",
       "      <td>...</td>\n",
       "      <td>3.500000</td>\n",
       "      <td>2</td>\n",
       "      <td>2</td>\n",
       "      <td>33.80</td>\n",
       "      <td>048cc42e03ca8d43c729adf6962cb348</td>\n",
       "      <td>1</td>\n",
       "      <td>7040e82f899a04d1b434b795a43b4617</td>\n",
       "      <td>2017-11-23 21:31:31</td>\n",
       "      <td>16.90</td>\n",
       "      <td>7.78</td>\n",
       "    </tr>\n",
       "    <tr>\n",
       "      <th>2</th>\n",
       "      <td>6a2fb4dd53d2cdb88e0432f1284a004c</td>\n",
       "      <td>39.0</td>\n",
       "      <td>346.0</td>\n",
       "      <td>2.0</td>\n",
       "      <td>400.0</td>\n",
       "      <td>27.0</td>\n",
       "      <td>5.0</td>\n",
       "      <td>20.0</td>\n",
       "      <td>perfumery</td>\n",
       "      <td>10.275272</td>\n",
       "      <td>...</td>\n",
       "      <td>3.500000</td>\n",
       "      <td>2</td>\n",
       "      <td>2</td>\n",
       "      <td>33.80</td>\n",
       "      <td>5fa78e91b5cb84b6a8ccc42733f95742</td>\n",
       "      <td>1</td>\n",
       "      <td>7040e82f899a04d1b434b795a43b4617</td>\n",
       "      <td>2017-12-14 16:33:14</td>\n",
       "      <td>16.90</td>\n",
       "      <td>7.78</td>\n",
       "    </tr>\n",
       "    <tr>\n",
       "      <th>3</th>\n",
       "      <td>0d009643171aee696f4733340bc2fdd0</td>\n",
       "      <td>52.0</td>\n",
       "      <td>150.0</td>\n",
       "      <td>1.0</td>\n",
       "      <td>422.0</td>\n",
       "      <td>21.0</td>\n",
       "      <td>16.0</td>\n",
       "      <td>18.0</td>\n",
       "      <td>perfumery</td>\n",
       "      <td>13.933686</td>\n",
       "      <td>...</td>\n",
       "      <td>3.700000</td>\n",
       "      <td>10</td>\n",
       "      <td>11</td>\n",
       "      <td>3581.90</td>\n",
       "      <td>24b1c4d88fdb7a2dc87f8ecc7d8f47f1</td>\n",
       "      <td>1</td>\n",
       "      <td>fe2032dab1a61af8794248c8196565c9</td>\n",
       "      <td>2017-08-03 09:50:14</td>\n",
       "      <td>339.00</td>\n",
       "      <td>17.13</td>\n",
       "    </tr>\n",
       "    <tr>\n",
       "      <th>4</th>\n",
       "      <td>0d009643171aee696f4733340bc2fdd0</td>\n",
       "      <td>52.0</td>\n",
       "      <td>150.0</td>\n",
       "      <td>1.0</td>\n",
       "      <td>422.0</td>\n",
       "      <td>21.0</td>\n",
       "      <td>16.0</td>\n",
       "      <td>18.0</td>\n",
       "      <td>perfumery</td>\n",
       "      <td>13.933686</td>\n",
       "      <td>...</td>\n",
       "      <td>3.700000</td>\n",
       "      <td>10</td>\n",
       "      <td>11</td>\n",
       "      <td>3581.90</td>\n",
       "      <td>7b13c77c64a9a956500cbf1a9a23798d</td>\n",
       "      <td>1</td>\n",
       "      <td>7178f9f4dd81dcef02f62acdf8151e01</td>\n",
       "      <td>2018-05-30 10:38:35</td>\n",
       "      <td>275.00</td>\n",
       "      <td>23.48</td>\n",
       "    </tr>\n",
       "    <tr>\n",
       "      <th>...</th>\n",
       "      <td>...</td>\n",
       "      <td>...</td>\n",
       "      <td>...</td>\n",
       "      <td>...</td>\n",
       "      <td>...</td>\n",
       "      <td>...</td>\n",
       "      <td>...</td>\n",
       "      <td>...</td>\n",
       "      <td>...</td>\n",
       "      <td>...</td>\n",
       "      <td>...</td>\n",
       "      <td>...</td>\n",
       "      <td>...</td>\n",
       "      <td>...</td>\n",
       "      <td>...</td>\n",
       "      <td>...</td>\n",
       "      <td>...</td>\n",
       "      <td>...</td>\n",
       "      <td>...</td>\n",
       "      <td>...</td>\n",
       "      <td>...</td>\n",
       "    </tr>\n",
       "    <tr>\n",
       "      <th>109955</th>\n",
       "      <td>1dceebcc5f23c02ea23e16d5bedca000</td>\n",
       "      <td>47.0</td>\n",
       "      <td>117.0</td>\n",
       "      <td>2.0</td>\n",
       "      <td>550.0</td>\n",
       "      <td>35.0</td>\n",
       "      <td>15.0</td>\n",
       "      <td>25.0</td>\n",
       "      <td>cds_dvds_musicals</td>\n",
       "      <td>10.920239</td>\n",
       "      <td>...</td>\n",
       "      <td>4.666667</td>\n",
       "      <td>12</td>\n",
       "      <td>14</td>\n",
       "      <td>730.00</td>\n",
       "      <td>7ed69fbc79fbda50e09caa9c127026e5</td>\n",
       "      <td>1</td>\n",
       "      <td>4e922959ae960d389249c378d1c939f5</td>\n",
       "      <td>2018-05-02 11:54:43</td>\n",
       "      <td>65.00</td>\n",
       "      <td>52.58</td>\n",
       "    </tr>\n",
       "    <tr>\n",
       "      <th>109956</th>\n",
       "      <td>1dceebcc5f23c02ea23e16d5bedca000</td>\n",
       "      <td>47.0</td>\n",
       "      <td>117.0</td>\n",
       "      <td>2.0</td>\n",
       "      <td>550.0</td>\n",
       "      <td>35.0</td>\n",
       "      <td>15.0</td>\n",
       "      <td>25.0</td>\n",
       "      <td>cds_dvds_musicals</td>\n",
       "      <td>10.920239</td>\n",
       "      <td>...</td>\n",
       "      <td>4.666667</td>\n",
       "      <td>12</td>\n",
       "      <td>14</td>\n",
       "      <td>730.00</td>\n",
       "      <td>9c782cb7854e5dfa91927cfca8949eb8</td>\n",
       "      <td>1</td>\n",
       "      <td>4e922959ae960d389249c378d1c939f5</td>\n",
       "      <td>2017-07-19 11:35:22</td>\n",
       "      <td>45.00</td>\n",
       "      <td>16.11</td>\n",
       "    </tr>\n",
       "    <tr>\n",
       "      <th>109957</th>\n",
       "      <td>1dceebcc5f23c02ea23e16d5bedca000</td>\n",
       "      <td>47.0</td>\n",
       "      <td>117.0</td>\n",
       "      <td>2.0</td>\n",
       "      <td>550.0</td>\n",
       "      <td>35.0</td>\n",
       "      <td>15.0</td>\n",
       "      <td>25.0</td>\n",
       "      <td>cds_dvds_musicals</td>\n",
       "      <td>10.920239</td>\n",
       "      <td>...</td>\n",
       "      <td>4.666667</td>\n",
       "      <td>12</td>\n",
       "      <td>14</td>\n",
       "      <td>730.00</td>\n",
       "      <td>cea54c1853c864ab36cea3ef732d7191</td>\n",
       "      <td>1</td>\n",
       "      <td>4e922959ae960d389249c378d1c939f5</td>\n",
       "      <td>2017-11-14 11:50:17</td>\n",
       "      <td>65.00</td>\n",
       "      <td>9.94</td>\n",
       "    </tr>\n",
       "    <tr>\n",
       "      <th>109958</th>\n",
       "      <td>1dceebcc5f23c02ea23e16d5bedca000</td>\n",
       "      <td>47.0</td>\n",
       "      <td>117.0</td>\n",
       "      <td>2.0</td>\n",
       "      <td>550.0</td>\n",
       "      <td>35.0</td>\n",
       "      <td>15.0</td>\n",
       "      <td>25.0</td>\n",
       "      <td>cds_dvds_musicals</td>\n",
       "      <td>10.920239</td>\n",
       "      <td>...</td>\n",
       "      <td>4.666667</td>\n",
       "      <td>12</td>\n",
       "      <td>14</td>\n",
       "      <td>730.00</td>\n",
       "      <td>d4e8d3bb5e3673ed68ac154fe86de946</td>\n",
       "      <td>1</td>\n",
       "      <td>4e922959ae960d389249c378d1c939f5</td>\n",
       "      <td>2017-11-03 11:29:30</td>\n",
       "      <td>45.00</td>\n",
       "      <td>16.11</td>\n",
       "    </tr>\n",
       "    <tr>\n",
       "      <th>109959</th>\n",
       "      <td>1dceebcc5f23c02ea23e16d5bedca000</td>\n",
       "      <td>47.0</td>\n",
       "      <td>117.0</td>\n",
       "      <td>2.0</td>\n",
       "      <td>550.0</td>\n",
       "      <td>35.0</td>\n",
       "      <td>15.0</td>\n",
       "      <td>25.0</td>\n",
       "      <td>cds_dvds_musicals</td>\n",
       "      <td>10.920239</td>\n",
       "      <td>...</td>\n",
       "      <td>4.666667</td>\n",
       "      <td>12</td>\n",
       "      <td>14</td>\n",
       "      <td>730.00</td>\n",
       "      <td>ffc4072a9ea36a3341efa25b69c449eb</td>\n",
       "      <td>1</td>\n",
       "      <td>4e922959ae960d389249c378d1c939f5</td>\n",
       "      <td>2017-11-27 18:31:18</td>\n",
       "      <td>65.00</td>\n",
       "      <td>9.94</td>\n",
       "    </tr>\n",
       "  </tbody>\n",
       "</table>\n",
       "<p>109960 rows × 23 columns</p>\n",
       "</div>"
      ],
      "text/plain": [
       "                              product_id  product_name_length  \\\n",
       "0       1e9e8ef04dbcff4541ed26657ea517e5                 40.0   \n",
       "1       6a2fb4dd53d2cdb88e0432f1284a004c                 39.0   \n",
       "2       6a2fb4dd53d2cdb88e0432f1284a004c                 39.0   \n",
       "3       0d009643171aee696f4733340bc2fdd0                 52.0   \n",
       "4       0d009643171aee696f4733340bc2fdd0                 52.0   \n",
       "...                                  ...                  ...   \n",
       "109955  1dceebcc5f23c02ea23e16d5bedca000                 47.0   \n",
       "109956  1dceebcc5f23c02ea23e16d5bedca000                 47.0   \n",
       "109957  1dceebcc5f23c02ea23e16d5bedca000                 47.0   \n",
       "109958  1dceebcc5f23c02ea23e16d5bedca000                 47.0   \n",
       "109959  1dceebcc5f23c02ea23e16d5bedca000                 47.0   \n",
       "\n",
       "        product_description_length  product_photos_qty  product_weight_g  \\\n",
       "0                            287.0                 1.0             225.0   \n",
       "1                            346.0                 2.0             400.0   \n",
       "2                            346.0                 2.0             400.0   \n",
       "3                            150.0                 1.0             422.0   \n",
       "4                            150.0                 1.0             422.0   \n",
       "...                            ...                 ...               ...   \n",
       "109955                       117.0                 2.0             550.0   \n",
       "109956                       117.0                 2.0             550.0   \n",
       "109957                       117.0                 2.0             550.0   \n",
       "109958                       117.0                 2.0             550.0   \n",
       "109959                       117.0                 2.0             550.0   \n",
       "\n",
       "        product_length_cm  product_height_cm  product_width_cm  \\\n",
       "0                    16.0               10.0              14.0   \n",
       "1                    27.0                5.0              20.0   \n",
       "2                    27.0                5.0              20.0   \n",
       "3                    21.0               16.0              18.0   \n",
       "4                    21.0               16.0              18.0   \n",
       "...                   ...                ...               ...   \n",
       "109955               35.0               15.0              25.0   \n",
       "109956               35.0               15.0              25.0   \n",
       "109957               35.0               15.0              25.0   \n",
       "109958               35.0               15.0              25.0   \n",
       "109959               35.0               15.0              25.0   \n",
       "\n",
       "                 category  wait_time  ...  review_score  n_orders  quantity  \\\n",
       "0               perfumery   3.017639  ...      5.000000         1         1   \n",
       "1               perfumery  10.275272  ...      3.500000         2         2   \n",
       "2               perfumery  10.275272  ...      3.500000         2         2   \n",
       "3               perfumery  13.933686  ...      3.700000        10        11   \n",
       "4               perfumery  13.933686  ...      3.700000        10        11   \n",
       "...                   ...        ...  ...           ...       ...       ...   \n",
       "109955  cds_dvds_musicals  10.920239  ...      4.666667        12        14   \n",
       "109956  cds_dvds_musicals  10.920239  ...      4.666667        12        14   \n",
       "109957  cds_dvds_musicals  10.920239  ...      4.666667        12        14   \n",
       "109958  cds_dvds_musicals  10.920239  ...      4.666667        12        14   \n",
       "109959  cds_dvds_musicals  10.920239  ...      4.666667        12        14   \n",
       "\n",
       "          sales                          order_id  order_item_id  \\\n",
       "0         10.91  e17e4f88e31525f7deef66779844ddce              1   \n",
       "1         33.80  048cc42e03ca8d43c729adf6962cb348              1   \n",
       "2         33.80  5fa78e91b5cb84b6a8ccc42733f95742              1   \n",
       "3       3581.90  24b1c4d88fdb7a2dc87f8ecc7d8f47f1              1   \n",
       "4       3581.90  7b13c77c64a9a956500cbf1a9a23798d              1   \n",
       "...         ...                               ...            ...   \n",
       "109955   730.00  7ed69fbc79fbda50e09caa9c127026e5              1   \n",
       "109956   730.00  9c782cb7854e5dfa91927cfca8949eb8              1   \n",
       "109957   730.00  cea54c1853c864ab36cea3ef732d7191              1   \n",
       "109958   730.00  d4e8d3bb5e3673ed68ac154fe86de946              1   \n",
       "109959   730.00  ffc4072a9ea36a3341efa25b69c449eb              1   \n",
       "\n",
       "                               seller_id  shipping_limit_date  price_y  \\\n",
       "0       5670f4db5b62c43d542e1b2d56b0cf7c  2018-04-30 17:33:54    10.91   \n",
       "1       7040e82f899a04d1b434b795a43b4617  2017-11-23 21:31:31    16.90   \n",
       "2       7040e82f899a04d1b434b795a43b4617  2017-12-14 16:33:14    16.90   \n",
       "3       fe2032dab1a61af8794248c8196565c9  2017-08-03 09:50:14   339.00   \n",
       "4       7178f9f4dd81dcef02f62acdf8151e01  2018-05-30 10:38:35   275.00   \n",
       "...                                  ...                  ...      ...   \n",
       "109955  4e922959ae960d389249c378d1c939f5  2018-05-02 11:54:43    65.00   \n",
       "109956  4e922959ae960d389249c378d1c939f5  2017-07-19 11:35:22    45.00   \n",
       "109957  4e922959ae960d389249c378d1c939f5  2017-11-14 11:50:17    65.00   \n",
       "109958  4e922959ae960d389249c378d1c939f5  2017-11-03 11:29:30    45.00   \n",
       "109959  4e922959ae960d389249c378d1c939f5  2017-11-27 18:31:18    65.00   \n",
       "\n",
       "       freight_value  \n",
       "0               7.39  \n",
       "1               7.78  \n",
       "2               7.78  \n",
       "3              17.13  \n",
       "4              23.48  \n",
       "...              ...  \n",
       "109955         52.58  \n",
       "109956         16.11  \n",
       "109957          9.94  \n",
       "109958         16.11  \n",
       "109959          9.94  \n",
       "\n",
       "[109960 rows x 23 columns]"
      ]
     },
     "execution_count": 330,
     "metadata": {},
     "output_type": "execute_result"
    }
   ],
   "source": [
    "product_df"
   ]
  },
  {
   "cell_type": "code",
   "execution_count": null,
   "metadata": {},
   "outputs": [],
   "source": []
  }
 ],
 "metadata": {
  "kernelspec": {
   "display_name": "Python 3 (ipykernel)",
   "language": "python",
   "name": "python3"
  },
  "language_info": {
   "codemirror_mode": {
    "name": "ipython",
    "version": 3
   },
   "file_extension": ".py",
   "mimetype": "text/x-python",
   "name": "python",
   "nbconvert_exporter": "python",
   "pygments_lexer": "ipython3",
   "version": "3.8.12"
  },
  "toc": {
   "base_numbering": 1,
   "nav_menu": {},
   "number_sections": true,
   "sideBar": true,
   "skip_h1_title": true,
   "title_cell": "Table of Contents",
   "title_sidebar": "Contents",
   "toc_cell": false,
   "toc_position": {},
   "toc_section_display": true,
   "toc_window_display": true
  },
  "varInspector": {
   "cols": {
    "lenName": 16,
    "lenType": 16,
    "lenVar": 40
   },
   "kernels_config": {
    "python": {
     "delete_cmd_postfix": "",
     "delete_cmd_prefix": "del ",
     "library": "var_list.py",
     "varRefreshCmd": "print(var_dic_list())"
    },
    "r": {
     "delete_cmd_postfix": ") ",
     "delete_cmd_prefix": "rm(",
     "library": "var_list.r",
     "varRefreshCmd": "cat(var_dic_list()) "
    }
   },
   "types_to_exclude": [
    "module",
    "function",
    "builtin_function_or_method",
    "instance",
    "_Feature"
   ],
   "window_display": false
  }
 },
 "nbformat": 4,
 "nbformat_minor": 4
}
